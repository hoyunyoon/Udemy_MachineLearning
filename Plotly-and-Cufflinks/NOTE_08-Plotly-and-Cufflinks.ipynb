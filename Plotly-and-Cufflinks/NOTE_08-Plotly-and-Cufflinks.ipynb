{
 "cells": [
  {
   "cell_type": "code",
   "execution_count": 1,
   "id": "94b9d684",
   "metadata": {},
   "outputs": [],
   "source": [
    "#1. Possible Import Error 1: You need to install a new package. In your command line type and run:\n",
    "\n",
    "#pip install chart-studio\n",
    "\n",
    "#Then in jupyter make sure you import it by running the code:\n",
    "\n",
    "#import chart_studio.plotly as py\n",
    "\n",
    "\n",
    "\n",
    "#2.Possible Colorscale Error 2: In the \"Real Data US Map Choropleth\", when you are creating the data dictionary, make sure the colorscale line is = 'ylorbr', not 'YIOrbr'... so like this:\n",
    "\n",
    "#colorscale='ylorbr'\n",
    "\n",
    "\n",
    "\n",
    "#3.Possible projection Error 3: In the \"World Map Choropleth\", when you are creating the layout, ensure that your projection line is = {'type':'mercator'} not Mercator with a capital...so like this:\n",
    "\n",
    "#projection={'type':'mercator'}\n",
    "\n",
    "\n"
   ]
  },
  {
   "cell_type": "code",
   "execution_count": 2,
   "id": "9fb8b135",
   "metadata": {},
   "outputs": [
    {
     "name": "stdout",
     "output_type": "stream",
     "text": [
      "Requirement already satisfied: cufflinks in c:\\users\\hoyun\\anaconda3\\lib\\site-packages (0.17.3)\n",
      "Requirement already satisfied: setuptools>=34.4.1 in c:\\users\\hoyun\\anaconda3\\lib\\site-packages (from cufflinks) (58.0.4)\n",
      "Requirement already satisfied: pandas>=0.19.2 in c:\\users\\hoyun\\anaconda3\\lib\\site-packages (from cufflinks) (1.3.4)\n",
      "Requirement already satisfied: plotly>=4.1.1 in c:\\users\\hoyun\\anaconda3\\lib\\site-packages (from cufflinks) (5.5.0)\n",
      "Requirement already satisfied: six>=1.9.0 in c:\\users\\hoyun\\anaconda3\\lib\\site-packages (from cufflinks) (1.16.0)\n",
      "Requirement already satisfied: numpy>=1.9.2 in c:\\users\\hoyun\\anaconda3\\lib\\site-packages (from cufflinks) (1.20.3)\n",
      "Requirement already satisfied: ipywidgets>=7.0.0 in c:\\users\\hoyun\\anaconda3\\lib\\site-packages (from cufflinks) (7.6.5)\n",
      "Requirement already satisfied: colorlover>=0.2.1 in c:\\users\\hoyun\\anaconda3\\lib\\site-packages (from cufflinks) (0.3.0)\n",
      "Requirement already satisfied: ipython>=5.3.0 in c:\\users\\hoyun\\anaconda3\\lib\\site-packages (from cufflinks) (7.29.0)\n",
      "Requirement already satisfied: pygments in c:\\users\\hoyun\\anaconda3\\lib\\site-packages (from ipython>=5.3.0->cufflinks) (2.10.0)\n",
      "Requirement already satisfied: pickleshare in c:\\users\\hoyun\\anaconda3\\lib\\site-packages (from ipython>=5.3.0->cufflinks) (0.7.5)\n",
      "Requirement already satisfied: colorama in c:\\users\\hoyun\\anaconda3\\lib\\site-packages (from ipython>=5.3.0->cufflinks) (0.4.4)\n",
      "Requirement already satisfied: decorator in c:\\users\\hoyun\\anaconda3\\lib\\site-packages (from ipython>=5.3.0->cufflinks) (5.1.0)\n",
      "Requirement already satisfied: prompt-toolkit!=3.0.0,!=3.0.1,<3.1.0,>=2.0.0 in c:\\users\\hoyun\\anaconda3\\lib\\site-packages (from ipython>=5.3.0->cufflinks) (3.0.20)\n",
      "Requirement already satisfied: traitlets>=4.2 in c:\\users\\hoyun\\anaconda3\\lib\\site-packages (from ipython>=5.3.0->cufflinks) (5.1.0)\n",
      "Requirement already satisfied: matplotlib-inline in c:\\users\\hoyun\\anaconda3\\lib\\site-packages (from ipython>=5.3.0->cufflinks) (0.1.2)\n",
      "Requirement already satisfied: backcall in c:\\users\\hoyun\\anaconda3\\lib\\site-packages (from ipython>=5.3.0->cufflinks) (0.2.0)\n",
      "Requirement already satisfied: jedi>=0.16 in c:\\users\\hoyun\\anaconda3\\lib\\site-packages (from ipython>=5.3.0->cufflinks) (0.18.0)\n",
      "Requirement already satisfied: ipykernel>=4.5.1 in c:\\users\\hoyun\\anaconda3\\lib\\site-packages (from ipywidgets>=7.0.0->cufflinks) (6.4.1)\n",
      "Requirement already satisfied: ipython-genutils~=0.2.0 in c:\\users\\hoyun\\anaconda3\\lib\\site-packages (from ipywidgets>=7.0.0->cufflinks) (0.2.0)\n",
      "Requirement already satisfied: nbformat>=4.2.0 in c:\\users\\hoyun\\anaconda3\\lib\\site-packages (from ipywidgets>=7.0.0->cufflinks) (5.1.3)\n",
      "Requirement already satisfied: widgetsnbextension~=3.5.0 in c:\\users\\hoyun\\anaconda3\\lib\\site-packages (from ipywidgets>=7.0.0->cufflinks) (3.5.1)\n",
      "Requirement already satisfied: jupyterlab-widgets>=1.0.0 in c:\\users\\hoyun\\anaconda3\\lib\\site-packages (from ipywidgets>=7.0.0->cufflinks) (1.0.0)\n",
      "Requirement already satisfied: debugpy<2.0,>=1.0.0 in c:\\users\\hoyun\\anaconda3\\lib\\site-packages (from ipykernel>=4.5.1->ipywidgets>=7.0.0->cufflinks) (1.4.1)\n",
      "Requirement already satisfied: tornado<7.0,>=4.2 in c:\\users\\hoyun\\anaconda3\\lib\\site-packages (from ipykernel>=4.5.1->ipywidgets>=7.0.0->cufflinks) (6.1)\n",
      "Requirement already satisfied: jupyter-client<8.0 in c:\\users\\hoyun\\anaconda3\\lib\\site-packages (from ipykernel>=4.5.1->ipywidgets>=7.0.0->cufflinks) (6.1.12)\n",
      "Requirement already satisfied: parso<0.9.0,>=0.8.0 in c:\\users\\hoyun\\anaconda3\\lib\\site-packages (from jedi>=0.16->ipython>=5.3.0->cufflinks) (0.8.2)\n",
      "Requirement already satisfied: pyzmq>=13 in c:\\users\\hoyun\\anaconda3\\lib\\site-packages (from jupyter-client<8.0->ipykernel>=4.5.1->ipywidgets>=7.0.0->cufflinks) (22.2.1)\n",
      "Requirement already satisfied: jupyter-core>=4.6.0 in c:\\users\\hoyun\\anaconda3\\lib\\site-packages (from jupyter-client<8.0->ipykernel>=4.5.1->ipywidgets>=7.0.0->cufflinks) (4.8.1)\n",
      "Requirement already satisfied: python-dateutil>=2.1 in c:\\users\\hoyun\\anaconda3\\lib\\site-packages (from jupyter-client<8.0->ipykernel>=4.5.1->ipywidgets>=7.0.0->cufflinks) (2.8.2)\n",
      "Requirement already satisfied: pywin32>=1.0 in c:\\users\\hoyun\\anaconda3\\lib\\site-packages (from jupyter-core>=4.6.0->jupyter-client<8.0->ipykernel>=4.5.1->ipywidgets>=7.0.0->cufflinks) (228)\n",
      "Requirement already satisfied: jsonschema!=2.5.0,>=2.4 in c:\\users\\hoyun\\anaconda3\\lib\\site-packages (from nbformat>=4.2.0->ipywidgets>=7.0.0->cufflinks) (3.2.0)\n",
      "Requirement already satisfied: attrs>=17.4.0 in c:\\users\\hoyun\\anaconda3\\lib\\site-packages (from jsonschema!=2.5.0,>=2.4->nbformat>=4.2.0->ipywidgets>=7.0.0->cufflinks) (21.2.0)\n",
      "Requirement already satisfied: pyrsistent>=0.14.0 in c:\\users\\hoyun\\anaconda3\\lib\\site-packages (from jsonschema!=2.5.0,>=2.4->nbformat>=4.2.0->ipywidgets>=7.0.0->cufflinks) (0.18.0)\n",
      "Requirement already satisfied: pytz>=2017.3 in c:\\users\\hoyun\\anaconda3\\lib\\site-packages (from pandas>=0.19.2->cufflinks) (2021.3)\n",
      "Requirement already satisfied: tenacity>=6.2.0 in c:\\users\\hoyun\\anaconda3\\lib\\site-packages (from plotly>=4.1.1->cufflinks) (8.0.1)\n",
      "Requirement already satisfied: wcwidth in c:\\users\\hoyun\\anaconda3\\lib\\site-packages (from prompt-toolkit!=3.0.0,!=3.0.1,<3.1.0,>=2.0.0->ipython>=5.3.0->cufflinks) (0.2.5)\n",
      "Requirement already satisfied: notebook>=4.4.1 in c:\\users\\hoyun\\anaconda3\\lib\\site-packages (from widgetsnbextension~=3.5.0->ipywidgets>=7.0.0->cufflinks) (6.4.5)\n",
      "Requirement already satisfied: argon2-cffi in c:\\users\\hoyun\\anaconda3\\lib\\site-packages (from notebook>=4.4.1->widgetsnbextension~=3.5.0->ipywidgets>=7.0.0->cufflinks) (20.1.0)\n",
      "Requirement already satisfied: nbconvert in c:\\users\\hoyun\\anaconda3\\lib\\site-packages (from notebook>=4.4.1->widgetsnbextension~=3.5.0->ipywidgets>=7.0.0->cufflinks) (6.1.0)\n",
      "Requirement already satisfied: terminado>=0.8.3 in c:\\users\\hoyun\\anaconda3\\lib\\site-packages (from notebook>=4.4.1->widgetsnbextension~=3.5.0->ipywidgets>=7.0.0->cufflinks) (0.9.4)\n",
      "Requirement already satisfied: prometheus-client in c:\\users\\hoyun\\anaconda3\\lib\\site-packages (from notebook>=4.4.1->widgetsnbextension~=3.5.0->ipywidgets>=7.0.0->cufflinks) (0.11.0)\n",
      "Requirement already satisfied: Send2Trash>=1.5.0 in c:\\users\\hoyun\\anaconda3\\lib\\site-packages (from notebook>=4.4.1->widgetsnbextension~=3.5.0->ipywidgets>=7.0.0->cufflinks) (1.8.0)\n",
      "Requirement already satisfied: jinja2 in c:\\users\\hoyun\\anaconda3\\lib\\site-packages (from notebook>=4.4.1->widgetsnbextension~=3.5.0->ipywidgets>=7.0.0->cufflinks) (2.11.3)\n",
      "Requirement already satisfied: pywinpty>=0.5 in c:\\users\\hoyun\\anaconda3\\lib\\site-packages (from terminado>=0.8.3->notebook>=4.4.1->widgetsnbextension~=3.5.0->ipywidgets>=7.0.0->cufflinks) (0.5.7)\n",
      "Requirement already satisfied: cffi>=1.0.0 in c:\\users\\hoyun\\anaconda3\\lib\\site-packages (from argon2-cffi->notebook>=4.4.1->widgetsnbextension~=3.5.0->ipywidgets>=7.0.0->cufflinks) (1.14.6)\n",
      "Requirement already satisfied: pycparser in c:\\users\\hoyun\\anaconda3\\lib\\site-packages (from cffi>=1.0.0->argon2-cffi->notebook>=4.4.1->widgetsnbextension~=3.5.0->ipywidgets>=7.0.0->cufflinks) (2.20)\n",
      "Requirement already satisfied: MarkupSafe>=0.23 in c:\\users\\hoyun\\anaconda3\\lib\\site-packages (from jinja2->notebook>=4.4.1->widgetsnbextension~=3.5.0->ipywidgets>=7.0.0->cufflinks) (1.1.1)\n",
      "Requirement already satisfied: mistune<2,>=0.8.1 in c:\\users\\hoyun\\anaconda3\\lib\\site-packages (from nbconvert->notebook>=4.4.1->widgetsnbextension~=3.5.0->ipywidgets>=7.0.0->cufflinks) (0.8.4)\n",
      "Requirement already satisfied: jupyterlab-pygments in c:\\users\\hoyun\\anaconda3\\lib\\site-packages (from nbconvert->notebook>=4.4.1->widgetsnbextension~=3.5.0->ipywidgets>=7.0.0->cufflinks) (0.1.2)\n",
      "Requirement already satisfied: testpath in c:\\users\\hoyun\\anaconda3\\lib\\site-packages (from nbconvert->notebook>=4.4.1->widgetsnbextension~=3.5.0->ipywidgets>=7.0.0->cufflinks) (0.5.0)\n",
      "Requirement already satisfied: bleach in c:\\users\\hoyun\\anaconda3\\lib\\site-packages (from nbconvert->notebook>=4.4.1->widgetsnbextension~=3.5.0->ipywidgets>=7.0.0->cufflinks) (4.0.0)\n",
      "Requirement already satisfied: nbclient<0.6.0,>=0.5.0 in c:\\users\\hoyun\\anaconda3\\lib\\site-packages (from nbconvert->notebook>=4.4.1->widgetsnbextension~=3.5.0->ipywidgets>=7.0.0->cufflinks) (0.5.3)\n",
      "Requirement already satisfied: entrypoints>=0.2.2 in c:\\users\\hoyun\\anaconda3\\lib\\site-packages (from nbconvert->notebook>=4.4.1->widgetsnbextension~=3.5.0->ipywidgets>=7.0.0->cufflinks) (0.3)\n",
      "Requirement already satisfied: defusedxml in c:\\users\\hoyun\\anaconda3\\lib\\site-packages (from nbconvert->notebook>=4.4.1->widgetsnbextension~=3.5.0->ipywidgets>=7.0.0->cufflinks) (0.7.1)\n",
      "Requirement already satisfied: pandocfilters>=1.4.1 in c:\\users\\hoyun\\anaconda3\\lib\\site-packages (from nbconvert->notebook>=4.4.1->widgetsnbextension~=3.5.0->ipywidgets>=7.0.0->cufflinks) (1.4.3)\n",
      "Requirement already satisfied: nest-asyncio in c:\\users\\hoyun\\anaconda3\\lib\\site-packages (from nbclient<0.6.0,>=0.5.0->nbconvert->notebook>=4.4.1->widgetsnbextension~=3.5.0->ipywidgets>=7.0.0->cufflinks) (1.5.1)\n",
      "Requirement already satisfied: async-generator in c:\\users\\hoyun\\anaconda3\\lib\\site-packages (from nbclient<0.6.0,>=0.5.0->nbconvert->notebook>=4.4.1->widgetsnbextension~=3.5.0->ipywidgets>=7.0.0->cufflinks) (1.10)\n",
      "Requirement already satisfied: packaging in c:\\users\\hoyun\\anaconda3\\lib\\site-packages (from bleach->nbconvert->notebook>=4.4.1->widgetsnbextension~=3.5.0->ipywidgets>=7.0.0->cufflinks) (21.0)\n",
      "Requirement already satisfied: webencodings in c:\\users\\hoyun\\anaconda3\\lib\\site-packages (from bleach->nbconvert->notebook>=4.4.1->widgetsnbextension~=3.5.0->ipywidgets>=7.0.0->cufflinks) (0.5.1)\n",
      "Requirement already satisfied: pyparsing>=2.0.2 in c:\\users\\hoyun\\anaconda3\\lib\\site-packages (from packaging->bleach->nbconvert->notebook>=4.4.1->widgetsnbextension~=3.5.0->ipywidgets>=7.0.0->cufflinks) (3.0.4)\n",
      "Note: you may need to restart the kernel to use updated packages.\n"
     ]
    }
   ],
   "source": [
    "pip install cufflinks"
   ]
  },
  {
   "cell_type": "code",
   "execution_count": 3,
   "id": "47adcdf8",
   "metadata": {},
   "outputs": [],
   "source": [
    "import chart_studio.plotly as py\n"
   ]
  },
  {
   "cell_type": "code",
   "execution_count": 4,
   "id": "98f82fc5",
   "metadata": {},
   "outputs": [],
   "source": [
    "import pandas as pd\n",
    "import numpy as np\n",
    "%matplotlib inline"
   ]
  },
  {
   "cell_type": "code",
   "execution_count": 5,
   "id": "04965a94",
   "metadata": {},
   "outputs": [],
   "source": [
    "from plotly import __version__"
   ]
  },
  {
   "cell_type": "code",
   "execution_count": 7,
   "id": "11deb601",
   "metadata": {},
   "outputs": [],
   "source": [
    "import cufflinks as cf"
   ]
  },
  {
   "cell_type": "code",
   "execution_count": 8,
   "id": "5fa044e8",
   "metadata": {},
   "outputs": [],
   "source": [
    "from plotly.offline import download_plotlyjs,init_notebook_mode,plot,iplot"
   ]
  },
  {
   "cell_type": "code",
   "execution_count": 9,
   "id": "a5914de1",
   "metadata": {},
   "outputs": [
    {
     "data": {
      "text/html": [
       "        <script type=\"text/javascript\">\n",
       "        window.PlotlyConfig = {MathJaxConfig: 'local'};\n",
       "        if (window.MathJax) {MathJax.Hub.Config({SVG: {font: \"STIX-Web\"}});}\n",
       "        if (typeof require !== 'undefined') {\n",
       "        require.undef(\"plotly\");\n",
       "        requirejs.config({\n",
       "            paths: {\n",
       "                'plotly': ['https://cdn.plot.ly/plotly-2.8.3.min']\n",
       "            }\n",
       "        });\n",
       "        require(['plotly'], function(Plotly) {\n",
       "            window._Plotly = Plotly;\n",
       "        });\n",
       "        }\n",
       "        </script>\n",
       "        "
      ]
     },
     "metadata": {},
     "output_type": "display_data"
    }
   ],
   "source": [
    "init_notebook_mode(connected=True)"
   ]
  },
  {
   "cell_type": "code",
   "execution_count": 10,
   "id": "88fec718",
   "metadata": {},
   "outputs": [
    {
     "data": {
      "text/html": [
       "        <script type=\"text/javascript\">\n",
       "        window.PlotlyConfig = {MathJaxConfig: 'local'};\n",
       "        if (window.MathJax) {MathJax.Hub.Config({SVG: {font: \"STIX-Web\"}});}\n",
       "        if (typeof require !== 'undefined') {\n",
       "        require.undef(\"plotly\");\n",
       "        requirejs.config({\n",
       "            paths: {\n",
       "                'plotly': ['https://cdn.plot.ly/plotly-2.8.3.min']\n",
       "            }\n",
       "        });\n",
       "        require(['plotly'], function(Plotly) {\n",
       "            window._Plotly = Plotly;\n",
       "        });\n",
       "        }\n",
       "        </script>\n",
       "        "
      ]
     },
     "metadata": {},
     "output_type": "display_data"
    }
   ],
   "source": [
    "cf.go_offline()"
   ]
  },
  {
   "cell_type": "code",
   "execution_count": 11,
   "id": "0a9cc39d",
   "metadata": {},
   "outputs": [],
   "source": [
    "# DATA\n",
    "df = pd.DataFrame(np.random.randn(100, 4), columns='A B C D'.split())"
   ]
  },
  {
   "cell_type": "code",
   "execution_count": 12,
   "id": "f366168a",
   "metadata": {},
   "outputs": [
    {
     "data": {
      "text/html": [
       "<div>\n",
       "<style scoped>\n",
       "    .dataframe tbody tr th:only-of-type {\n",
       "        vertical-align: middle;\n",
       "    }\n",
       "\n",
       "    .dataframe tbody tr th {\n",
       "        vertical-align: top;\n",
       "    }\n",
       "\n",
       "    .dataframe thead th {\n",
       "        text-align: right;\n",
       "    }\n",
       "</style>\n",
       "<table border=\"1\" class=\"dataframe\">\n",
       "  <thead>\n",
       "    <tr style=\"text-align: right;\">\n",
       "      <th></th>\n",
       "      <th>A</th>\n",
       "      <th>B</th>\n",
       "      <th>C</th>\n",
       "      <th>D</th>\n",
       "    </tr>\n",
       "  </thead>\n",
       "  <tbody>\n",
       "    <tr>\n",
       "      <th>0</th>\n",
       "      <td>0.489794</td>\n",
       "      <td>-1.099852</td>\n",
       "      <td>-1.062589</td>\n",
       "      <td>0.641954</td>\n",
       "    </tr>\n",
       "    <tr>\n",
       "      <th>1</th>\n",
       "      <td>1.200079</td>\n",
       "      <td>-0.951310</td>\n",
       "      <td>0.092028</td>\n",
       "      <td>-1.517609</td>\n",
       "    </tr>\n",
       "    <tr>\n",
       "      <th>2</th>\n",
       "      <td>0.023788</td>\n",
       "      <td>0.496198</td>\n",
       "      <td>0.564848</td>\n",
       "      <td>-0.384386</td>\n",
       "    </tr>\n",
       "    <tr>\n",
       "      <th>3</th>\n",
       "      <td>-0.776294</td>\n",
       "      <td>-1.946558</td>\n",
       "      <td>0.419473</td>\n",
       "      <td>0.582205</td>\n",
       "    </tr>\n",
       "    <tr>\n",
       "      <th>4</th>\n",
       "      <td>-0.012365</td>\n",
       "      <td>0.478255</td>\n",
       "      <td>0.126606</td>\n",
       "      <td>0.842300</td>\n",
       "    </tr>\n",
       "  </tbody>\n",
       "</table>\n",
       "</div>"
      ],
      "text/plain": [
       "          A         B         C         D\n",
       "0  0.489794 -1.099852 -1.062589  0.641954\n",
       "1  1.200079 -0.951310  0.092028 -1.517609\n",
       "2  0.023788  0.496198  0.564848 -0.384386\n",
       "3 -0.776294 -1.946558  0.419473  0.582205\n",
       "4 -0.012365  0.478255  0.126606  0.842300"
      ]
     },
     "execution_count": 12,
     "metadata": {},
     "output_type": "execute_result"
    }
   ],
   "source": [
    "df.head()"
   ]
  },
  {
   "cell_type": "code",
   "execution_count": 13,
   "id": "ce868f75",
   "metadata": {},
   "outputs": [],
   "source": [
    "df2 = pd.DataFrame({'Category':['A','B','C'],'Values':[32,43,50]})"
   ]
  },
  {
   "cell_type": "code",
   "execution_count": 14,
   "id": "75d13026",
   "metadata": {},
   "outputs": [
    {
     "data": {
      "text/html": [
       "<div>\n",
       "<style scoped>\n",
       "    .dataframe tbody tr th:only-of-type {\n",
       "        vertical-align: middle;\n",
       "    }\n",
       "\n",
       "    .dataframe tbody tr th {\n",
       "        vertical-align: top;\n",
       "    }\n",
       "\n",
       "    .dataframe thead th {\n",
       "        text-align: right;\n",
       "    }\n",
       "</style>\n",
       "<table border=\"1\" class=\"dataframe\">\n",
       "  <thead>\n",
       "    <tr style=\"text-align: right;\">\n",
       "      <th></th>\n",
       "      <th>Category</th>\n",
       "      <th>Values</th>\n",
       "    </tr>\n",
       "  </thead>\n",
       "  <tbody>\n",
       "    <tr>\n",
       "      <th>0</th>\n",
       "      <td>A</td>\n",
       "      <td>32</td>\n",
       "    </tr>\n",
       "    <tr>\n",
       "      <th>1</th>\n",
       "      <td>B</td>\n",
       "      <td>43</td>\n",
       "    </tr>\n",
       "    <tr>\n",
       "      <th>2</th>\n",
       "      <td>C</td>\n",
       "      <td>50</td>\n",
       "    </tr>\n",
       "  </tbody>\n",
       "</table>\n",
       "</div>"
      ],
      "text/plain": [
       "  Category  Values\n",
       "0        A      32\n",
       "1        B      43\n",
       "2        C      50"
      ]
     },
     "execution_count": 14,
     "metadata": {},
     "output_type": "execute_result"
    }
   ],
   "source": [
    "df2"
   ]
  },
  {
   "cell_type": "code",
   "execution_count": 17,
   "id": "2e4dd61b",
   "metadata": {},
   "outputs": [
    {
     "data": {
      "application/vnd.plotly.v1+json": {
       "config": {
        "linkText": "Export to plot.ly",
        "plotlyServerURL": "https://plot.ly",
        "showLink": true
       },
       "data": [
        {
         "line": {
          "color": "rgba(255, 153, 51, 1.0)",
          "dash": "solid",
          "shape": "linear",
          "width": 1.3
         },
         "mode": "lines",
         "name": "A",
         "text": "",
         "type": "scatter",
         "x": [
          0,
          1,
          2,
          3,
          4,
          5,
          6,
          7,
          8,
          9,
          10,
          11,
          12,
          13,
          14,
          15,
          16,
          17,
          18,
          19,
          20,
          21,
          22,
          23,
          24,
          25,
          26,
          27,
          28,
          29,
          30,
          31,
          32,
          33,
          34,
          35,
          36,
          37,
          38,
          39,
          40,
          41,
          42,
          43,
          44,
          45,
          46,
          47,
          48,
          49,
          50,
          51,
          52,
          53,
          54,
          55,
          56,
          57,
          58,
          59,
          60,
          61,
          62,
          63,
          64,
          65,
          66,
          67,
          68,
          69,
          70,
          71,
          72,
          73,
          74,
          75,
          76,
          77,
          78,
          79,
          80,
          81,
          82,
          83,
          84,
          85,
          86,
          87,
          88,
          89,
          90,
          91,
          92,
          93,
          94,
          95,
          96,
          97,
          98,
          99
         ],
         "y": [
          0.48979428455356877,
          1.2000787712482575,
          0.023788380464120393,
          -0.7762937541590931,
          -0.012364867282905903,
          -1.2161957246449362,
          -0.02690116005734921,
          -0.6136576494704216,
          -1.0932741606526177,
          1.3367224280535983,
          -0.21086536735247163,
          0.7004920634418149,
          0.022903232284200294,
          1.8118903731503866,
          0.03874003270713806,
          0.14207857973235602,
          -1.2664546662031808,
          1.0882638165812608,
          -0.7120729647956264,
          0.6937532377713457,
          -0.38587006015377073,
          0.7944049114081017,
          0.8902470208690971,
          -0.017596363807709636,
          -0.21123469197121414,
          -0.44522679075601096,
          0.06594417027871106,
          -0.4005156041049335,
          1.531611994137102,
          1.469053508293093,
          -0.6960757696420884,
          0.42188597213691115,
          -0.24857896565921767,
          0.35243368033595995,
          0.32289319825012025,
          1.756959477480924,
          -0.8646444846801743,
          0.7327493359184236,
          -0.05616681327469264,
          0.24137468687379302,
          0.13490316200095048,
          -0.30294439883702995,
          0.20149030418780658,
          -0.8439630384647533,
          0.9173475168512586,
          -0.7267483351185445,
          0.4551191588285759,
          -1.3050200504200984,
          -0.940424126632205,
          -0.2861436512950377,
          0.3272416090612496,
          -1.4862435821612276,
          -0.7419822477245054,
          -0.5289520199886615,
          -0.19209542834834886,
          -1.6137840913423802,
          2.5253792135126267,
          -0.36401403896536855,
          1.0560010342257284,
          1.4282679514136718,
          -1.7240519483814831,
          0.5671338747613731,
          -0.9080841728798318,
          0.31546878483673546,
          -0.11377460855602518,
          0.053496764203978336,
          0.6818028998550107,
          -1.9774449121637068,
          0.7084250781799291,
          1.5278746674917012,
          -0.9571164971445482,
          -1.3294630618845433,
          0.942272172901489,
          -0.019981281703439734,
          1.4525537255249976,
          0.027433302927381463,
          -1.8001925853232867,
          1.4426728488088858,
          -0.6965262723544774,
          1.2879984069477703,
          -1.4514103759363945,
          0.10321693798368037,
          -1.0337673090830766,
          1.2123441508341763,
          0.2816563048236678,
          -1.0116419291291963,
          1.2137608091381367,
          -0.6097424621297425,
          1.199038876047825,
          -0.14784081503360644,
          -1.0529508579837437,
          0.203716845237984,
          -1.3703913734693944,
          -1.4621189194907764,
          1.2079693890251404,
          1.0607169379613697,
          1.6860621157919298,
          -0.3043036742676254,
          1.252089094534873,
          0.8019105881421928
         ]
        },
        {
         "line": {
          "color": "rgba(55, 128, 191, 1.0)",
          "dash": "solid",
          "shape": "linear",
          "width": 1.3
         },
         "mode": "lines",
         "name": "B",
         "text": "",
         "type": "scatter",
         "x": [
          0,
          1,
          2,
          3,
          4,
          5,
          6,
          7,
          8,
          9,
          10,
          11,
          12,
          13,
          14,
          15,
          16,
          17,
          18,
          19,
          20,
          21,
          22,
          23,
          24,
          25,
          26,
          27,
          28,
          29,
          30,
          31,
          32,
          33,
          34,
          35,
          36,
          37,
          38,
          39,
          40,
          41,
          42,
          43,
          44,
          45,
          46,
          47,
          48,
          49,
          50,
          51,
          52,
          53,
          54,
          55,
          56,
          57,
          58,
          59,
          60,
          61,
          62,
          63,
          64,
          65,
          66,
          67,
          68,
          69,
          70,
          71,
          72,
          73,
          74,
          75,
          76,
          77,
          78,
          79,
          80,
          81,
          82,
          83,
          84,
          85,
          86,
          87,
          88,
          89,
          90,
          91,
          92,
          93,
          94,
          95,
          96,
          97,
          98,
          99
         ],
         "y": [
          -1.0998518931967172,
          -0.951310489501729,
          0.4961980985412946,
          -1.9465577812700667,
          0.4782546807810063,
          0.3915928924499597,
          -0.16195461581883155,
          -0.5684389432325745,
          0.7864442079773991,
          0.11786194397659192,
          0.7806483973082989,
          -0.7216593398328882,
          0.14627440175389989,
          -0.07554072415619882,
          0.014168578367290862,
          -0.6333465050786681,
          1.0127771174834996,
          1.3878021905639235,
          0.4904150562542391,
          0.2536434005385077,
          1.1786366553776157,
          -3.334302912542056,
          0.7647022080307493,
          -0.031935851656112776,
          -0.7839089589040155,
          -0.09122200998567682,
          -0.4898507459459323,
          -0.5684394463175186,
          0.11940011898377212,
          -0.19497172220308293,
          2.728343356239694,
          -0.40789330735339907,
          -0.24459607575641326,
          -0.4858707994184838,
          -0.015234217101942981,
          -0.08771777295493485,
          0.4772963643238052,
          1.4507007392664688,
          0.4061437530079583,
          0.15419502764767845,
          -0.726525983701748,
          -0.2669636603429239,
          0.9852178153304991,
          -1.29587901702008,
          -0.6664537394097019,
          -1.093155363979523,
          1.4968662243590183,
          -0.8959185628124724,
          -1.5208535704872201,
          -0.4052181341125891,
          -0.017951376963129023,
          0.9116272137945861,
          -1.6649360797874992,
          0.3040516316528378,
          -0.12186378938520936,
          1.1724212208098135,
          -1.274141257813947,
          0.11182468335506614,
          1.47499536050285,
          0.2583425826196655,
          -0.32092947933983107,
          1.0007576889539056,
          0.20795616239699127,
          -0.08665414940310559,
          0.6523377927617374,
          0.16726551027784153,
          -0.42557944492126054,
          1.3705804781599653,
          0.9989305038474585,
          -1.6823152185810062,
          -1.4777209857615803,
          -0.9939514975377667,
          -1.0574492878409467,
          -0.18781359857066682,
          0.8413247717773269,
          1.1757733216891897,
          0.2972356932010209,
          -0.28249667162063813,
          -1.3381021329751352,
          0.8454290322931972,
          -0.43718099727400006,
          0.08608827559328311,
          0.42555094905863433,
          0.06474854527759977,
          -1.7365979250057706,
          -0.6954111510725659,
          0.5943477159463276,
          -0.0624064236918547,
          -0.09311347408323536,
          -0.20864777953826144,
          -1.5057657340094361,
          0.985649019277635,
          -0.618834216881153,
          -0.24696789588479345,
          0.1741621994183457,
          -1.2990736535773484,
          -1.9746857091172834,
          0.04549424231182181,
          -0.4787536211341913,
          -1.8165952496968758
         ]
        },
        {
         "line": {
          "color": "rgba(50, 171, 96, 1.0)",
          "dash": "solid",
          "shape": "linear",
          "width": 1.3
         },
         "mode": "lines",
         "name": "C",
         "text": "",
         "type": "scatter",
         "x": [
          0,
          1,
          2,
          3,
          4,
          5,
          6,
          7,
          8,
          9,
          10,
          11,
          12,
          13,
          14,
          15,
          16,
          17,
          18,
          19,
          20,
          21,
          22,
          23,
          24,
          25,
          26,
          27,
          28,
          29,
          30,
          31,
          32,
          33,
          34,
          35,
          36,
          37,
          38,
          39,
          40,
          41,
          42,
          43,
          44,
          45,
          46,
          47,
          48,
          49,
          50,
          51,
          52,
          53,
          54,
          55,
          56,
          57,
          58,
          59,
          60,
          61,
          62,
          63,
          64,
          65,
          66,
          67,
          68,
          69,
          70,
          71,
          72,
          73,
          74,
          75,
          76,
          77,
          78,
          79,
          80,
          81,
          82,
          83,
          84,
          85,
          86,
          87,
          88,
          89,
          90,
          91,
          92,
          93,
          94,
          95,
          96,
          97,
          98,
          99
         ],
         "y": [
          -1.0625887658002213,
          0.09202816193018518,
          0.564848376353891,
          0.419472612971872,
          0.12660612020962858,
          -0.5127914675811296,
          -1.1250834598039288,
          -0.6051822916912,
          -0.16221998280097874,
          0.7356228690390648,
          -0.07574687216850803,
          0.17596247282604027,
          -1.721717086791258,
          2.323429731895257,
          -0.8482030722200461,
          -0.13369431269758897,
          1.43368695838209,
          0.12440433777333088,
          0.6827434615859537,
          -1.2316479081514446,
          -1.6643319307140543,
          -0.7326761450757091,
          0.14581998247595768,
          -0.8486405675639428,
          -1.3879983259008852,
          -1.869598616511187,
          -2.360893594863502,
          1.1800886270616593,
          0.5182722178949594,
          0.7554306808110395,
          -1.2801531109221176,
          -1.816141993229202,
          -0.5232033577209291,
          0.7622410426171143,
          -0.05449472773996224,
          0.1922114685510936,
          -0.4141235355446176,
          0.7052675744404783,
          -2.59538260905528,
          -0.16142979812964459,
          0.2326207735748364,
          -0.7723616091348504,
          0.41227233208544345,
          0.16675903993999175,
          -0.5494052757613266,
          -1.2332580401100453,
          -1.5362604958487704,
          -0.6850801955952219,
          -0.10309357320981548,
          1.211292382720803,
          0.8824592740410863,
          -0.8569072831904082,
          -1.250014049122893,
          -0.08799308927471544,
          -0.6552934530711982,
          0.9863289277092309,
          -0.0031616249570040264,
          0.8656884015381522,
          -1.3457460857249597,
          -0.8700802229476118,
          0.7379618696557516,
          -1.310500185377312,
          -1.2439360756820212,
          -1.852983958425285,
          -0.5483973457086878,
          -0.2620927767535737,
          0.8223682944291094,
          0.41648038679327865,
          -0.14478273313287518,
          0.04459544764541705,
          0.0552076255058285,
          -0.35827809100913904,
          1.1307788184569203,
          0.23619861907372788,
          -0.3841381654666092,
          0.018158187353936536,
          -0.9297831247259087,
          -0.9483441497850129,
          0.15370068303643483,
          -0.7567916707710458,
          -0.22349775200537117,
          -0.16436541076498792,
          -0.04045064822824736,
          1.2055700104402123,
          -0.49887850886789453,
          -0.5435253428124678,
          0.07203272803770303,
          1.77607423833372,
          0.4643240466033002,
          0.7132203723900344,
          0.06056029680904643,
          0.5970097948018788,
          -0.9322428843780637,
          0.07146509261690312,
          1.7081053966754396,
          -0.29765733722000015,
          0.8941126463209245,
          -0.5008661024802709,
          2.3862236353444457,
          -2.640515182547073
         ]
        },
        {
         "line": {
          "color": "rgba(128, 0, 128, 1.0)",
          "dash": "solid",
          "shape": "linear",
          "width": 1.3
         },
         "mode": "lines",
         "name": "D",
         "text": "",
         "type": "scatter",
         "x": [
          0,
          1,
          2,
          3,
          4,
          5,
          6,
          7,
          8,
          9,
          10,
          11,
          12,
          13,
          14,
          15,
          16,
          17,
          18,
          19,
          20,
          21,
          22,
          23,
          24,
          25,
          26,
          27,
          28,
          29,
          30,
          31,
          32,
          33,
          34,
          35,
          36,
          37,
          38,
          39,
          40,
          41,
          42,
          43,
          44,
          45,
          46,
          47,
          48,
          49,
          50,
          51,
          52,
          53,
          54,
          55,
          56,
          57,
          58,
          59,
          60,
          61,
          62,
          63,
          64,
          65,
          66,
          67,
          68,
          69,
          70,
          71,
          72,
          73,
          74,
          75,
          76,
          77,
          78,
          79,
          80,
          81,
          82,
          83,
          84,
          85,
          86,
          87,
          88,
          89,
          90,
          91,
          92,
          93,
          94,
          95,
          96,
          97,
          98,
          99
         ],
         "y": [
          0.6419540448307282,
          -1.517608688344434,
          -0.3843863209352874,
          0.582205043637178,
          0.8423001398246008,
          -0.876654312681006,
          -1.4220090438249173,
          -0.09887636580710743,
          -0.3836306988926069,
          -0.9617171701958386,
          0.9130567531304483,
          0.1921750627294664,
          -0.40845165490719065,
          0.16948526516975354,
          1.1995423858357495,
          -0.0806001194463327,
          -0.15746670743873062,
          -1.1240019824944776,
          0.4363515372870392,
          1.9307908970315317,
          1.1031951510859273,
          -1.7251316715516243,
          0.8967867868252514,
          0.47529474535809924,
          -1.1739198506495272,
          0.5490829176478206,
          -0.10548357954143857,
          0.9350274188232347,
          -0.11857806913827566,
          0.8291018552229273,
          0.4404340905146739,
          1.0949591324812462,
          -0.5046317220659516,
          0.7277366176328306,
          -0.9220093815234568,
          -1.4401200584762028,
          -0.2735458841642263,
          0.5057772631008871,
          -0.5756586099298809,
          0.4469996935382162,
          1.2311387579172113,
          -0.7490594863628462,
          0.8877674978807628,
          0.0007280151525171892,
          -0.19498978287272922,
          -2.1616046744327897,
          1.3959629391980335,
          1.3542761626128896,
          0.3403680620018605,
          -1.2469655847187164,
          1.631557902538405,
          0.9386407535427541,
          -0.7152486651396022,
          -0.2896322392328507,
          0.4794983422428559,
          1.4993155479995524,
          -0.3357047654058956,
          2.1198825272852106,
          0.9335159436912603,
          0.07494701462476844,
          -1.0858501890051053,
          -0.5136565323101144,
          1.4674995050384145,
          -0.33782459796503067,
          0.4227277598515778,
          0.5345466892685413,
          -0.40806524589228743,
          -0.3632137413898601,
          -0.5128961430005934,
          0.32958613059022096,
          0.056449082223379625,
          -0.5741367405128155,
          -1.4522547358486244,
          1.5156989720072513,
          -1.5956070894351733,
          0.5468079407706042,
          0.5201902490525464,
          0.4405097935390144,
          0.16697909238681657,
          0.650148591850684,
          1.602800718166188,
          -2.323303975173998,
          -0.3919455823359626,
          -0.7901808014383477,
          0.3018838962950447,
          0.7363176053821264,
          0.3982958216374505,
          -1.8604341682340761,
          0.028930473350775563,
          0.3289011160680272,
          2.4482571174976813,
          0.17805452428597393,
          0.9037599076955404,
          -0.5356039813501637,
          0.5981293401750825,
          1.4011963024633105,
          0.02947680573042643,
          0.4138985401230784,
          -0.9208991891630186,
          1.153642037354523
         ]
        }
       ],
       "layout": {
        "legend": {
         "bgcolor": "#F5F6F9",
         "font": {
          "color": "#4D5663"
         }
        },
        "paper_bgcolor": "#F5F6F9",
        "plot_bgcolor": "#F5F6F9",
        "template": {
         "data": {
          "bar": [
           {
            "error_x": {
             "color": "#2a3f5f"
            },
            "error_y": {
             "color": "#2a3f5f"
            },
            "marker": {
             "line": {
              "color": "#E5ECF6",
              "width": 0.5
             },
             "pattern": {
              "fillmode": "overlay",
              "size": 10,
              "solidity": 0.2
             }
            },
            "type": "bar"
           }
          ],
          "barpolar": [
           {
            "marker": {
             "line": {
              "color": "#E5ECF6",
              "width": 0.5
             },
             "pattern": {
              "fillmode": "overlay",
              "size": 10,
              "solidity": 0.2
             }
            },
            "type": "barpolar"
           }
          ],
          "carpet": [
           {
            "aaxis": {
             "endlinecolor": "#2a3f5f",
             "gridcolor": "white",
             "linecolor": "white",
             "minorgridcolor": "white",
             "startlinecolor": "#2a3f5f"
            },
            "baxis": {
             "endlinecolor": "#2a3f5f",
             "gridcolor": "white",
             "linecolor": "white",
             "minorgridcolor": "white",
             "startlinecolor": "#2a3f5f"
            },
            "type": "carpet"
           }
          ],
          "choropleth": [
           {
            "colorbar": {
             "outlinewidth": 0,
             "ticks": ""
            },
            "type": "choropleth"
           }
          ],
          "contour": [
           {
            "colorbar": {
             "outlinewidth": 0,
             "ticks": ""
            },
            "colorscale": [
             [
              0,
              "#0d0887"
             ],
             [
              0.1111111111111111,
              "#46039f"
             ],
             [
              0.2222222222222222,
              "#7201a8"
             ],
             [
              0.3333333333333333,
              "#9c179e"
             ],
             [
              0.4444444444444444,
              "#bd3786"
             ],
             [
              0.5555555555555556,
              "#d8576b"
             ],
             [
              0.6666666666666666,
              "#ed7953"
             ],
             [
              0.7777777777777778,
              "#fb9f3a"
             ],
             [
              0.8888888888888888,
              "#fdca26"
             ],
             [
              1,
              "#f0f921"
             ]
            ],
            "type": "contour"
           }
          ],
          "contourcarpet": [
           {
            "colorbar": {
             "outlinewidth": 0,
             "ticks": ""
            },
            "type": "contourcarpet"
           }
          ],
          "heatmap": [
           {
            "colorbar": {
             "outlinewidth": 0,
             "ticks": ""
            },
            "colorscale": [
             [
              0,
              "#0d0887"
             ],
             [
              0.1111111111111111,
              "#46039f"
             ],
             [
              0.2222222222222222,
              "#7201a8"
             ],
             [
              0.3333333333333333,
              "#9c179e"
             ],
             [
              0.4444444444444444,
              "#bd3786"
             ],
             [
              0.5555555555555556,
              "#d8576b"
             ],
             [
              0.6666666666666666,
              "#ed7953"
             ],
             [
              0.7777777777777778,
              "#fb9f3a"
             ],
             [
              0.8888888888888888,
              "#fdca26"
             ],
             [
              1,
              "#f0f921"
             ]
            ],
            "type": "heatmap"
           }
          ],
          "heatmapgl": [
           {
            "colorbar": {
             "outlinewidth": 0,
             "ticks": ""
            },
            "colorscale": [
             [
              0,
              "#0d0887"
             ],
             [
              0.1111111111111111,
              "#46039f"
             ],
             [
              0.2222222222222222,
              "#7201a8"
             ],
             [
              0.3333333333333333,
              "#9c179e"
             ],
             [
              0.4444444444444444,
              "#bd3786"
             ],
             [
              0.5555555555555556,
              "#d8576b"
             ],
             [
              0.6666666666666666,
              "#ed7953"
             ],
             [
              0.7777777777777778,
              "#fb9f3a"
             ],
             [
              0.8888888888888888,
              "#fdca26"
             ],
             [
              1,
              "#f0f921"
             ]
            ],
            "type": "heatmapgl"
           }
          ],
          "histogram": [
           {
            "marker": {
             "pattern": {
              "fillmode": "overlay",
              "size": 10,
              "solidity": 0.2
             }
            },
            "type": "histogram"
           }
          ],
          "histogram2d": [
           {
            "colorbar": {
             "outlinewidth": 0,
             "ticks": ""
            },
            "colorscale": [
             [
              0,
              "#0d0887"
             ],
             [
              0.1111111111111111,
              "#46039f"
             ],
             [
              0.2222222222222222,
              "#7201a8"
             ],
             [
              0.3333333333333333,
              "#9c179e"
             ],
             [
              0.4444444444444444,
              "#bd3786"
             ],
             [
              0.5555555555555556,
              "#d8576b"
             ],
             [
              0.6666666666666666,
              "#ed7953"
             ],
             [
              0.7777777777777778,
              "#fb9f3a"
             ],
             [
              0.8888888888888888,
              "#fdca26"
             ],
             [
              1,
              "#f0f921"
             ]
            ],
            "type": "histogram2d"
           }
          ],
          "histogram2dcontour": [
           {
            "colorbar": {
             "outlinewidth": 0,
             "ticks": ""
            },
            "colorscale": [
             [
              0,
              "#0d0887"
             ],
             [
              0.1111111111111111,
              "#46039f"
             ],
             [
              0.2222222222222222,
              "#7201a8"
             ],
             [
              0.3333333333333333,
              "#9c179e"
             ],
             [
              0.4444444444444444,
              "#bd3786"
             ],
             [
              0.5555555555555556,
              "#d8576b"
             ],
             [
              0.6666666666666666,
              "#ed7953"
             ],
             [
              0.7777777777777778,
              "#fb9f3a"
             ],
             [
              0.8888888888888888,
              "#fdca26"
             ],
             [
              1,
              "#f0f921"
             ]
            ],
            "type": "histogram2dcontour"
           }
          ],
          "mesh3d": [
           {
            "colorbar": {
             "outlinewidth": 0,
             "ticks": ""
            },
            "type": "mesh3d"
           }
          ],
          "parcoords": [
           {
            "line": {
             "colorbar": {
              "outlinewidth": 0,
              "ticks": ""
             }
            },
            "type": "parcoords"
           }
          ],
          "pie": [
           {
            "automargin": true,
            "type": "pie"
           }
          ],
          "scatter": [
           {
            "marker": {
             "colorbar": {
              "outlinewidth": 0,
              "ticks": ""
             }
            },
            "type": "scatter"
           }
          ],
          "scatter3d": [
           {
            "line": {
             "colorbar": {
              "outlinewidth": 0,
              "ticks": ""
             }
            },
            "marker": {
             "colorbar": {
              "outlinewidth": 0,
              "ticks": ""
             }
            },
            "type": "scatter3d"
           }
          ],
          "scattercarpet": [
           {
            "marker": {
             "colorbar": {
              "outlinewidth": 0,
              "ticks": ""
             }
            },
            "type": "scattercarpet"
           }
          ],
          "scattergeo": [
           {
            "marker": {
             "colorbar": {
              "outlinewidth": 0,
              "ticks": ""
             }
            },
            "type": "scattergeo"
           }
          ],
          "scattergl": [
           {
            "marker": {
             "colorbar": {
              "outlinewidth": 0,
              "ticks": ""
             }
            },
            "type": "scattergl"
           }
          ],
          "scattermapbox": [
           {
            "marker": {
             "colorbar": {
              "outlinewidth": 0,
              "ticks": ""
             }
            },
            "type": "scattermapbox"
           }
          ],
          "scatterpolar": [
           {
            "marker": {
             "colorbar": {
              "outlinewidth": 0,
              "ticks": ""
             }
            },
            "type": "scatterpolar"
           }
          ],
          "scatterpolargl": [
           {
            "marker": {
             "colorbar": {
              "outlinewidth": 0,
              "ticks": ""
             }
            },
            "type": "scatterpolargl"
           }
          ],
          "scatterternary": [
           {
            "marker": {
             "colorbar": {
              "outlinewidth": 0,
              "ticks": ""
             }
            },
            "type": "scatterternary"
           }
          ],
          "surface": [
           {
            "colorbar": {
             "outlinewidth": 0,
             "ticks": ""
            },
            "colorscale": [
             [
              0,
              "#0d0887"
             ],
             [
              0.1111111111111111,
              "#46039f"
             ],
             [
              0.2222222222222222,
              "#7201a8"
             ],
             [
              0.3333333333333333,
              "#9c179e"
             ],
             [
              0.4444444444444444,
              "#bd3786"
             ],
             [
              0.5555555555555556,
              "#d8576b"
             ],
             [
              0.6666666666666666,
              "#ed7953"
             ],
             [
              0.7777777777777778,
              "#fb9f3a"
             ],
             [
              0.8888888888888888,
              "#fdca26"
             ],
             [
              1,
              "#f0f921"
             ]
            ],
            "type": "surface"
           }
          ],
          "table": [
           {
            "cells": {
             "fill": {
              "color": "#EBF0F8"
             },
             "line": {
              "color": "white"
             }
            },
            "header": {
             "fill": {
              "color": "#C8D4E3"
             },
             "line": {
              "color": "white"
             }
            },
            "type": "table"
           }
          ]
         },
         "layout": {
          "annotationdefaults": {
           "arrowcolor": "#2a3f5f",
           "arrowhead": 0,
           "arrowwidth": 1
          },
          "autotypenumbers": "strict",
          "coloraxis": {
           "colorbar": {
            "outlinewidth": 0,
            "ticks": ""
           }
          },
          "colorscale": {
           "diverging": [
            [
             0,
             "#8e0152"
            ],
            [
             0.1,
             "#c51b7d"
            ],
            [
             0.2,
             "#de77ae"
            ],
            [
             0.3,
             "#f1b6da"
            ],
            [
             0.4,
             "#fde0ef"
            ],
            [
             0.5,
             "#f7f7f7"
            ],
            [
             0.6,
             "#e6f5d0"
            ],
            [
             0.7,
             "#b8e186"
            ],
            [
             0.8,
             "#7fbc41"
            ],
            [
             0.9,
             "#4d9221"
            ],
            [
             1,
             "#276419"
            ]
           ],
           "sequential": [
            [
             0,
             "#0d0887"
            ],
            [
             0.1111111111111111,
             "#46039f"
            ],
            [
             0.2222222222222222,
             "#7201a8"
            ],
            [
             0.3333333333333333,
             "#9c179e"
            ],
            [
             0.4444444444444444,
             "#bd3786"
            ],
            [
             0.5555555555555556,
             "#d8576b"
            ],
            [
             0.6666666666666666,
             "#ed7953"
            ],
            [
             0.7777777777777778,
             "#fb9f3a"
            ],
            [
             0.8888888888888888,
             "#fdca26"
            ],
            [
             1,
             "#f0f921"
            ]
           ],
           "sequentialminus": [
            [
             0,
             "#0d0887"
            ],
            [
             0.1111111111111111,
             "#46039f"
            ],
            [
             0.2222222222222222,
             "#7201a8"
            ],
            [
             0.3333333333333333,
             "#9c179e"
            ],
            [
             0.4444444444444444,
             "#bd3786"
            ],
            [
             0.5555555555555556,
             "#d8576b"
            ],
            [
             0.6666666666666666,
             "#ed7953"
            ],
            [
             0.7777777777777778,
             "#fb9f3a"
            ],
            [
             0.8888888888888888,
             "#fdca26"
            ],
            [
             1,
             "#f0f921"
            ]
           ]
          },
          "colorway": [
           "#636efa",
           "#EF553B",
           "#00cc96",
           "#ab63fa",
           "#FFA15A",
           "#19d3f3",
           "#FF6692",
           "#B6E880",
           "#FF97FF",
           "#FECB52"
          ],
          "font": {
           "color": "#2a3f5f"
          },
          "geo": {
           "bgcolor": "white",
           "lakecolor": "white",
           "landcolor": "#E5ECF6",
           "showlakes": true,
           "showland": true,
           "subunitcolor": "white"
          },
          "hoverlabel": {
           "align": "left"
          },
          "hovermode": "closest",
          "mapbox": {
           "style": "light"
          },
          "paper_bgcolor": "white",
          "plot_bgcolor": "#E5ECF6",
          "polar": {
           "angularaxis": {
            "gridcolor": "white",
            "linecolor": "white",
            "ticks": ""
           },
           "bgcolor": "#E5ECF6",
           "radialaxis": {
            "gridcolor": "white",
            "linecolor": "white",
            "ticks": ""
           }
          },
          "scene": {
           "xaxis": {
            "backgroundcolor": "#E5ECF6",
            "gridcolor": "white",
            "gridwidth": 2,
            "linecolor": "white",
            "showbackground": true,
            "ticks": "",
            "zerolinecolor": "white"
           },
           "yaxis": {
            "backgroundcolor": "#E5ECF6",
            "gridcolor": "white",
            "gridwidth": 2,
            "linecolor": "white",
            "showbackground": true,
            "ticks": "",
            "zerolinecolor": "white"
           },
           "zaxis": {
            "backgroundcolor": "#E5ECF6",
            "gridcolor": "white",
            "gridwidth": 2,
            "linecolor": "white",
            "showbackground": true,
            "ticks": "",
            "zerolinecolor": "white"
           }
          },
          "shapedefaults": {
           "line": {
            "color": "#2a3f5f"
           }
          },
          "ternary": {
           "aaxis": {
            "gridcolor": "white",
            "linecolor": "white",
            "ticks": ""
           },
           "baxis": {
            "gridcolor": "white",
            "linecolor": "white",
            "ticks": ""
           },
           "bgcolor": "#E5ECF6",
           "caxis": {
            "gridcolor": "white",
            "linecolor": "white",
            "ticks": ""
           }
          },
          "title": {
           "x": 0.05
          },
          "xaxis": {
           "automargin": true,
           "gridcolor": "white",
           "linecolor": "white",
           "ticks": "",
           "title": {
            "standoff": 15
           },
           "zerolinecolor": "white",
           "zerolinewidth": 2
          },
          "yaxis": {
           "automargin": true,
           "gridcolor": "white",
           "linecolor": "white",
           "ticks": "",
           "title": {
            "standoff": 15
           },
           "zerolinecolor": "white",
           "zerolinewidth": 2
          }
         }
        },
        "title": {
         "font": {
          "color": "#4D5663"
         }
        },
        "xaxis": {
         "gridcolor": "#E1E5ED",
         "showgrid": true,
         "tickfont": {
          "color": "#4D5663"
         },
         "title": {
          "font": {
           "color": "#4D5663"
          },
          "text": ""
         },
         "zerolinecolor": "#E1E5ED"
        },
        "yaxis": {
         "gridcolor": "#E1E5ED",
         "showgrid": true,
         "tickfont": {
          "color": "#4D5663"
         },
         "title": {
          "font": {
           "color": "#4D5663"
          },
          "text": ""
         },
         "zerolinecolor": "#E1E5ED"
        }
       }
      },
      "text/html": [
       "<div>                            <div id=\"fa9855e3-541e-48d1-807d-0a7c052842d6\" class=\"plotly-graph-div\" style=\"height:525px; width:100%;\"></div>            <script type=\"text/javascript\">                require([\"plotly\"], function(Plotly) {                    window.PLOTLYENV=window.PLOTLYENV || {};\n",
       "                    window.PLOTLYENV.BASE_URL='https://plot.ly';                                    if (document.getElementById(\"fa9855e3-541e-48d1-807d-0a7c052842d6\")) {                    Plotly.newPlot(                        \"fa9855e3-541e-48d1-807d-0a7c052842d6\",                        [{\"line\":{\"color\":\"rgba(255, 153, 51, 1.0)\",\"dash\":\"solid\",\"shape\":\"linear\",\"width\":1.3},\"mode\":\"lines\",\"name\":\"A\",\"text\":\"\",\"x\":[0,1,2,3,4,5,6,7,8,9,10,11,12,13,14,15,16,17,18,19,20,21,22,23,24,25,26,27,28,29,30,31,32,33,34,35,36,37,38,39,40,41,42,43,44,45,46,47,48,49,50,51,52,53,54,55,56,57,58,59,60,61,62,63,64,65,66,67,68,69,70,71,72,73,74,75,76,77,78,79,80,81,82,83,84,85,86,87,88,89,90,91,92,93,94,95,96,97,98,99],\"y\":[0.48979428455356877,1.2000787712482575,0.023788380464120393,-0.7762937541590931,-0.012364867282905903,-1.2161957246449362,-0.02690116005734921,-0.6136576494704216,-1.0932741606526177,1.3367224280535983,-0.21086536735247163,0.7004920634418149,0.022903232284200294,1.8118903731503866,0.03874003270713806,0.14207857973235602,-1.2664546662031808,1.0882638165812608,-0.7120729647956264,0.6937532377713457,-0.38587006015377073,0.7944049114081017,0.8902470208690971,-0.017596363807709636,-0.21123469197121414,-0.44522679075601096,0.06594417027871106,-0.4005156041049335,1.531611994137102,1.469053508293093,-0.6960757696420884,0.42188597213691115,-0.24857896565921767,0.35243368033595995,0.32289319825012025,1.756959477480924,-0.8646444846801743,0.7327493359184236,-0.05616681327469264,0.24137468687379302,0.13490316200095048,-0.30294439883702995,0.20149030418780658,-0.8439630384647533,0.9173475168512586,-0.7267483351185445,0.4551191588285759,-1.3050200504200984,-0.940424126632205,-0.2861436512950377,0.3272416090612496,-1.4862435821612276,-0.7419822477245054,-0.5289520199886615,-0.19209542834834886,-1.6137840913423802,2.5253792135126267,-0.36401403896536855,1.0560010342257284,1.4282679514136718,-1.7240519483814831,0.5671338747613731,-0.9080841728798318,0.31546878483673546,-0.11377460855602518,0.053496764203978336,0.6818028998550107,-1.9774449121637068,0.7084250781799291,1.5278746674917012,-0.9571164971445482,-1.3294630618845433,0.942272172901489,-0.019981281703439734,1.4525537255249976,0.027433302927381463,-1.8001925853232867,1.4426728488088858,-0.6965262723544774,1.2879984069477703,-1.4514103759363945,0.10321693798368037,-1.0337673090830766,1.2123441508341763,0.2816563048236678,-1.0116419291291963,1.2137608091381367,-0.6097424621297425,1.199038876047825,-0.14784081503360644,-1.0529508579837437,0.203716845237984,-1.3703913734693944,-1.4621189194907764,1.2079693890251404,1.0607169379613697,1.6860621157919298,-0.3043036742676254,1.252089094534873,0.8019105881421928],\"type\":\"scatter\"},{\"line\":{\"color\":\"rgba(55, 128, 191, 1.0)\",\"dash\":\"solid\",\"shape\":\"linear\",\"width\":1.3},\"mode\":\"lines\",\"name\":\"B\",\"text\":\"\",\"x\":[0,1,2,3,4,5,6,7,8,9,10,11,12,13,14,15,16,17,18,19,20,21,22,23,24,25,26,27,28,29,30,31,32,33,34,35,36,37,38,39,40,41,42,43,44,45,46,47,48,49,50,51,52,53,54,55,56,57,58,59,60,61,62,63,64,65,66,67,68,69,70,71,72,73,74,75,76,77,78,79,80,81,82,83,84,85,86,87,88,89,90,91,92,93,94,95,96,97,98,99],\"y\":[-1.0998518931967172,-0.951310489501729,0.4961980985412946,-1.9465577812700667,0.4782546807810063,0.3915928924499597,-0.16195461581883155,-0.5684389432325745,0.7864442079773991,0.11786194397659192,0.7806483973082989,-0.7216593398328882,0.14627440175389989,-0.07554072415619882,0.014168578367290862,-0.6333465050786681,1.0127771174834996,1.3878021905639235,0.4904150562542391,0.2536434005385077,1.1786366553776157,-3.334302912542056,0.7647022080307493,-0.031935851656112776,-0.7839089589040155,-0.09122200998567682,-0.4898507459459323,-0.5684394463175186,0.11940011898377212,-0.19497172220308293,2.728343356239694,-0.40789330735339907,-0.24459607575641326,-0.4858707994184838,-0.015234217101942981,-0.08771777295493485,0.4772963643238052,1.4507007392664688,0.4061437530079583,0.15419502764767845,-0.726525983701748,-0.2669636603429239,0.9852178153304991,-1.29587901702008,-0.6664537394097019,-1.093155363979523,1.4968662243590183,-0.8959185628124724,-1.5208535704872201,-0.4052181341125891,-0.017951376963129023,0.9116272137945861,-1.6649360797874992,0.3040516316528378,-0.12186378938520936,1.1724212208098135,-1.274141257813947,0.11182468335506614,1.47499536050285,0.2583425826196655,-0.32092947933983107,1.0007576889539056,0.20795616239699127,-0.08665414940310559,0.6523377927617374,0.16726551027784153,-0.42557944492126054,1.3705804781599653,0.9989305038474585,-1.6823152185810062,-1.4777209857615803,-0.9939514975377667,-1.0574492878409467,-0.18781359857066682,0.8413247717773269,1.1757733216891897,0.2972356932010209,-0.28249667162063813,-1.3381021329751352,0.8454290322931972,-0.43718099727400006,0.08608827559328311,0.42555094905863433,0.06474854527759977,-1.7365979250057706,-0.6954111510725659,0.5943477159463276,-0.0624064236918547,-0.09311347408323536,-0.20864777953826144,-1.5057657340094361,0.985649019277635,-0.618834216881153,-0.24696789588479345,0.1741621994183457,-1.2990736535773484,-1.9746857091172834,0.04549424231182181,-0.4787536211341913,-1.8165952496968758],\"type\":\"scatter\"},{\"line\":{\"color\":\"rgba(50, 171, 96, 1.0)\",\"dash\":\"solid\",\"shape\":\"linear\",\"width\":1.3},\"mode\":\"lines\",\"name\":\"C\",\"text\":\"\",\"x\":[0,1,2,3,4,5,6,7,8,9,10,11,12,13,14,15,16,17,18,19,20,21,22,23,24,25,26,27,28,29,30,31,32,33,34,35,36,37,38,39,40,41,42,43,44,45,46,47,48,49,50,51,52,53,54,55,56,57,58,59,60,61,62,63,64,65,66,67,68,69,70,71,72,73,74,75,76,77,78,79,80,81,82,83,84,85,86,87,88,89,90,91,92,93,94,95,96,97,98,99],\"y\":[-1.0625887658002213,0.09202816193018518,0.564848376353891,0.419472612971872,0.12660612020962858,-0.5127914675811296,-1.1250834598039288,-0.6051822916912,-0.16221998280097874,0.7356228690390648,-0.07574687216850803,0.17596247282604027,-1.721717086791258,2.323429731895257,-0.8482030722200461,-0.13369431269758897,1.43368695838209,0.12440433777333088,0.6827434615859537,-1.2316479081514446,-1.6643319307140543,-0.7326761450757091,0.14581998247595768,-0.8486405675639428,-1.3879983259008852,-1.869598616511187,-2.360893594863502,1.1800886270616593,0.5182722178949594,0.7554306808110395,-1.2801531109221176,-1.816141993229202,-0.5232033577209291,0.7622410426171143,-0.05449472773996224,0.1922114685510936,-0.4141235355446176,0.7052675744404783,-2.59538260905528,-0.16142979812964459,0.2326207735748364,-0.7723616091348504,0.41227233208544345,0.16675903993999175,-0.5494052757613266,-1.2332580401100453,-1.5362604958487704,-0.6850801955952219,-0.10309357320981548,1.211292382720803,0.8824592740410863,-0.8569072831904082,-1.250014049122893,-0.08799308927471544,-0.6552934530711982,0.9863289277092309,-0.0031616249570040264,0.8656884015381522,-1.3457460857249597,-0.8700802229476118,0.7379618696557516,-1.310500185377312,-1.2439360756820212,-1.852983958425285,-0.5483973457086878,-0.2620927767535737,0.8223682944291094,0.41648038679327865,-0.14478273313287518,0.04459544764541705,0.0552076255058285,-0.35827809100913904,1.1307788184569203,0.23619861907372788,-0.3841381654666092,0.018158187353936536,-0.9297831247259087,-0.9483441497850129,0.15370068303643483,-0.7567916707710458,-0.22349775200537117,-0.16436541076498792,-0.04045064822824736,1.2055700104402123,-0.49887850886789453,-0.5435253428124678,0.07203272803770303,1.77607423833372,0.4643240466033002,0.7132203723900344,0.06056029680904643,0.5970097948018788,-0.9322428843780637,0.07146509261690312,1.7081053966754396,-0.29765733722000015,0.8941126463209245,-0.5008661024802709,2.3862236353444457,-2.640515182547073],\"type\":\"scatter\"},{\"line\":{\"color\":\"rgba(128, 0, 128, 1.0)\",\"dash\":\"solid\",\"shape\":\"linear\",\"width\":1.3},\"mode\":\"lines\",\"name\":\"D\",\"text\":\"\",\"x\":[0,1,2,3,4,5,6,7,8,9,10,11,12,13,14,15,16,17,18,19,20,21,22,23,24,25,26,27,28,29,30,31,32,33,34,35,36,37,38,39,40,41,42,43,44,45,46,47,48,49,50,51,52,53,54,55,56,57,58,59,60,61,62,63,64,65,66,67,68,69,70,71,72,73,74,75,76,77,78,79,80,81,82,83,84,85,86,87,88,89,90,91,92,93,94,95,96,97,98,99],\"y\":[0.6419540448307282,-1.517608688344434,-0.3843863209352874,0.582205043637178,0.8423001398246008,-0.876654312681006,-1.4220090438249173,-0.09887636580710743,-0.3836306988926069,-0.9617171701958386,0.9130567531304483,0.1921750627294664,-0.40845165490719065,0.16948526516975354,1.1995423858357495,-0.0806001194463327,-0.15746670743873062,-1.1240019824944776,0.4363515372870392,1.9307908970315317,1.1031951510859273,-1.7251316715516243,0.8967867868252514,0.47529474535809924,-1.1739198506495272,0.5490829176478206,-0.10548357954143857,0.9350274188232347,-0.11857806913827566,0.8291018552229273,0.4404340905146739,1.0949591324812462,-0.5046317220659516,0.7277366176328306,-0.9220093815234568,-1.4401200584762028,-0.2735458841642263,0.5057772631008871,-0.5756586099298809,0.4469996935382162,1.2311387579172113,-0.7490594863628462,0.8877674978807628,0.0007280151525171892,-0.19498978287272922,-2.1616046744327897,1.3959629391980335,1.3542761626128896,0.3403680620018605,-1.2469655847187164,1.631557902538405,0.9386407535427541,-0.7152486651396022,-0.2896322392328507,0.4794983422428559,1.4993155479995524,-0.3357047654058956,2.1198825272852106,0.9335159436912603,0.07494701462476844,-1.0858501890051053,-0.5136565323101144,1.4674995050384145,-0.33782459796503067,0.4227277598515778,0.5345466892685413,-0.40806524589228743,-0.3632137413898601,-0.5128961430005934,0.32958613059022096,0.056449082223379625,-0.5741367405128155,-1.4522547358486244,1.5156989720072513,-1.5956070894351733,0.5468079407706042,0.5201902490525464,0.4405097935390144,0.16697909238681657,0.650148591850684,1.602800718166188,-2.323303975173998,-0.3919455823359626,-0.7901808014383477,0.3018838962950447,0.7363176053821264,0.3982958216374505,-1.8604341682340761,0.028930473350775563,0.3289011160680272,2.4482571174976813,0.17805452428597393,0.9037599076955404,-0.5356039813501637,0.5981293401750825,1.4011963024633105,0.02947680573042643,0.4138985401230784,-0.9208991891630186,1.153642037354523],\"type\":\"scatter\"}],                        {\"legend\":{\"bgcolor\":\"#F5F6F9\",\"font\":{\"color\":\"#4D5663\"}},\"paper_bgcolor\":\"#F5F6F9\",\"plot_bgcolor\":\"#F5F6F9\",\"template\":{\"data\":{\"barpolar\":[{\"marker\":{\"line\":{\"color\":\"#E5ECF6\",\"width\":0.5},\"pattern\":{\"fillmode\":\"overlay\",\"size\":10,\"solidity\":0.2}},\"type\":\"barpolar\"}],\"bar\":[{\"error_x\":{\"color\":\"#2a3f5f\"},\"error_y\":{\"color\":\"#2a3f5f\"},\"marker\":{\"line\":{\"color\":\"#E5ECF6\",\"width\":0.5},\"pattern\":{\"fillmode\":\"overlay\",\"size\":10,\"solidity\":0.2}},\"type\":\"bar\"}],\"carpet\":[{\"aaxis\":{\"endlinecolor\":\"#2a3f5f\",\"gridcolor\":\"white\",\"linecolor\":\"white\",\"minorgridcolor\":\"white\",\"startlinecolor\":\"#2a3f5f\"},\"baxis\":{\"endlinecolor\":\"#2a3f5f\",\"gridcolor\":\"white\",\"linecolor\":\"white\",\"minorgridcolor\":\"white\",\"startlinecolor\":\"#2a3f5f\"},\"type\":\"carpet\"}],\"choropleth\":[{\"colorbar\":{\"outlinewidth\":0,\"ticks\":\"\"},\"type\":\"choropleth\"}],\"contourcarpet\":[{\"colorbar\":{\"outlinewidth\":0,\"ticks\":\"\"},\"type\":\"contourcarpet\"}],\"contour\":[{\"colorbar\":{\"outlinewidth\":0,\"ticks\":\"\"},\"colorscale\":[[0.0,\"#0d0887\"],[0.1111111111111111,\"#46039f\"],[0.2222222222222222,\"#7201a8\"],[0.3333333333333333,\"#9c179e\"],[0.4444444444444444,\"#bd3786\"],[0.5555555555555556,\"#d8576b\"],[0.6666666666666666,\"#ed7953\"],[0.7777777777777778,\"#fb9f3a\"],[0.8888888888888888,\"#fdca26\"],[1.0,\"#f0f921\"]],\"type\":\"contour\"}],\"heatmapgl\":[{\"colorbar\":{\"outlinewidth\":0,\"ticks\":\"\"},\"colorscale\":[[0.0,\"#0d0887\"],[0.1111111111111111,\"#46039f\"],[0.2222222222222222,\"#7201a8\"],[0.3333333333333333,\"#9c179e\"],[0.4444444444444444,\"#bd3786\"],[0.5555555555555556,\"#d8576b\"],[0.6666666666666666,\"#ed7953\"],[0.7777777777777778,\"#fb9f3a\"],[0.8888888888888888,\"#fdca26\"],[1.0,\"#f0f921\"]],\"type\":\"heatmapgl\"}],\"heatmap\":[{\"colorbar\":{\"outlinewidth\":0,\"ticks\":\"\"},\"colorscale\":[[0.0,\"#0d0887\"],[0.1111111111111111,\"#46039f\"],[0.2222222222222222,\"#7201a8\"],[0.3333333333333333,\"#9c179e\"],[0.4444444444444444,\"#bd3786\"],[0.5555555555555556,\"#d8576b\"],[0.6666666666666666,\"#ed7953\"],[0.7777777777777778,\"#fb9f3a\"],[0.8888888888888888,\"#fdca26\"],[1.0,\"#f0f921\"]],\"type\":\"heatmap\"}],\"histogram2dcontour\":[{\"colorbar\":{\"outlinewidth\":0,\"ticks\":\"\"},\"colorscale\":[[0.0,\"#0d0887\"],[0.1111111111111111,\"#46039f\"],[0.2222222222222222,\"#7201a8\"],[0.3333333333333333,\"#9c179e\"],[0.4444444444444444,\"#bd3786\"],[0.5555555555555556,\"#d8576b\"],[0.6666666666666666,\"#ed7953\"],[0.7777777777777778,\"#fb9f3a\"],[0.8888888888888888,\"#fdca26\"],[1.0,\"#f0f921\"]],\"type\":\"histogram2dcontour\"}],\"histogram2d\":[{\"colorbar\":{\"outlinewidth\":0,\"ticks\":\"\"},\"colorscale\":[[0.0,\"#0d0887\"],[0.1111111111111111,\"#46039f\"],[0.2222222222222222,\"#7201a8\"],[0.3333333333333333,\"#9c179e\"],[0.4444444444444444,\"#bd3786\"],[0.5555555555555556,\"#d8576b\"],[0.6666666666666666,\"#ed7953\"],[0.7777777777777778,\"#fb9f3a\"],[0.8888888888888888,\"#fdca26\"],[1.0,\"#f0f921\"]],\"type\":\"histogram2d\"}],\"histogram\":[{\"marker\":{\"pattern\":{\"fillmode\":\"overlay\",\"size\":10,\"solidity\":0.2}},\"type\":\"histogram\"}],\"mesh3d\":[{\"colorbar\":{\"outlinewidth\":0,\"ticks\":\"\"},\"type\":\"mesh3d\"}],\"parcoords\":[{\"line\":{\"colorbar\":{\"outlinewidth\":0,\"ticks\":\"\"}},\"type\":\"parcoords\"}],\"pie\":[{\"automargin\":true,\"type\":\"pie\"}],\"scatter3d\":[{\"line\":{\"colorbar\":{\"outlinewidth\":0,\"ticks\":\"\"}},\"marker\":{\"colorbar\":{\"outlinewidth\":0,\"ticks\":\"\"}},\"type\":\"scatter3d\"}],\"scattercarpet\":[{\"marker\":{\"colorbar\":{\"outlinewidth\":0,\"ticks\":\"\"}},\"type\":\"scattercarpet\"}],\"scattergeo\":[{\"marker\":{\"colorbar\":{\"outlinewidth\":0,\"ticks\":\"\"}},\"type\":\"scattergeo\"}],\"scattergl\":[{\"marker\":{\"colorbar\":{\"outlinewidth\":0,\"ticks\":\"\"}},\"type\":\"scattergl\"}],\"scattermapbox\":[{\"marker\":{\"colorbar\":{\"outlinewidth\":0,\"ticks\":\"\"}},\"type\":\"scattermapbox\"}],\"scatterpolargl\":[{\"marker\":{\"colorbar\":{\"outlinewidth\":0,\"ticks\":\"\"}},\"type\":\"scatterpolargl\"}],\"scatterpolar\":[{\"marker\":{\"colorbar\":{\"outlinewidth\":0,\"ticks\":\"\"}},\"type\":\"scatterpolar\"}],\"scatter\":[{\"marker\":{\"colorbar\":{\"outlinewidth\":0,\"ticks\":\"\"}},\"type\":\"scatter\"}],\"scatterternary\":[{\"marker\":{\"colorbar\":{\"outlinewidth\":0,\"ticks\":\"\"}},\"type\":\"scatterternary\"}],\"surface\":[{\"colorbar\":{\"outlinewidth\":0,\"ticks\":\"\"},\"colorscale\":[[0.0,\"#0d0887\"],[0.1111111111111111,\"#46039f\"],[0.2222222222222222,\"#7201a8\"],[0.3333333333333333,\"#9c179e\"],[0.4444444444444444,\"#bd3786\"],[0.5555555555555556,\"#d8576b\"],[0.6666666666666666,\"#ed7953\"],[0.7777777777777778,\"#fb9f3a\"],[0.8888888888888888,\"#fdca26\"],[1.0,\"#f0f921\"]],\"type\":\"surface\"}],\"table\":[{\"cells\":{\"fill\":{\"color\":\"#EBF0F8\"},\"line\":{\"color\":\"white\"}},\"header\":{\"fill\":{\"color\":\"#C8D4E3\"},\"line\":{\"color\":\"white\"}},\"type\":\"table\"}]},\"layout\":{\"annotationdefaults\":{\"arrowcolor\":\"#2a3f5f\",\"arrowhead\":0,\"arrowwidth\":1},\"autotypenumbers\":\"strict\",\"coloraxis\":{\"colorbar\":{\"outlinewidth\":0,\"ticks\":\"\"}},\"colorscale\":{\"diverging\":[[0,\"#8e0152\"],[0.1,\"#c51b7d\"],[0.2,\"#de77ae\"],[0.3,\"#f1b6da\"],[0.4,\"#fde0ef\"],[0.5,\"#f7f7f7\"],[0.6,\"#e6f5d0\"],[0.7,\"#b8e186\"],[0.8,\"#7fbc41\"],[0.9,\"#4d9221\"],[1,\"#276419\"]],\"sequential\":[[0.0,\"#0d0887\"],[0.1111111111111111,\"#46039f\"],[0.2222222222222222,\"#7201a8\"],[0.3333333333333333,\"#9c179e\"],[0.4444444444444444,\"#bd3786\"],[0.5555555555555556,\"#d8576b\"],[0.6666666666666666,\"#ed7953\"],[0.7777777777777778,\"#fb9f3a\"],[0.8888888888888888,\"#fdca26\"],[1.0,\"#f0f921\"]],\"sequentialminus\":[[0.0,\"#0d0887\"],[0.1111111111111111,\"#46039f\"],[0.2222222222222222,\"#7201a8\"],[0.3333333333333333,\"#9c179e\"],[0.4444444444444444,\"#bd3786\"],[0.5555555555555556,\"#d8576b\"],[0.6666666666666666,\"#ed7953\"],[0.7777777777777778,\"#fb9f3a\"],[0.8888888888888888,\"#fdca26\"],[1.0,\"#f0f921\"]]},\"colorway\":[\"#636efa\",\"#EF553B\",\"#00cc96\",\"#ab63fa\",\"#FFA15A\",\"#19d3f3\",\"#FF6692\",\"#B6E880\",\"#FF97FF\",\"#FECB52\"],\"font\":{\"color\":\"#2a3f5f\"},\"geo\":{\"bgcolor\":\"white\",\"lakecolor\":\"white\",\"landcolor\":\"#E5ECF6\",\"showlakes\":true,\"showland\":true,\"subunitcolor\":\"white\"},\"hoverlabel\":{\"align\":\"left\"},\"hovermode\":\"closest\",\"mapbox\":{\"style\":\"light\"},\"paper_bgcolor\":\"white\",\"plot_bgcolor\":\"#E5ECF6\",\"polar\":{\"angularaxis\":{\"gridcolor\":\"white\",\"linecolor\":\"white\",\"ticks\":\"\"},\"bgcolor\":\"#E5ECF6\",\"radialaxis\":{\"gridcolor\":\"white\",\"linecolor\":\"white\",\"ticks\":\"\"}},\"scene\":{\"xaxis\":{\"backgroundcolor\":\"#E5ECF6\",\"gridcolor\":\"white\",\"gridwidth\":2,\"linecolor\":\"white\",\"showbackground\":true,\"ticks\":\"\",\"zerolinecolor\":\"white\"},\"yaxis\":{\"backgroundcolor\":\"#E5ECF6\",\"gridcolor\":\"white\",\"gridwidth\":2,\"linecolor\":\"white\",\"showbackground\":true,\"ticks\":\"\",\"zerolinecolor\":\"white\"},\"zaxis\":{\"backgroundcolor\":\"#E5ECF6\",\"gridcolor\":\"white\",\"gridwidth\":2,\"linecolor\":\"white\",\"showbackground\":true,\"ticks\":\"\",\"zerolinecolor\":\"white\"}},\"shapedefaults\":{\"line\":{\"color\":\"#2a3f5f\"}},\"ternary\":{\"aaxis\":{\"gridcolor\":\"white\",\"linecolor\":\"white\",\"ticks\":\"\"},\"baxis\":{\"gridcolor\":\"white\",\"linecolor\":\"white\",\"ticks\":\"\"},\"bgcolor\":\"#E5ECF6\",\"caxis\":{\"gridcolor\":\"white\",\"linecolor\":\"white\",\"ticks\":\"\"}},\"title\":{\"x\":0.05},\"xaxis\":{\"automargin\":true,\"gridcolor\":\"white\",\"linecolor\":\"white\",\"ticks\":\"\",\"title\":{\"standoff\":15},\"zerolinecolor\":\"white\",\"zerolinewidth\":2},\"yaxis\":{\"automargin\":true,\"gridcolor\":\"white\",\"linecolor\":\"white\",\"ticks\":\"\",\"title\":{\"standoff\":15},\"zerolinecolor\":\"white\",\"zerolinewidth\":2}}},\"title\":{\"font\":{\"color\":\"#4D5663\"}},\"xaxis\":{\"gridcolor\":\"#E1E5ED\",\"showgrid\":true,\"tickfont\":{\"color\":\"#4D5663\"},\"title\":{\"font\":{\"color\":\"#4D5663\"},\"text\":\"\"},\"zerolinecolor\":\"#E1E5ED\"},\"yaxis\":{\"gridcolor\":\"#E1E5ED\",\"showgrid\":true,\"tickfont\":{\"color\":\"#4D5663\"},\"title\":{\"font\":{\"color\":\"#4D5663\"},\"text\":\"\"},\"zerolinecolor\":\"#E1E5ED\"}},                        {\"showLink\": true, \"linkText\": \"Export to plot.ly\", \"plotlyServerURL\": \"https://plot.ly\", \"responsive\": true}                    ).then(function(){\n",
       "                            \n",
       "var gd = document.getElementById('fa9855e3-541e-48d1-807d-0a7c052842d6');\n",
       "var x = new MutationObserver(function (mutations, observer) {{\n",
       "        var display = window.getComputedStyle(gd).display;\n",
       "        if (!display || display === 'none') {{\n",
       "            console.log([gd, 'removed!']);\n",
       "            Plotly.purge(gd);\n",
       "            observer.disconnect();\n",
       "        }}\n",
       "}});\n",
       "\n",
       "// Listen for the removal of the full notebook cells\n",
       "var notebookContainer = gd.closest('#notebook-container');\n",
       "if (notebookContainer) {{\n",
       "    x.observe(notebookContainer, {childList: true});\n",
       "}}\n",
       "\n",
       "// Listen for the clearing of the current output cell\n",
       "var outputEl = gd.closest('.output');\n",
       "if (outputEl) {{\n",
       "    x.observe(outputEl, {childList: true});\n",
       "}}\n",
       "\n",
       "                        })                };                });            </script>        </div>"
      ]
     },
     "metadata": {},
     "output_type": "display_data"
    }
   ],
   "source": [
    "df.iplot()"
   ]
  },
  {
   "cell_type": "code",
   "execution_count": 21,
   "id": "f82f6e9b",
   "metadata": {},
   "outputs": [
    {
     "data": {
      "application/vnd.plotly.v1+json": {
       "config": {
        "linkText": "Export to plot.ly",
        "plotlyServerURL": "https://plot.ly",
        "showLink": true
       },
       "data": [
        {
         "line": {
          "color": "rgba(255, 153, 51, 1.0)",
          "dash": "solid",
          "shape": "linear",
          "width": 1.3
         },
         "marker": {
          "size": 20,
          "symbol": "circle"
         },
         "mode": "markers",
         "name": "B",
         "text": "",
         "type": "scatter",
         "x": [
          0.48979428455356877,
          1.2000787712482575,
          0.023788380464120393,
          -0.7762937541590931,
          -0.012364867282905903,
          -1.2161957246449362,
          -0.02690116005734921,
          -0.6136576494704216,
          -1.0932741606526177,
          1.3367224280535983,
          -0.21086536735247163,
          0.7004920634418149,
          0.022903232284200294,
          1.8118903731503866,
          0.03874003270713806,
          0.14207857973235602,
          -1.2664546662031808,
          1.0882638165812608,
          -0.7120729647956264,
          0.6937532377713457,
          -0.38587006015377073,
          0.7944049114081017,
          0.8902470208690971,
          -0.017596363807709636,
          -0.21123469197121414,
          -0.44522679075601096,
          0.06594417027871106,
          -0.4005156041049335,
          1.531611994137102,
          1.469053508293093,
          -0.6960757696420884,
          0.42188597213691115,
          -0.24857896565921767,
          0.35243368033595995,
          0.32289319825012025,
          1.756959477480924,
          -0.8646444846801743,
          0.7327493359184236,
          -0.05616681327469264,
          0.24137468687379302,
          0.13490316200095048,
          -0.30294439883702995,
          0.20149030418780658,
          -0.8439630384647533,
          0.9173475168512586,
          -0.7267483351185445,
          0.4551191588285759,
          -1.3050200504200984,
          -0.940424126632205,
          -0.2861436512950377,
          0.3272416090612496,
          -1.4862435821612276,
          -0.7419822477245054,
          -0.5289520199886615,
          -0.19209542834834886,
          -1.6137840913423802,
          2.5253792135126267,
          -0.36401403896536855,
          1.0560010342257284,
          1.4282679514136718,
          -1.7240519483814831,
          0.5671338747613731,
          -0.9080841728798318,
          0.31546878483673546,
          -0.11377460855602518,
          0.053496764203978336,
          0.6818028998550107,
          -1.9774449121637068,
          0.7084250781799291,
          1.5278746674917012,
          -0.9571164971445482,
          -1.3294630618845433,
          0.942272172901489,
          -0.019981281703439734,
          1.4525537255249976,
          0.027433302927381463,
          -1.8001925853232867,
          1.4426728488088858,
          -0.6965262723544774,
          1.2879984069477703,
          -1.4514103759363945,
          0.10321693798368037,
          -1.0337673090830766,
          1.2123441508341763,
          0.2816563048236678,
          -1.0116419291291963,
          1.2137608091381367,
          -0.6097424621297425,
          1.199038876047825,
          -0.14784081503360644,
          -1.0529508579837437,
          0.203716845237984,
          -1.3703913734693944,
          -1.4621189194907764,
          1.2079693890251404,
          1.0607169379613697,
          1.6860621157919298,
          -0.3043036742676254,
          1.252089094534873,
          0.8019105881421928
         ],
         "y": [
          -1.0998518931967172,
          -0.951310489501729,
          0.4961980985412946,
          -1.9465577812700667,
          0.4782546807810063,
          0.3915928924499597,
          -0.16195461581883155,
          -0.5684389432325745,
          0.7864442079773991,
          0.11786194397659192,
          0.7806483973082989,
          -0.7216593398328882,
          0.14627440175389989,
          -0.07554072415619882,
          0.014168578367290862,
          -0.6333465050786681,
          1.0127771174834996,
          1.3878021905639235,
          0.4904150562542391,
          0.2536434005385077,
          1.1786366553776157,
          -3.334302912542056,
          0.7647022080307493,
          -0.031935851656112776,
          -0.7839089589040155,
          -0.09122200998567682,
          -0.4898507459459323,
          -0.5684394463175186,
          0.11940011898377212,
          -0.19497172220308293,
          2.728343356239694,
          -0.40789330735339907,
          -0.24459607575641326,
          -0.4858707994184838,
          -0.015234217101942981,
          -0.08771777295493485,
          0.4772963643238052,
          1.4507007392664688,
          0.4061437530079583,
          0.15419502764767845,
          -0.726525983701748,
          -0.2669636603429239,
          0.9852178153304991,
          -1.29587901702008,
          -0.6664537394097019,
          -1.093155363979523,
          1.4968662243590183,
          -0.8959185628124724,
          -1.5208535704872201,
          -0.4052181341125891,
          -0.017951376963129023,
          0.9116272137945861,
          -1.6649360797874992,
          0.3040516316528378,
          -0.12186378938520936,
          1.1724212208098135,
          -1.274141257813947,
          0.11182468335506614,
          1.47499536050285,
          0.2583425826196655,
          -0.32092947933983107,
          1.0007576889539056,
          0.20795616239699127,
          -0.08665414940310559,
          0.6523377927617374,
          0.16726551027784153,
          -0.42557944492126054,
          1.3705804781599653,
          0.9989305038474585,
          -1.6823152185810062,
          -1.4777209857615803,
          -0.9939514975377667,
          -1.0574492878409467,
          -0.18781359857066682,
          0.8413247717773269,
          1.1757733216891897,
          0.2972356932010209,
          -0.28249667162063813,
          -1.3381021329751352,
          0.8454290322931972,
          -0.43718099727400006,
          0.08608827559328311,
          0.42555094905863433,
          0.06474854527759977,
          -1.7365979250057706,
          -0.6954111510725659,
          0.5943477159463276,
          -0.0624064236918547,
          -0.09311347408323536,
          -0.20864777953826144,
          -1.5057657340094361,
          0.985649019277635,
          -0.618834216881153,
          -0.24696789588479345,
          0.1741621994183457,
          -1.2990736535773484,
          -1.9746857091172834,
          0.04549424231182181,
          -0.4787536211341913,
          -1.8165952496968758
         ]
        }
       ],
       "layout": {
        "legend": {
         "bgcolor": "#F5F6F9",
         "font": {
          "color": "#4D5663"
         }
        },
        "paper_bgcolor": "#F5F6F9",
        "plot_bgcolor": "#F5F6F9",
        "template": {
         "data": {
          "bar": [
           {
            "error_x": {
             "color": "#2a3f5f"
            },
            "error_y": {
             "color": "#2a3f5f"
            },
            "marker": {
             "line": {
              "color": "#E5ECF6",
              "width": 0.5
             },
             "pattern": {
              "fillmode": "overlay",
              "size": 10,
              "solidity": 0.2
             }
            },
            "type": "bar"
           }
          ],
          "barpolar": [
           {
            "marker": {
             "line": {
              "color": "#E5ECF6",
              "width": 0.5
             },
             "pattern": {
              "fillmode": "overlay",
              "size": 10,
              "solidity": 0.2
             }
            },
            "type": "barpolar"
           }
          ],
          "carpet": [
           {
            "aaxis": {
             "endlinecolor": "#2a3f5f",
             "gridcolor": "white",
             "linecolor": "white",
             "minorgridcolor": "white",
             "startlinecolor": "#2a3f5f"
            },
            "baxis": {
             "endlinecolor": "#2a3f5f",
             "gridcolor": "white",
             "linecolor": "white",
             "minorgridcolor": "white",
             "startlinecolor": "#2a3f5f"
            },
            "type": "carpet"
           }
          ],
          "choropleth": [
           {
            "colorbar": {
             "outlinewidth": 0,
             "ticks": ""
            },
            "type": "choropleth"
           }
          ],
          "contour": [
           {
            "colorbar": {
             "outlinewidth": 0,
             "ticks": ""
            },
            "colorscale": [
             [
              0,
              "#0d0887"
             ],
             [
              0.1111111111111111,
              "#46039f"
             ],
             [
              0.2222222222222222,
              "#7201a8"
             ],
             [
              0.3333333333333333,
              "#9c179e"
             ],
             [
              0.4444444444444444,
              "#bd3786"
             ],
             [
              0.5555555555555556,
              "#d8576b"
             ],
             [
              0.6666666666666666,
              "#ed7953"
             ],
             [
              0.7777777777777778,
              "#fb9f3a"
             ],
             [
              0.8888888888888888,
              "#fdca26"
             ],
             [
              1,
              "#f0f921"
             ]
            ],
            "type": "contour"
           }
          ],
          "contourcarpet": [
           {
            "colorbar": {
             "outlinewidth": 0,
             "ticks": ""
            },
            "type": "contourcarpet"
           }
          ],
          "heatmap": [
           {
            "colorbar": {
             "outlinewidth": 0,
             "ticks": ""
            },
            "colorscale": [
             [
              0,
              "#0d0887"
             ],
             [
              0.1111111111111111,
              "#46039f"
             ],
             [
              0.2222222222222222,
              "#7201a8"
             ],
             [
              0.3333333333333333,
              "#9c179e"
             ],
             [
              0.4444444444444444,
              "#bd3786"
             ],
             [
              0.5555555555555556,
              "#d8576b"
             ],
             [
              0.6666666666666666,
              "#ed7953"
             ],
             [
              0.7777777777777778,
              "#fb9f3a"
             ],
             [
              0.8888888888888888,
              "#fdca26"
             ],
             [
              1,
              "#f0f921"
             ]
            ],
            "type": "heatmap"
           }
          ],
          "heatmapgl": [
           {
            "colorbar": {
             "outlinewidth": 0,
             "ticks": ""
            },
            "colorscale": [
             [
              0,
              "#0d0887"
             ],
             [
              0.1111111111111111,
              "#46039f"
             ],
             [
              0.2222222222222222,
              "#7201a8"
             ],
             [
              0.3333333333333333,
              "#9c179e"
             ],
             [
              0.4444444444444444,
              "#bd3786"
             ],
             [
              0.5555555555555556,
              "#d8576b"
             ],
             [
              0.6666666666666666,
              "#ed7953"
             ],
             [
              0.7777777777777778,
              "#fb9f3a"
             ],
             [
              0.8888888888888888,
              "#fdca26"
             ],
             [
              1,
              "#f0f921"
             ]
            ],
            "type": "heatmapgl"
           }
          ],
          "histogram": [
           {
            "marker": {
             "pattern": {
              "fillmode": "overlay",
              "size": 10,
              "solidity": 0.2
             }
            },
            "type": "histogram"
           }
          ],
          "histogram2d": [
           {
            "colorbar": {
             "outlinewidth": 0,
             "ticks": ""
            },
            "colorscale": [
             [
              0,
              "#0d0887"
             ],
             [
              0.1111111111111111,
              "#46039f"
             ],
             [
              0.2222222222222222,
              "#7201a8"
             ],
             [
              0.3333333333333333,
              "#9c179e"
             ],
             [
              0.4444444444444444,
              "#bd3786"
             ],
             [
              0.5555555555555556,
              "#d8576b"
             ],
             [
              0.6666666666666666,
              "#ed7953"
             ],
             [
              0.7777777777777778,
              "#fb9f3a"
             ],
             [
              0.8888888888888888,
              "#fdca26"
             ],
             [
              1,
              "#f0f921"
             ]
            ],
            "type": "histogram2d"
           }
          ],
          "histogram2dcontour": [
           {
            "colorbar": {
             "outlinewidth": 0,
             "ticks": ""
            },
            "colorscale": [
             [
              0,
              "#0d0887"
             ],
             [
              0.1111111111111111,
              "#46039f"
             ],
             [
              0.2222222222222222,
              "#7201a8"
             ],
             [
              0.3333333333333333,
              "#9c179e"
             ],
             [
              0.4444444444444444,
              "#bd3786"
             ],
             [
              0.5555555555555556,
              "#d8576b"
             ],
             [
              0.6666666666666666,
              "#ed7953"
             ],
             [
              0.7777777777777778,
              "#fb9f3a"
             ],
             [
              0.8888888888888888,
              "#fdca26"
             ],
             [
              1,
              "#f0f921"
             ]
            ],
            "type": "histogram2dcontour"
           }
          ],
          "mesh3d": [
           {
            "colorbar": {
             "outlinewidth": 0,
             "ticks": ""
            },
            "type": "mesh3d"
           }
          ],
          "parcoords": [
           {
            "line": {
             "colorbar": {
              "outlinewidth": 0,
              "ticks": ""
             }
            },
            "type": "parcoords"
           }
          ],
          "pie": [
           {
            "automargin": true,
            "type": "pie"
           }
          ],
          "scatter": [
           {
            "marker": {
             "colorbar": {
              "outlinewidth": 0,
              "ticks": ""
             }
            },
            "type": "scatter"
           }
          ],
          "scatter3d": [
           {
            "line": {
             "colorbar": {
              "outlinewidth": 0,
              "ticks": ""
             }
            },
            "marker": {
             "colorbar": {
              "outlinewidth": 0,
              "ticks": ""
             }
            },
            "type": "scatter3d"
           }
          ],
          "scattercarpet": [
           {
            "marker": {
             "colorbar": {
              "outlinewidth": 0,
              "ticks": ""
             }
            },
            "type": "scattercarpet"
           }
          ],
          "scattergeo": [
           {
            "marker": {
             "colorbar": {
              "outlinewidth": 0,
              "ticks": ""
             }
            },
            "type": "scattergeo"
           }
          ],
          "scattergl": [
           {
            "marker": {
             "colorbar": {
              "outlinewidth": 0,
              "ticks": ""
             }
            },
            "type": "scattergl"
           }
          ],
          "scattermapbox": [
           {
            "marker": {
             "colorbar": {
              "outlinewidth": 0,
              "ticks": ""
             }
            },
            "type": "scattermapbox"
           }
          ],
          "scatterpolar": [
           {
            "marker": {
             "colorbar": {
              "outlinewidth": 0,
              "ticks": ""
             }
            },
            "type": "scatterpolar"
           }
          ],
          "scatterpolargl": [
           {
            "marker": {
             "colorbar": {
              "outlinewidth": 0,
              "ticks": ""
             }
            },
            "type": "scatterpolargl"
           }
          ],
          "scatterternary": [
           {
            "marker": {
             "colorbar": {
              "outlinewidth": 0,
              "ticks": ""
             }
            },
            "type": "scatterternary"
           }
          ],
          "surface": [
           {
            "colorbar": {
             "outlinewidth": 0,
             "ticks": ""
            },
            "colorscale": [
             [
              0,
              "#0d0887"
             ],
             [
              0.1111111111111111,
              "#46039f"
             ],
             [
              0.2222222222222222,
              "#7201a8"
             ],
             [
              0.3333333333333333,
              "#9c179e"
             ],
             [
              0.4444444444444444,
              "#bd3786"
             ],
             [
              0.5555555555555556,
              "#d8576b"
             ],
             [
              0.6666666666666666,
              "#ed7953"
             ],
             [
              0.7777777777777778,
              "#fb9f3a"
             ],
             [
              0.8888888888888888,
              "#fdca26"
             ],
             [
              1,
              "#f0f921"
             ]
            ],
            "type": "surface"
           }
          ],
          "table": [
           {
            "cells": {
             "fill": {
              "color": "#EBF0F8"
             },
             "line": {
              "color": "white"
             }
            },
            "header": {
             "fill": {
              "color": "#C8D4E3"
             },
             "line": {
              "color": "white"
             }
            },
            "type": "table"
           }
          ]
         },
         "layout": {
          "annotationdefaults": {
           "arrowcolor": "#2a3f5f",
           "arrowhead": 0,
           "arrowwidth": 1
          },
          "autotypenumbers": "strict",
          "coloraxis": {
           "colorbar": {
            "outlinewidth": 0,
            "ticks": ""
           }
          },
          "colorscale": {
           "diverging": [
            [
             0,
             "#8e0152"
            ],
            [
             0.1,
             "#c51b7d"
            ],
            [
             0.2,
             "#de77ae"
            ],
            [
             0.3,
             "#f1b6da"
            ],
            [
             0.4,
             "#fde0ef"
            ],
            [
             0.5,
             "#f7f7f7"
            ],
            [
             0.6,
             "#e6f5d0"
            ],
            [
             0.7,
             "#b8e186"
            ],
            [
             0.8,
             "#7fbc41"
            ],
            [
             0.9,
             "#4d9221"
            ],
            [
             1,
             "#276419"
            ]
           ],
           "sequential": [
            [
             0,
             "#0d0887"
            ],
            [
             0.1111111111111111,
             "#46039f"
            ],
            [
             0.2222222222222222,
             "#7201a8"
            ],
            [
             0.3333333333333333,
             "#9c179e"
            ],
            [
             0.4444444444444444,
             "#bd3786"
            ],
            [
             0.5555555555555556,
             "#d8576b"
            ],
            [
             0.6666666666666666,
             "#ed7953"
            ],
            [
             0.7777777777777778,
             "#fb9f3a"
            ],
            [
             0.8888888888888888,
             "#fdca26"
            ],
            [
             1,
             "#f0f921"
            ]
           ],
           "sequentialminus": [
            [
             0,
             "#0d0887"
            ],
            [
             0.1111111111111111,
             "#46039f"
            ],
            [
             0.2222222222222222,
             "#7201a8"
            ],
            [
             0.3333333333333333,
             "#9c179e"
            ],
            [
             0.4444444444444444,
             "#bd3786"
            ],
            [
             0.5555555555555556,
             "#d8576b"
            ],
            [
             0.6666666666666666,
             "#ed7953"
            ],
            [
             0.7777777777777778,
             "#fb9f3a"
            ],
            [
             0.8888888888888888,
             "#fdca26"
            ],
            [
             1,
             "#f0f921"
            ]
           ]
          },
          "colorway": [
           "#636efa",
           "#EF553B",
           "#00cc96",
           "#ab63fa",
           "#FFA15A",
           "#19d3f3",
           "#FF6692",
           "#B6E880",
           "#FF97FF",
           "#FECB52"
          ],
          "font": {
           "color": "#2a3f5f"
          },
          "geo": {
           "bgcolor": "white",
           "lakecolor": "white",
           "landcolor": "#E5ECF6",
           "showlakes": true,
           "showland": true,
           "subunitcolor": "white"
          },
          "hoverlabel": {
           "align": "left"
          },
          "hovermode": "closest",
          "mapbox": {
           "style": "light"
          },
          "paper_bgcolor": "white",
          "plot_bgcolor": "#E5ECF6",
          "polar": {
           "angularaxis": {
            "gridcolor": "white",
            "linecolor": "white",
            "ticks": ""
           },
           "bgcolor": "#E5ECF6",
           "radialaxis": {
            "gridcolor": "white",
            "linecolor": "white",
            "ticks": ""
           }
          },
          "scene": {
           "xaxis": {
            "backgroundcolor": "#E5ECF6",
            "gridcolor": "white",
            "gridwidth": 2,
            "linecolor": "white",
            "showbackground": true,
            "ticks": "",
            "zerolinecolor": "white"
           },
           "yaxis": {
            "backgroundcolor": "#E5ECF6",
            "gridcolor": "white",
            "gridwidth": 2,
            "linecolor": "white",
            "showbackground": true,
            "ticks": "",
            "zerolinecolor": "white"
           },
           "zaxis": {
            "backgroundcolor": "#E5ECF6",
            "gridcolor": "white",
            "gridwidth": 2,
            "linecolor": "white",
            "showbackground": true,
            "ticks": "",
            "zerolinecolor": "white"
           }
          },
          "shapedefaults": {
           "line": {
            "color": "#2a3f5f"
           }
          },
          "ternary": {
           "aaxis": {
            "gridcolor": "white",
            "linecolor": "white",
            "ticks": ""
           },
           "baxis": {
            "gridcolor": "white",
            "linecolor": "white",
            "ticks": ""
           },
           "bgcolor": "#E5ECF6",
           "caxis": {
            "gridcolor": "white",
            "linecolor": "white",
            "ticks": ""
           }
          },
          "title": {
           "x": 0.05
          },
          "xaxis": {
           "automargin": true,
           "gridcolor": "white",
           "linecolor": "white",
           "ticks": "",
           "title": {
            "standoff": 15
           },
           "zerolinecolor": "white",
           "zerolinewidth": 2
          },
          "yaxis": {
           "automargin": true,
           "gridcolor": "white",
           "linecolor": "white",
           "ticks": "",
           "title": {
            "standoff": 15
           },
           "zerolinecolor": "white",
           "zerolinewidth": 2
          }
         }
        },
        "title": {
         "font": {
          "color": "#4D5663"
         }
        },
        "xaxis": {
         "gridcolor": "#E1E5ED",
         "showgrid": true,
         "tickfont": {
          "color": "#4D5663"
         },
         "title": {
          "font": {
           "color": "#4D5663"
          },
          "text": ""
         },
         "zerolinecolor": "#E1E5ED"
        },
        "yaxis": {
         "gridcolor": "#E1E5ED",
         "showgrid": true,
         "tickfont": {
          "color": "#4D5663"
         },
         "title": {
          "font": {
           "color": "#4D5663"
          },
          "text": ""
         },
         "zerolinecolor": "#E1E5ED"
        }
       }
      },
      "text/html": [
       "<div>                            <div id=\"7114c5a9-8eb9-4567-adb1-f32c06fa4c94\" class=\"plotly-graph-div\" style=\"height:525px; width:100%;\"></div>            <script type=\"text/javascript\">                require([\"plotly\"], function(Plotly) {                    window.PLOTLYENV=window.PLOTLYENV || {};\n",
       "                    window.PLOTLYENV.BASE_URL='https://plot.ly';                                    if (document.getElementById(\"7114c5a9-8eb9-4567-adb1-f32c06fa4c94\")) {                    Plotly.newPlot(                        \"7114c5a9-8eb9-4567-adb1-f32c06fa4c94\",                        [{\"line\":{\"color\":\"rgba(255, 153, 51, 1.0)\",\"dash\":\"solid\",\"shape\":\"linear\",\"width\":1.3},\"marker\":{\"size\":20,\"symbol\":\"circle\"},\"mode\":\"markers\",\"name\":\"B\",\"text\":\"\",\"x\":[0.48979428455356877,1.2000787712482575,0.023788380464120393,-0.7762937541590931,-0.012364867282905903,-1.2161957246449362,-0.02690116005734921,-0.6136576494704216,-1.0932741606526177,1.3367224280535983,-0.21086536735247163,0.7004920634418149,0.022903232284200294,1.8118903731503866,0.03874003270713806,0.14207857973235602,-1.2664546662031808,1.0882638165812608,-0.7120729647956264,0.6937532377713457,-0.38587006015377073,0.7944049114081017,0.8902470208690971,-0.017596363807709636,-0.21123469197121414,-0.44522679075601096,0.06594417027871106,-0.4005156041049335,1.531611994137102,1.469053508293093,-0.6960757696420884,0.42188597213691115,-0.24857896565921767,0.35243368033595995,0.32289319825012025,1.756959477480924,-0.8646444846801743,0.7327493359184236,-0.05616681327469264,0.24137468687379302,0.13490316200095048,-0.30294439883702995,0.20149030418780658,-0.8439630384647533,0.9173475168512586,-0.7267483351185445,0.4551191588285759,-1.3050200504200984,-0.940424126632205,-0.2861436512950377,0.3272416090612496,-1.4862435821612276,-0.7419822477245054,-0.5289520199886615,-0.19209542834834886,-1.6137840913423802,2.5253792135126267,-0.36401403896536855,1.0560010342257284,1.4282679514136718,-1.7240519483814831,0.5671338747613731,-0.9080841728798318,0.31546878483673546,-0.11377460855602518,0.053496764203978336,0.6818028998550107,-1.9774449121637068,0.7084250781799291,1.5278746674917012,-0.9571164971445482,-1.3294630618845433,0.942272172901489,-0.019981281703439734,1.4525537255249976,0.027433302927381463,-1.8001925853232867,1.4426728488088858,-0.6965262723544774,1.2879984069477703,-1.4514103759363945,0.10321693798368037,-1.0337673090830766,1.2123441508341763,0.2816563048236678,-1.0116419291291963,1.2137608091381367,-0.6097424621297425,1.199038876047825,-0.14784081503360644,-1.0529508579837437,0.203716845237984,-1.3703913734693944,-1.4621189194907764,1.2079693890251404,1.0607169379613697,1.6860621157919298,-0.3043036742676254,1.252089094534873,0.8019105881421928],\"y\":[-1.0998518931967172,-0.951310489501729,0.4961980985412946,-1.9465577812700667,0.4782546807810063,0.3915928924499597,-0.16195461581883155,-0.5684389432325745,0.7864442079773991,0.11786194397659192,0.7806483973082989,-0.7216593398328882,0.14627440175389989,-0.07554072415619882,0.014168578367290862,-0.6333465050786681,1.0127771174834996,1.3878021905639235,0.4904150562542391,0.2536434005385077,1.1786366553776157,-3.334302912542056,0.7647022080307493,-0.031935851656112776,-0.7839089589040155,-0.09122200998567682,-0.4898507459459323,-0.5684394463175186,0.11940011898377212,-0.19497172220308293,2.728343356239694,-0.40789330735339907,-0.24459607575641326,-0.4858707994184838,-0.015234217101942981,-0.08771777295493485,0.4772963643238052,1.4507007392664688,0.4061437530079583,0.15419502764767845,-0.726525983701748,-0.2669636603429239,0.9852178153304991,-1.29587901702008,-0.6664537394097019,-1.093155363979523,1.4968662243590183,-0.8959185628124724,-1.5208535704872201,-0.4052181341125891,-0.017951376963129023,0.9116272137945861,-1.6649360797874992,0.3040516316528378,-0.12186378938520936,1.1724212208098135,-1.274141257813947,0.11182468335506614,1.47499536050285,0.2583425826196655,-0.32092947933983107,1.0007576889539056,0.20795616239699127,-0.08665414940310559,0.6523377927617374,0.16726551027784153,-0.42557944492126054,1.3705804781599653,0.9989305038474585,-1.6823152185810062,-1.4777209857615803,-0.9939514975377667,-1.0574492878409467,-0.18781359857066682,0.8413247717773269,1.1757733216891897,0.2972356932010209,-0.28249667162063813,-1.3381021329751352,0.8454290322931972,-0.43718099727400006,0.08608827559328311,0.42555094905863433,0.06474854527759977,-1.7365979250057706,-0.6954111510725659,0.5943477159463276,-0.0624064236918547,-0.09311347408323536,-0.20864777953826144,-1.5057657340094361,0.985649019277635,-0.618834216881153,-0.24696789588479345,0.1741621994183457,-1.2990736535773484,-1.9746857091172834,0.04549424231182181,-0.4787536211341913,-1.8165952496968758],\"type\":\"scatter\"}],                        {\"legend\":{\"bgcolor\":\"#F5F6F9\",\"font\":{\"color\":\"#4D5663\"}},\"paper_bgcolor\":\"#F5F6F9\",\"plot_bgcolor\":\"#F5F6F9\",\"template\":{\"data\":{\"barpolar\":[{\"marker\":{\"line\":{\"color\":\"#E5ECF6\",\"width\":0.5},\"pattern\":{\"fillmode\":\"overlay\",\"size\":10,\"solidity\":0.2}},\"type\":\"barpolar\"}],\"bar\":[{\"error_x\":{\"color\":\"#2a3f5f\"},\"error_y\":{\"color\":\"#2a3f5f\"},\"marker\":{\"line\":{\"color\":\"#E5ECF6\",\"width\":0.5},\"pattern\":{\"fillmode\":\"overlay\",\"size\":10,\"solidity\":0.2}},\"type\":\"bar\"}],\"carpet\":[{\"aaxis\":{\"endlinecolor\":\"#2a3f5f\",\"gridcolor\":\"white\",\"linecolor\":\"white\",\"minorgridcolor\":\"white\",\"startlinecolor\":\"#2a3f5f\"},\"baxis\":{\"endlinecolor\":\"#2a3f5f\",\"gridcolor\":\"white\",\"linecolor\":\"white\",\"minorgridcolor\":\"white\",\"startlinecolor\":\"#2a3f5f\"},\"type\":\"carpet\"}],\"choropleth\":[{\"colorbar\":{\"outlinewidth\":0,\"ticks\":\"\"},\"type\":\"choropleth\"}],\"contourcarpet\":[{\"colorbar\":{\"outlinewidth\":0,\"ticks\":\"\"},\"type\":\"contourcarpet\"}],\"contour\":[{\"colorbar\":{\"outlinewidth\":0,\"ticks\":\"\"},\"colorscale\":[[0.0,\"#0d0887\"],[0.1111111111111111,\"#46039f\"],[0.2222222222222222,\"#7201a8\"],[0.3333333333333333,\"#9c179e\"],[0.4444444444444444,\"#bd3786\"],[0.5555555555555556,\"#d8576b\"],[0.6666666666666666,\"#ed7953\"],[0.7777777777777778,\"#fb9f3a\"],[0.8888888888888888,\"#fdca26\"],[1.0,\"#f0f921\"]],\"type\":\"contour\"}],\"heatmapgl\":[{\"colorbar\":{\"outlinewidth\":0,\"ticks\":\"\"},\"colorscale\":[[0.0,\"#0d0887\"],[0.1111111111111111,\"#46039f\"],[0.2222222222222222,\"#7201a8\"],[0.3333333333333333,\"#9c179e\"],[0.4444444444444444,\"#bd3786\"],[0.5555555555555556,\"#d8576b\"],[0.6666666666666666,\"#ed7953\"],[0.7777777777777778,\"#fb9f3a\"],[0.8888888888888888,\"#fdca26\"],[1.0,\"#f0f921\"]],\"type\":\"heatmapgl\"}],\"heatmap\":[{\"colorbar\":{\"outlinewidth\":0,\"ticks\":\"\"},\"colorscale\":[[0.0,\"#0d0887\"],[0.1111111111111111,\"#46039f\"],[0.2222222222222222,\"#7201a8\"],[0.3333333333333333,\"#9c179e\"],[0.4444444444444444,\"#bd3786\"],[0.5555555555555556,\"#d8576b\"],[0.6666666666666666,\"#ed7953\"],[0.7777777777777778,\"#fb9f3a\"],[0.8888888888888888,\"#fdca26\"],[1.0,\"#f0f921\"]],\"type\":\"heatmap\"}],\"histogram2dcontour\":[{\"colorbar\":{\"outlinewidth\":0,\"ticks\":\"\"},\"colorscale\":[[0.0,\"#0d0887\"],[0.1111111111111111,\"#46039f\"],[0.2222222222222222,\"#7201a8\"],[0.3333333333333333,\"#9c179e\"],[0.4444444444444444,\"#bd3786\"],[0.5555555555555556,\"#d8576b\"],[0.6666666666666666,\"#ed7953\"],[0.7777777777777778,\"#fb9f3a\"],[0.8888888888888888,\"#fdca26\"],[1.0,\"#f0f921\"]],\"type\":\"histogram2dcontour\"}],\"histogram2d\":[{\"colorbar\":{\"outlinewidth\":0,\"ticks\":\"\"},\"colorscale\":[[0.0,\"#0d0887\"],[0.1111111111111111,\"#46039f\"],[0.2222222222222222,\"#7201a8\"],[0.3333333333333333,\"#9c179e\"],[0.4444444444444444,\"#bd3786\"],[0.5555555555555556,\"#d8576b\"],[0.6666666666666666,\"#ed7953\"],[0.7777777777777778,\"#fb9f3a\"],[0.8888888888888888,\"#fdca26\"],[1.0,\"#f0f921\"]],\"type\":\"histogram2d\"}],\"histogram\":[{\"marker\":{\"pattern\":{\"fillmode\":\"overlay\",\"size\":10,\"solidity\":0.2}},\"type\":\"histogram\"}],\"mesh3d\":[{\"colorbar\":{\"outlinewidth\":0,\"ticks\":\"\"},\"type\":\"mesh3d\"}],\"parcoords\":[{\"line\":{\"colorbar\":{\"outlinewidth\":0,\"ticks\":\"\"}},\"type\":\"parcoords\"}],\"pie\":[{\"automargin\":true,\"type\":\"pie\"}],\"scatter3d\":[{\"line\":{\"colorbar\":{\"outlinewidth\":0,\"ticks\":\"\"}},\"marker\":{\"colorbar\":{\"outlinewidth\":0,\"ticks\":\"\"}},\"type\":\"scatter3d\"}],\"scattercarpet\":[{\"marker\":{\"colorbar\":{\"outlinewidth\":0,\"ticks\":\"\"}},\"type\":\"scattercarpet\"}],\"scattergeo\":[{\"marker\":{\"colorbar\":{\"outlinewidth\":0,\"ticks\":\"\"}},\"type\":\"scattergeo\"}],\"scattergl\":[{\"marker\":{\"colorbar\":{\"outlinewidth\":0,\"ticks\":\"\"}},\"type\":\"scattergl\"}],\"scattermapbox\":[{\"marker\":{\"colorbar\":{\"outlinewidth\":0,\"ticks\":\"\"}},\"type\":\"scattermapbox\"}],\"scatterpolargl\":[{\"marker\":{\"colorbar\":{\"outlinewidth\":0,\"ticks\":\"\"}},\"type\":\"scatterpolargl\"}],\"scatterpolar\":[{\"marker\":{\"colorbar\":{\"outlinewidth\":0,\"ticks\":\"\"}},\"type\":\"scatterpolar\"}],\"scatter\":[{\"marker\":{\"colorbar\":{\"outlinewidth\":0,\"ticks\":\"\"}},\"type\":\"scatter\"}],\"scatterternary\":[{\"marker\":{\"colorbar\":{\"outlinewidth\":0,\"ticks\":\"\"}},\"type\":\"scatterternary\"}],\"surface\":[{\"colorbar\":{\"outlinewidth\":0,\"ticks\":\"\"},\"colorscale\":[[0.0,\"#0d0887\"],[0.1111111111111111,\"#46039f\"],[0.2222222222222222,\"#7201a8\"],[0.3333333333333333,\"#9c179e\"],[0.4444444444444444,\"#bd3786\"],[0.5555555555555556,\"#d8576b\"],[0.6666666666666666,\"#ed7953\"],[0.7777777777777778,\"#fb9f3a\"],[0.8888888888888888,\"#fdca26\"],[1.0,\"#f0f921\"]],\"type\":\"surface\"}],\"table\":[{\"cells\":{\"fill\":{\"color\":\"#EBF0F8\"},\"line\":{\"color\":\"white\"}},\"header\":{\"fill\":{\"color\":\"#C8D4E3\"},\"line\":{\"color\":\"white\"}},\"type\":\"table\"}]},\"layout\":{\"annotationdefaults\":{\"arrowcolor\":\"#2a3f5f\",\"arrowhead\":0,\"arrowwidth\":1},\"autotypenumbers\":\"strict\",\"coloraxis\":{\"colorbar\":{\"outlinewidth\":0,\"ticks\":\"\"}},\"colorscale\":{\"diverging\":[[0,\"#8e0152\"],[0.1,\"#c51b7d\"],[0.2,\"#de77ae\"],[0.3,\"#f1b6da\"],[0.4,\"#fde0ef\"],[0.5,\"#f7f7f7\"],[0.6,\"#e6f5d0\"],[0.7,\"#b8e186\"],[0.8,\"#7fbc41\"],[0.9,\"#4d9221\"],[1,\"#276419\"]],\"sequential\":[[0.0,\"#0d0887\"],[0.1111111111111111,\"#46039f\"],[0.2222222222222222,\"#7201a8\"],[0.3333333333333333,\"#9c179e\"],[0.4444444444444444,\"#bd3786\"],[0.5555555555555556,\"#d8576b\"],[0.6666666666666666,\"#ed7953\"],[0.7777777777777778,\"#fb9f3a\"],[0.8888888888888888,\"#fdca26\"],[1.0,\"#f0f921\"]],\"sequentialminus\":[[0.0,\"#0d0887\"],[0.1111111111111111,\"#46039f\"],[0.2222222222222222,\"#7201a8\"],[0.3333333333333333,\"#9c179e\"],[0.4444444444444444,\"#bd3786\"],[0.5555555555555556,\"#d8576b\"],[0.6666666666666666,\"#ed7953\"],[0.7777777777777778,\"#fb9f3a\"],[0.8888888888888888,\"#fdca26\"],[1.0,\"#f0f921\"]]},\"colorway\":[\"#636efa\",\"#EF553B\",\"#00cc96\",\"#ab63fa\",\"#FFA15A\",\"#19d3f3\",\"#FF6692\",\"#B6E880\",\"#FF97FF\",\"#FECB52\"],\"font\":{\"color\":\"#2a3f5f\"},\"geo\":{\"bgcolor\":\"white\",\"lakecolor\":\"white\",\"landcolor\":\"#E5ECF6\",\"showlakes\":true,\"showland\":true,\"subunitcolor\":\"white\"},\"hoverlabel\":{\"align\":\"left\"},\"hovermode\":\"closest\",\"mapbox\":{\"style\":\"light\"},\"paper_bgcolor\":\"white\",\"plot_bgcolor\":\"#E5ECF6\",\"polar\":{\"angularaxis\":{\"gridcolor\":\"white\",\"linecolor\":\"white\",\"ticks\":\"\"},\"bgcolor\":\"#E5ECF6\",\"radialaxis\":{\"gridcolor\":\"white\",\"linecolor\":\"white\",\"ticks\":\"\"}},\"scene\":{\"xaxis\":{\"backgroundcolor\":\"#E5ECF6\",\"gridcolor\":\"white\",\"gridwidth\":2,\"linecolor\":\"white\",\"showbackground\":true,\"ticks\":\"\",\"zerolinecolor\":\"white\"},\"yaxis\":{\"backgroundcolor\":\"#E5ECF6\",\"gridcolor\":\"white\",\"gridwidth\":2,\"linecolor\":\"white\",\"showbackground\":true,\"ticks\":\"\",\"zerolinecolor\":\"white\"},\"zaxis\":{\"backgroundcolor\":\"#E5ECF6\",\"gridcolor\":\"white\",\"gridwidth\":2,\"linecolor\":\"white\",\"showbackground\":true,\"ticks\":\"\",\"zerolinecolor\":\"white\"}},\"shapedefaults\":{\"line\":{\"color\":\"#2a3f5f\"}},\"ternary\":{\"aaxis\":{\"gridcolor\":\"white\",\"linecolor\":\"white\",\"ticks\":\"\"},\"baxis\":{\"gridcolor\":\"white\",\"linecolor\":\"white\",\"ticks\":\"\"},\"bgcolor\":\"#E5ECF6\",\"caxis\":{\"gridcolor\":\"white\",\"linecolor\":\"white\",\"ticks\":\"\"}},\"title\":{\"x\":0.05},\"xaxis\":{\"automargin\":true,\"gridcolor\":\"white\",\"linecolor\":\"white\",\"ticks\":\"\",\"title\":{\"standoff\":15},\"zerolinecolor\":\"white\",\"zerolinewidth\":2},\"yaxis\":{\"automargin\":true,\"gridcolor\":\"white\",\"linecolor\":\"white\",\"ticks\":\"\",\"title\":{\"standoff\":15},\"zerolinecolor\":\"white\",\"zerolinewidth\":2}}},\"title\":{\"font\":{\"color\":\"#4D5663\"}},\"xaxis\":{\"gridcolor\":\"#E1E5ED\",\"showgrid\":true,\"tickfont\":{\"color\":\"#4D5663\"},\"title\":{\"font\":{\"color\":\"#4D5663\"},\"text\":\"\"},\"zerolinecolor\":\"#E1E5ED\"},\"yaxis\":{\"gridcolor\":\"#E1E5ED\",\"showgrid\":true,\"tickfont\":{\"color\":\"#4D5663\"},\"title\":{\"font\":{\"color\":\"#4D5663\"},\"text\":\"\"},\"zerolinecolor\":\"#E1E5ED\"}},                        {\"showLink\": true, \"linkText\": \"Export to plot.ly\", \"plotlyServerURL\": \"https://plot.ly\", \"responsive\": true}                    ).then(function(){\n",
       "                            \n",
       "var gd = document.getElementById('7114c5a9-8eb9-4567-adb1-f32c06fa4c94');\n",
       "var x = new MutationObserver(function (mutations, observer) {{\n",
       "        var display = window.getComputedStyle(gd).display;\n",
       "        if (!display || display === 'none') {{\n",
       "            console.log([gd, 'removed!']);\n",
       "            Plotly.purge(gd);\n",
       "            observer.disconnect();\n",
       "        }}\n",
       "}});\n",
       "\n",
       "// Listen for the removal of the full notebook cells\n",
       "var notebookContainer = gd.closest('#notebook-container');\n",
       "if (notebookContainer) {{\n",
       "    x.observe(notebookContainer, {childList: true});\n",
       "}}\n",
       "\n",
       "// Listen for the clearing of the current output cell\n",
       "var outputEl = gd.closest('.output');\n",
       "if (outputEl) {{\n",
       "    x.observe(outputEl, {childList: true});\n",
       "}}\n",
       "\n",
       "                        })                };                });            </script>        </div>"
      ]
     },
     "metadata": {},
     "output_type": "display_data"
    }
   ],
   "source": [
    "df.iplot(kind='scatter', x='A', y='B', mode = 'markers', size = 20)"
   ]
  },
  {
   "cell_type": "code",
   "execution_count": 26,
   "id": "08054cf4",
   "metadata": {},
   "outputs": [
    {
     "data": {
      "application/vnd.plotly.v1+json": {
       "config": {
        "linkText": "Export to plot.ly",
        "plotlyServerURL": "https://plot.ly",
        "showLink": true
       },
       "data": [
        {
         "marker": {
          "color": "rgba(255, 153, 51, 0.6)",
          "line": {
           "color": "rgba(255, 153, 51, 1.0)",
           "width": 1
          }
         },
         "name": "Values",
         "orientation": "v",
         "text": "",
         "type": "bar",
         "x": [
          "A",
          "B",
          "C"
         ],
         "y": [
          32,
          43,
          50
         ]
        }
       ],
       "layout": {
        "legend": {
         "bgcolor": "#F5F6F9",
         "font": {
          "color": "#4D5663"
         }
        },
        "paper_bgcolor": "#F5F6F9",
        "plot_bgcolor": "#F5F6F9",
        "template": {
         "data": {
          "bar": [
           {
            "error_x": {
             "color": "#2a3f5f"
            },
            "error_y": {
             "color": "#2a3f5f"
            },
            "marker": {
             "line": {
              "color": "#E5ECF6",
              "width": 0.5
             },
             "pattern": {
              "fillmode": "overlay",
              "size": 10,
              "solidity": 0.2
             }
            },
            "type": "bar"
           }
          ],
          "barpolar": [
           {
            "marker": {
             "line": {
              "color": "#E5ECF6",
              "width": 0.5
             },
             "pattern": {
              "fillmode": "overlay",
              "size": 10,
              "solidity": 0.2
             }
            },
            "type": "barpolar"
           }
          ],
          "carpet": [
           {
            "aaxis": {
             "endlinecolor": "#2a3f5f",
             "gridcolor": "white",
             "linecolor": "white",
             "minorgridcolor": "white",
             "startlinecolor": "#2a3f5f"
            },
            "baxis": {
             "endlinecolor": "#2a3f5f",
             "gridcolor": "white",
             "linecolor": "white",
             "minorgridcolor": "white",
             "startlinecolor": "#2a3f5f"
            },
            "type": "carpet"
           }
          ],
          "choropleth": [
           {
            "colorbar": {
             "outlinewidth": 0,
             "ticks": ""
            },
            "type": "choropleth"
           }
          ],
          "contour": [
           {
            "colorbar": {
             "outlinewidth": 0,
             "ticks": ""
            },
            "colorscale": [
             [
              0,
              "#0d0887"
             ],
             [
              0.1111111111111111,
              "#46039f"
             ],
             [
              0.2222222222222222,
              "#7201a8"
             ],
             [
              0.3333333333333333,
              "#9c179e"
             ],
             [
              0.4444444444444444,
              "#bd3786"
             ],
             [
              0.5555555555555556,
              "#d8576b"
             ],
             [
              0.6666666666666666,
              "#ed7953"
             ],
             [
              0.7777777777777778,
              "#fb9f3a"
             ],
             [
              0.8888888888888888,
              "#fdca26"
             ],
             [
              1,
              "#f0f921"
             ]
            ],
            "type": "contour"
           }
          ],
          "contourcarpet": [
           {
            "colorbar": {
             "outlinewidth": 0,
             "ticks": ""
            },
            "type": "contourcarpet"
           }
          ],
          "heatmap": [
           {
            "colorbar": {
             "outlinewidth": 0,
             "ticks": ""
            },
            "colorscale": [
             [
              0,
              "#0d0887"
             ],
             [
              0.1111111111111111,
              "#46039f"
             ],
             [
              0.2222222222222222,
              "#7201a8"
             ],
             [
              0.3333333333333333,
              "#9c179e"
             ],
             [
              0.4444444444444444,
              "#bd3786"
             ],
             [
              0.5555555555555556,
              "#d8576b"
             ],
             [
              0.6666666666666666,
              "#ed7953"
             ],
             [
              0.7777777777777778,
              "#fb9f3a"
             ],
             [
              0.8888888888888888,
              "#fdca26"
             ],
             [
              1,
              "#f0f921"
             ]
            ],
            "type": "heatmap"
           }
          ],
          "heatmapgl": [
           {
            "colorbar": {
             "outlinewidth": 0,
             "ticks": ""
            },
            "colorscale": [
             [
              0,
              "#0d0887"
             ],
             [
              0.1111111111111111,
              "#46039f"
             ],
             [
              0.2222222222222222,
              "#7201a8"
             ],
             [
              0.3333333333333333,
              "#9c179e"
             ],
             [
              0.4444444444444444,
              "#bd3786"
             ],
             [
              0.5555555555555556,
              "#d8576b"
             ],
             [
              0.6666666666666666,
              "#ed7953"
             ],
             [
              0.7777777777777778,
              "#fb9f3a"
             ],
             [
              0.8888888888888888,
              "#fdca26"
             ],
             [
              1,
              "#f0f921"
             ]
            ],
            "type": "heatmapgl"
           }
          ],
          "histogram": [
           {
            "marker": {
             "pattern": {
              "fillmode": "overlay",
              "size": 10,
              "solidity": 0.2
             }
            },
            "type": "histogram"
           }
          ],
          "histogram2d": [
           {
            "colorbar": {
             "outlinewidth": 0,
             "ticks": ""
            },
            "colorscale": [
             [
              0,
              "#0d0887"
             ],
             [
              0.1111111111111111,
              "#46039f"
             ],
             [
              0.2222222222222222,
              "#7201a8"
             ],
             [
              0.3333333333333333,
              "#9c179e"
             ],
             [
              0.4444444444444444,
              "#bd3786"
             ],
             [
              0.5555555555555556,
              "#d8576b"
             ],
             [
              0.6666666666666666,
              "#ed7953"
             ],
             [
              0.7777777777777778,
              "#fb9f3a"
             ],
             [
              0.8888888888888888,
              "#fdca26"
             ],
             [
              1,
              "#f0f921"
             ]
            ],
            "type": "histogram2d"
           }
          ],
          "histogram2dcontour": [
           {
            "colorbar": {
             "outlinewidth": 0,
             "ticks": ""
            },
            "colorscale": [
             [
              0,
              "#0d0887"
             ],
             [
              0.1111111111111111,
              "#46039f"
             ],
             [
              0.2222222222222222,
              "#7201a8"
             ],
             [
              0.3333333333333333,
              "#9c179e"
             ],
             [
              0.4444444444444444,
              "#bd3786"
             ],
             [
              0.5555555555555556,
              "#d8576b"
             ],
             [
              0.6666666666666666,
              "#ed7953"
             ],
             [
              0.7777777777777778,
              "#fb9f3a"
             ],
             [
              0.8888888888888888,
              "#fdca26"
             ],
             [
              1,
              "#f0f921"
             ]
            ],
            "type": "histogram2dcontour"
           }
          ],
          "mesh3d": [
           {
            "colorbar": {
             "outlinewidth": 0,
             "ticks": ""
            },
            "type": "mesh3d"
           }
          ],
          "parcoords": [
           {
            "line": {
             "colorbar": {
              "outlinewidth": 0,
              "ticks": ""
             }
            },
            "type": "parcoords"
           }
          ],
          "pie": [
           {
            "automargin": true,
            "type": "pie"
           }
          ],
          "scatter": [
           {
            "marker": {
             "colorbar": {
              "outlinewidth": 0,
              "ticks": ""
             }
            },
            "type": "scatter"
           }
          ],
          "scatter3d": [
           {
            "line": {
             "colorbar": {
              "outlinewidth": 0,
              "ticks": ""
             }
            },
            "marker": {
             "colorbar": {
              "outlinewidth": 0,
              "ticks": ""
             }
            },
            "type": "scatter3d"
           }
          ],
          "scattercarpet": [
           {
            "marker": {
             "colorbar": {
              "outlinewidth": 0,
              "ticks": ""
             }
            },
            "type": "scattercarpet"
           }
          ],
          "scattergeo": [
           {
            "marker": {
             "colorbar": {
              "outlinewidth": 0,
              "ticks": ""
             }
            },
            "type": "scattergeo"
           }
          ],
          "scattergl": [
           {
            "marker": {
             "colorbar": {
              "outlinewidth": 0,
              "ticks": ""
             }
            },
            "type": "scattergl"
           }
          ],
          "scattermapbox": [
           {
            "marker": {
             "colorbar": {
              "outlinewidth": 0,
              "ticks": ""
             }
            },
            "type": "scattermapbox"
           }
          ],
          "scatterpolar": [
           {
            "marker": {
             "colorbar": {
              "outlinewidth": 0,
              "ticks": ""
             }
            },
            "type": "scatterpolar"
           }
          ],
          "scatterpolargl": [
           {
            "marker": {
             "colorbar": {
              "outlinewidth": 0,
              "ticks": ""
             }
            },
            "type": "scatterpolargl"
           }
          ],
          "scatterternary": [
           {
            "marker": {
             "colorbar": {
              "outlinewidth": 0,
              "ticks": ""
             }
            },
            "type": "scatterternary"
           }
          ],
          "surface": [
           {
            "colorbar": {
             "outlinewidth": 0,
             "ticks": ""
            },
            "colorscale": [
             [
              0,
              "#0d0887"
             ],
             [
              0.1111111111111111,
              "#46039f"
             ],
             [
              0.2222222222222222,
              "#7201a8"
             ],
             [
              0.3333333333333333,
              "#9c179e"
             ],
             [
              0.4444444444444444,
              "#bd3786"
             ],
             [
              0.5555555555555556,
              "#d8576b"
             ],
             [
              0.6666666666666666,
              "#ed7953"
             ],
             [
              0.7777777777777778,
              "#fb9f3a"
             ],
             [
              0.8888888888888888,
              "#fdca26"
             ],
             [
              1,
              "#f0f921"
             ]
            ],
            "type": "surface"
           }
          ],
          "table": [
           {
            "cells": {
             "fill": {
              "color": "#EBF0F8"
             },
             "line": {
              "color": "white"
             }
            },
            "header": {
             "fill": {
              "color": "#C8D4E3"
             },
             "line": {
              "color": "white"
             }
            },
            "type": "table"
           }
          ]
         },
         "layout": {
          "annotationdefaults": {
           "arrowcolor": "#2a3f5f",
           "arrowhead": 0,
           "arrowwidth": 1
          },
          "autotypenumbers": "strict",
          "coloraxis": {
           "colorbar": {
            "outlinewidth": 0,
            "ticks": ""
           }
          },
          "colorscale": {
           "diverging": [
            [
             0,
             "#8e0152"
            ],
            [
             0.1,
             "#c51b7d"
            ],
            [
             0.2,
             "#de77ae"
            ],
            [
             0.3,
             "#f1b6da"
            ],
            [
             0.4,
             "#fde0ef"
            ],
            [
             0.5,
             "#f7f7f7"
            ],
            [
             0.6,
             "#e6f5d0"
            ],
            [
             0.7,
             "#b8e186"
            ],
            [
             0.8,
             "#7fbc41"
            ],
            [
             0.9,
             "#4d9221"
            ],
            [
             1,
             "#276419"
            ]
           ],
           "sequential": [
            [
             0,
             "#0d0887"
            ],
            [
             0.1111111111111111,
             "#46039f"
            ],
            [
             0.2222222222222222,
             "#7201a8"
            ],
            [
             0.3333333333333333,
             "#9c179e"
            ],
            [
             0.4444444444444444,
             "#bd3786"
            ],
            [
             0.5555555555555556,
             "#d8576b"
            ],
            [
             0.6666666666666666,
             "#ed7953"
            ],
            [
             0.7777777777777778,
             "#fb9f3a"
            ],
            [
             0.8888888888888888,
             "#fdca26"
            ],
            [
             1,
             "#f0f921"
            ]
           ],
           "sequentialminus": [
            [
             0,
             "#0d0887"
            ],
            [
             0.1111111111111111,
             "#46039f"
            ],
            [
             0.2222222222222222,
             "#7201a8"
            ],
            [
             0.3333333333333333,
             "#9c179e"
            ],
            [
             0.4444444444444444,
             "#bd3786"
            ],
            [
             0.5555555555555556,
             "#d8576b"
            ],
            [
             0.6666666666666666,
             "#ed7953"
            ],
            [
             0.7777777777777778,
             "#fb9f3a"
            ],
            [
             0.8888888888888888,
             "#fdca26"
            ],
            [
             1,
             "#f0f921"
            ]
           ]
          },
          "colorway": [
           "#636efa",
           "#EF553B",
           "#00cc96",
           "#ab63fa",
           "#FFA15A",
           "#19d3f3",
           "#FF6692",
           "#B6E880",
           "#FF97FF",
           "#FECB52"
          ],
          "font": {
           "color": "#2a3f5f"
          },
          "geo": {
           "bgcolor": "white",
           "lakecolor": "white",
           "landcolor": "#E5ECF6",
           "showlakes": true,
           "showland": true,
           "subunitcolor": "white"
          },
          "hoverlabel": {
           "align": "left"
          },
          "hovermode": "closest",
          "mapbox": {
           "style": "light"
          },
          "paper_bgcolor": "white",
          "plot_bgcolor": "#E5ECF6",
          "polar": {
           "angularaxis": {
            "gridcolor": "white",
            "linecolor": "white",
            "ticks": ""
           },
           "bgcolor": "#E5ECF6",
           "radialaxis": {
            "gridcolor": "white",
            "linecolor": "white",
            "ticks": ""
           }
          },
          "scene": {
           "xaxis": {
            "backgroundcolor": "#E5ECF6",
            "gridcolor": "white",
            "gridwidth": 2,
            "linecolor": "white",
            "showbackground": true,
            "ticks": "",
            "zerolinecolor": "white"
           },
           "yaxis": {
            "backgroundcolor": "#E5ECF6",
            "gridcolor": "white",
            "gridwidth": 2,
            "linecolor": "white",
            "showbackground": true,
            "ticks": "",
            "zerolinecolor": "white"
           },
           "zaxis": {
            "backgroundcolor": "#E5ECF6",
            "gridcolor": "white",
            "gridwidth": 2,
            "linecolor": "white",
            "showbackground": true,
            "ticks": "",
            "zerolinecolor": "white"
           }
          },
          "shapedefaults": {
           "line": {
            "color": "#2a3f5f"
           }
          },
          "ternary": {
           "aaxis": {
            "gridcolor": "white",
            "linecolor": "white",
            "ticks": ""
           },
           "baxis": {
            "gridcolor": "white",
            "linecolor": "white",
            "ticks": ""
           },
           "bgcolor": "#E5ECF6",
           "caxis": {
            "gridcolor": "white",
            "linecolor": "white",
            "ticks": ""
           }
          },
          "title": {
           "x": 0.05
          },
          "xaxis": {
           "automargin": true,
           "gridcolor": "white",
           "linecolor": "white",
           "ticks": "",
           "title": {
            "standoff": 15
           },
           "zerolinecolor": "white",
           "zerolinewidth": 2
          },
          "yaxis": {
           "automargin": true,
           "gridcolor": "white",
           "linecolor": "white",
           "ticks": "",
           "title": {
            "standoff": 15
           },
           "zerolinecolor": "white",
           "zerolinewidth": 2
          }
         }
        },
        "title": {
         "font": {
          "color": "#4D5663"
         }
        },
        "xaxis": {
         "gridcolor": "#E1E5ED",
         "showgrid": true,
         "tickfont": {
          "color": "#4D5663"
         },
         "title": {
          "font": {
           "color": "#4D5663"
          },
          "text": ""
         },
         "zerolinecolor": "#E1E5ED"
        },
        "yaxis": {
         "gridcolor": "#E1E5ED",
         "showgrid": true,
         "tickfont": {
          "color": "#4D5663"
         },
         "title": {
          "font": {
           "color": "#4D5663"
          },
          "text": ""
         },
         "zerolinecolor": "#E1E5ED"
        }
       }
      },
      "text/html": [
       "<div>                            <div id=\"d9ab0791-6107-432b-beb9-34dc36db527d\" class=\"plotly-graph-div\" style=\"height:525px; width:100%;\"></div>            <script type=\"text/javascript\">                require([\"plotly\"], function(Plotly) {                    window.PLOTLYENV=window.PLOTLYENV || {};\n",
       "                    window.PLOTLYENV.BASE_URL='https://plot.ly';                                    if (document.getElementById(\"d9ab0791-6107-432b-beb9-34dc36db527d\")) {                    Plotly.newPlot(                        \"d9ab0791-6107-432b-beb9-34dc36db527d\",                        [{\"marker\":{\"color\":\"rgba(255, 153, 51, 0.6)\",\"line\":{\"color\":\"rgba(255, 153, 51, 1.0)\",\"width\":1}},\"name\":\"Values\",\"orientation\":\"v\",\"text\":\"\",\"x\":[\"A\",\"B\",\"C\"],\"y\":[32,43,50],\"type\":\"bar\"}],                        {\"legend\":{\"bgcolor\":\"#F5F6F9\",\"font\":{\"color\":\"#4D5663\"}},\"paper_bgcolor\":\"#F5F6F9\",\"plot_bgcolor\":\"#F5F6F9\",\"template\":{\"data\":{\"barpolar\":[{\"marker\":{\"line\":{\"color\":\"#E5ECF6\",\"width\":0.5},\"pattern\":{\"fillmode\":\"overlay\",\"size\":10,\"solidity\":0.2}},\"type\":\"barpolar\"}],\"bar\":[{\"error_x\":{\"color\":\"#2a3f5f\"},\"error_y\":{\"color\":\"#2a3f5f\"},\"marker\":{\"line\":{\"color\":\"#E5ECF6\",\"width\":0.5},\"pattern\":{\"fillmode\":\"overlay\",\"size\":10,\"solidity\":0.2}},\"type\":\"bar\"}],\"carpet\":[{\"aaxis\":{\"endlinecolor\":\"#2a3f5f\",\"gridcolor\":\"white\",\"linecolor\":\"white\",\"minorgridcolor\":\"white\",\"startlinecolor\":\"#2a3f5f\"},\"baxis\":{\"endlinecolor\":\"#2a3f5f\",\"gridcolor\":\"white\",\"linecolor\":\"white\",\"minorgridcolor\":\"white\",\"startlinecolor\":\"#2a3f5f\"},\"type\":\"carpet\"}],\"choropleth\":[{\"colorbar\":{\"outlinewidth\":0,\"ticks\":\"\"},\"type\":\"choropleth\"}],\"contourcarpet\":[{\"colorbar\":{\"outlinewidth\":0,\"ticks\":\"\"},\"type\":\"contourcarpet\"}],\"contour\":[{\"colorbar\":{\"outlinewidth\":0,\"ticks\":\"\"},\"colorscale\":[[0.0,\"#0d0887\"],[0.1111111111111111,\"#46039f\"],[0.2222222222222222,\"#7201a8\"],[0.3333333333333333,\"#9c179e\"],[0.4444444444444444,\"#bd3786\"],[0.5555555555555556,\"#d8576b\"],[0.6666666666666666,\"#ed7953\"],[0.7777777777777778,\"#fb9f3a\"],[0.8888888888888888,\"#fdca26\"],[1.0,\"#f0f921\"]],\"type\":\"contour\"}],\"heatmapgl\":[{\"colorbar\":{\"outlinewidth\":0,\"ticks\":\"\"},\"colorscale\":[[0.0,\"#0d0887\"],[0.1111111111111111,\"#46039f\"],[0.2222222222222222,\"#7201a8\"],[0.3333333333333333,\"#9c179e\"],[0.4444444444444444,\"#bd3786\"],[0.5555555555555556,\"#d8576b\"],[0.6666666666666666,\"#ed7953\"],[0.7777777777777778,\"#fb9f3a\"],[0.8888888888888888,\"#fdca26\"],[1.0,\"#f0f921\"]],\"type\":\"heatmapgl\"}],\"heatmap\":[{\"colorbar\":{\"outlinewidth\":0,\"ticks\":\"\"},\"colorscale\":[[0.0,\"#0d0887\"],[0.1111111111111111,\"#46039f\"],[0.2222222222222222,\"#7201a8\"],[0.3333333333333333,\"#9c179e\"],[0.4444444444444444,\"#bd3786\"],[0.5555555555555556,\"#d8576b\"],[0.6666666666666666,\"#ed7953\"],[0.7777777777777778,\"#fb9f3a\"],[0.8888888888888888,\"#fdca26\"],[1.0,\"#f0f921\"]],\"type\":\"heatmap\"}],\"histogram2dcontour\":[{\"colorbar\":{\"outlinewidth\":0,\"ticks\":\"\"},\"colorscale\":[[0.0,\"#0d0887\"],[0.1111111111111111,\"#46039f\"],[0.2222222222222222,\"#7201a8\"],[0.3333333333333333,\"#9c179e\"],[0.4444444444444444,\"#bd3786\"],[0.5555555555555556,\"#d8576b\"],[0.6666666666666666,\"#ed7953\"],[0.7777777777777778,\"#fb9f3a\"],[0.8888888888888888,\"#fdca26\"],[1.0,\"#f0f921\"]],\"type\":\"histogram2dcontour\"}],\"histogram2d\":[{\"colorbar\":{\"outlinewidth\":0,\"ticks\":\"\"},\"colorscale\":[[0.0,\"#0d0887\"],[0.1111111111111111,\"#46039f\"],[0.2222222222222222,\"#7201a8\"],[0.3333333333333333,\"#9c179e\"],[0.4444444444444444,\"#bd3786\"],[0.5555555555555556,\"#d8576b\"],[0.6666666666666666,\"#ed7953\"],[0.7777777777777778,\"#fb9f3a\"],[0.8888888888888888,\"#fdca26\"],[1.0,\"#f0f921\"]],\"type\":\"histogram2d\"}],\"histogram\":[{\"marker\":{\"pattern\":{\"fillmode\":\"overlay\",\"size\":10,\"solidity\":0.2}},\"type\":\"histogram\"}],\"mesh3d\":[{\"colorbar\":{\"outlinewidth\":0,\"ticks\":\"\"},\"type\":\"mesh3d\"}],\"parcoords\":[{\"line\":{\"colorbar\":{\"outlinewidth\":0,\"ticks\":\"\"}},\"type\":\"parcoords\"}],\"pie\":[{\"automargin\":true,\"type\":\"pie\"}],\"scatter3d\":[{\"line\":{\"colorbar\":{\"outlinewidth\":0,\"ticks\":\"\"}},\"marker\":{\"colorbar\":{\"outlinewidth\":0,\"ticks\":\"\"}},\"type\":\"scatter3d\"}],\"scattercarpet\":[{\"marker\":{\"colorbar\":{\"outlinewidth\":0,\"ticks\":\"\"}},\"type\":\"scattercarpet\"}],\"scattergeo\":[{\"marker\":{\"colorbar\":{\"outlinewidth\":0,\"ticks\":\"\"}},\"type\":\"scattergeo\"}],\"scattergl\":[{\"marker\":{\"colorbar\":{\"outlinewidth\":0,\"ticks\":\"\"}},\"type\":\"scattergl\"}],\"scattermapbox\":[{\"marker\":{\"colorbar\":{\"outlinewidth\":0,\"ticks\":\"\"}},\"type\":\"scattermapbox\"}],\"scatterpolargl\":[{\"marker\":{\"colorbar\":{\"outlinewidth\":0,\"ticks\":\"\"}},\"type\":\"scatterpolargl\"}],\"scatterpolar\":[{\"marker\":{\"colorbar\":{\"outlinewidth\":0,\"ticks\":\"\"}},\"type\":\"scatterpolar\"}],\"scatter\":[{\"marker\":{\"colorbar\":{\"outlinewidth\":0,\"ticks\":\"\"}},\"type\":\"scatter\"}],\"scatterternary\":[{\"marker\":{\"colorbar\":{\"outlinewidth\":0,\"ticks\":\"\"}},\"type\":\"scatterternary\"}],\"surface\":[{\"colorbar\":{\"outlinewidth\":0,\"ticks\":\"\"},\"colorscale\":[[0.0,\"#0d0887\"],[0.1111111111111111,\"#46039f\"],[0.2222222222222222,\"#7201a8\"],[0.3333333333333333,\"#9c179e\"],[0.4444444444444444,\"#bd3786\"],[0.5555555555555556,\"#d8576b\"],[0.6666666666666666,\"#ed7953\"],[0.7777777777777778,\"#fb9f3a\"],[0.8888888888888888,\"#fdca26\"],[1.0,\"#f0f921\"]],\"type\":\"surface\"}],\"table\":[{\"cells\":{\"fill\":{\"color\":\"#EBF0F8\"},\"line\":{\"color\":\"white\"}},\"header\":{\"fill\":{\"color\":\"#C8D4E3\"},\"line\":{\"color\":\"white\"}},\"type\":\"table\"}]},\"layout\":{\"annotationdefaults\":{\"arrowcolor\":\"#2a3f5f\",\"arrowhead\":0,\"arrowwidth\":1},\"autotypenumbers\":\"strict\",\"coloraxis\":{\"colorbar\":{\"outlinewidth\":0,\"ticks\":\"\"}},\"colorscale\":{\"diverging\":[[0,\"#8e0152\"],[0.1,\"#c51b7d\"],[0.2,\"#de77ae\"],[0.3,\"#f1b6da\"],[0.4,\"#fde0ef\"],[0.5,\"#f7f7f7\"],[0.6,\"#e6f5d0\"],[0.7,\"#b8e186\"],[0.8,\"#7fbc41\"],[0.9,\"#4d9221\"],[1,\"#276419\"]],\"sequential\":[[0.0,\"#0d0887\"],[0.1111111111111111,\"#46039f\"],[0.2222222222222222,\"#7201a8\"],[0.3333333333333333,\"#9c179e\"],[0.4444444444444444,\"#bd3786\"],[0.5555555555555556,\"#d8576b\"],[0.6666666666666666,\"#ed7953\"],[0.7777777777777778,\"#fb9f3a\"],[0.8888888888888888,\"#fdca26\"],[1.0,\"#f0f921\"]],\"sequentialminus\":[[0.0,\"#0d0887\"],[0.1111111111111111,\"#46039f\"],[0.2222222222222222,\"#7201a8\"],[0.3333333333333333,\"#9c179e\"],[0.4444444444444444,\"#bd3786\"],[0.5555555555555556,\"#d8576b\"],[0.6666666666666666,\"#ed7953\"],[0.7777777777777778,\"#fb9f3a\"],[0.8888888888888888,\"#fdca26\"],[1.0,\"#f0f921\"]]},\"colorway\":[\"#636efa\",\"#EF553B\",\"#00cc96\",\"#ab63fa\",\"#FFA15A\",\"#19d3f3\",\"#FF6692\",\"#B6E880\",\"#FF97FF\",\"#FECB52\"],\"font\":{\"color\":\"#2a3f5f\"},\"geo\":{\"bgcolor\":\"white\",\"lakecolor\":\"white\",\"landcolor\":\"#E5ECF6\",\"showlakes\":true,\"showland\":true,\"subunitcolor\":\"white\"},\"hoverlabel\":{\"align\":\"left\"},\"hovermode\":\"closest\",\"mapbox\":{\"style\":\"light\"},\"paper_bgcolor\":\"white\",\"plot_bgcolor\":\"#E5ECF6\",\"polar\":{\"angularaxis\":{\"gridcolor\":\"white\",\"linecolor\":\"white\",\"ticks\":\"\"},\"bgcolor\":\"#E5ECF6\",\"radialaxis\":{\"gridcolor\":\"white\",\"linecolor\":\"white\",\"ticks\":\"\"}},\"scene\":{\"xaxis\":{\"backgroundcolor\":\"#E5ECF6\",\"gridcolor\":\"white\",\"gridwidth\":2,\"linecolor\":\"white\",\"showbackground\":true,\"ticks\":\"\",\"zerolinecolor\":\"white\"},\"yaxis\":{\"backgroundcolor\":\"#E5ECF6\",\"gridcolor\":\"white\",\"gridwidth\":2,\"linecolor\":\"white\",\"showbackground\":true,\"ticks\":\"\",\"zerolinecolor\":\"white\"},\"zaxis\":{\"backgroundcolor\":\"#E5ECF6\",\"gridcolor\":\"white\",\"gridwidth\":2,\"linecolor\":\"white\",\"showbackground\":true,\"ticks\":\"\",\"zerolinecolor\":\"white\"}},\"shapedefaults\":{\"line\":{\"color\":\"#2a3f5f\"}},\"ternary\":{\"aaxis\":{\"gridcolor\":\"white\",\"linecolor\":\"white\",\"ticks\":\"\"},\"baxis\":{\"gridcolor\":\"white\",\"linecolor\":\"white\",\"ticks\":\"\"},\"bgcolor\":\"#E5ECF6\",\"caxis\":{\"gridcolor\":\"white\",\"linecolor\":\"white\",\"ticks\":\"\"}},\"title\":{\"x\":0.05},\"xaxis\":{\"automargin\":true,\"gridcolor\":\"white\",\"linecolor\":\"white\",\"ticks\":\"\",\"title\":{\"standoff\":15},\"zerolinecolor\":\"white\",\"zerolinewidth\":2},\"yaxis\":{\"automargin\":true,\"gridcolor\":\"white\",\"linecolor\":\"white\",\"ticks\":\"\",\"title\":{\"standoff\":15},\"zerolinecolor\":\"white\",\"zerolinewidth\":2}}},\"title\":{\"font\":{\"color\":\"#4D5663\"}},\"xaxis\":{\"gridcolor\":\"#E1E5ED\",\"showgrid\":true,\"tickfont\":{\"color\":\"#4D5663\"},\"title\":{\"font\":{\"color\":\"#4D5663\"},\"text\":\"\"},\"zerolinecolor\":\"#E1E5ED\"},\"yaxis\":{\"gridcolor\":\"#E1E5ED\",\"showgrid\":true,\"tickfont\":{\"color\":\"#4D5663\"},\"title\":{\"font\":{\"color\":\"#4D5663\"},\"text\":\"\"},\"zerolinecolor\":\"#E1E5ED\"}},                        {\"showLink\": true, \"linkText\": \"Export to plot.ly\", \"plotlyServerURL\": \"https://plot.ly\", \"responsive\": true}                    ).then(function(){\n",
       "                            \n",
       "var gd = document.getElementById('d9ab0791-6107-432b-beb9-34dc36db527d');\n",
       "var x = new MutationObserver(function (mutations, observer) {{\n",
       "        var display = window.getComputedStyle(gd).display;\n",
       "        if (!display || display === 'none') {{\n",
       "            console.log([gd, 'removed!']);\n",
       "            Plotly.purge(gd);\n",
       "            observer.disconnect();\n",
       "        }}\n",
       "}});\n",
       "\n",
       "// Listen for the removal of the full notebook cells\n",
       "var notebookContainer = gd.closest('#notebook-container');\n",
       "if (notebookContainer) {{\n",
       "    x.observe(notebookContainer, {childList: true});\n",
       "}}\n",
       "\n",
       "// Listen for the clearing of the current output cell\n",
       "var outputEl = gd.closest('.output');\n",
       "if (outputEl) {{\n",
       "    x.observe(outputEl, {childList: true});\n",
       "}}\n",
       "\n",
       "                        })                };                });            </script>        </div>"
      ]
     },
     "metadata": {},
     "output_type": "display_data"
    }
   ],
   "source": [
    "df2.iplot(kind='bar', x='Category', y='Values')"
   ]
  },
  {
   "cell_type": "code",
   "execution_count": 28,
   "id": "aa755bc8",
   "metadata": {},
   "outputs": [
    {
     "data": {
      "text/html": [
       "<div>\n",
       "<style scoped>\n",
       "    .dataframe tbody tr th:only-of-type {\n",
       "        vertical-align: middle;\n",
       "    }\n",
       "\n",
       "    .dataframe tbody tr th {\n",
       "        vertical-align: top;\n",
       "    }\n",
       "\n",
       "    .dataframe thead th {\n",
       "        text-align: right;\n",
       "    }\n",
       "</style>\n",
       "<table border=\"1\" class=\"dataframe\">\n",
       "  <thead>\n",
       "    <tr style=\"text-align: right;\">\n",
       "      <th></th>\n",
       "      <th>A</th>\n",
       "      <th>B</th>\n",
       "      <th>C</th>\n",
       "      <th>D</th>\n",
       "    </tr>\n",
       "  </thead>\n",
       "  <tbody>\n",
       "    <tr>\n",
       "      <th>0</th>\n",
       "      <td>0.489794</td>\n",
       "      <td>-1.099852</td>\n",
       "      <td>-1.062589</td>\n",
       "      <td>0.641954</td>\n",
       "    </tr>\n",
       "    <tr>\n",
       "      <th>1</th>\n",
       "      <td>1.200079</td>\n",
       "      <td>-0.951310</td>\n",
       "      <td>0.092028</td>\n",
       "      <td>-1.517609</td>\n",
       "    </tr>\n",
       "    <tr>\n",
       "      <th>2</th>\n",
       "      <td>0.023788</td>\n",
       "      <td>0.496198</td>\n",
       "      <td>0.564848</td>\n",
       "      <td>-0.384386</td>\n",
       "    </tr>\n",
       "    <tr>\n",
       "      <th>3</th>\n",
       "      <td>-0.776294</td>\n",
       "      <td>-1.946558</td>\n",
       "      <td>0.419473</td>\n",
       "      <td>0.582205</td>\n",
       "    </tr>\n",
       "    <tr>\n",
       "      <th>4</th>\n",
       "      <td>-0.012365</td>\n",
       "      <td>0.478255</td>\n",
       "      <td>0.126606</td>\n",
       "      <td>0.842300</td>\n",
       "    </tr>\n",
       "    <tr>\n",
       "      <th>...</th>\n",
       "      <td>...</td>\n",
       "      <td>...</td>\n",
       "      <td>...</td>\n",
       "      <td>...</td>\n",
       "    </tr>\n",
       "    <tr>\n",
       "      <th>95</th>\n",
       "      <td>1.060717</td>\n",
       "      <td>-1.299074</td>\n",
       "      <td>-0.297657</td>\n",
       "      <td>1.401196</td>\n",
       "    </tr>\n",
       "    <tr>\n",
       "      <th>96</th>\n",
       "      <td>1.686062</td>\n",
       "      <td>-1.974686</td>\n",
       "      <td>0.894113</td>\n",
       "      <td>0.029477</td>\n",
       "    </tr>\n",
       "    <tr>\n",
       "      <th>97</th>\n",
       "      <td>-0.304304</td>\n",
       "      <td>0.045494</td>\n",
       "      <td>-0.500866</td>\n",
       "      <td>0.413899</td>\n",
       "    </tr>\n",
       "    <tr>\n",
       "      <th>98</th>\n",
       "      <td>1.252089</td>\n",
       "      <td>-0.478754</td>\n",
       "      <td>2.386224</td>\n",
       "      <td>-0.920899</td>\n",
       "    </tr>\n",
       "    <tr>\n",
       "      <th>99</th>\n",
       "      <td>0.801911</td>\n",
       "      <td>-1.816595</td>\n",
       "      <td>-2.640515</td>\n",
       "      <td>1.153642</td>\n",
       "    </tr>\n",
       "  </tbody>\n",
       "</table>\n",
       "<p>100 rows × 4 columns</p>\n",
       "</div>"
      ],
      "text/plain": [
       "           A         B         C         D\n",
       "0   0.489794 -1.099852 -1.062589  0.641954\n",
       "1   1.200079 -0.951310  0.092028 -1.517609\n",
       "2   0.023788  0.496198  0.564848 -0.384386\n",
       "3  -0.776294 -1.946558  0.419473  0.582205\n",
       "4  -0.012365  0.478255  0.126606  0.842300\n",
       "..       ...       ...       ...       ...\n",
       "95  1.060717 -1.299074 -0.297657  1.401196\n",
       "96  1.686062 -1.974686  0.894113  0.029477\n",
       "97 -0.304304  0.045494 -0.500866  0.413899\n",
       "98  1.252089 -0.478754  2.386224 -0.920899\n",
       "99  0.801911 -1.816595 -2.640515  1.153642\n",
       "\n",
       "[100 rows x 4 columns]"
      ]
     },
     "execution_count": 28,
     "metadata": {},
     "output_type": "execute_result"
    }
   ],
   "source": [
    "df"
   ]
  },
  {
   "cell_type": "code",
   "execution_count": 29,
   "id": "4b78dbff",
   "metadata": {},
   "outputs": [
    {
     "data": {
      "application/vnd.plotly.v1+json": {
       "config": {
        "linkText": "Export to plot.ly",
        "plotlyServerURL": "https://plot.ly",
        "showLink": true
       },
       "data": [
        {
         "marker": {
          "color": "rgba(255, 153, 51, 0.6)",
          "line": {
           "color": "rgba(255, 153, 51, 1.0)",
           "width": 1
          }
         },
         "name": "A",
         "orientation": "v",
         "text": "",
         "type": "bar",
         "x": [
          0,
          1,
          2,
          3,
          4,
          5,
          6,
          7,
          8,
          9,
          10,
          11,
          12,
          13,
          14,
          15,
          16,
          17,
          18,
          19,
          20,
          21,
          22,
          23,
          24,
          25,
          26,
          27,
          28,
          29,
          30,
          31,
          32,
          33,
          34,
          35,
          36,
          37,
          38,
          39,
          40,
          41,
          42,
          43,
          44,
          45,
          46,
          47,
          48,
          49,
          50,
          51,
          52,
          53,
          54,
          55,
          56,
          57,
          58,
          59,
          60,
          61,
          62,
          63,
          64,
          65,
          66,
          67,
          68,
          69,
          70,
          71,
          72,
          73,
          74,
          75,
          76,
          77,
          78,
          79,
          80,
          81,
          82,
          83,
          84,
          85,
          86,
          87,
          88,
          89,
          90,
          91,
          92,
          93,
          94,
          95,
          96,
          97,
          98,
          99
         ],
         "y": [
          0.48979428455356877,
          1.2000787712482575,
          0.023788380464120393,
          -0.7762937541590931,
          -0.012364867282905903,
          -1.2161957246449362,
          -0.02690116005734921,
          -0.6136576494704216,
          -1.0932741606526177,
          1.3367224280535983,
          -0.21086536735247163,
          0.7004920634418149,
          0.022903232284200294,
          1.8118903731503866,
          0.03874003270713806,
          0.14207857973235602,
          -1.2664546662031808,
          1.0882638165812608,
          -0.7120729647956264,
          0.6937532377713457,
          -0.38587006015377073,
          0.7944049114081017,
          0.8902470208690971,
          -0.017596363807709636,
          -0.21123469197121414,
          -0.44522679075601096,
          0.06594417027871106,
          -0.4005156041049335,
          1.531611994137102,
          1.469053508293093,
          -0.6960757696420884,
          0.42188597213691115,
          -0.24857896565921767,
          0.35243368033595995,
          0.32289319825012025,
          1.756959477480924,
          -0.8646444846801743,
          0.7327493359184236,
          -0.05616681327469264,
          0.24137468687379302,
          0.13490316200095048,
          -0.30294439883702995,
          0.20149030418780658,
          -0.8439630384647533,
          0.9173475168512586,
          -0.7267483351185445,
          0.4551191588285759,
          -1.3050200504200984,
          -0.940424126632205,
          -0.2861436512950377,
          0.3272416090612496,
          -1.4862435821612276,
          -0.7419822477245054,
          -0.5289520199886615,
          -0.19209542834834886,
          -1.6137840913423802,
          2.5253792135126267,
          -0.36401403896536855,
          1.0560010342257284,
          1.4282679514136718,
          -1.7240519483814831,
          0.5671338747613731,
          -0.9080841728798318,
          0.31546878483673546,
          -0.11377460855602518,
          0.053496764203978336,
          0.6818028998550107,
          -1.9774449121637068,
          0.7084250781799291,
          1.5278746674917012,
          -0.9571164971445482,
          -1.3294630618845433,
          0.942272172901489,
          -0.019981281703439734,
          1.4525537255249976,
          0.027433302927381463,
          -1.8001925853232867,
          1.4426728488088858,
          -0.6965262723544774,
          1.2879984069477703,
          -1.4514103759363945,
          0.10321693798368037,
          -1.0337673090830766,
          1.2123441508341763,
          0.2816563048236678,
          -1.0116419291291963,
          1.2137608091381367,
          -0.6097424621297425,
          1.199038876047825,
          -0.14784081503360644,
          -1.0529508579837437,
          0.203716845237984,
          -1.3703913734693944,
          -1.4621189194907764,
          1.2079693890251404,
          1.0607169379613697,
          1.6860621157919298,
          -0.3043036742676254,
          1.252089094534873,
          0.8019105881421928
         ]
        },
        {
         "marker": {
          "color": "rgba(55, 128, 191, 0.6)",
          "line": {
           "color": "rgba(55, 128, 191, 1.0)",
           "width": 1
          }
         },
         "name": "B",
         "orientation": "v",
         "text": "",
         "type": "bar",
         "x": [
          0,
          1,
          2,
          3,
          4,
          5,
          6,
          7,
          8,
          9,
          10,
          11,
          12,
          13,
          14,
          15,
          16,
          17,
          18,
          19,
          20,
          21,
          22,
          23,
          24,
          25,
          26,
          27,
          28,
          29,
          30,
          31,
          32,
          33,
          34,
          35,
          36,
          37,
          38,
          39,
          40,
          41,
          42,
          43,
          44,
          45,
          46,
          47,
          48,
          49,
          50,
          51,
          52,
          53,
          54,
          55,
          56,
          57,
          58,
          59,
          60,
          61,
          62,
          63,
          64,
          65,
          66,
          67,
          68,
          69,
          70,
          71,
          72,
          73,
          74,
          75,
          76,
          77,
          78,
          79,
          80,
          81,
          82,
          83,
          84,
          85,
          86,
          87,
          88,
          89,
          90,
          91,
          92,
          93,
          94,
          95,
          96,
          97,
          98,
          99
         ],
         "y": [
          -1.0998518931967172,
          -0.951310489501729,
          0.4961980985412946,
          -1.9465577812700667,
          0.4782546807810063,
          0.3915928924499597,
          -0.16195461581883155,
          -0.5684389432325745,
          0.7864442079773991,
          0.11786194397659192,
          0.7806483973082989,
          -0.7216593398328882,
          0.14627440175389989,
          -0.07554072415619882,
          0.014168578367290862,
          -0.6333465050786681,
          1.0127771174834996,
          1.3878021905639235,
          0.4904150562542391,
          0.2536434005385077,
          1.1786366553776157,
          -3.334302912542056,
          0.7647022080307493,
          -0.031935851656112776,
          -0.7839089589040155,
          -0.09122200998567682,
          -0.4898507459459323,
          -0.5684394463175186,
          0.11940011898377212,
          -0.19497172220308293,
          2.728343356239694,
          -0.40789330735339907,
          -0.24459607575641326,
          -0.4858707994184838,
          -0.015234217101942981,
          -0.08771777295493485,
          0.4772963643238052,
          1.4507007392664688,
          0.4061437530079583,
          0.15419502764767845,
          -0.726525983701748,
          -0.2669636603429239,
          0.9852178153304991,
          -1.29587901702008,
          -0.6664537394097019,
          -1.093155363979523,
          1.4968662243590183,
          -0.8959185628124724,
          -1.5208535704872201,
          -0.4052181341125891,
          -0.017951376963129023,
          0.9116272137945861,
          -1.6649360797874992,
          0.3040516316528378,
          -0.12186378938520936,
          1.1724212208098135,
          -1.274141257813947,
          0.11182468335506614,
          1.47499536050285,
          0.2583425826196655,
          -0.32092947933983107,
          1.0007576889539056,
          0.20795616239699127,
          -0.08665414940310559,
          0.6523377927617374,
          0.16726551027784153,
          -0.42557944492126054,
          1.3705804781599653,
          0.9989305038474585,
          -1.6823152185810062,
          -1.4777209857615803,
          -0.9939514975377667,
          -1.0574492878409467,
          -0.18781359857066682,
          0.8413247717773269,
          1.1757733216891897,
          0.2972356932010209,
          -0.28249667162063813,
          -1.3381021329751352,
          0.8454290322931972,
          -0.43718099727400006,
          0.08608827559328311,
          0.42555094905863433,
          0.06474854527759977,
          -1.7365979250057706,
          -0.6954111510725659,
          0.5943477159463276,
          -0.0624064236918547,
          -0.09311347408323536,
          -0.20864777953826144,
          -1.5057657340094361,
          0.985649019277635,
          -0.618834216881153,
          -0.24696789588479345,
          0.1741621994183457,
          -1.2990736535773484,
          -1.9746857091172834,
          0.04549424231182181,
          -0.4787536211341913,
          -1.8165952496968758
         ]
        },
        {
         "marker": {
          "color": "rgba(50, 171, 96, 0.6)",
          "line": {
           "color": "rgba(50, 171, 96, 1.0)",
           "width": 1
          }
         },
         "name": "C",
         "orientation": "v",
         "text": "",
         "type": "bar",
         "x": [
          0,
          1,
          2,
          3,
          4,
          5,
          6,
          7,
          8,
          9,
          10,
          11,
          12,
          13,
          14,
          15,
          16,
          17,
          18,
          19,
          20,
          21,
          22,
          23,
          24,
          25,
          26,
          27,
          28,
          29,
          30,
          31,
          32,
          33,
          34,
          35,
          36,
          37,
          38,
          39,
          40,
          41,
          42,
          43,
          44,
          45,
          46,
          47,
          48,
          49,
          50,
          51,
          52,
          53,
          54,
          55,
          56,
          57,
          58,
          59,
          60,
          61,
          62,
          63,
          64,
          65,
          66,
          67,
          68,
          69,
          70,
          71,
          72,
          73,
          74,
          75,
          76,
          77,
          78,
          79,
          80,
          81,
          82,
          83,
          84,
          85,
          86,
          87,
          88,
          89,
          90,
          91,
          92,
          93,
          94,
          95,
          96,
          97,
          98,
          99
         ],
         "y": [
          -1.0625887658002213,
          0.09202816193018518,
          0.564848376353891,
          0.419472612971872,
          0.12660612020962858,
          -0.5127914675811296,
          -1.1250834598039288,
          -0.6051822916912,
          -0.16221998280097874,
          0.7356228690390648,
          -0.07574687216850803,
          0.17596247282604027,
          -1.721717086791258,
          2.323429731895257,
          -0.8482030722200461,
          -0.13369431269758897,
          1.43368695838209,
          0.12440433777333088,
          0.6827434615859537,
          -1.2316479081514446,
          -1.6643319307140543,
          -0.7326761450757091,
          0.14581998247595768,
          -0.8486405675639428,
          -1.3879983259008852,
          -1.869598616511187,
          -2.360893594863502,
          1.1800886270616593,
          0.5182722178949594,
          0.7554306808110395,
          -1.2801531109221176,
          -1.816141993229202,
          -0.5232033577209291,
          0.7622410426171143,
          -0.05449472773996224,
          0.1922114685510936,
          -0.4141235355446176,
          0.7052675744404783,
          -2.59538260905528,
          -0.16142979812964459,
          0.2326207735748364,
          -0.7723616091348504,
          0.41227233208544345,
          0.16675903993999175,
          -0.5494052757613266,
          -1.2332580401100453,
          -1.5362604958487704,
          -0.6850801955952219,
          -0.10309357320981548,
          1.211292382720803,
          0.8824592740410863,
          -0.8569072831904082,
          -1.250014049122893,
          -0.08799308927471544,
          -0.6552934530711982,
          0.9863289277092309,
          -0.0031616249570040264,
          0.8656884015381522,
          -1.3457460857249597,
          -0.8700802229476118,
          0.7379618696557516,
          -1.310500185377312,
          -1.2439360756820212,
          -1.852983958425285,
          -0.5483973457086878,
          -0.2620927767535737,
          0.8223682944291094,
          0.41648038679327865,
          -0.14478273313287518,
          0.04459544764541705,
          0.0552076255058285,
          -0.35827809100913904,
          1.1307788184569203,
          0.23619861907372788,
          -0.3841381654666092,
          0.018158187353936536,
          -0.9297831247259087,
          -0.9483441497850129,
          0.15370068303643483,
          -0.7567916707710458,
          -0.22349775200537117,
          -0.16436541076498792,
          -0.04045064822824736,
          1.2055700104402123,
          -0.49887850886789453,
          -0.5435253428124678,
          0.07203272803770303,
          1.77607423833372,
          0.4643240466033002,
          0.7132203723900344,
          0.06056029680904643,
          0.5970097948018788,
          -0.9322428843780637,
          0.07146509261690312,
          1.7081053966754396,
          -0.29765733722000015,
          0.8941126463209245,
          -0.5008661024802709,
          2.3862236353444457,
          -2.640515182547073
         ]
        },
        {
         "marker": {
          "color": "rgba(128, 0, 128, 0.6)",
          "line": {
           "color": "rgba(128, 0, 128, 1.0)",
           "width": 1
          }
         },
         "name": "D",
         "orientation": "v",
         "text": "",
         "type": "bar",
         "x": [
          0,
          1,
          2,
          3,
          4,
          5,
          6,
          7,
          8,
          9,
          10,
          11,
          12,
          13,
          14,
          15,
          16,
          17,
          18,
          19,
          20,
          21,
          22,
          23,
          24,
          25,
          26,
          27,
          28,
          29,
          30,
          31,
          32,
          33,
          34,
          35,
          36,
          37,
          38,
          39,
          40,
          41,
          42,
          43,
          44,
          45,
          46,
          47,
          48,
          49,
          50,
          51,
          52,
          53,
          54,
          55,
          56,
          57,
          58,
          59,
          60,
          61,
          62,
          63,
          64,
          65,
          66,
          67,
          68,
          69,
          70,
          71,
          72,
          73,
          74,
          75,
          76,
          77,
          78,
          79,
          80,
          81,
          82,
          83,
          84,
          85,
          86,
          87,
          88,
          89,
          90,
          91,
          92,
          93,
          94,
          95,
          96,
          97,
          98,
          99
         ],
         "y": [
          0.6419540448307282,
          -1.517608688344434,
          -0.3843863209352874,
          0.582205043637178,
          0.8423001398246008,
          -0.876654312681006,
          -1.4220090438249173,
          -0.09887636580710743,
          -0.3836306988926069,
          -0.9617171701958386,
          0.9130567531304483,
          0.1921750627294664,
          -0.40845165490719065,
          0.16948526516975354,
          1.1995423858357495,
          -0.0806001194463327,
          -0.15746670743873062,
          -1.1240019824944776,
          0.4363515372870392,
          1.9307908970315317,
          1.1031951510859273,
          -1.7251316715516243,
          0.8967867868252514,
          0.47529474535809924,
          -1.1739198506495272,
          0.5490829176478206,
          -0.10548357954143857,
          0.9350274188232347,
          -0.11857806913827566,
          0.8291018552229273,
          0.4404340905146739,
          1.0949591324812462,
          -0.5046317220659516,
          0.7277366176328306,
          -0.9220093815234568,
          -1.4401200584762028,
          -0.2735458841642263,
          0.5057772631008871,
          -0.5756586099298809,
          0.4469996935382162,
          1.2311387579172113,
          -0.7490594863628462,
          0.8877674978807628,
          0.0007280151525171892,
          -0.19498978287272922,
          -2.1616046744327897,
          1.3959629391980335,
          1.3542761626128896,
          0.3403680620018605,
          -1.2469655847187164,
          1.631557902538405,
          0.9386407535427541,
          -0.7152486651396022,
          -0.2896322392328507,
          0.4794983422428559,
          1.4993155479995524,
          -0.3357047654058956,
          2.1198825272852106,
          0.9335159436912603,
          0.07494701462476844,
          -1.0858501890051053,
          -0.5136565323101144,
          1.4674995050384145,
          -0.33782459796503067,
          0.4227277598515778,
          0.5345466892685413,
          -0.40806524589228743,
          -0.3632137413898601,
          -0.5128961430005934,
          0.32958613059022096,
          0.056449082223379625,
          -0.5741367405128155,
          -1.4522547358486244,
          1.5156989720072513,
          -1.5956070894351733,
          0.5468079407706042,
          0.5201902490525464,
          0.4405097935390144,
          0.16697909238681657,
          0.650148591850684,
          1.602800718166188,
          -2.323303975173998,
          -0.3919455823359626,
          -0.7901808014383477,
          0.3018838962950447,
          0.7363176053821264,
          0.3982958216374505,
          -1.8604341682340761,
          0.028930473350775563,
          0.3289011160680272,
          2.4482571174976813,
          0.17805452428597393,
          0.9037599076955404,
          -0.5356039813501637,
          0.5981293401750825,
          1.4011963024633105,
          0.02947680573042643,
          0.4138985401230784,
          -0.9208991891630186,
          1.153642037354523
         ]
        }
       ],
       "layout": {
        "legend": {
         "bgcolor": "#F5F6F9",
         "font": {
          "color": "#4D5663"
         }
        },
        "paper_bgcolor": "#F5F6F9",
        "plot_bgcolor": "#F5F6F9",
        "template": {
         "data": {
          "bar": [
           {
            "error_x": {
             "color": "#2a3f5f"
            },
            "error_y": {
             "color": "#2a3f5f"
            },
            "marker": {
             "line": {
              "color": "#E5ECF6",
              "width": 0.5
             },
             "pattern": {
              "fillmode": "overlay",
              "size": 10,
              "solidity": 0.2
             }
            },
            "type": "bar"
           }
          ],
          "barpolar": [
           {
            "marker": {
             "line": {
              "color": "#E5ECF6",
              "width": 0.5
             },
             "pattern": {
              "fillmode": "overlay",
              "size": 10,
              "solidity": 0.2
             }
            },
            "type": "barpolar"
           }
          ],
          "carpet": [
           {
            "aaxis": {
             "endlinecolor": "#2a3f5f",
             "gridcolor": "white",
             "linecolor": "white",
             "minorgridcolor": "white",
             "startlinecolor": "#2a3f5f"
            },
            "baxis": {
             "endlinecolor": "#2a3f5f",
             "gridcolor": "white",
             "linecolor": "white",
             "minorgridcolor": "white",
             "startlinecolor": "#2a3f5f"
            },
            "type": "carpet"
           }
          ],
          "choropleth": [
           {
            "colorbar": {
             "outlinewidth": 0,
             "ticks": ""
            },
            "type": "choropleth"
           }
          ],
          "contour": [
           {
            "colorbar": {
             "outlinewidth": 0,
             "ticks": ""
            },
            "colorscale": [
             [
              0,
              "#0d0887"
             ],
             [
              0.1111111111111111,
              "#46039f"
             ],
             [
              0.2222222222222222,
              "#7201a8"
             ],
             [
              0.3333333333333333,
              "#9c179e"
             ],
             [
              0.4444444444444444,
              "#bd3786"
             ],
             [
              0.5555555555555556,
              "#d8576b"
             ],
             [
              0.6666666666666666,
              "#ed7953"
             ],
             [
              0.7777777777777778,
              "#fb9f3a"
             ],
             [
              0.8888888888888888,
              "#fdca26"
             ],
             [
              1,
              "#f0f921"
             ]
            ],
            "type": "contour"
           }
          ],
          "contourcarpet": [
           {
            "colorbar": {
             "outlinewidth": 0,
             "ticks": ""
            },
            "type": "contourcarpet"
           }
          ],
          "heatmap": [
           {
            "colorbar": {
             "outlinewidth": 0,
             "ticks": ""
            },
            "colorscale": [
             [
              0,
              "#0d0887"
             ],
             [
              0.1111111111111111,
              "#46039f"
             ],
             [
              0.2222222222222222,
              "#7201a8"
             ],
             [
              0.3333333333333333,
              "#9c179e"
             ],
             [
              0.4444444444444444,
              "#bd3786"
             ],
             [
              0.5555555555555556,
              "#d8576b"
             ],
             [
              0.6666666666666666,
              "#ed7953"
             ],
             [
              0.7777777777777778,
              "#fb9f3a"
             ],
             [
              0.8888888888888888,
              "#fdca26"
             ],
             [
              1,
              "#f0f921"
             ]
            ],
            "type": "heatmap"
           }
          ],
          "heatmapgl": [
           {
            "colorbar": {
             "outlinewidth": 0,
             "ticks": ""
            },
            "colorscale": [
             [
              0,
              "#0d0887"
             ],
             [
              0.1111111111111111,
              "#46039f"
             ],
             [
              0.2222222222222222,
              "#7201a8"
             ],
             [
              0.3333333333333333,
              "#9c179e"
             ],
             [
              0.4444444444444444,
              "#bd3786"
             ],
             [
              0.5555555555555556,
              "#d8576b"
             ],
             [
              0.6666666666666666,
              "#ed7953"
             ],
             [
              0.7777777777777778,
              "#fb9f3a"
             ],
             [
              0.8888888888888888,
              "#fdca26"
             ],
             [
              1,
              "#f0f921"
             ]
            ],
            "type": "heatmapgl"
           }
          ],
          "histogram": [
           {
            "marker": {
             "pattern": {
              "fillmode": "overlay",
              "size": 10,
              "solidity": 0.2
             }
            },
            "type": "histogram"
           }
          ],
          "histogram2d": [
           {
            "colorbar": {
             "outlinewidth": 0,
             "ticks": ""
            },
            "colorscale": [
             [
              0,
              "#0d0887"
             ],
             [
              0.1111111111111111,
              "#46039f"
             ],
             [
              0.2222222222222222,
              "#7201a8"
             ],
             [
              0.3333333333333333,
              "#9c179e"
             ],
             [
              0.4444444444444444,
              "#bd3786"
             ],
             [
              0.5555555555555556,
              "#d8576b"
             ],
             [
              0.6666666666666666,
              "#ed7953"
             ],
             [
              0.7777777777777778,
              "#fb9f3a"
             ],
             [
              0.8888888888888888,
              "#fdca26"
             ],
             [
              1,
              "#f0f921"
             ]
            ],
            "type": "histogram2d"
           }
          ],
          "histogram2dcontour": [
           {
            "colorbar": {
             "outlinewidth": 0,
             "ticks": ""
            },
            "colorscale": [
             [
              0,
              "#0d0887"
             ],
             [
              0.1111111111111111,
              "#46039f"
             ],
             [
              0.2222222222222222,
              "#7201a8"
             ],
             [
              0.3333333333333333,
              "#9c179e"
             ],
             [
              0.4444444444444444,
              "#bd3786"
             ],
             [
              0.5555555555555556,
              "#d8576b"
             ],
             [
              0.6666666666666666,
              "#ed7953"
             ],
             [
              0.7777777777777778,
              "#fb9f3a"
             ],
             [
              0.8888888888888888,
              "#fdca26"
             ],
             [
              1,
              "#f0f921"
             ]
            ],
            "type": "histogram2dcontour"
           }
          ],
          "mesh3d": [
           {
            "colorbar": {
             "outlinewidth": 0,
             "ticks": ""
            },
            "type": "mesh3d"
           }
          ],
          "parcoords": [
           {
            "line": {
             "colorbar": {
              "outlinewidth": 0,
              "ticks": ""
             }
            },
            "type": "parcoords"
           }
          ],
          "pie": [
           {
            "automargin": true,
            "type": "pie"
           }
          ],
          "scatter": [
           {
            "marker": {
             "colorbar": {
              "outlinewidth": 0,
              "ticks": ""
             }
            },
            "type": "scatter"
           }
          ],
          "scatter3d": [
           {
            "line": {
             "colorbar": {
              "outlinewidth": 0,
              "ticks": ""
             }
            },
            "marker": {
             "colorbar": {
              "outlinewidth": 0,
              "ticks": ""
             }
            },
            "type": "scatter3d"
           }
          ],
          "scattercarpet": [
           {
            "marker": {
             "colorbar": {
              "outlinewidth": 0,
              "ticks": ""
             }
            },
            "type": "scattercarpet"
           }
          ],
          "scattergeo": [
           {
            "marker": {
             "colorbar": {
              "outlinewidth": 0,
              "ticks": ""
             }
            },
            "type": "scattergeo"
           }
          ],
          "scattergl": [
           {
            "marker": {
             "colorbar": {
              "outlinewidth": 0,
              "ticks": ""
             }
            },
            "type": "scattergl"
           }
          ],
          "scattermapbox": [
           {
            "marker": {
             "colorbar": {
              "outlinewidth": 0,
              "ticks": ""
             }
            },
            "type": "scattermapbox"
           }
          ],
          "scatterpolar": [
           {
            "marker": {
             "colorbar": {
              "outlinewidth": 0,
              "ticks": ""
             }
            },
            "type": "scatterpolar"
           }
          ],
          "scatterpolargl": [
           {
            "marker": {
             "colorbar": {
              "outlinewidth": 0,
              "ticks": ""
             }
            },
            "type": "scatterpolargl"
           }
          ],
          "scatterternary": [
           {
            "marker": {
             "colorbar": {
              "outlinewidth": 0,
              "ticks": ""
             }
            },
            "type": "scatterternary"
           }
          ],
          "surface": [
           {
            "colorbar": {
             "outlinewidth": 0,
             "ticks": ""
            },
            "colorscale": [
             [
              0,
              "#0d0887"
             ],
             [
              0.1111111111111111,
              "#46039f"
             ],
             [
              0.2222222222222222,
              "#7201a8"
             ],
             [
              0.3333333333333333,
              "#9c179e"
             ],
             [
              0.4444444444444444,
              "#bd3786"
             ],
             [
              0.5555555555555556,
              "#d8576b"
             ],
             [
              0.6666666666666666,
              "#ed7953"
             ],
             [
              0.7777777777777778,
              "#fb9f3a"
             ],
             [
              0.8888888888888888,
              "#fdca26"
             ],
             [
              1,
              "#f0f921"
             ]
            ],
            "type": "surface"
           }
          ],
          "table": [
           {
            "cells": {
             "fill": {
              "color": "#EBF0F8"
             },
             "line": {
              "color": "white"
             }
            },
            "header": {
             "fill": {
              "color": "#C8D4E3"
             },
             "line": {
              "color": "white"
             }
            },
            "type": "table"
           }
          ]
         },
         "layout": {
          "annotationdefaults": {
           "arrowcolor": "#2a3f5f",
           "arrowhead": 0,
           "arrowwidth": 1
          },
          "autotypenumbers": "strict",
          "coloraxis": {
           "colorbar": {
            "outlinewidth": 0,
            "ticks": ""
           }
          },
          "colorscale": {
           "diverging": [
            [
             0,
             "#8e0152"
            ],
            [
             0.1,
             "#c51b7d"
            ],
            [
             0.2,
             "#de77ae"
            ],
            [
             0.3,
             "#f1b6da"
            ],
            [
             0.4,
             "#fde0ef"
            ],
            [
             0.5,
             "#f7f7f7"
            ],
            [
             0.6,
             "#e6f5d0"
            ],
            [
             0.7,
             "#b8e186"
            ],
            [
             0.8,
             "#7fbc41"
            ],
            [
             0.9,
             "#4d9221"
            ],
            [
             1,
             "#276419"
            ]
           ],
           "sequential": [
            [
             0,
             "#0d0887"
            ],
            [
             0.1111111111111111,
             "#46039f"
            ],
            [
             0.2222222222222222,
             "#7201a8"
            ],
            [
             0.3333333333333333,
             "#9c179e"
            ],
            [
             0.4444444444444444,
             "#bd3786"
            ],
            [
             0.5555555555555556,
             "#d8576b"
            ],
            [
             0.6666666666666666,
             "#ed7953"
            ],
            [
             0.7777777777777778,
             "#fb9f3a"
            ],
            [
             0.8888888888888888,
             "#fdca26"
            ],
            [
             1,
             "#f0f921"
            ]
           ],
           "sequentialminus": [
            [
             0,
             "#0d0887"
            ],
            [
             0.1111111111111111,
             "#46039f"
            ],
            [
             0.2222222222222222,
             "#7201a8"
            ],
            [
             0.3333333333333333,
             "#9c179e"
            ],
            [
             0.4444444444444444,
             "#bd3786"
            ],
            [
             0.5555555555555556,
             "#d8576b"
            ],
            [
             0.6666666666666666,
             "#ed7953"
            ],
            [
             0.7777777777777778,
             "#fb9f3a"
            ],
            [
             0.8888888888888888,
             "#fdca26"
            ],
            [
             1,
             "#f0f921"
            ]
           ]
          },
          "colorway": [
           "#636efa",
           "#EF553B",
           "#00cc96",
           "#ab63fa",
           "#FFA15A",
           "#19d3f3",
           "#FF6692",
           "#B6E880",
           "#FF97FF",
           "#FECB52"
          ],
          "font": {
           "color": "#2a3f5f"
          },
          "geo": {
           "bgcolor": "white",
           "lakecolor": "white",
           "landcolor": "#E5ECF6",
           "showlakes": true,
           "showland": true,
           "subunitcolor": "white"
          },
          "hoverlabel": {
           "align": "left"
          },
          "hovermode": "closest",
          "mapbox": {
           "style": "light"
          },
          "paper_bgcolor": "white",
          "plot_bgcolor": "#E5ECF6",
          "polar": {
           "angularaxis": {
            "gridcolor": "white",
            "linecolor": "white",
            "ticks": ""
           },
           "bgcolor": "#E5ECF6",
           "radialaxis": {
            "gridcolor": "white",
            "linecolor": "white",
            "ticks": ""
           }
          },
          "scene": {
           "xaxis": {
            "backgroundcolor": "#E5ECF6",
            "gridcolor": "white",
            "gridwidth": 2,
            "linecolor": "white",
            "showbackground": true,
            "ticks": "",
            "zerolinecolor": "white"
           },
           "yaxis": {
            "backgroundcolor": "#E5ECF6",
            "gridcolor": "white",
            "gridwidth": 2,
            "linecolor": "white",
            "showbackground": true,
            "ticks": "",
            "zerolinecolor": "white"
           },
           "zaxis": {
            "backgroundcolor": "#E5ECF6",
            "gridcolor": "white",
            "gridwidth": 2,
            "linecolor": "white",
            "showbackground": true,
            "ticks": "",
            "zerolinecolor": "white"
           }
          },
          "shapedefaults": {
           "line": {
            "color": "#2a3f5f"
           }
          },
          "ternary": {
           "aaxis": {
            "gridcolor": "white",
            "linecolor": "white",
            "ticks": ""
           },
           "baxis": {
            "gridcolor": "white",
            "linecolor": "white",
            "ticks": ""
           },
           "bgcolor": "#E5ECF6",
           "caxis": {
            "gridcolor": "white",
            "linecolor": "white",
            "ticks": ""
           }
          },
          "title": {
           "x": 0.05
          },
          "xaxis": {
           "automargin": true,
           "gridcolor": "white",
           "linecolor": "white",
           "ticks": "",
           "title": {
            "standoff": 15
           },
           "zerolinecolor": "white",
           "zerolinewidth": 2
          },
          "yaxis": {
           "automargin": true,
           "gridcolor": "white",
           "linecolor": "white",
           "ticks": "",
           "title": {
            "standoff": 15
           },
           "zerolinecolor": "white",
           "zerolinewidth": 2
          }
         }
        },
        "title": {
         "font": {
          "color": "#4D5663"
         }
        },
        "xaxis": {
         "gridcolor": "#E1E5ED",
         "showgrid": true,
         "tickfont": {
          "color": "#4D5663"
         },
         "title": {
          "font": {
           "color": "#4D5663"
          },
          "text": ""
         },
         "zerolinecolor": "#E1E5ED"
        },
        "yaxis": {
         "gridcolor": "#E1E5ED",
         "showgrid": true,
         "tickfont": {
          "color": "#4D5663"
         },
         "title": {
          "font": {
           "color": "#4D5663"
          },
          "text": ""
         },
         "zerolinecolor": "#E1E5ED"
        }
       }
      },
      "text/html": [
       "<div>                            <div id=\"6350d837-7f34-4572-bfbd-a06999fd7132\" class=\"plotly-graph-div\" style=\"height:525px; width:100%;\"></div>            <script type=\"text/javascript\">                require([\"plotly\"], function(Plotly) {                    window.PLOTLYENV=window.PLOTLYENV || {};\n",
       "                    window.PLOTLYENV.BASE_URL='https://plot.ly';                                    if (document.getElementById(\"6350d837-7f34-4572-bfbd-a06999fd7132\")) {                    Plotly.newPlot(                        \"6350d837-7f34-4572-bfbd-a06999fd7132\",                        [{\"marker\":{\"color\":\"rgba(255, 153, 51, 0.6)\",\"line\":{\"color\":\"rgba(255, 153, 51, 1.0)\",\"width\":1}},\"name\":\"A\",\"orientation\":\"v\",\"text\":\"\",\"x\":[0,1,2,3,4,5,6,7,8,9,10,11,12,13,14,15,16,17,18,19,20,21,22,23,24,25,26,27,28,29,30,31,32,33,34,35,36,37,38,39,40,41,42,43,44,45,46,47,48,49,50,51,52,53,54,55,56,57,58,59,60,61,62,63,64,65,66,67,68,69,70,71,72,73,74,75,76,77,78,79,80,81,82,83,84,85,86,87,88,89,90,91,92,93,94,95,96,97,98,99],\"y\":[0.48979428455356877,1.2000787712482575,0.023788380464120393,-0.7762937541590931,-0.012364867282905903,-1.2161957246449362,-0.02690116005734921,-0.6136576494704216,-1.0932741606526177,1.3367224280535983,-0.21086536735247163,0.7004920634418149,0.022903232284200294,1.8118903731503866,0.03874003270713806,0.14207857973235602,-1.2664546662031808,1.0882638165812608,-0.7120729647956264,0.6937532377713457,-0.38587006015377073,0.7944049114081017,0.8902470208690971,-0.017596363807709636,-0.21123469197121414,-0.44522679075601096,0.06594417027871106,-0.4005156041049335,1.531611994137102,1.469053508293093,-0.6960757696420884,0.42188597213691115,-0.24857896565921767,0.35243368033595995,0.32289319825012025,1.756959477480924,-0.8646444846801743,0.7327493359184236,-0.05616681327469264,0.24137468687379302,0.13490316200095048,-0.30294439883702995,0.20149030418780658,-0.8439630384647533,0.9173475168512586,-0.7267483351185445,0.4551191588285759,-1.3050200504200984,-0.940424126632205,-0.2861436512950377,0.3272416090612496,-1.4862435821612276,-0.7419822477245054,-0.5289520199886615,-0.19209542834834886,-1.6137840913423802,2.5253792135126267,-0.36401403896536855,1.0560010342257284,1.4282679514136718,-1.7240519483814831,0.5671338747613731,-0.9080841728798318,0.31546878483673546,-0.11377460855602518,0.053496764203978336,0.6818028998550107,-1.9774449121637068,0.7084250781799291,1.5278746674917012,-0.9571164971445482,-1.3294630618845433,0.942272172901489,-0.019981281703439734,1.4525537255249976,0.027433302927381463,-1.8001925853232867,1.4426728488088858,-0.6965262723544774,1.2879984069477703,-1.4514103759363945,0.10321693798368037,-1.0337673090830766,1.2123441508341763,0.2816563048236678,-1.0116419291291963,1.2137608091381367,-0.6097424621297425,1.199038876047825,-0.14784081503360644,-1.0529508579837437,0.203716845237984,-1.3703913734693944,-1.4621189194907764,1.2079693890251404,1.0607169379613697,1.6860621157919298,-0.3043036742676254,1.252089094534873,0.8019105881421928],\"type\":\"bar\"},{\"marker\":{\"color\":\"rgba(55, 128, 191, 0.6)\",\"line\":{\"color\":\"rgba(55, 128, 191, 1.0)\",\"width\":1}},\"name\":\"B\",\"orientation\":\"v\",\"text\":\"\",\"x\":[0,1,2,3,4,5,6,7,8,9,10,11,12,13,14,15,16,17,18,19,20,21,22,23,24,25,26,27,28,29,30,31,32,33,34,35,36,37,38,39,40,41,42,43,44,45,46,47,48,49,50,51,52,53,54,55,56,57,58,59,60,61,62,63,64,65,66,67,68,69,70,71,72,73,74,75,76,77,78,79,80,81,82,83,84,85,86,87,88,89,90,91,92,93,94,95,96,97,98,99],\"y\":[-1.0998518931967172,-0.951310489501729,0.4961980985412946,-1.9465577812700667,0.4782546807810063,0.3915928924499597,-0.16195461581883155,-0.5684389432325745,0.7864442079773991,0.11786194397659192,0.7806483973082989,-0.7216593398328882,0.14627440175389989,-0.07554072415619882,0.014168578367290862,-0.6333465050786681,1.0127771174834996,1.3878021905639235,0.4904150562542391,0.2536434005385077,1.1786366553776157,-3.334302912542056,0.7647022080307493,-0.031935851656112776,-0.7839089589040155,-0.09122200998567682,-0.4898507459459323,-0.5684394463175186,0.11940011898377212,-0.19497172220308293,2.728343356239694,-0.40789330735339907,-0.24459607575641326,-0.4858707994184838,-0.015234217101942981,-0.08771777295493485,0.4772963643238052,1.4507007392664688,0.4061437530079583,0.15419502764767845,-0.726525983701748,-0.2669636603429239,0.9852178153304991,-1.29587901702008,-0.6664537394097019,-1.093155363979523,1.4968662243590183,-0.8959185628124724,-1.5208535704872201,-0.4052181341125891,-0.017951376963129023,0.9116272137945861,-1.6649360797874992,0.3040516316528378,-0.12186378938520936,1.1724212208098135,-1.274141257813947,0.11182468335506614,1.47499536050285,0.2583425826196655,-0.32092947933983107,1.0007576889539056,0.20795616239699127,-0.08665414940310559,0.6523377927617374,0.16726551027784153,-0.42557944492126054,1.3705804781599653,0.9989305038474585,-1.6823152185810062,-1.4777209857615803,-0.9939514975377667,-1.0574492878409467,-0.18781359857066682,0.8413247717773269,1.1757733216891897,0.2972356932010209,-0.28249667162063813,-1.3381021329751352,0.8454290322931972,-0.43718099727400006,0.08608827559328311,0.42555094905863433,0.06474854527759977,-1.7365979250057706,-0.6954111510725659,0.5943477159463276,-0.0624064236918547,-0.09311347408323536,-0.20864777953826144,-1.5057657340094361,0.985649019277635,-0.618834216881153,-0.24696789588479345,0.1741621994183457,-1.2990736535773484,-1.9746857091172834,0.04549424231182181,-0.4787536211341913,-1.8165952496968758],\"type\":\"bar\"},{\"marker\":{\"color\":\"rgba(50, 171, 96, 0.6)\",\"line\":{\"color\":\"rgba(50, 171, 96, 1.0)\",\"width\":1}},\"name\":\"C\",\"orientation\":\"v\",\"text\":\"\",\"x\":[0,1,2,3,4,5,6,7,8,9,10,11,12,13,14,15,16,17,18,19,20,21,22,23,24,25,26,27,28,29,30,31,32,33,34,35,36,37,38,39,40,41,42,43,44,45,46,47,48,49,50,51,52,53,54,55,56,57,58,59,60,61,62,63,64,65,66,67,68,69,70,71,72,73,74,75,76,77,78,79,80,81,82,83,84,85,86,87,88,89,90,91,92,93,94,95,96,97,98,99],\"y\":[-1.0625887658002213,0.09202816193018518,0.564848376353891,0.419472612971872,0.12660612020962858,-0.5127914675811296,-1.1250834598039288,-0.6051822916912,-0.16221998280097874,0.7356228690390648,-0.07574687216850803,0.17596247282604027,-1.721717086791258,2.323429731895257,-0.8482030722200461,-0.13369431269758897,1.43368695838209,0.12440433777333088,0.6827434615859537,-1.2316479081514446,-1.6643319307140543,-0.7326761450757091,0.14581998247595768,-0.8486405675639428,-1.3879983259008852,-1.869598616511187,-2.360893594863502,1.1800886270616593,0.5182722178949594,0.7554306808110395,-1.2801531109221176,-1.816141993229202,-0.5232033577209291,0.7622410426171143,-0.05449472773996224,0.1922114685510936,-0.4141235355446176,0.7052675744404783,-2.59538260905528,-0.16142979812964459,0.2326207735748364,-0.7723616091348504,0.41227233208544345,0.16675903993999175,-0.5494052757613266,-1.2332580401100453,-1.5362604958487704,-0.6850801955952219,-0.10309357320981548,1.211292382720803,0.8824592740410863,-0.8569072831904082,-1.250014049122893,-0.08799308927471544,-0.6552934530711982,0.9863289277092309,-0.0031616249570040264,0.8656884015381522,-1.3457460857249597,-0.8700802229476118,0.7379618696557516,-1.310500185377312,-1.2439360756820212,-1.852983958425285,-0.5483973457086878,-0.2620927767535737,0.8223682944291094,0.41648038679327865,-0.14478273313287518,0.04459544764541705,0.0552076255058285,-0.35827809100913904,1.1307788184569203,0.23619861907372788,-0.3841381654666092,0.018158187353936536,-0.9297831247259087,-0.9483441497850129,0.15370068303643483,-0.7567916707710458,-0.22349775200537117,-0.16436541076498792,-0.04045064822824736,1.2055700104402123,-0.49887850886789453,-0.5435253428124678,0.07203272803770303,1.77607423833372,0.4643240466033002,0.7132203723900344,0.06056029680904643,0.5970097948018788,-0.9322428843780637,0.07146509261690312,1.7081053966754396,-0.29765733722000015,0.8941126463209245,-0.5008661024802709,2.3862236353444457,-2.640515182547073],\"type\":\"bar\"},{\"marker\":{\"color\":\"rgba(128, 0, 128, 0.6)\",\"line\":{\"color\":\"rgba(128, 0, 128, 1.0)\",\"width\":1}},\"name\":\"D\",\"orientation\":\"v\",\"text\":\"\",\"x\":[0,1,2,3,4,5,6,7,8,9,10,11,12,13,14,15,16,17,18,19,20,21,22,23,24,25,26,27,28,29,30,31,32,33,34,35,36,37,38,39,40,41,42,43,44,45,46,47,48,49,50,51,52,53,54,55,56,57,58,59,60,61,62,63,64,65,66,67,68,69,70,71,72,73,74,75,76,77,78,79,80,81,82,83,84,85,86,87,88,89,90,91,92,93,94,95,96,97,98,99],\"y\":[0.6419540448307282,-1.517608688344434,-0.3843863209352874,0.582205043637178,0.8423001398246008,-0.876654312681006,-1.4220090438249173,-0.09887636580710743,-0.3836306988926069,-0.9617171701958386,0.9130567531304483,0.1921750627294664,-0.40845165490719065,0.16948526516975354,1.1995423858357495,-0.0806001194463327,-0.15746670743873062,-1.1240019824944776,0.4363515372870392,1.9307908970315317,1.1031951510859273,-1.7251316715516243,0.8967867868252514,0.47529474535809924,-1.1739198506495272,0.5490829176478206,-0.10548357954143857,0.9350274188232347,-0.11857806913827566,0.8291018552229273,0.4404340905146739,1.0949591324812462,-0.5046317220659516,0.7277366176328306,-0.9220093815234568,-1.4401200584762028,-0.2735458841642263,0.5057772631008871,-0.5756586099298809,0.4469996935382162,1.2311387579172113,-0.7490594863628462,0.8877674978807628,0.0007280151525171892,-0.19498978287272922,-2.1616046744327897,1.3959629391980335,1.3542761626128896,0.3403680620018605,-1.2469655847187164,1.631557902538405,0.9386407535427541,-0.7152486651396022,-0.2896322392328507,0.4794983422428559,1.4993155479995524,-0.3357047654058956,2.1198825272852106,0.9335159436912603,0.07494701462476844,-1.0858501890051053,-0.5136565323101144,1.4674995050384145,-0.33782459796503067,0.4227277598515778,0.5345466892685413,-0.40806524589228743,-0.3632137413898601,-0.5128961430005934,0.32958613059022096,0.056449082223379625,-0.5741367405128155,-1.4522547358486244,1.5156989720072513,-1.5956070894351733,0.5468079407706042,0.5201902490525464,0.4405097935390144,0.16697909238681657,0.650148591850684,1.602800718166188,-2.323303975173998,-0.3919455823359626,-0.7901808014383477,0.3018838962950447,0.7363176053821264,0.3982958216374505,-1.8604341682340761,0.028930473350775563,0.3289011160680272,2.4482571174976813,0.17805452428597393,0.9037599076955404,-0.5356039813501637,0.5981293401750825,1.4011963024633105,0.02947680573042643,0.4138985401230784,-0.9208991891630186,1.153642037354523],\"type\":\"bar\"}],                        {\"legend\":{\"bgcolor\":\"#F5F6F9\",\"font\":{\"color\":\"#4D5663\"}},\"paper_bgcolor\":\"#F5F6F9\",\"plot_bgcolor\":\"#F5F6F9\",\"template\":{\"data\":{\"barpolar\":[{\"marker\":{\"line\":{\"color\":\"#E5ECF6\",\"width\":0.5},\"pattern\":{\"fillmode\":\"overlay\",\"size\":10,\"solidity\":0.2}},\"type\":\"barpolar\"}],\"bar\":[{\"error_x\":{\"color\":\"#2a3f5f\"},\"error_y\":{\"color\":\"#2a3f5f\"},\"marker\":{\"line\":{\"color\":\"#E5ECF6\",\"width\":0.5},\"pattern\":{\"fillmode\":\"overlay\",\"size\":10,\"solidity\":0.2}},\"type\":\"bar\"}],\"carpet\":[{\"aaxis\":{\"endlinecolor\":\"#2a3f5f\",\"gridcolor\":\"white\",\"linecolor\":\"white\",\"minorgridcolor\":\"white\",\"startlinecolor\":\"#2a3f5f\"},\"baxis\":{\"endlinecolor\":\"#2a3f5f\",\"gridcolor\":\"white\",\"linecolor\":\"white\",\"minorgridcolor\":\"white\",\"startlinecolor\":\"#2a3f5f\"},\"type\":\"carpet\"}],\"choropleth\":[{\"colorbar\":{\"outlinewidth\":0,\"ticks\":\"\"},\"type\":\"choropleth\"}],\"contourcarpet\":[{\"colorbar\":{\"outlinewidth\":0,\"ticks\":\"\"},\"type\":\"contourcarpet\"}],\"contour\":[{\"colorbar\":{\"outlinewidth\":0,\"ticks\":\"\"},\"colorscale\":[[0.0,\"#0d0887\"],[0.1111111111111111,\"#46039f\"],[0.2222222222222222,\"#7201a8\"],[0.3333333333333333,\"#9c179e\"],[0.4444444444444444,\"#bd3786\"],[0.5555555555555556,\"#d8576b\"],[0.6666666666666666,\"#ed7953\"],[0.7777777777777778,\"#fb9f3a\"],[0.8888888888888888,\"#fdca26\"],[1.0,\"#f0f921\"]],\"type\":\"contour\"}],\"heatmapgl\":[{\"colorbar\":{\"outlinewidth\":0,\"ticks\":\"\"},\"colorscale\":[[0.0,\"#0d0887\"],[0.1111111111111111,\"#46039f\"],[0.2222222222222222,\"#7201a8\"],[0.3333333333333333,\"#9c179e\"],[0.4444444444444444,\"#bd3786\"],[0.5555555555555556,\"#d8576b\"],[0.6666666666666666,\"#ed7953\"],[0.7777777777777778,\"#fb9f3a\"],[0.8888888888888888,\"#fdca26\"],[1.0,\"#f0f921\"]],\"type\":\"heatmapgl\"}],\"heatmap\":[{\"colorbar\":{\"outlinewidth\":0,\"ticks\":\"\"},\"colorscale\":[[0.0,\"#0d0887\"],[0.1111111111111111,\"#46039f\"],[0.2222222222222222,\"#7201a8\"],[0.3333333333333333,\"#9c179e\"],[0.4444444444444444,\"#bd3786\"],[0.5555555555555556,\"#d8576b\"],[0.6666666666666666,\"#ed7953\"],[0.7777777777777778,\"#fb9f3a\"],[0.8888888888888888,\"#fdca26\"],[1.0,\"#f0f921\"]],\"type\":\"heatmap\"}],\"histogram2dcontour\":[{\"colorbar\":{\"outlinewidth\":0,\"ticks\":\"\"},\"colorscale\":[[0.0,\"#0d0887\"],[0.1111111111111111,\"#46039f\"],[0.2222222222222222,\"#7201a8\"],[0.3333333333333333,\"#9c179e\"],[0.4444444444444444,\"#bd3786\"],[0.5555555555555556,\"#d8576b\"],[0.6666666666666666,\"#ed7953\"],[0.7777777777777778,\"#fb9f3a\"],[0.8888888888888888,\"#fdca26\"],[1.0,\"#f0f921\"]],\"type\":\"histogram2dcontour\"}],\"histogram2d\":[{\"colorbar\":{\"outlinewidth\":0,\"ticks\":\"\"},\"colorscale\":[[0.0,\"#0d0887\"],[0.1111111111111111,\"#46039f\"],[0.2222222222222222,\"#7201a8\"],[0.3333333333333333,\"#9c179e\"],[0.4444444444444444,\"#bd3786\"],[0.5555555555555556,\"#d8576b\"],[0.6666666666666666,\"#ed7953\"],[0.7777777777777778,\"#fb9f3a\"],[0.8888888888888888,\"#fdca26\"],[1.0,\"#f0f921\"]],\"type\":\"histogram2d\"}],\"histogram\":[{\"marker\":{\"pattern\":{\"fillmode\":\"overlay\",\"size\":10,\"solidity\":0.2}},\"type\":\"histogram\"}],\"mesh3d\":[{\"colorbar\":{\"outlinewidth\":0,\"ticks\":\"\"},\"type\":\"mesh3d\"}],\"parcoords\":[{\"line\":{\"colorbar\":{\"outlinewidth\":0,\"ticks\":\"\"}},\"type\":\"parcoords\"}],\"pie\":[{\"automargin\":true,\"type\":\"pie\"}],\"scatter3d\":[{\"line\":{\"colorbar\":{\"outlinewidth\":0,\"ticks\":\"\"}},\"marker\":{\"colorbar\":{\"outlinewidth\":0,\"ticks\":\"\"}},\"type\":\"scatter3d\"}],\"scattercarpet\":[{\"marker\":{\"colorbar\":{\"outlinewidth\":0,\"ticks\":\"\"}},\"type\":\"scattercarpet\"}],\"scattergeo\":[{\"marker\":{\"colorbar\":{\"outlinewidth\":0,\"ticks\":\"\"}},\"type\":\"scattergeo\"}],\"scattergl\":[{\"marker\":{\"colorbar\":{\"outlinewidth\":0,\"ticks\":\"\"}},\"type\":\"scattergl\"}],\"scattermapbox\":[{\"marker\":{\"colorbar\":{\"outlinewidth\":0,\"ticks\":\"\"}},\"type\":\"scattermapbox\"}],\"scatterpolargl\":[{\"marker\":{\"colorbar\":{\"outlinewidth\":0,\"ticks\":\"\"}},\"type\":\"scatterpolargl\"}],\"scatterpolar\":[{\"marker\":{\"colorbar\":{\"outlinewidth\":0,\"ticks\":\"\"}},\"type\":\"scatterpolar\"}],\"scatter\":[{\"marker\":{\"colorbar\":{\"outlinewidth\":0,\"ticks\":\"\"}},\"type\":\"scatter\"}],\"scatterternary\":[{\"marker\":{\"colorbar\":{\"outlinewidth\":0,\"ticks\":\"\"}},\"type\":\"scatterternary\"}],\"surface\":[{\"colorbar\":{\"outlinewidth\":0,\"ticks\":\"\"},\"colorscale\":[[0.0,\"#0d0887\"],[0.1111111111111111,\"#46039f\"],[0.2222222222222222,\"#7201a8\"],[0.3333333333333333,\"#9c179e\"],[0.4444444444444444,\"#bd3786\"],[0.5555555555555556,\"#d8576b\"],[0.6666666666666666,\"#ed7953\"],[0.7777777777777778,\"#fb9f3a\"],[0.8888888888888888,\"#fdca26\"],[1.0,\"#f0f921\"]],\"type\":\"surface\"}],\"table\":[{\"cells\":{\"fill\":{\"color\":\"#EBF0F8\"},\"line\":{\"color\":\"white\"}},\"header\":{\"fill\":{\"color\":\"#C8D4E3\"},\"line\":{\"color\":\"white\"}},\"type\":\"table\"}]},\"layout\":{\"annotationdefaults\":{\"arrowcolor\":\"#2a3f5f\",\"arrowhead\":0,\"arrowwidth\":1},\"autotypenumbers\":\"strict\",\"coloraxis\":{\"colorbar\":{\"outlinewidth\":0,\"ticks\":\"\"}},\"colorscale\":{\"diverging\":[[0,\"#8e0152\"],[0.1,\"#c51b7d\"],[0.2,\"#de77ae\"],[0.3,\"#f1b6da\"],[0.4,\"#fde0ef\"],[0.5,\"#f7f7f7\"],[0.6,\"#e6f5d0\"],[0.7,\"#b8e186\"],[0.8,\"#7fbc41\"],[0.9,\"#4d9221\"],[1,\"#276419\"]],\"sequential\":[[0.0,\"#0d0887\"],[0.1111111111111111,\"#46039f\"],[0.2222222222222222,\"#7201a8\"],[0.3333333333333333,\"#9c179e\"],[0.4444444444444444,\"#bd3786\"],[0.5555555555555556,\"#d8576b\"],[0.6666666666666666,\"#ed7953\"],[0.7777777777777778,\"#fb9f3a\"],[0.8888888888888888,\"#fdca26\"],[1.0,\"#f0f921\"]],\"sequentialminus\":[[0.0,\"#0d0887\"],[0.1111111111111111,\"#46039f\"],[0.2222222222222222,\"#7201a8\"],[0.3333333333333333,\"#9c179e\"],[0.4444444444444444,\"#bd3786\"],[0.5555555555555556,\"#d8576b\"],[0.6666666666666666,\"#ed7953\"],[0.7777777777777778,\"#fb9f3a\"],[0.8888888888888888,\"#fdca26\"],[1.0,\"#f0f921\"]]},\"colorway\":[\"#636efa\",\"#EF553B\",\"#00cc96\",\"#ab63fa\",\"#FFA15A\",\"#19d3f3\",\"#FF6692\",\"#B6E880\",\"#FF97FF\",\"#FECB52\"],\"font\":{\"color\":\"#2a3f5f\"},\"geo\":{\"bgcolor\":\"white\",\"lakecolor\":\"white\",\"landcolor\":\"#E5ECF6\",\"showlakes\":true,\"showland\":true,\"subunitcolor\":\"white\"},\"hoverlabel\":{\"align\":\"left\"},\"hovermode\":\"closest\",\"mapbox\":{\"style\":\"light\"},\"paper_bgcolor\":\"white\",\"plot_bgcolor\":\"#E5ECF6\",\"polar\":{\"angularaxis\":{\"gridcolor\":\"white\",\"linecolor\":\"white\",\"ticks\":\"\"},\"bgcolor\":\"#E5ECF6\",\"radialaxis\":{\"gridcolor\":\"white\",\"linecolor\":\"white\",\"ticks\":\"\"}},\"scene\":{\"xaxis\":{\"backgroundcolor\":\"#E5ECF6\",\"gridcolor\":\"white\",\"gridwidth\":2,\"linecolor\":\"white\",\"showbackground\":true,\"ticks\":\"\",\"zerolinecolor\":\"white\"},\"yaxis\":{\"backgroundcolor\":\"#E5ECF6\",\"gridcolor\":\"white\",\"gridwidth\":2,\"linecolor\":\"white\",\"showbackground\":true,\"ticks\":\"\",\"zerolinecolor\":\"white\"},\"zaxis\":{\"backgroundcolor\":\"#E5ECF6\",\"gridcolor\":\"white\",\"gridwidth\":2,\"linecolor\":\"white\",\"showbackground\":true,\"ticks\":\"\",\"zerolinecolor\":\"white\"}},\"shapedefaults\":{\"line\":{\"color\":\"#2a3f5f\"}},\"ternary\":{\"aaxis\":{\"gridcolor\":\"white\",\"linecolor\":\"white\",\"ticks\":\"\"},\"baxis\":{\"gridcolor\":\"white\",\"linecolor\":\"white\",\"ticks\":\"\"},\"bgcolor\":\"#E5ECF6\",\"caxis\":{\"gridcolor\":\"white\",\"linecolor\":\"white\",\"ticks\":\"\"}},\"title\":{\"x\":0.05},\"xaxis\":{\"automargin\":true,\"gridcolor\":\"white\",\"linecolor\":\"white\",\"ticks\":\"\",\"title\":{\"standoff\":15},\"zerolinecolor\":\"white\",\"zerolinewidth\":2},\"yaxis\":{\"automargin\":true,\"gridcolor\":\"white\",\"linecolor\":\"white\",\"ticks\":\"\",\"title\":{\"standoff\":15},\"zerolinecolor\":\"white\",\"zerolinewidth\":2}}},\"title\":{\"font\":{\"color\":\"#4D5663\"}},\"xaxis\":{\"gridcolor\":\"#E1E5ED\",\"showgrid\":true,\"tickfont\":{\"color\":\"#4D5663\"},\"title\":{\"font\":{\"color\":\"#4D5663\"},\"text\":\"\"},\"zerolinecolor\":\"#E1E5ED\"},\"yaxis\":{\"gridcolor\":\"#E1E5ED\",\"showgrid\":true,\"tickfont\":{\"color\":\"#4D5663\"},\"title\":{\"font\":{\"color\":\"#4D5663\"},\"text\":\"\"},\"zerolinecolor\":\"#E1E5ED\"}},                        {\"showLink\": true, \"linkText\": \"Export to plot.ly\", \"plotlyServerURL\": \"https://plot.ly\", \"responsive\": true}                    ).then(function(){\n",
       "                            \n",
       "var gd = document.getElementById('6350d837-7f34-4572-bfbd-a06999fd7132');\n",
       "var x = new MutationObserver(function (mutations, observer) {{\n",
       "        var display = window.getComputedStyle(gd).display;\n",
       "        if (!display || display === 'none') {{\n",
       "            console.log([gd, 'removed!']);\n",
       "            Plotly.purge(gd);\n",
       "            observer.disconnect();\n",
       "        }}\n",
       "}});\n",
       "\n",
       "// Listen for the removal of the full notebook cells\n",
       "var notebookContainer = gd.closest('#notebook-container');\n",
       "if (notebookContainer) {{\n",
       "    x.observe(notebookContainer, {childList: true});\n",
       "}}\n",
       "\n",
       "// Listen for the clearing of the current output cell\n",
       "var outputEl = gd.closest('.output');\n",
       "if (outputEl) {{\n",
       "    x.observe(outputEl, {childList: true});\n",
       "}}\n",
       "\n",
       "                        })                };                });            </script>        </div>"
      ]
     },
     "metadata": {},
     "output_type": "display_data"
    }
   ],
   "source": [
    "df.iplot(kind='bar')"
   ]
  },
  {
   "cell_type": "code",
   "execution_count": 33,
   "id": "865cb04e",
   "metadata": {},
   "outputs": [
    {
     "data": {
      "application/vnd.plotly.v1+json": {
       "config": {
        "linkText": "Export to plot.ly",
        "plotlyServerURL": "https://plot.ly",
        "showLink": true
       },
       "data": [
        {
         "marker": {
          "color": "rgba(255, 153, 51, 0.6)",
          "line": {
           "color": "rgba(255, 153, 51, 1.0)",
           "width": 1
          }
         },
         "name": "None",
         "orientation": "v",
         "text": "",
         "type": "bar",
         "x": [
          "A",
          "B",
          "C",
          "D"
         ],
         "y": [
          100,
          100,
          100,
          100
         ]
        }
       ],
       "layout": {
        "legend": {
         "bgcolor": "#F5F6F9",
         "font": {
          "color": "#4D5663"
         }
        },
        "paper_bgcolor": "#F5F6F9",
        "plot_bgcolor": "#F5F6F9",
        "template": {
         "data": {
          "bar": [
           {
            "error_x": {
             "color": "#2a3f5f"
            },
            "error_y": {
             "color": "#2a3f5f"
            },
            "marker": {
             "line": {
              "color": "#E5ECF6",
              "width": 0.5
             },
             "pattern": {
              "fillmode": "overlay",
              "size": 10,
              "solidity": 0.2
             }
            },
            "type": "bar"
           }
          ],
          "barpolar": [
           {
            "marker": {
             "line": {
              "color": "#E5ECF6",
              "width": 0.5
             },
             "pattern": {
              "fillmode": "overlay",
              "size": 10,
              "solidity": 0.2
             }
            },
            "type": "barpolar"
           }
          ],
          "carpet": [
           {
            "aaxis": {
             "endlinecolor": "#2a3f5f",
             "gridcolor": "white",
             "linecolor": "white",
             "minorgridcolor": "white",
             "startlinecolor": "#2a3f5f"
            },
            "baxis": {
             "endlinecolor": "#2a3f5f",
             "gridcolor": "white",
             "linecolor": "white",
             "minorgridcolor": "white",
             "startlinecolor": "#2a3f5f"
            },
            "type": "carpet"
           }
          ],
          "choropleth": [
           {
            "colorbar": {
             "outlinewidth": 0,
             "ticks": ""
            },
            "type": "choropleth"
           }
          ],
          "contour": [
           {
            "colorbar": {
             "outlinewidth": 0,
             "ticks": ""
            },
            "colorscale": [
             [
              0,
              "#0d0887"
             ],
             [
              0.1111111111111111,
              "#46039f"
             ],
             [
              0.2222222222222222,
              "#7201a8"
             ],
             [
              0.3333333333333333,
              "#9c179e"
             ],
             [
              0.4444444444444444,
              "#bd3786"
             ],
             [
              0.5555555555555556,
              "#d8576b"
             ],
             [
              0.6666666666666666,
              "#ed7953"
             ],
             [
              0.7777777777777778,
              "#fb9f3a"
             ],
             [
              0.8888888888888888,
              "#fdca26"
             ],
             [
              1,
              "#f0f921"
             ]
            ],
            "type": "contour"
           }
          ],
          "contourcarpet": [
           {
            "colorbar": {
             "outlinewidth": 0,
             "ticks": ""
            },
            "type": "contourcarpet"
           }
          ],
          "heatmap": [
           {
            "colorbar": {
             "outlinewidth": 0,
             "ticks": ""
            },
            "colorscale": [
             [
              0,
              "#0d0887"
             ],
             [
              0.1111111111111111,
              "#46039f"
             ],
             [
              0.2222222222222222,
              "#7201a8"
             ],
             [
              0.3333333333333333,
              "#9c179e"
             ],
             [
              0.4444444444444444,
              "#bd3786"
             ],
             [
              0.5555555555555556,
              "#d8576b"
             ],
             [
              0.6666666666666666,
              "#ed7953"
             ],
             [
              0.7777777777777778,
              "#fb9f3a"
             ],
             [
              0.8888888888888888,
              "#fdca26"
             ],
             [
              1,
              "#f0f921"
             ]
            ],
            "type": "heatmap"
           }
          ],
          "heatmapgl": [
           {
            "colorbar": {
             "outlinewidth": 0,
             "ticks": ""
            },
            "colorscale": [
             [
              0,
              "#0d0887"
             ],
             [
              0.1111111111111111,
              "#46039f"
             ],
             [
              0.2222222222222222,
              "#7201a8"
             ],
             [
              0.3333333333333333,
              "#9c179e"
             ],
             [
              0.4444444444444444,
              "#bd3786"
             ],
             [
              0.5555555555555556,
              "#d8576b"
             ],
             [
              0.6666666666666666,
              "#ed7953"
             ],
             [
              0.7777777777777778,
              "#fb9f3a"
             ],
             [
              0.8888888888888888,
              "#fdca26"
             ],
             [
              1,
              "#f0f921"
             ]
            ],
            "type": "heatmapgl"
           }
          ],
          "histogram": [
           {
            "marker": {
             "pattern": {
              "fillmode": "overlay",
              "size": 10,
              "solidity": 0.2
             }
            },
            "type": "histogram"
           }
          ],
          "histogram2d": [
           {
            "colorbar": {
             "outlinewidth": 0,
             "ticks": ""
            },
            "colorscale": [
             [
              0,
              "#0d0887"
             ],
             [
              0.1111111111111111,
              "#46039f"
             ],
             [
              0.2222222222222222,
              "#7201a8"
             ],
             [
              0.3333333333333333,
              "#9c179e"
             ],
             [
              0.4444444444444444,
              "#bd3786"
             ],
             [
              0.5555555555555556,
              "#d8576b"
             ],
             [
              0.6666666666666666,
              "#ed7953"
             ],
             [
              0.7777777777777778,
              "#fb9f3a"
             ],
             [
              0.8888888888888888,
              "#fdca26"
             ],
             [
              1,
              "#f0f921"
             ]
            ],
            "type": "histogram2d"
           }
          ],
          "histogram2dcontour": [
           {
            "colorbar": {
             "outlinewidth": 0,
             "ticks": ""
            },
            "colorscale": [
             [
              0,
              "#0d0887"
             ],
             [
              0.1111111111111111,
              "#46039f"
             ],
             [
              0.2222222222222222,
              "#7201a8"
             ],
             [
              0.3333333333333333,
              "#9c179e"
             ],
             [
              0.4444444444444444,
              "#bd3786"
             ],
             [
              0.5555555555555556,
              "#d8576b"
             ],
             [
              0.6666666666666666,
              "#ed7953"
             ],
             [
              0.7777777777777778,
              "#fb9f3a"
             ],
             [
              0.8888888888888888,
              "#fdca26"
             ],
             [
              1,
              "#f0f921"
             ]
            ],
            "type": "histogram2dcontour"
           }
          ],
          "mesh3d": [
           {
            "colorbar": {
             "outlinewidth": 0,
             "ticks": ""
            },
            "type": "mesh3d"
           }
          ],
          "parcoords": [
           {
            "line": {
             "colorbar": {
              "outlinewidth": 0,
              "ticks": ""
             }
            },
            "type": "parcoords"
           }
          ],
          "pie": [
           {
            "automargin": true,
            "type": "pie"
           }
          ],
          "scatter": [
           {
            "marker": {
             "colorbar": {
              "outlinewidth": 0,
              "ticks": ""
             }
            },
            "type": "scatter"
           }
          ],
          "scatter3d": [
           {
            "line": {
             "colorbar": {
              "outlinewidth": 0,
              "ticks": ""
             }
            },
            "marker": {
             "colorbar": {
              "outlinewidth": 0,
              "ticks": ""
             }
            },
            "type": "scatter3d"
           }
          ],
          "scattercarpet": [
           {
            "marker": {
             "colorbar": {
              "outlinewidth": 0,
              "ticks": ""
             }
            },
            "type": "scattercarpet"
           }
          ],
          "scattergeo": [
           {
            "marker": {
             "colorbar": {
              "outlinewidth": 0,
              "ticks": ""
             }
            },
            "type": "scattergeo"
           }
          ],
          "scattergl": [
           {
            "marker": {
             "colorbar": {
              "outlinewidth": 0,
              "ticks": ""
             }
            },
            "type": "scattergl"
           }
          ],
          "scattermapbox": [
           {
            "marker": {
             "colorbar": {
              "outlinewidth": 0,
              "ticks": ""
             }
            },
            "type": "scattermapbox"
           }
          ],
          "scatterpolar": [
           {
            "marker": {
             "colorbar": {
              "outlinewidth": 0,
              "ticks": ""
             }
            },
            "type": "scatterpolar"
           }
          ],
          "scatterpolargl": [
           {
            "marker": {
             "colorbar": {
              "outlinewidth": 0,
              "ticks": ""
             }
            },
            "type": "scatterpolargl"
           }
          ],
          "scatterternary": [
           {
            "marker": {
             "colorbar": {
              "outlinewidth": 0,
              "ticks": ""
             }
            },
            "type": "scatterternary"
           }
          ],
          "surface": [
           {
            "colorbar": {
             "outlinewidth": 0,
             "ticks": ""
            },
            "colorscale": [
             [
              0,
              "#0d0887"
             ],
             [
              0.1111111111111111,
              "#46039f"
             ],
             [
              0.2222222222222222,
              "#7201a8"
             ],
             [
              0.3333333333333333,
              "#9c179e"
             ],
             [
              0.4444444444444444,
              "#bd3786"
             ],
             [
              0.5555555555555556,
              "#d8576b"
             ],
             [
              0.6666666666666666,
              "#ed7953"
             ],
             [
              0.7777777777777778,
              "#fb9f3a"
             ],
             [
              0.8888888888888888,
              "#fdca26"
             ],
             [
              1,
              "#f0f921"
             ]
            ],
            "type": "surface"
           }
          ],
          "table": [
           {
            "cells": {
             "fill": {
              "color": "#EBF0F8"
             },
             "line": {
              "color": "white"
             }
            },
            "header": {
             "fill": {
              "color": "#C8D4E3"
             },
             "line": {
              "color": "white"
             }
            },
            "type": "table"
           }
          ]
         },
         "layout": {
          "annotationdefaults": {
           "arrowcolor": "#2a3f5f",
           "arrowhead": 0,
           "arrowwidth": 1
          },
          "autotypenumbers": "strict",
          "coloraxis": {
           "colorbar": {
            "outlinewidth": 0,
            "ticks": ""
           }
          },
          "colorscale": {
           "diverging": [
            [
             0,
             "#8e0152"
            ],
            [
             0.1,
             "#c51b7d"
            ],
            [
             0.2,
             "#de77ae"
            ],
            [
             0.3,
             "#f1b6da"
            ],
            [
             0.4,
             "#fde0ef"
            ],
            [
             0.5,
             "#f7f7f7"
            ],
            [
             0.6,
             "#e6f5d0"
            ],
            [
             0.7,
             "#b8e186"
            ],
            [
             0.8,
             "#7fbc41"
            ],
            [
             0.9,
             "#4d9221"
            ],
            [
             1,
             "#276419"
            ]
           ],
           "sequential": [
            [
             0,
             "#0d0887"
            ],
            [
             0.1111111111111111,
             "#46039f"
            ],
            [
             0.2222222222222222,
             "#7201a8"
            ],
            [
             0.3333333333333333,
             "#9c179e"
            ],
            [
             0.4444444444444444,
             "#bd3786"
            ],
            [
             0.5555555555555556,
             "#d8576b"
            ],
            [
             0.6666666666666666,
             "#ed7953"
            ],
            [
             0.7777777777777778,
             "#fb9f3a"
            ],
            [
             0.8888888888888888,
             "#fdca26"
            ],
            [
             1,
             "#f0f921"
            ]
           ],
           "sequentialminus": [
            [
             0,
             "#0d0887"
            ],
            [
             0.1111111111111111,
             "#46039f"
            ],
            [
             0.2222222222222222,
             "#7201a8"
            ],
            [
             0.3333333333333333,
             "#9c179e"
            ],
            [
             0.4444444444444444,
             "#bd3786"
            ],
            [
             0.5555555555555556,
             "#d8576b"
            ],
            [
             0.6666666666666666,
             "#ed7953"
            ],
            [
             0.7777777777777778,
             "#fb9f3a"
            ],
            [
             0.8888888888888888,
             "#fdca26"
            ],
            [
             1,
             "#f0f921"
            ]
           ]
          },
          "colorway": [
           "#636efa",
           "#EF553B",
           "#00cc96",
           "#ab63fa",
           "#FFA15A",
           "#19d3f3",
           "#FF6692",
           "#B6E880",
           "#FF97FF",
           "#FECB52"
          ],
          "font": {
           "color": "#2a3f5f"
          },
          "geo": {
           "bgcolor": "white",
           "lakecolor": "white",
           "landcolor": "#E5ECF6",
           "showlakes": true,
           "showland": true,
           "subunitcolor": "white"
          },
          "hoverlabel": {
           "align": "left"
          },
          "hovermode": "closest",
          "mapbox": {
           "style": "light"
          },
          "paper_bgcolor": "white",
          "plot_bgcolor": "#E5ECF6",
          "polar": {
           "angularaxis": {
            "gridcolor": "white",
            "linecolor": "white",
            "ticks": ""
           },
           "bgcolor": "#E5ECF6",
           "radialaxis": {
            "gridcolor": "white",
            "linecolor": "white",
            "ticks": ""
           }
          },
          "scene": {
           "xaxis": {
            "backgroundcolor": "#E5ECF6",
            "gridcolor": "white",
            "gridwidth": 2,
            "linecolor": "white",
            "showbackground": true,
            "ticks": "",
            "zerolinecolor": "white"
           },
           "yaxis": {
            "backgroundcolor": "#E5ECF6",
            "gridcolor": "white",
            "gridwidth": 2,
            "linecolor": "white",
            "showbackground": true,
            "ticks": "",
            "zerolinecolor": "white"
           },
           "zaxis": {
            "backgroundcolor": "#E5ECF6",
            "gridcolor": "white",
            "gridwidth": 2,
            "linecolor": "white",
            "showbackground": true,
            "ticks": "",
            "zerolinecolor": "white"
           }
          },
          "shapedefaults": {
           "line": {
            "color": "#2a3f5f"
           }
          },
          "ternary": {
           "aaxis": {
            "gridcolor": "white",
            "linecolor": "white",
            "ticks": ""
           },
           "baxis": {
            "gridcolor": "white",
            "linecolor": "white",
            "ticks": ""
           },
           "bgcolor": "#E5ECF6",
           "caxis": {
            "gridcolor": "white",
            "linecolor": "white",
            "ticks": ""
           }
          },
          "title": {
           "x": 0.05
          },
          "xaxis": {
           "automargin": true,
           "gridcolor": "white",
           "linecolor": "white",
           "ticks": "",
           "title": {
            "standoff": 15
           },
           "zerolinecolor": "white",
           "zerolinewidth": 2
          },
          "yaxis": {
           "automargin": true,
           "gridcolor": "white",
           "linecolor": "white",
           "ticks": "",
           "title": {
            "standoff": 15
           },
           "zerolinecolor": "white",
           "zerolinewidth": 2
          }
         }
        },
        "title": {
         "font": {
          "color": "#4D5663"
         }
        },
        "xaxis": {
         "gridcolor": "#E1E5ED",
         "showgrid": true,
         "tickfont": {
          "color": "#4D5663"
         },
         "title": {
          "font": {
           "color": "#4D5663"
          },
          "text": ""
         },
         "zerolinecolor": "#E1E5ED"
        },
        "yaxis": {
         "gridcolor": "#E1E5ED",
         "showgrid": true,
         "tickfont": {
          "color": "#4D5663"
         },
         "title": {
          "font": {
           "color": "#4D5663"
          },
          "text": ""
         },
         "zerolinecolor": "#E1E5ED"
        }
       }
      },
      "text/html": [
       "<div>                            <div id=\"7cf1b697-eece-4e29-bcf8-1c6549e91a75\" class=\"plotly-graph-div\" style=\"height:525px; width:100%;\"></div>            <script type=\"text/javascript\">                require([\"plotly\"], function(Plotly) {                    window.PLOTLYENV=window.PLOTLYENV || {};\n",
       "                    window.PLOTLYENV.BASE_URL='https://plot.ly';                                    if (document.getElementById(\"7cf1b697-eece-4e29-bcf8-1c6549e91a75\")) {                    Plotly.newPlot(                        \"7cf1b697-eece-4e29-bcf8-1c6549e91a75\",                        [{\"marker\":{\"color\":\"rgba(255, 153, 51, 0.6)\",\"line\":{\"color\":\"rgba(255, 153, 51, 1.0)\",\"width\":1}},\"name\":\"None\",\"orientation\":\"v\",\"text\":\"\",\"x\":[\"A\",\"B\",\"C\",\"D\"],\"y\":[100,100,100,100],\"type\":\"bar\"}],                        {\"legend\":{\"bgcolor\":\"#F5F6F9\",\"font\":{\"color\":\"#4D5663\"}},\"paper_bgcolor\":\"#F5F6F9\",\"plot_bgcolor\":\"#F5F6F9\",\"template\":{\"data\":{\"barpolar\":[{\"marker\":{\"line\":{\"color\":\"#E5ECF6\",\"width\":0.5},\"pattern\":{\"fillmode\":\"overlay\",\"size\":10,\"solidity\":0.2}},\"type\":\"barpolar\"}],\"bar\":[{\"error_x\":{\"color\":\"#2a3f5f\"},\"error_y\":{\"color\":\"#2a3f5f\"},\"marker\":{\"line\":{\"color\":\"#E5ECF6\",\"width\":0.5},\"pattern\":{\"fillmode\":\"overlay\",\"size\":10,\"solidity\":0.2}},\"type\":\"bar\"}],\"carpet\":[{\"aaxis\":{\"endlinecolor\":\"#2a3f5f\",\"gridcolor\":\"white\",\"linecolor\":\"white\",\"minorgridcolor\":\"white\",\"startlinecolor\":\"#2a3f5f\"},\"baxis\":{\"endlinecolor\":\"#2a3f5f\",\"gridcolor\":\"white\",\"linecolor\":\"white\",\"minorgridcolor\":\"white\",\"startlinecolor\":\"#2a3f5f\"},\"type\":\"carpet\"}],\"choropleth\":[{\"colorbar\":{\"outlinewidth\":0,\"ticks\":\"\"},\"type\":\"choropleth\"}],\"contourcarpet\":[{\"colorbar\":{\"outlinewidth\":0,\"ticks\":\"\"},\"type\":\"contourcarpet\"}],\"contour\":[{\"colorbar\":{\"outlinewidth\":0,\"ticks\":\"\"},\"colorscale\":[[0.0,\"#0d0887\"],[0.1111111111111111,\"#46039f\"],[0.2222222222222222,\"#7201a8\"],[0.3333333333333333,\"#9c179e\"],[0.4444444444444444,\"#bd3786\"],[0.5555555555555556,\"#d8576b\"],[0.6666666666666666,\"#ed7953\"],[0.7777777777777778,\"#fb9f3a\"],[0.8888888888888888,\"#fdca26\"],[1.0,\"#f0f921\"]],\"type\":\"contour\"}],\"heatmapgl\":[{\"colorbar\":{\"outlinewidth\":0,\"ticks\":\"\"},\"colorscale\":[[0.0,\"#0d0887\"],[0.1111111111111111,\"#46039f\"],[0.2222222222222222,\"#7201a8\"],[0.3333333333333333,\"#9c179e\"],[0.4444444444444444,\"#bd3786\"],[0.5555555555555556,\"#d8576b\"],[0.6666666666666666,\"#ed7953\"],[0.7777777777777778,\"#fb9f3a\"],[0.8888888888888888,\"#fdca26\"],[1.0,\"#f0f921\"]],\"type\":\"heatmapgl\"}],\"heatmap\":[{\"colorbar\":{\"outlinewidth\":0,\"ticks\":\"\"},\"colorscale\":[[0.0,\"#0d0887\"],[0.1111111111111111,\"#46039f\"],[0.2222222222222222,\"#7201a8\"],[0.3333333333333333,\"#9c179e\"],[0.4444444444444444,\"#bd3786\"],[0.5555555555555556,\"#d8576b\"],[0.6666666666666666,\"#ed7953\"],[0.7777777777777778,\"#fb9f3a\"],[0.8888888888888888,\"#fdca26\"],[1.0,\"#f0f921\"]],\"type\":\"heatmap\"}],\"histogram2dcontour\":[{\"colorbar\":{\"outlinewidth\":0,\"ticks\":\"\"},\"colorscale\":[[0.0,\"#0d0887\"],[0.1111111111111111,\"#46039f\"],[0.2222222222222222,\"#7201a8\"],[0.3333333333333333,\"#9c179e\"],[0.4444444444444444,\"#bd3786\"],[0.5555555555555556,\"#d8576b\"],[0.6666666666666666,\"#ed7953\"],[0.7777777777777778,\"#fb9f3a\"],[0.8888888888888888,\"#fdca26\"],[1.0,\"#f0f921\"]],\"type\":\"histogram2dcontour\"}],\"histogram2d\":[{\"colorbar\":{\"outlinewidth\":0,\"ticks\":\"\"},\"colorscale\":[[0.0,\"#0d0887\"],[0.1111111111111111,\"#46039f\"],[0.2222222222222222,\"#7201a8\"],[0.3333333333333333,\"#9c179e\"],[0.4444444444444444,\"#bd3786\"],[0.5555555555555556,\"#d8576b\"],[0.6666666666666666,\"#ed7953\"],[0.7777777777777778,\"#fb9f3a\"],[0.8888888888888888,\"#fdca26\"],[1.0,\"#f0f921\"]],\"type\":\"histogram2d\"}],\"histogram\":[{\"marker\":{\"pattern\":{\"fillmode\":\"overlay\",\"size\":10,\"solidity\":0.2}},\"type\":\"histogram\"}],\"mesh3d\":[{\"colorbar\":{\"outlinewidth\":0,\"ticks\":\"\"},\"type\":\"mesh3d\"}],\"parcoords\":[{\"line\":{\"colorbar\":{\"outlinewidth\":0,\"ticks\":\"\"}},\"type\":\"parcoords\"}],\"pie\":[{\"automargin\":true,\"type\":\"pie\"}],\"scatter3d\":[{\"line\":{\"colorbar\":{\"outlinewidth\":0,\"ticks\":\"\"}},\"marker\":{\"colorbar\":{\"outlinewidth\":0,\"ticks\":\"\"}},\"type\":\"scatter3d\"}],\"scattercarpet\":[{\"marker\":{\"colorbar\":{\"outlinewidth\":0,\"ticks\":\"\"}},\"type\":\"scattercarpet\"}],\"scattergeo\":[{\"marker\":{\"colorbar\":{\"outlinewidth\":0,\"ticks\":\"\"}},\"type\":\"scattergeo\"}],\"scattergl\":[{\"marker\":{\"colorbar\":{\"outlinewidth\":0,\"ticks\":\"\"}},\"type\":\"scattergl\"}],\"scattermapbox\":[{\"marker\":{\"colorbar\":{\"outlinewidth\":0,\"ticks\":\"\"}},\"type\":\"scattermapbox\"}],\"scatterpolargl\":[{\"marker\":{\"colorbar\":{\"outlinewidth\":0,\"ticks\":\"\"}},\"type\":\"scatterpolargl\"}],\"scatterpolar\":[{\"marker\":{\"colorbar\":{\"outlinewidth\":0,\"ticks\":\"\"}},\"type\":\"scatterpolar\"}],\"scatter\":[{\"marker\":{\"colorbar\":{\"outlinewidth\":0,\"ticks\":\"\"}},\"type\":\"scatter\"}],\"scatterternary\":[{\"marker\":{\"colorbar\":{\"outlinewidth\":0,\"ticks\":\"\"}},\"type\":\"scatterternary\"}],\"surface\":[{\"colorbar\":{\"outlinewidth\":0,\"ticks\":\"\"},\"colorscale\":[[0.0,\"#0d0887\"],[0.1111111111111111,\"#46039f\"],[0.2222222222222222,\"#7201a8\"],[0.3333333333333333,\"#9c179e\"],[0.4444444444444444,\"#bd3786\"],[0.5555555555555556,\"#d8576b\"],[0.6666666666666666,\"#ed7953\"],[0.7777777777777778,\"#fb9f3a\"],[0.8888888888888888,\"#fdca26\"],[1.0,\"#f0f921\"]],\"type\":\"surface\"}],\"table\":[{\"cells\":{\"fill\":{\"color\":\"#EBF0F8\"},\"line\":{\"color\":\"white\"}},\"header\":{\"fill\":{\"color\":\"#C8D4E3\"},\"line\":{\"color\":\"white\"}},\"type\":\"table\"}]},\"layout\":{\"annotationdefaults\":{\"arrowcolor\":\"#2a3f5f\",\"arrowhead\":0,\"arrowwidth\":1},\"autotypenumbers\":\"strict\",\"coloraxis\":{\"colorbar\":{\"outlinewidth\":0,\"ticks\":\"\"}},\"colorscale\":{\"diverging\":[[0,\"#8e0152\"],[0.1,\"#c51b7d\"],[0.2,\"#de77ae\"],[0.3,\"#f1b6da\"],[0.4,\"#fde0ef\"],[0.5,\"#f7f7f7\"],[0.6,\"#e6f5d0\"],[0.7,\"#b8e186\"],[0.8,\"#7fbc41\"],[0.9,\"#4d9221\"],[1,\"#276419\"]],\"sequential\":[[0.0,\"#0d0887\"],[0.1111111111111111,\"#46039f\"],[0.2222222222222222,\"#7201a8\"],[0.3333333333333333,\"#9c179e\"],[0.4444444444444444,\"#bd3786\"],[0.5555555555555556,\"#d8576b\"],[0.6666666666666666,\"#ed7953\"],[0.7777777777777778,\"#fb9f3a\"],[0.8888888888888888,\"#fdca26\"],[1.0,\"#f0f921\"]],\"sequentialminus\":[[0.0,\"#0d0887\"],[0.1111111111111111,\"#46039f\"],[0.2222222222222222,\"#7201a8\"],[0.3333333333333333,\"#9c179e\"],[0.4444444444444444,\"#bd3786\"],[0.5555555555555556,\"#d8576b\"],[0.6666666666666666,\"#ed7953\"],[0.7777777777777778,\"#fb9f3a\"],[0.8888888888888888,\"#fdca26\"],[1.0,\"#f0f921\"]]},\"colorway\":[\"#636efa\",\"#EF553B\",\"#00cc96\",\"#ab63fa\",\"#FFA15A\",\"#19d3f3\",\"#FF6692\",\"#B6E880\",\"#FF97FF\",\"#FECB52\"],\"font\":{\"color\":\"#2a3f5f\"},\"geo\":{\"bgcolor\":\"white\",\"lakecolor\":\"white\",\"landcolor\":\"#E5ECF6\",\"showlakes\":true,\"showland\":true,\"subunitcolor\":\"white\"},\"hoverlabel\":{\"align\":\"left\"},\"hovermode\":\"closest\",\"mapbox\":{\"style\":\"light\"},\"paper_bgcolor\":\"white\",\"plot_bgcolor\":\"#E5ECF6\",\"polar\":{\"angularaxis\":{\"gridcolor\":\"white\",\"linecolor\":\"white\",\"ticks\":\"\"},\"bgcolor\":\"#E5ECF6\",\"radialaxis\":{\"gridcolor\":\"white\",\"linecolor\":\"white\",\"ticks\":\"\"}},\"scene\":{\"xaxis\":{\"backgroundcolor\":\"#E5ECF6\",\"gridcolor\":\"white\",\"gridwidth\":2,\"linecolor\":\"white\",\"showbackground\":true,\"ticks\":\"\",\"zerolinecolor\":\"white\"},\"yaxis\":{\"backgroundcolor\":\"#E5ECF6\",\"gridcolor\":\"white\",\"gridwidth\":2,\"linecolor\":\"white\",\"showbackground\":true,\"ticks\":\"\",\"zerolinecolor\":\"white\"},\"zaxis\":{\"backgroundcolor\":\"#E5ECF6\",\"gridcolor\":\"white\",\"gridwidth\":2,\"linecolor\":\"white\",\"showbackground\":true,\"ticks\":\"\",\"zerolinecolor\":\"white\"}},\"shapedefaults\":{\"line\":{\"color\":\"#2a3f5f\"}},\"ternary\":{\"aaxis\":{\"gridcolor\":\"white\",\"linecolor\":\"white\",\"ticks\":\"\"},\"baxis\":{\"gridcolor\":\"white\",\"linecolor\":\"white\",\"ticks\":\"\"},\"bgcolor\":\"#E5ECF6\",\"caxis\":{\"gridcolor\":\"white\",\"linecolor\":\"white\",\"ticks\":\"\"}},\"title\":{\"x\":0.05},\"xaxis\":{\"automargin\":true,\"gridcolor\":\"white\",\"linecolor\":\"white\",\"ticks\":\"\",\"title\":{\"standoff\":15},\"zerolinecolor\":\"white\",\"zerolinewidth\":2},\"yaxis\":{\"automargin\":true,\"gridcolor\":\"white\",\"linecolor\":\"white\",\"ticks\":\"\",\"title\":{\"standoff\":15},\"zerolinecolor\":\"white\",\"zerolinewidth\":2}}},\"title\":{\"font\":{\"color\":\"#4D5663\"}},\"xaxis\":{\"gridcolor\":\"#E1E5ED\",\"showgrid\":true,\"tickfont\":{\"color\":\"#4D5663\"},\"title\":{\"font\":{\"color\":\"#4D5663\"},\"text\":\"\"},\"zerolinecolor\":\"#E1E5ED\"},\"yaxis\":{\"gridcolor\":\"#E1E5ED\",\"showgrid\":true,\"tickfont\":{\"color\":\"#4D5663\"},\"title\":{\"font\":{\"color\":\"#4D5663\"},\"text\":\"\"},\"zerolinecolor\":\"#E1E5ED\"}},                        {\"showLink\": true, \"linkText\": \"Export to plot.ly\", \"plotlyServerURL\": \"https://plot.ly\", \"responsive\": true}                    ).then(function(){\n",
       "                            \n",
       "var gd = document.getElementById('7cf1b697-eece-4e29-bcf8-1c6549e91a75');\n",
       "var x = new MutationObserver(function (mutations, observer) {{\n",
       "        var display = window.getComputedStyle(gd).display;\n",
       "        if (!display || display === 'none') {{\n",
       "            console.log([gd, 'removed!']);\n",
       "            Plotly.purge(gd);\n",
       "            observer.disconnect();\n",
       "        }}\n",
       "}});\n",
       "\n",
       "// Listen for the removal of the full notebook cells\n",
       "var notebookContainer = gd.closest('#notebook-container');\n",
       "if (notebookContainer) {{\n",
       "    x.observe(notebookContainer, {childList: true});\n",
       "}}\n",
       "\n",
       "// Listen for the clearing of the current output cell\n",
       "var outputEl = gd.closest('.output');\n",
       "if (outputEl) {{\n",
       "    x.observe(outputEl, {childList: true});\n",
       "}}\n",
       "\n",
       "                        })                };                });            </script>        </div>"
      ]
     },
     "metadata": {},
     "output_type": "display_data"
    }
   ],
   "source": [
    "df.count().iplot(kind='bar')"
   ]
  },
  {
   "cell_type": "code",
   "execution_count": 35,
   "id": "37770860",
   "metadata": {},
   "outputs": [
    {
     "data": {
      "application/vnd.plotly.v1+json": {
       "config": {
        "linkText": "Export to plot.ly",
        "plotlyServerURL": "https://plot.ly",
        "showLink": true
       },
       "data": [
        {
         "marker": {
          "color": "rgba(255, 153, 51, 0.6)",
          "line": {
           "color": "rgba(255, 153, 51, 1.0)",
           "width": 1
          }
         },
         "name": "None",
         "orientation": "v",
         "text": "",
         "type": "bar",
         "x": [
          "A",
          "B",
          "C",
          "D"
         ],
         "y": [
          5.846319757130908,
          -11.58703312202172,
          -18.45891995801483,
          11.360984477970858
         ]
        }
       ],
       "layout": {
        "legend": {
         "bgcolor": "#F5F6F9",
         "font": {
          "color": "#4D5663"
         }
        },
        "paper_bgcolor": "#F5F6F9",
        "plot_bgcolor": "#F5F6F9",
        "template": {
         "data": {
          "bar": [
           {
            "error_x": {
             "color": "#2a3f5f"
            },
            "error_y": {
             "color": "#2a3f5f"
            },
            "marker": {
             "line": {
              "color": "#E5ECF6",
              "width": 0.5
             },
             "pattern": {
              "fillmode": "overlay",
              "size": 10,
              "solidity": 0.2
             }
            },
            "type": "bar"
           }
          ],
          "barpolar": [
           {
            "marker": {
             "line": {
              "color": "#E5ECF6",
              "width": 0.5
             },
             "pattern": {
              "fillmode": "overlay",
              "size": 10,
              "solidity": 0.2
             }
            },
            "type": "barpolar"
           }
          ],
          "carpet": [
           {
            "aaxis": {
             "endlinecolor": "#2a3f5f",
             "gridcolor": "white",
             "linecolor": "white",
             "minorgridcolor": "white",
             "startlinecolor": "#2a3f5f"
            },
            "baxis": {
             "endlinecolor": "#2a3f5f",
             "gridcolor": "white",
             "linecolor": "white",
             "minorgridcolor": "white",
             "startlinecolor": "#2a3f5f"
            },
            "type": "carpet"
           }
          ],
          "choropleth": [
           {
            "colorbar": {
             "outlinewidth": 0,
             "ticks": ""
            },
            "type": "choropleth"
           }
          ],
          "contour": [
           {
            "colorbar": {
             "outlinewidth": 0,
             "ticks": ""
            },
            "colorscale": [
             [
              0,
              "#0d0887"
             ],
             [
              0.1111111111111111,
              "#46039f"
             ],
             [
              0.2222222222222222,
              "#7201a8"
             ],
             [
              0.3333333333333333,
              "#9c179e"
             ],
             [
              0.4444444444444444,
              "#bd3786"
             ],
             [
              0.5555555555555556,
              "#d8576b"
             ],
             [
              0.6666666666666666,
              "#ed7953"
             ],
             [
              0.7777777777777778,
              "#fb9f3a"
             ],
             [
              0.8888888888888888,
              "#fdca26"
             ],
             [
              1,
              "#f0f921"
             ]
            ],
            "type": "contour"
           }
          ],
          "contourcarpet": [
           {
            "colorbar": {
             "outlinewidth": 0,
             "ticks": ""
            },
            "type": "contourcarpet"
           }
          ],
          "heatmap": [
           {
            "colorbar": {
             "outlinewidth": 0,
             "ticks": ""
            },
            "colorscale": [
             [
              0,
              "#0d0887"
             ],
             [
              0.1111111111111111,
              "#46039f"
             ],
             [
              0.2222222222222222,
              "#7201a8"
             ],
             [
              0.3333333333333333,
              "#9c179e"
             ],
             [
              0.4444444444444444,
              "#bd3786"
             ],
             [
              0.5555555555555556,
              "#d8576b"
             ],
             [
              0.6666666666666666,
              "#ed7953"
             ],
             [
              0.7777777777777778,
              "#fb9f3a"
             ],
             [
              0.8888888888888888,
              "#fdca26"
             ],
             [
              1,
              "#f0f921"
             ]
            ],
            "type": "heatmap"
           }
          ],
          "heatmapgl": [
           {
            "colorbar": {
             "outlinewidth": 0,
             "ticks": ""
            },
            "colorscale": [
             [
              0,
              "#0d0887"
             ],
             [
              0.1111111111111111,
              "#46039f"
             ],
             [
              0.2222222222222222,
              "#7201a8"
             ],
             [
              0.3333333333333333,
              "#9c179e"
             ],
             [
              0.4444444444444444,
              "#bd3786"
             ],
             [
              0.5555555555555556,
              "#d8576b"
             ],
             [
              0.6666666666666666,
              "#ed7953"
             ],
             [
              0.7777777777777778,
              "#fb9f3a"
             ],
             [
              0.8888888888888888,
              "#fdca26"
             ],
             [
              1,
              "#f0f921"
             ]
            ],
            "type": "heatmapgl"
           }
          ],
          "histogram": [
           {
            "marker": {
             "pattern": {
              "fillmode": "overlay",
              "size": 10,
              "solidity": 0.2
             }
            },
            "type": "histogram"
           }
          ],
          "histogram2d": [
           {
            "colorbar": {
             "outlinewidth": 0,
             "ticks": ""
            },
            "colorscale": [
             [
              0,
              "#0d0887"
             ],
             [
              0.1111111111111111,
              "#46039f"
             ],
             [
              0.2222222222222222,
              "#7201a8"
             ],
             [
              0.3333333333333333,
              "#9c179e"
             ],
             [
              0.4444444444444444,
              "#bd3786"
             ],
             [
              0.5555555555555556,
              "#d8576b"
             ],
             [
              0.6666666666666666,
              "#ed7953"
             ],
             [
              0.7777777777777778,
              "#fb9f3a"
             ],
             [
              0.8888888888888888,
              "#fdca26"
             ],
             [
              1,
              "#f0f921"
             ]
            ],
            "type": "histogram2d"
           }
          ],
          "histogram2dcontour": [
           {
            "colorbar": {
             "outlinewidth": 0,
             "ticks": ""
            },
            "colorscale": [
             [
              0,
              "#0d0887"
             ],
             [
              0.1111111111111111,
              "#46039f"
             ],
             [
              0.2222222222222222,
              "#7201a8"
             ],
             [
              0.3333333333333333,
              "#9c179e"
             ],
             [
              0.4444444444444444,
              "#bd3786"
             ],
             [
              0.5555555555555556,
              "#d8576b"
             ],
             [
              0.6666666666666666,
              "#ed7953"
             ],
             [
              0.7777777777777778,
              "#fb9f3a"
             ],
             [
              0.8888888888888888,
              "#fdca26"
             ],
             [
              1,
              "#f0f921"
             ]
            ],
            "type": "histogram2dcontour"
           }
          ],
          "mesh3d": [
           {
            "colorbar": {
             "outlinewidth": 0,
             "ticks": ""
            },
            "type": "mesh3d"
           }
          ],
          "parcoords": [
           {
            "line": {
             "colorbar": {
              "outlinewidth": 0,
              "ticks": ""
             }
            },
            "type": "parcoords"
           }
          ],
          "pie": [
           {
            "automargin": true,
            "type": "pie"
           }
          ],
          "scatter": [
           {
            "marker": {
             "colorbar": {
              "outlinewidth": 0,
              "ticks": ""
             }
            },
            "type": "scatter"
           }
          ],
          "scatter3d": [
           {
            "line": {
             "colorbar": {
              "outlinewidth": 0,
              "ticks": ""
             }
            },
            "marker": {
             "colorbar": {
              "outlinewidth": 0,
              "ticks": ""
             }
            },
            "type": "scatter3d"
           }
          ],
          "scattercarpet": [
           {
            "marker": {
             "colorbar": {
              "outlinewidth": 0,
              "ticks": ""
             }
            },
            "type": "scattercarpet"
           }
          ],
          "scattergeo": [
           {
            "marker": {
             "colorbar": {
              "outlinewidth": 0,
              "ticks": ""
             }
            },
            "type": "scattergeo"
           }
          ],
          "scattergl": [
           {
            "marker": {
             "colorbar": {
              "outlinewidth": 0,
              "ticks": ""
             }
            },
            "type": "scattergl"
           }
          ],
          "scattermapbox": [
           {
            "marker": {
             "colorbar": {
              "outlinewidth": 0,
              "ticks": ""
             }
            },
            "type": "scattermapbox"
           }
          ],
          "scatterpolar": [
           {
            "marker": {
             "colorbar": {
              "outlinewidth": 0,
              "ticks": ""
             }
            },
            "type": "scatterpolar"
           }
          ],
          "scatterpolargl": [
           {
            "marker": {
             "colorbar": {
              "outlinewidth": 0,
              "ticks": ""
             }
            },
            "type": "scatterpolargl"
           }
          ],
          "scatterternary": [
           {
            "marker": {
             "colorbar": {
              "outlinewidth": 0,
              "ticks": ""
             }
            },
            "type": "scatterternary"
           }
          ],
          "surface": [
           {
            "colorbar": {
             "outlinewidth": 0,
             "ticks": ""
            },
            "colorscale": [
             [
              0,
              "#0d0887"
             ],
             [
              0.1111111111111111,
              "#46039f"
             ],
             [
              0.2222222222222222,
              "#7201a8"
             ],
             [
              0.3333333333333333,
              "#9c179e"
             ],
             [
              0.4444444444444444,
              "#bd3786"
             ],
             [
              0.5555555555555556,
              "#d8576b"
             ],
             [
              0.6666666666666666,
              "#ed7953"
             ],
             [
              0.7777777777777778,
              "#fb9f3a"
             ],
             [
              0.8888888888888888,
              "#fdca26"
             ],
             [
              1,
              "#f0f921"
             ]
            ],
            "type": "surface"
           }
          ],
          "table": [
           {
            "cells": {
             "fill": {
              "color": "#EBF0F8"
             },
             "line": {
              "color": "white"
             }
            },
            "header": {
             "fill": {
              "color": "#C8D4E3"
             },
             "line": {
              "color": "white"
             }
            },
            "type": "table"
           }
          ]
         },
         "layout": {
          "annotationdefaults": {
           "arrowcolor": "#2a3f5f",
           "arrowhead": 0,
           "arrowwidth": 1
          },
          "autotypenumbers": "strict",
          "coloraxis": {
           "colorbar": {
            "outlinewidth": 0,
            "ticks": ""
           }
          },
          "colorscale": {
           "diverging": [
            [
             0,
             "#8e0152"
            ],
            [
             0.1,
             "#c51b7d"
            ],
            [
             0.2,
             "#de77ae"
            ],
            [
             0.3,
             "#f1b6da"
            ],
            [
             0.4,
             "#fde0ef"
            ],
            [
             0.5,
             "#f7f7f7"
            ],
            [
             0.6,
             "#e6f5d0"
            ],
            [
             0.7,
             "#b8e186"
            ],
            [
             0.8,
             "#7fbc41"
            ],
            [
             0.9,
             "#4d9221"
            ],
            [
             1,
             "#276419"
            ]
           ],
           "sequential": [
            [
             0,
             "#0d0887"
            ],
            [
             0.1111111111111111,
             "#46039f"
            ],
            [
             0.2222222222222222,
             "#7201a8"
            ],
            [
             0.3333333333333333,
             "#9c179e"
            ],
            [
             0.4444444444444444,
             "#bd3786"
            ],
            [
             0.5555555555555556,
             "#d8576b"
            ],
            [
             0.6666666666666666,
             "#ed7953"
            ],
            [
             0.7777777777777778,
             "#fb9f3a"
            ],
            [
             0.8888888888888888,
             "#fdca26"
            ],
            [
             1,
             "#f0f921"
            ]
           ],
           "sequentialminus": [
            [
             0,
             "#0d0887"
            ],
            [
             0.1111111111111111,
             "#46039f"
            ],
            [
             0.2222222222222222,
             "#7201a8"
            ],
            [
             0.3333333333333333,
             "#9c179e"
            ],
            [
             0.4444444444444444,
             "#bd3786"
            ],
            [
             0.5555555555555556,
             "#d8576b"
            ],
            [
             0.6666666666666666,
             "#ed7953"
            ],
            [
             0.7777777777777778,
             "#fb9f3a"
            ],
            [
             0.8888888888888888,
             "#fdca26"
            ],
            [
             1,
             "#f0f921"
            ]
           ]
          },
          "colorway": [
           "#636efa",
           "#EF553B",
           "#00cc96",
           "#ab63fa",
           "#FFA15A",
           "#19d3f3",
           "#FF6692",
           "#B6E880",
           "#FF97FF",
           "#FECB52"
          ],
          "font": {
           "color": "#2a3f5f"
          },
          "geo": {
           "bgcolor": "white",
           "lakecolor": "white",
           "landcolor": "#E5ECF6",
           "showlakes": true,
           "showland": true,
           "subunitcolor": "white"
          },
          "hoverlabel": {
           "align": "left"
          },
          "hovermode": "closest",
          "mapbox": {
           "style": "light"
          },
          "paper_bgcolor": "white",
          "plot_bgcolor": "#E5ECF6",
          "polar": {
           "angularaxis": {
            "gridcolor": "white",
            "linecolor": "white",
            "ticks": ""
           },
           "bgcolor": "#E5ECF6",
           "radialaxis": {
            "gridcolor": "white",
            "linecolor": "white",
            "ticks": ""
           }
          },
          "scene": {
           "xaxis": {
            "backgroundcolor": "#E5ECF6",
            "gridcolor": "white",
            "gridwidth": 2,
            "linecolor": "white",
            "showbackground": true,
            "ticks": "",
            "zerolinecolor": "white"
           },
           "yaxis": {
            "backgroundcolor": "#E5ECF6",
            "gridcolor": "white",
            "gridwidth": 2,
            "linecolor": "white",
            "showbackground": true,
            "ticks": "",
            "zerolinecolor": "white"
           },
           "zaxis": {
            "backgroundcolor": "#E5ECF6",
            "gridcolor": "white",
            "gridwidth": 2,
            "linecolor": "white",
            "showbackground": true,
            "ticks": "",
            "zerolinecolor": "white"
           }
          },
          "shapedefaults": {
           "line": {
            "color": "#2a3f5f"
           }
          },
          "ternary": {
           "aaxis": {
            "gridcolor": "white",
            "linecolor": "white",
            "ticks": ""
           },
           "baxis": {
            "gridcolor": "white",
            "linecolor": "white",
            "ticks": ""
           },
           "bgcolor": "#E5ECF6",
           "caxis": {
            "gridcolor": "white",
            "linecolor": "white",
            "ticks": ""
           }
          },
          "title": {
           "x": 0.05
          },
          "xaxis": {
           "automargin": true,
           "gridcolor": "white",
           "linecolor": "white",
           "ticks": "",
           "title": {
            "standoff": 15
           },
           "zerolinecolor": "white",
           "zerolinewidth": 2
          },
          "yaxis": {
           "automargin": true,
           "gridcolor": "white",
           "linecolor": "white",
           "ticks": "",
           "title": {
            "standoff": 15
           },
           "zerolinecolor": "white",
           "zerolinewidth": 2
          }
         }
        },
        "title": {
         "font": {
          "color": "#4D5663"
         }
        },
        "xaxis": {
         "gridcolor": "#E1E5ED",
         "showgrid": true,
         "tickfont": {
          "color": "#4D5663"
         },
         "title": {
          "font": {
           "color": "#4D5663"
          },
          "text": ""
         },
         "zerolinecolor": "#E1E5ED"
        },
        "yaxis": {
         "gridcolor": "#E1E5ED",
         "showgrid": true,
         "tickfont": {
          "color": "#4D5663"
         },
         "title": {
          "font": {
           "color": "#4D5663"
          },
          "text": ""
         },
         "zerolinecolor": "#E1E5ED"
        }
       }
      },
      "text/html": [
       "<div>                            <div id=\"6754d405-3742-4404-8eff-dd055d8a0ea4\" class=\"plotly-graph-div\" style=\"height:525px; width:100%;\"></div>            <script type=\"text/javascript\">                require([\"plotly\"], function(Plotly) {                    window.PLOTLYENV=window.PLOTLYENV || {};\n",
       "                    window.PLOTLYENV.BASE_URL='https://plot.ly';                                    if (document.getElementById(\"6754d405-3742-4404-8eff-dd055d8a0ea4\")) {                    Plotly.newPlot(                        \"6754d405-3742-4404-8eff-dd055d8a0ea4\",                        [{\"marker\":{\"color\":\"rgba(255, 153, 51, 0.6)\",\"line\":{\"color\":\"rgba(255, 153, 51, 1.0)\",\"width\":1}},\"name\":\"None\",\"orientation\":\"v\",\"text\":\"\",\"x\":[\"A\",\"B\",\"C\",\"D\"],\"y\":[5.846319757130908,-11.58703312202172,-18.45891995801483,11.360984477970858],\"type\":\"bar\"}],                        {\"legend\":{\"bgcolor\":\"#F5F6F9\",\"font\":{\"color\":\"#4D5663\"}},\"paper_bgcolor\":\"#F5F6F9\",\"plot_bgcolor\":\"#F5F6F9\",\"template\":{\"data\":{\"barpolar\":[{\"marker\":{\"line\":{\"color\":\"#E5ECF6\",\"width\":0.5},\"pattern\":{\"fillmode\":\"overlay\",\"size\":10,\"solidity\":0.2}},\"type\":\"barpolar\"}],\"bar\":[{\"error_x\":{\"color\":\"#2a3f5f\"},\"error_y\":{\"color\":\"#2a3f5f\"},\"marker\":{\"line\":{\"color\":\"#E5ECF6\",\"width\":0.5},\"pattern\":{\"fillmode\":\"overlay\",\"size\":10,\"solidity\":0.2}},\"type\":\"bar\"}],\"carpet\":[{\"aaxis\":{\"endlinecolor\":\"#2a3f5f\",\"gridcolor\":\"white\",\"linecolor\":\"white\",\"minorgridcolor\":\"white\",\"startlinecolor\":\"#2a3f5f\"},\"baxis\":{\"endlinecolor\":\"#2a3f5f\",\"gridcolor\":\"white\",\"linecolor\":\"white\",\"minorgridcolor\":\"white\",\"startlinecolor\":\"#2a3f5f\"},\"type\":\"carpet\"}],\"choropleth\":[{\"colorbar\":{\"outlinewidth\":0,\"ticks\":\"\"},\"type\":\"choropleth\"}],\"contourcarpet\":[{\"colorbar\":{\"outlinewidth\":0,\"ticks\":\"\"},\"type\":\"contourcarpet\"}],\"contour\":[{\"colorbar\":{\"outlinewidth\":0,\"ticks\":\"\"},\"colorscale\":[[0.0,\"#0d0887\"],[0.1111111111111111,\"#46039f\"],[0.2222222222222222,\"#7201a8\"],[0.3333333333333333,\"#9c179e\"],[0.4444444444444444,\"#bd3786\"],[0.5555555555555556,\"#d8576b\"],[0.6666666666666666,\"#ed7953\"],[0.7777777777777778,\"#fb9f3a\"],[0.8888888888888888,\"#fdca26\"],[1.0,\"#f0f921\"]],\"type\":\"contour\"}],\"heatmapgl\":[{\"colorbar\":{\"outlinewidth\":0,\"ticks\":\"\"},\"colorscale\":[[0.0,\"#0d0887\"],[0.1111111111111111,\"#46039f\"],[0.2222222222222222,\"#7201a8\"],[0.3333333333333333,\"#9c179e\"],[0.4444444444444444,\"#bd3786\"],[0.5555555555555556,\"#d8576b\"],[0.6666666666666666,\"#ed7953\"],[0.7777777777777778,\"#fb9f3a\"],[0.8888888888888888,\"#fdca26\"],[1.0,\"#f0f921\"]],\"type\":\"heatmapgl\"}],\"heatmap\":[{\"colorbar\":{\"outlinewidth\":0,\"ticks\":\"\"},\"colorscale\":[[0.0,\"#0d0887\"],[0.1111111111111111,\"#46039f\"],[0.2222222222222222,\"#7201a8\"],[0.3333333333333333,\"#9c179e\"],[0.4444444444444444,\"#bd3786\"],[0.5555555555555556,\"#d8576b\"],[0.6666666666666666,\"#ed7953\"],[0.7777777777777778,\"#fb9f3a\"],[0.8888888888888888,\"#fdca26\"],[1.0,\"#f0f921\"]],\"type\":\"heatmap\"}],\"histogram2dcontour\":[{\"colorbar\":{\"outlinewidth\":0,\"ticks\":\"\"},\"colorscale\":[[0.0,\"#0d0887\"],[0.1111111111111111,\"#46039f\"],[0.2222222222222222,\"#7201a8\"],[0.3333333333333333,\"#9c179e\"],[0.4444444444444444,\"#bd3786\"],[0.5555555555555556,\"#d8576b\"],[0.6666666666666666,\"#ed7953\"],[0.7777777777777778,\"#fb9f3a\"],[0.8888888888888888,\"#fdca26\"],[1.0,\"#f0f921\"]],\"type\":\"histogram2dcontour\"}],\"histogram2d\":[{\"colorbar\":{\"outlinewidth\":0,\"ticks\":\"\"},\"colorscale\":[[0.0,\"#0d0887\"],[0.1111111111111111,\"#46039f\"],[0.2222222222222222,\"#7201a8\"],[0.3333333333333333,\"#9c179e\"],[0.4444444444444444,\"#bd3786\"],[0.5555555555555556,\"#d8576b\"],[0.6666666666666666,\"#ed7953\"],[0.7777777777777778,\"#fb9f3a\"],[0.8888888888888888,\"#fdca26\"],[1.0,\"#f0f921\"]],\"type\":\"histogram2d\"}],\"histogram\":[{\"marker\":{\"pattern\":{\"fillmode\":\"overlay\",\"size\":10,\"solidity\":0.2}},\"type\":\"histogram\"}],\"mesh3d\":[{\"colorbar\":{\"outlinewidth\":0,\"ticks\":\"\"},\"type\":\"mesh3d\"}],\"parcoords\":[{\"line\":{\"colorbar\":{\"outlinewidth\":0,\"ticks\":\"\"}},\"type\":\"parcoords\"}],\"pie\":[{\"automargin\":true,\"type\":\"pie\"}],\"scatter3d\":[{\"line\":{\"colorbar\":{\"outlinewidth\":0,\"ticks\":\"\"}},\"marker\":{\"colorbar\":{\"outlinewidth\":0,\"ticks\":\"\"}},\"type\":\"scatter3d\"}],\"scattercarpet\":[{\"marker\":{\"colorbar\":{\"outlinewidth\":0,\"ticks\":\"\"}},\"type\":\"scattercarpet\"}],\"scattergeo\":[{\"marker\":{\"colorbar\":{\"outlinewidth\":0,\"ticks\":\"\"}},\"type\":\"scattergeo\"}],\"scattergl\":[{\"marker\":{\"colorbar\":{\"outlinewidth\":0,\"ticks\":\"\"}},\"type\":\"scattergl\"}],\"scattermapbox\":[{\"marker\":{\"colorbar\":{\"outlinewidth\":0,\"ticks\":\"\"}},\"type\":\"scattermapbox\"}],\"scatterpolargl\":[{\"marker\":{\"colorbar\":{\"outlinewidth\":0,\"ticks\":\"\"}},\"type\":\"scatterpolargl\"}],\"scatterpolar\":[{\"marker\":{\"colorbar\":{\"outlinewidth\":0,\"ticks\":\"\"}},\"type\":\"scatterpolar\"}],\"scatter\":[{\"marker\":{\"colorbar\":{\"outlinewidth\":0,\"ticks\":\"\"}},\"type\":\"scatter\"}],\"scatterternary\":[{\"marker\":{\"colorbar\":{\"outlinewidth\":0,\"ticks\":\"\"}},\"type\":\"scatterternary\"}],\"surface\":[{\"colorbar\":{\"outlinewidth\":0,\"ticks\":\"\"},\"colorscale\":[[0.0,\"#0d0887\"],[0.1111111111111111,\"#46039f\"],[0.2222222222222222,\"#7201a8\"],[0.3333333333333333,\"#9c179e\"],[0.4444444444444444,\"#bd3786\"],[0.5555555555555556,\"#d8576b\"],[0.6666666666666666,\"#ed7953\"],[0.7777777777777778,\"#fb9f3a\"],[0.8888888888888888,\"#fdca26\"],[1.0,\"#f0f921\"]],\"type\":\"surface\"}],\"table\":[{\"cells\":{\"fill\":{\"color\":\"#EBF0F8\"},\"line\":{\"color\":\"white\"}},\"header\":{\"fill\":{\"color\":\"#C8D4E3\"},\"line\":{\"color\":\"white\"}},\"type\":\"table\"}]},\"layout\":{\"annotationdefaults\":{\"arrowcolor\":\"#2a3f5f\",\"arrowhead\":0,\"arrowwidth\":1},\"autotypenumbers\":\"strict\",\"coloraxis\":{\"colorbar\":{\"outlinewidth\":0,\"ticks\":\"\"}},\"colorscale\":{\"diverging\":[[0,\"#8e0152\"],[0.1,\"#c51b7d\"],[0.2,\"#de77ae\"],[0.3,\"#f1b6da\"],[0.4,\"#fde0ef\"],[0.5,\"#f7f7f7\"],[0.6,\"#e6f5d0\"],[0.7,\"#b8e186\"],[0.8,\"#7fbc41\"],[0.9,\"#4d9221\"],[1,\"#276419\"]],\"sequential\":[[0.0,\"#0d0887\"],[0.1111111111111111,\"#46039f\"],[0.2222222222222222,\"#7201a8\"],[0.3333333333333333,\"#9c179e\"],[0.4444444444444444,\"#bd3786\"],[0.5555555555555556,\"#d8576b\"],[0.6666666666666666,\"#ed7953\"],[0.7777777777777778,\"#fb9f3a\"],[0.8888888888888888,\"#fdca26\"],[1.0,\"#f0f921\"]],\"sequentialminus\":[[0.0,\"#0d0887\"],[0.1111111111111111,\"#46039f\"],[0.2222222222222222,\"#7201a8\"],[0.3333333333333333,\"#9c179e\"],[0.4444444444444444,\"#bd3786\"],[0.5555555555555556,\"#d8576b\"],[0.6666666666666666,\"#ed7953\"],[0.7777777777777778,\"#fb9f3a\"],[0.8888888888888888,\"#fdca26\"],[1.0,\"#f0f921\"]]},\"colorway\":[\"#636efa\",\"#EF553B\",\"#00cc96\",\"#ab63fa\",\"#FFA15A\",\"#19d3f3\",\"#FF6692\",\"#B6E880\",\"#FF97FF\",\"#FECB52\"],\"font\":{\"color\":\"#2a3f5f\"},\"geo\":{\"bgcolor\":\"white\",\"lakecolor\":\"white\",\"landcolor\":\"#E5ECF6\",\"showlakes\":true,\"showland\":true,\"subunitcolor\":\"white\"},\"hoverlabel\":{\"align\":\"left\"},\"hovermode\":\"closest\",\"mapbox\":{\"style\":\"light\"},\"paper_bgcolor\":\"white\",\"plot_bgcolor\":\"#E5ECF6\",\"polar\":{\"angularaxis\":{\"gridcolor\":\"white\",\"linecolor\":\"white\",\"ticks\":\"\"},\"bgcolor\":\"#E5ECF6\",\"radialaxis\":{\"gridcolor\":\"white\",\"linecolor\":\"white\",\"ticks\":\"\"}},\"scene\":{\"xaxis\":{\"backgroundcolor\":\"#E5ECF6\",\"gridcolor\":\"white\",\"gridwidth\":2,\"linecolor\":\"white\",\"showbackground\":true,\"ticks\":\"\",\"zerolinecolor\":\"white\"},\"yaxis\":{\"backgroundcolor\":\"#E5ECF6\",\"gridcolor\":\"white\",\"gridwidth\":2,\"linecolor\":\"white\",\"showbackground\":true,\"ticks\":\"\",\"zerolinecolor\":\"white\"},\"zaxis\":{\"backgroundcolor\":\"#E5ECF6\",\"gridcolor\":\"white\",\"gridwidth\":2,\"linecolor\":\"white\",\"showbackground\":true,\"ticks\":\"\",\"zerolinecolor\":\"white\"}},\"shapedefaults\":{\"line\":{\"color\":\"#2a3f5f\"}},\"ternary\":{\"aaxis\":{\"gridcolor\":\"white\",\"linecolor\":\"white\",\"ticks\":\"\"},\"baxis\":{\"gridcolor\":\"white\",\"linecolor\":\"white\",\"ticks\":\"\"},\"bgcolor\":\"#E5ECF6\",\"caxis\":{\"gridcolor\":\"white\",\"linecolor\":\"white\",\"ticks\":\"\"}},\"title\":{\"x\":0.05},\"xaxis\":{\"automargin\":true,\"gridcolor\":\"white\",\"linecolor\":\"white\",\"ticks\":\"\",\"title\":{\"standoff\":15},\"zerolinecolor\":\"white\",\"zerolinewidth\":2},\"yaxis\":{\"automargin\":true,\"gridcolor\":\"white\",\"linecolor\":\"white\",\"ticks\":\"\",\"title\":{\"standoff\":15},\"zerolinecolor\":\"white\",\"zerolinewidth\":2}}},\"title\":{\"font\":{\"color\":\"#4D5663\"}},\"xaxis\":{\"gridcolor\":\"#E1E5ED\",\"showgrid\":true,\"tickfont\":{\"color\":\"#4D5663\"},\"title\":{\"font\":{\"color\":\"#4D5663\"},\"text\":\"\"},\"zerolinecolor\":\"#E1E5ED\"},\"yaxis\":{\"gridcolor\":\"#E1E5ED\",\"showgrid\":true,\"tickfont\":{\"color\":\"#4D5663\"},\"title\":{\"font\":{\"color\":\"#4D5663\"},\"text\":\"\"},\"zerolinecolor\":\"#E1E5ED\"}},                        {\"showLink\": true, \"linkText\": \"Export to plot.ly\", \"plotlyServerURL\": \"https://plot.ly\", \"responsive\": true}                    ).then(function(){\n",
       "                            \n",
       "var gd = document.getElementById('6754d405-3742-4404-8eff-dd055d8a0ea4');\n",
       "var x = new MutationObserver(function (mutations, observer) {{\n",
       "        var display = window.getComputedStyle(gd).display;\n",
       "        if (!display || display === 'none') {{\n",
       "            console.log([gd, 'removed!']);\n",
       "            Plotly.purge(gd);\n",
       "            observer.disconnect();\n",
       "        }}\n",
       "}});\n",
       "\n",
       "// Listen for the removal of the full notebook cells\n",
       "var notebookContainer = gd.closest('#notebook-container');\n",
       "if (notebookContainer) {{\n",
       "    x.observe(notebookContainer, {childList: true});\n",
       "}}\n",
       "\n",
       "// Listen for the clearing of the current output cell\n",
       "var outputEl = gd.closest('.output');\n",
       "if (outputEl) {{\n",
       "    x.observe(outputEl, {childList: true});\n",
       "}}\n",
       "\n",
       "                        })                };                });            </script>        </div>"
      ]
     },
     "metadata": {},
     "output_type": "display_data"
    }
   ],
   "source": [
    "df.sum().iplot(kind='bar')"
   ]
  },
  {
   "cell_type": "code",
   "execution_count": 36,
   "id": "8ef31e88",
   "metadata": {},
   "outputs": [
    {
     "data": {
      "application/vnd.plotly.v1+json": {
       "config": {
        "linkText": "Export to plot.ly",
        "plotlyServerURL": "https://plot.ly",
        "showLink": true
       },
       "data": [
        {
         "boxpoints": false,
         "line": {
          "width": 1.3
         },
         "marker": {
          "color": "rgba(255, 153, 51, 1.0)"
         },
         "name": "A",
         "orientation": "v",
         "type": "box",
         "y": [
          0.48979428455356877,
          1.2000787712482575,
          0.023788380464120393,
          -0.7762937541590931,
          -0.012364867282905903,
          -1.2161957246449362,
          -0.02690116005734921,
          -0.6136576494704216,
          -1.0932741606526177,
          1.3367224280535983,
          -0.21086536735247163,
          0.7004920634418149,
          0.022903232284200294,
          1.8118903731503866,
          0.03874003270713806,
          0.14207857973235602,
          -1.2664546662031808,
          1.0882638165812608,
          -0.7120729647956264,
          0.6937532377713457,
          -0.38587006015377073,
          0.7944049114081017,
          0.8902470208690971,
          -0.017596363807709636,
          -0.21123469197121414,
          -0.44522679075601096,
          0.06594417027871106,
          -0.4005156041049335,
          1.531611994137102,
          1.469053508293093,
          -0.6960757696420884,
          0.42188597213691115,
          -0.24857896565921767,
          0.35243368033595995,
          0.32289319825012025,
          1.756959477480924,
          -0.8646444846801743,
          0.7327493359184236,
          -0.05616681327469264,
          0.24137468687379302,
          0.13490316200095048,
          -0.30294439883702995,
          0.20149030418780658,
          -0.8439630384647533,
          0.9173475168512586,
          -0.7267483351185445,
          0.4551191588285759,
          -1.3050200504200984,
          -0.940424126632205,
          -0.2861436512950377,
          0.3272416090612496,
          -1.4862435821612276,
          -0.7419822477245054,
          -0.5289520199886615,
          -0.19209542834834886,
          -1.6137840913423802,
          2.5253792135126267,
          -0.36401403896536855,
          1.0560010342257284,
          1.4282679514136718,
          -1.7240519483814831,
          0.5671338747613731,
          -0.9080841728798318,
          0.31546878483673546,
          -0.11377460855602518,
          0.053496764203978336,
          0.6818028998550107,
          -1.9774449121637068,
          0.7084250781799291,
          1.5278746674917012,
          -0.9571164971445482,
          -1.3294630618845433,
          0.942272172901489,
          -0.019981281703439734,
          1.4525537255249976,
          0.027433302927381463,
          -1.8001925853232867,
          1.4426728488088858,
          -0.6965262723544774,
          1.2879984069477703,
          -1.4514103759363945,
          0.10321693798368037,
          -1.0337673090830766,
          1.2123441508341763,
          0.2816563048236678,
          -1.0116419291291963,
          1.2137608091381367,
          -0.6097424621297425,
          1.199038876047825,
          -0.14784081503360644,
          -1.0529508579837437,
          0.203716845237984,
          -1.3703913734693944,
          -1.4621189194907764,
          1.2079693890251404,
          1.0607169379613697,
          1.6860621157919298,
          -0.3043036742676254,
          1.252089094534873,
          0.8019105881421928
         ]
        },
        {
         "boxpoints": false,
         "line": {
          "width": 1.3
         },
         "marker": {
          "color": "rgba(55, 128, 191, 1.0)"
         },
         "name": "B",
         "orientation": "v",
         "type": "box",
         "y": [
          -1.0998518931967172,
          -0.951310489501729,
          0.4961980985412946,
          -1.9465577812700667,
          0.4782546807810063,
          0.3915928924499597,
          -0.16195461581883155,
          -0.5684389432325745,
          0.7864442079773991,
          0.11786194397659192,
          0.7806483973082989,
          -0.7216593398328882,
          0.14627440175389989,
          -0.07554072415619882,
          0.014168578367290862,
          -0.6333465050786681,
          1.0127771174834996,
          1.3878021905639235,
          0.4904150562542391,
          0.2536434005385077,
          1.1786366553776157,
          -3.334302912542056,
          0.7647022080307493,
          -0.031935851656112776,
          -0.7839089589040155,
          -0.09122200998567682,
          -0.4898507459459323,
          -0.5684394463175186,
          0.11940011898377212,
          -0.19497172220308293,
          2.728343356239694,
          -0.40789330735339907,
          -0.24459607575641326,
          -0.4858707994184838,
          -0.015234217101942981,
          -0.08771777295493485,
          0.4772963643238052,
          1.4507007392664688,
          0.4061437530079583,
          0.15419502764767845,
          -0.726525983701748,
          -0.2669636603429239,
          0.9852178153304991,
          -1.29587901702008,
          -0.6664537394097019,
          -1.093155363979523,
          1.4968662243590183,
          -0.8959185628124724,
          -1.5208535704872201,
          -0.4052181341125891,
          -0.017951376963129023,
          0.9116272137945861,
          -1.6649360797874992,
          0.3040516316528378,
          -0.12186378938520936,
          1.1724212208098135,
          -1.274141257813947,
          0.11182468335506614,
          1.47499536050285,
          0.2583425826196655,
          -0.32092947933983107,
          1.0007576889539056,
          0.20795616239699127,
          -0.08665414940310559,
          0.6523377927617374,
          0.16726551027784153,
          -0.42557944492126054,
          1.3705804781599653,
          0.9989305038474585,
          -1.6823152185810062,
          -1.4777209857615803,
          -0.9939514975377667,
          -1.0574492878409467,
          -0.18781359857066682,
          0.8413247717773269,
          1.1757733216891897,
          0.2972356932010209,
          -0.28249667162063813,
          -1.3381021329751352,
          0.8454290322931972,
          -0.43718099727400006,
          0.08608827559328311,
          0.42555094905863433,
          0.06474854527759977,
          -1.7365979250057706,
          -0.6954111510725659,
          0.5943477159463276,
          -0.0624064236918547,
          -0.09311347408323536,
          -0.20864777953826144,
          -1.5057657340094361,
          0.985649019277635,
          -0.618834216881153,
          -0.24696789588479345,
          0.1741621994183457,
          -1.2990736535773484,
          -1.9746857091172834,
          0.04549424231182181,
          -0.4787536211341913,
          -1.8165952496968758
         ]
        },
        {
         "boxpoints": false,
         "line": {
          "width": 1.3
         },
         "marker": {
          "color": "rgba(50, 171, 96, 1.0)"
         },
         "name": "C",
         "orientation": "v",
         "type": "box",
         "y": [
          -1.0625887658002213,
          0.09202816193018518,
          0.564848376353891,
          0.419472612971872,
          0.12660612020962858,
          -0.5127914675811296,
          -1.1250834598039288,
          -0.6051822916912,
          -0.16221998280097874,
          0.7356228690390648,
          -0.07574687216850803,
          0.17596247282604027,
          -1.721717086791258,
          2.323429731895257,
          -0.8482030722200461,
          -0.13369431269758897,
          1.43368695838209,
          0.12440433777333088,
          0.6827434615859537,
          -1.2316479081514446,
          -1.6643319307140543,
          -0.7326761450757091,
          0.14581998247595768,
          -0.8486405675639428,
          -1.3879983259008852,
          -1.869598616511187,
          -2.360893594863502,
          1.1800886270616593,
          0.5182722178949594,
          0.7554306808110395,
          -1.2801531109221176,
          -1.816141993229202,
          -0.5232033577209291,
          0.7622410426171143,
          -0.05449472773996224,
          0.1922114685510936,
          -0.4141235355446176,
          0.7052675744404783,
          -2.59538260905528,
          -0.16142979812964459,
          0.2326207735748364,
          -0.7723616091348504,
          0.41227233208544345,
          0.16675903993999175,
          -0.5494052757613266,
          -1.2332580401100453,
          -1.5362604958487704,
          -0.6850801955952219,
          -0.10309357320981548,
          1.211292382720803,
          0.8824592740410863,
          -0.8569072831904082,
          -1.250014049122893,
          -0.08799308927471544,
          -0.6552934530711982,
          0.9863289277092309,
          -0.0031616249570040264,
          0.8656884015381522,
          -1.3457460857249597,
          -0.8700802229476118,
          0.7379618696557516,
          -1.310500185377312,
          -1.2439360756820212,
          -1.852983958425285,
          -0.5483973457086878,
          -0.2620927767535737,
          0.8223682944291094,
          0.41648038679327865,
          -0.14478273313287518,
          0.04459544764541705,
          0.0552076255058285,
          -0.35827809100913904,
          1.1307788184569203,
          0.23619861907372788,
          -0.3841381654666092,
          0.018158187353936536,
          -0.9297831247259087,
          -0.9483441497850129,
          0.15370068303643483,
          -0.7567916707710458,
          -0.22349775200537117,
          -0.16436541076498792,
          -0.04045064822824736,
          1.2055700104402123,
          -0.49887850886789453,
          -0.5435253428124678,
          0.07203272803770303,
          1.77607423833372,
          0.4643240466033002,
          0.7132203723900344,
          0.06056029680904643,
          0.5970097948018788,
          -0.9322428843780637,
          0.07146509261690312,
          1.7081053966754396,
          -0.29765733722000015,
          0.8941126463209245,
          -0.5008661024802709,
          2.3862236353444457,
          -2.640515182547073
         ]
        },
        {
         "boxpoints": false,
         "line": {
          "width": 1.3
         },
         "marker": {
          "color": "rgba(128, 0, 128, 1.0)"
         },
         "name": "D",
         "orientation": "v",
         "type": "box",
         "y": [
          0.6419540448307282,
          -1.517608688344434,
          -0.3843863209352874,
          0.582205043637178,
          0.8423001398246008,
          -0.876654312681006,
          -1.4220090438249173,
          -0.09887636580710743,
          -0.3836306988926069,
          -0.9617171701958386,
          0.9130567531304483,
          0.1921750627294664,
          -0.40845165490719065,
          0.16948526516975354,
          1.1995423858357495,
          -0.0806001194463327,
          -0.15746670743873062,
          -1.1240019824944776,
          0.4363515372870392,
          1.9307908970315317,
          1.1031951510859273,
          -1.7251316715516243,
          0.8967867868252514,
          0.47529474535809924,
          -1.1739198506495272,
          0.5490829176478206,
          -0.10548357954143857,
          0.9350274188232347,
          -0.11857806913827566,
          0.8291018552229273,
          0.4404340905146739,
          1.0949591324812462,
          -0.5046317220659516,
          0.7277366176328306,
          -0.9220093815234568,
          -1.4401200584762028,
          -0.2735458841642263,
          0.5057772631008871,
          -0.5756586099298809,
          0.4469996935382162,
          1.2311387579172113,
          -0.7490594863628462,
          0.8877674978807628,
          0.0007280151525171892,
          -0.19498978287272922,
          -2.1616046744327897,
          1.3959629391980335,
          1.3542761626128896,
          0.3403680620018605,
          -1.2469655847187164,
          1.631557902538405,
          0.9386407535427541,
          -0.7152486651396022,
          -0.2896322392328507,
          0.4794983422428559,
          1.4993155479995524,
          -0.3357047654058956,
          2.1198825272852106,
          0.9335159436912603,
          0.07494701462476844,
          -1.0858501890051053,
          -0.5136565323101144,
          1.4674995050384145,
          -0.33782459796503067,
          0.4227277598515778,
          0.5345466892685413,
          -0.40806524589228743,
          -0.3632137413898601,
          -0.5128961430005934,
          0.32958613059022096,
          0.056449082223379625,
          -0.5741367405128155,
          -1.4522547358486244,
          1.5156989720072513,
          -1.5956070894351733,
          0.5468079407706042,
          0.5201902490525464,
          0.4405097935390144,
          0.16697909238681657,
          0.650148591850684,
          1.602800718166188,
          -2.323303975173998,
          -0.3919455823359626,
          -0.7901808014383477,
          0.3018838962950447,
          0.7363176053821264,
          0.3982958216374505,
          -1.8604341682340761,
          0.028930473350775563,
          0.3289011160680272,
          2.4482571174976813,
          0.17805452428597393,
          0.9037599076955404,
          -0.5356039813501637,
          0.5981293401750825,
          1.4011963024633105,
          0.02947680573042643,
          0.4138985401230784,
          -0.9208991891630186,
          1.153642037354523
         ]
        }
       ],
       "layout": {
        "legend": {
         "bgcolor": "#F5F6F9",
         "font": {
          "color": "#4D5663"
         }
        },
        "paper_bgcolor": "#F5F6F9",
        "plot_bgcolor": "#F5F6F9",
        "template": {
         "data": {
          "bar": [
           {
            "error_x": {
             "color": "#2a3f5f"
            },
            "error_y": {
             "color": "#2a3f5f"
            },
            "marker": {
             "line": {
              "color": "#E5ECF6",
              "width": 0.5
             },
             "pattern": {
              "fillmode": "overlay",
              "size": 10,
              "solidity": 0.2
             }
            },
            "type": "bar"
           }
          ],
          "barpolar": [
           {
            "marker": {
             "line": {
              "color": "#E5ECF6",
              "width": 0.5
             },
             "pattern": {
              "fillmode": "overlay",
              "size": 10,
              "solidity": 0.2
             }
            },
            "type": "barpolar"
           }
          ],
          "carpet": [
           {
            "aaxis": {
             "endlinecolor": "#2a3f5f",
             "gridcolor": "white",
             "linecolor": "white",
             "minorgridcolor": "white",
             "startlinecolor": "#2a3f5f"
            },
            "baxis": {
             "endlinecolor": "#2a3f5f",
             "gridcolor": "white",
             "linecolor": "white",
             "minorgridcolor": "white",
             "startlinecolor": "#2a3f5f"
            },
            "type": "carpet"
           }
          ],
          "choropleth": [
           {
            "colorbar": {
             "outlinewidth": 0,
             "ticks": ""
            },
            "type": "choropleth"
           }
          ],
          "contour": [
           {
            "colorbar": {
             "outlinewidth": 0,
             "ticks": ""
            },
            "colorscale": [
             [
              0,
              "#0d0887"
             ],
             [
              0.1111111111111111,
              "#46039f"
             ],
             [
              0.2222222222222222,
              "#7201a8"
             ],
             [
              0.3333333333333333,
              "#9c179e"
             ],
             [
              0.4444444444444444,
              "#bd3786"
             ],
             [
              0.5555555555555556,
              "#d8576b"
             ],
             [
              0.6666666666666666,
              "#ed7953"
             ],
             [
              0.7777777777777778,
              "#fb9f3a"
             ],
             [
              0.8888888888888888,
              "#fdca26"
             ],
             [
              1,
              "#f0f921"
             ]
            ],
            "type": "contour"
           }
          ],
          "contourcarpet": [
           {
            "colorbar": {
             "outlinewidth": 0,
             "ticks": ""
            },
            "type": "contourcarpet"
           }
          ],
          "heatmap": [
           {
            "colorbar": {
             "outlinewidth": 0,
             "ticks": ""
            },
            "colorscale": [
             [
              0,
              "#0d0887"
             ],
             [
              0.1111111111111111,
              "#46039f"
             ],
             [
              0.2222222222222222,
              "#7201a8"
             ],
             [
              0.3333333333333333,
              "#9c179e"
             ],
             [
              0.4444444444444444,
              "#bd3786"
             ],
             [
              0.5555555555555556,
              "#d8576b"
             ],
             [
              0.6666666666666666,
              "#ed7953"
             ],
             [
              0.7777777777777778,
              "#fb9f3a"
             ],
             [
              0.8888888888888888,
              "#fdca26"
             ],
             [
              1,
              "#f0f921"
             ]
            ],
            "type": "heatmap"
           }
          ],
          "heatmapgl": [
           {
            "colorbar": {
             "outlinewidth": 0,
             "ticks": ""
            },
            "colorscale": [
             [
              0,
              "#0d0887"
             ],
             [
              0.1111111111111111,
              "#46039f"
             ],
             [
              0.2222222222222222,
              "#7201a8"
             ],
             [
              0.3333333333333333,
              "#9c179e"
             ],
             [
              0.4444444444444444,
              "#bd3786"
             ],
             [
              0.5555555555555556,
              "#d8576b"
             ],
             [
              0.6666666666666666,
              "#ed7953"
             ],
             [
              0.7777777777777778,
              "#fb9f3a"
             ],
             [
              0.8888888888888888,
              "#fdca26"
             ],
             [
              1,
              "#f0f921"
             ]
            ],
            "type": "heatmapgl"
           }
          ],
          "histogram": [
           {
            "marker": {
             "pattern": {
              "fillmode": "overlay",
              "size": 10,
              "solidity": 0.2
             }
            },
            "type": "histogram"
           }
          ],
          "histogram2d": [
           {
            "colorbar": {
             "outlinewidth": 0,
             "ticks": ""
            },
            "colorscale": [
             [
              0,
              "#0d0887"
             ],
             [
              0.1111111111111111,
              "#46039f"
             ],
             [
              0.2222222222222222,
              "#7201a8"
             ],
             [
              0.3333333333333333,
              "#9c179e"
             ],
             [
              0.4444444444444444,
              "#bd3786"
             ],
             [
              0.5555555555555556,
              "#d8576b"
             ],
             [
              0.6666666666666666,
              "#ed7953"
             ],
             [
              0.7777777777777778,
              "#fb9f3a"
             ],
             [
              0.8888888888888888,
              "#fdca26"
             ],
             [
              1,
              "#f0f921"
             ]
            ],
            "type": "histogram2d"
           }
          ],
          "histogram2dcontour": [
           {
            "colorbar": {
             "outlinewidth": 0,
             "ticks": ""
            },
            "colorscale": [
             [
              0,
              "#0d0887"
             ],
             [
              0.1111111111111111,
              "#46039f"
             ],
             [
              0.2222222222222222,
              "#7201a8"
             ],
             [
              0.3333333333333333,
              "#9c179e"
             ],
             [
              0.4444444444444444,
              "#bd3786"
             ],
             [
              0.5555555555555556,
              "#d8576b"
             ],
             [
              0.6666666666666666,
              "#ed7953"
             ],
             [
              0.7777777777777778,
              "#fb9f3a"
             ],
             [
              0.8888888888888888,
              "#fdca26"
             ],
             [
              1,
              "#f0f921"
             ]
            ],
            "type": "histogram2dcontour"
           }
          ],
          "mesh3d": [
           {
            "colorbar": {
             "outlinewidth": 0,
             "ticks": ""
            },
            "type": "mesh3d"
           }
          ],
          "parcoords": [
           {
            "line": {
             "colorbar": {
              "outlinewidth": 0,
              "ticks": ""
             }
            },
            "type": "parcoords"
           }
          ],
          "pie": [
           {
            "automargin": true,
            "type": "pie"
           }
          ],
          "scatter": [
           {
            "marker": {
             "colorbar": {
              "outlinewidth": 0,
              "ticks": ""
             }
            },
            "type": "scatter"
           }
          ],
          "scatter3d": [
           {
            "line": {
             "colorbar": {
              "outlinewidth": 0,
              "ticks": ""
             }
            },
            "marker": {
             "colorbar": {
              "outlinewidth": 0,
              "ticks": ""
             }
            },
            "type": "scatter3d"
           }
          ],
          "scattercarpet": [
           {
            "marker": {
             "colorbar": {
              "outlinewidth": 0,
              "ticks": ""
             }
            },
            "type": "scattercarpet"
           }
          ],
          "scattergeo": [
           {
            "marker": {
             "colorbar": {
              "outlinewidth": 0,
              "ticks": ""
             }
            },
            "type": "scattergeo"
           }
          ],
          "scattergl": [
           {
            "marker": {
             "colorbar": {
              "outlinewidth": 0,
              "ticks": ""
             }
            },
            "type": "scattergl"
           }
          ],
          "scattermapbox": [
           {
            "marker": {
             "colorbar": {
              "outlinewidth": 0,
              "ticks": ""
             }
            },
            "type": "scattermapbox"
           }
          ],
          "scatterpolar": [
           {
            "marker": {
             "colorbar": {
              "outlinewidth": 0,
              "ticks": ""
             }
            },
            "type": "scatterpolar"
           }
          ],
          "scatterpolargl": [
           {
            "marker": {
             "colorbar": {
              "outlinewidth": 0,
              "ticks": ""
             }
            },
            "type": "scatterpolargl"
           }
          ],
          "scatterternary": [
           {
            "marker": {
             "colorbar": {
              "outlinewidth": 0,
              "ticks": ""
             }
            },
            "type": "scatterternary"
           }
          ],
          "surface": [
           {
            "colorbar": {
             "outlinewidth": 0,
             "ticks": ""
            },
            "colorscale": [
             [
              0,
              "#0d0887"
             ],
             [
              0.1111111111111111,
              "#46039f"
             ],
             [
              0.2222222222222222,
              "#7201a8"
             ],
             [
              0.3333333333333333,
              "#9c179e"
             ],
             [
              0.4444444444444444,
              "#bd3786"
             ],
             [
              0.5555555555555556,
              "#d8576b"
             ],
             [
              0.6666666666666666,
              "#ed7953"
             ],
             [
              0.7777777777777778,
              "#fb9f3a"
             ],
             [
              0.8888888888888888,
              "#fdca26"
             ],
             [
              1,
              "#f0f921"
             ]
            ],
            "type": "surface"
           }
          ],
          "table": [
           {
            "cells": {
             "fill": {
              "color": "#EBF0F8"
             },
             "line": {
              "color": "white"
             }
            },
            "header": {
             "fill": {
              "color": "#C8D4E3"
             },
             "line": {
              "color": "white"
             }
            },
            "type": "table"
           }
          ]
         },
         "layout": {
          "annotationdefaults": {
           "arrowcolor": "#2a3f5f",
           "arrowhead": 0,
           "arrowwidth": 1
          },
          "autotypenumbers": "strict",
          "coloraxis": {
           "colorbar": {
            "outlinewidth": 0,
            "ticks": ""
           }
          },
          "colorscale": {
           "diverging": [
            [
             0,
             "#8e0152"
            ],
            [
             0.1,
             "#c51b7d"
            ],
            [
             0.2,
             "#de77ae"
            ],
            [
             0.3,
             "#f1b6da"
            ],
            [
             0.4,
             "#fde0ef"
            ],
            [
             0.5,
             "#f7f7f7"
            ],
            [
             0.6,
             "#e6f5d0"
            ],
            [
             0.7,
             "#b8e186"
            ],
            [
             0.8,
             "#7fbc41"
            ],
            [
             0.9,
             "#4d9221"
            ],
            [
             1,
             "#276419"
            ]
           ],
           "sequential": [
            [
             0,
             "#0d0887"
            ],
            [
             0.1111111111111111,
             "#46039f"
            ],
            [
             0.2222222222222222,
             "#7201a8"
            ],
            [
             0.3333333333333333,
             "#9c179e"
            ],
            [
             0.4444444444444444,
             "#bd3786"
            ],
            [
             0.5555555555555556,
             "#d8576b"
            ],
            [
             0.6666666666666666,
             "#ed7953"
            ],
            [
             0.7777777777777778,
             "#fb9f3a"
            ],
            [
             0.8888888888888888,
             "#fdca26"
            ],
            [
             1,
             "#f0f921"
            ]
           ],
           "sequentialminus": [
            [
             0,
             "#0d0887"
            ],
            [
             0.1111111111111111,
             "#46039f"
            ],
            [
             0.2222222222222222,
             "#7201a8"
            ],
            [
             0.3333333333333333,
             "#9c179e"
            ],
            [
             0.4444444444444444,
             "#bd3786"
            ],
            [
             0.5555555555555556,
             "#d8576b"
            ],
            [
             0.6666666666666666,
             "#ed7953"
            ],
            [
             0.7777777777777778,
             "#fb9f3a"
            ],
            [
             0.8888888888888888,
             "#fdca26"
            ],
            [
             1,
             "#f0f921"
            ]
           ]
          },
          "colorway": [
           "#636efa",
           "#EF553B",
           "#00cc96",
           "#ab63fa",
           "#FFA15A",
           "#19d3f3",
           "#FF6692",
           "#B6E880",
           "#FF97FF",
           "#FECB52"
          ],
          "font": {
           "color": "#2a3f5f"
          },
          "geo": {
           "bgcolor": "white",
           "lakecolor": "white",
           "landcolor": "#E5ECF6",
           "showlakes": true,
           "showland": true,
           "subunitcolor": "white"
          },
          "hoverlabel": {
           "align": "left"
          },
          "hovermode": "closest",
          "mapbox": {
           "style": "light"
          },
          "paper_bgcolor": "white",
          "plot_bgcolor": "#E5ECF6",
          "polar": {
           "angularaxis": {
            "gridcolor": "white",
            "linecolor": "white",
            "ticks": ""
           },
           "bgcolor": "#E5ECF6",
           "radialaxis": {
            "gridcolor": "white",
            "linecolor": "white",
            "ticks": ""
           }
          },
          "scene": {
           "xaxis": {
            "backgroundcolor": "#E5ECF6",
            "gridcolor": "white",
            "gridwidth": 2,
            "linecolor": "white",
            "showbackground": true,
            "ticks": "",
            "zerolinecolor": "white"
           },
           "yaxis": {
            "backgroundcolor": "#E5ECF6",
            "gridcolor": "white",
            "gridwidth": 2,
            "linecolor": "white",
            "showbackground": true,
            "ticks": "",
            "zerolinecolor": "white"
           },
           "zaxis": {
            "backgroundcolor": "#E5ECF6",
            "gridcolor": "white",
            "gridwidth": 2,
            "linecolor": "white",
            "showbackground": true,
            "ticks": "",
            "zerolinecolor": "white"
           }
          },
          "shapedefaults": {
           "line": {
            "color": "#2a3f5f"
           }
          },
          "ternary": {
           "aaxis": {
            "gridcolor": "white",
            "linecolor": "white",
            "ticks": ""
           },
           "baxis": {
            "gridcolor": "white",
            "linecolor": "white",
            "ticks": ""
           },
           "bgcolor": "#E5ECF6",
           "caxis": {
            "gridcolor": "white",
            "linecolor": "white",
            "ticks": ""
           }
          },
          "title": {
           "x": 0.05
          },
          "xaxis": {
           "automargin": true,
           "gridcolor": "white",
           "linecolor": "white",
           "ticks": "",
           "title": {
            "standoff": 15
           },
           "zerolinecolor": "white",
           "zerolinewidth": 2
          },
          "yaxis": {
           "automargin": true,
           "gridcolor": "white",
           "linecolor": "white",
           "ticks": "",
           "title": {
            "standoff": 15
           },
           "zerolinecolor": "white",
           "zerolinewidth": 2
          }
         }
        },
        "title": {
         "font": {
          "color": "#4D5663"
         }
        },
        "xaxis": {
         "gridcolor": "#E1E5ED",
         "showgrid": true,
         "tickfont": {
          "color": "#4D5663"
         },
         "title": {
          "font": {
           "color": "#4D5663"
          },
          "text": ""
         },
         "zerolinecolor": "#E1E5ED"
        },
        "yaxis": {
         "gridcolor": "#E1E5ED",
         "showgrid": true,
         "tickfont": {
          "color": "#4D5663"
         },
         "title": {
          "font": {
           "color": "#4D5663"
          },
          "text": ""
         },
         "zerolinecolor": "#E1E5ED"
        }
       }
      },
      "text/html": [
       "<div>                            <div id=\"13e9c9a1-e94e-46f3-ab22-6e9272de0704\" class=\"plotly-graph-div\" style=\"height:525px; width:100%;\"></div>            <script type=\"text/javascript\">                require([\"plotly\"], function(Plotly) {                    window.PLOTLYENV=window.PLOTLYENV || {};\n",
       "                    window.PLOTLYENV.BASE_URL='https://plot.ly';                                    if (document.getElementById(\"13e9c9a1-e94e-46f3-ab22-6e9272de0704\")) {                    Plotly.newPlot(                        \"13e9c9a1-e94e-46f3-ab22-6e9272de0704\",                        [{\"boxpoints\":false,\"line\":{\"width\":1.3},\"marker\":{\"color\":\"rgba(255, 153, 51, 1.0)\"},\"name\":\"A\",\"orientation\":\"v\",\"y\":[0.48979428455356877,1.2000787712482575,0.023788380464120393,-0.7762937541590931,-0.012364867282905903,-1.2161957246449362,-0.02690116005734921,-0.6136576494704216,-1.0932741606526177,1.3367224280535983,-0.21086536735247163,0.7004920634418149,0.022903232284200294,1.8118903731503866,0.03874003270713806,0.14207857973235602,-1.2664546662031808,1.0882638165812608,-0.7120729647956264,0.6937532377713457,-0.38587006015377073,0.7944049114081017,0.8902470208690971,-0.017596363807709636,-0.21123469197121414,-0.44522679075601096,0.06594417027871106,-0.4005156041049335,1.531611994137102,1.469053508293093,-0.6960757696420884,0.42188597213691115,-0.24857896565921767,0.35243368033595995,0.32289319825012025,1.756959477480924,-0.8646444846801743,0.7327493359184236,-0.05616681327469264,0.24137468687379302,0.13490316200095048,-0.30294439883702995,0.20149030418780658,-0.8439630384647533,0.9173475168512586,-0.7267483351185445,0.4551191588285759,-1.3050200504200984,-0.940424126632205,-0.2861436512950377,0.3272416090612496,-1.4862435821612276,-0.7419822477245054,-0.5289520199886615,-0.19209542834834886,-1.6137840913423802,2.5253792135126267,-0.36401403896536855,1.0560010342257284,1.4282679514136718,-1.7240519483814831,0.5671338747613731,-0.9080841728798318,0.31546878483673546,-0.11377460855602518,0.053496764203978336,0.6818028998550107,-1.9774449121637068,0.7084250781799291,1.5278746674917012,-0.9571164971445482,-1.3294630618845433,0.942272172901489,-0.019981281703439734,1.4525537255249976,0.027433302927381463,-1.8001925853232867,1.4426728488088858,-0.6965262723544774,1.2879984069477703,-1.4514103759363945,0.10321693798368037,-1.0337673090830766,1.2123441508341763,0.2816563048236678,-1.0116419291291963,1.2137608091381367,-0.6097424621297425,1.199038876047825,-0.14784081503360644,-1.0529508579837437,0.203716845237984,-1.3703913734693944,-1.4621189194907764,1.2079693890251404,1.0607169379613697,1.6860621157919298,-0.3043036742676254,1.252089094534873,0.8019105881421928],\"type\":\"box\"},{\"boxpoints\":false,\"line\":{\"width\":1.3},\"marker\":{\"color\":\"rgba(55, 128, 191, 1.0)\"},\"name\":\"B\",\"orientation\":\"v\",\"y\":[-1.0998518931967172,-0.951310489501729,0.4961980985412946,-1.9465577812700667,0.4782546807810063,0.3915928924499597,-0.16195461581883155,-0.5684389432325745,0.7864442079773991,0.11786194397659192,0.7806483973082989,-0.7216593398328882,0.14627440175389989,-0.07554072415619882,0.014168578367290862,-0.6333465050786681,1.0127771174834996,1.3878021905639235,0.4904150562542391,0.2536434005385077,1.1786366553776157,-3.334302912542056,0.7647022080307493,-0.031935851656112776,-0.7839089589040155,-0.09122200998567682,-0.4898507459459323,-0.5684394463175186,0.11940011898377212,-0.19497172220308293,2.728343356239694,-0.40789330735339907,-0.24459607575641326,-0.4858707994184838,-0.015234217101942981,-0.08771777295493485,0.4772963643238052,1.4507007392664688,0.4061437530079583,0.15419502764767845,-0.726525983701748,-0.2669636603429239,0.9852178153304991,-1.29587901702008,-0.6664537394097019,-1.093155363979523,1.4968662243590183,-0.8959185628124724,-1.5208535704872201,-0.4052181341125891,-0.017951376963129023,0.9116272137945861,-1.6649360797874992,0.3040516316528378,-0.12186378938520936,1.1724212208098135,-1.274141257813947,0.11182468335506614,1.47499536050285,0.2583425826196655,-0.32092947933983107,1.0007576889539056,0.20795616239699127,-0.08665414940310559,0.6523377927617374,0.16726551027784153,-0.42557944492126054,1.3705804781599653,0.9989305038474585,-1.6823152185810062,-1.4777209857615803,-0.9939514975377667,-1.0574492878409467,-0.18781359857066682,0.8413247717773269,1.1757733216891897,0.2972356932010209,-0.28249667162063813,-1.3381021329751352,0.8454290322931972,-0.43718099727400006,0.08608827559328311,0.42555094905863433,0.06474854527759977,-1.7365979250057706,-0.6954111510725659,0.5943477159463276,-0.0624064236918547,-0.09311347408323536,-0.20864777953826144,-1.5057657340094361,0.985649019277635,-0.618834216881153,-0.24696789588479345,0.1741621994183457,-1.2990736535773484,-1.9746857091172834,0.04549424231182181,-0.4787536211341913,-1.8165952496968758],\"type\":\"box\"},{\"boxpoints\":false,\"line\":{\"width\":1.3},\"marker\":{\"color\":\"rgba(50, 171, 96, 1.0)\"},\"name\":\"C\",\"orientation\":\"v\",\"y\":[-1.0625887658002213,0.09202816193018518,0.564848376353891,0.419472612971872,0.12660612020962858,-0.5127914675811296,-1.1250834598039288,-0.6051822916912,-0.16221998280097874,0.7356228690390648,-0.07574687216850803,0.17596247282604027,-1.721717086791258,2.323429731895257,-0.8482030722200461,-0.13369431269758897,1.43368695838209,0.12440433777333088,0.6827434615859537,-1.2316479081514446,-1.6643319307140543,-0.7326761450757091,0.14581998247595768,-0.8486405675639428,-1.3879983259008852,-1.869598616511187,-2.360893594863502,1.1800886270616593,0.5182722178949594,0.7554306808110395,-1.2801531109221176,-1.816141993229202,-0.5232033577209291,0.7622410426171143,-0.05449472773996224,0.1922114685510936,-0.4141235355446176,0.7052675744404783,-2.59538260905528,-0.16142979812964459,0.2326207735748364,-0.7723616091348504,0.41227233208544345,0.16675903993999175,-0.5494052757613266,-1.2332580401100453,-1.5362604958487704,-0.6850801955952219,-0.10309357320981548,1.211292382720803,0.8824592740410863,-0.8569072831904082,-1.250014049122893,-0.08799308927471544,-0.6552934530711982,0.9863289277092309,-0.0031616249570040264,0.8656884015381522,-1.3457460857249597,-0.8700802229476118,0.7379618696557516,-1.310500185377312,-1.2439360756820212,-1.852983958425285,-0.5483973457086878,-0.2620927767535737,0.8223682944291094,0.41648038679327865,-0.14478273313287518,0.04459544764541705,0.0552076255058285,-0.35827809100913904,1.1307788184569203,0.23619861907372788,-0.3841381654666092,0.018158187353936536,-0.9297831247259087,-0.9483441497850129,0.15370068303643483,-0.7567916707710458,-0.22349775200537117,-0.16436541076498792,-0.04045064822824736,1.2055700104402123,-0.49887850886789453,-0.5435253428124678,0.07203272803770303,1.77607423833372,0.4643240466033002,0.7132203723900344,0.06056029680904643,0.5970097948018788,-0.9322428843780637,0.07146509261690312,1.7081053966754396,-0.29765733722000015,0.8941126463209245,-0.5008661024802709,2.3862236353444457,-2.640515182547073],\"type\":\"box\"},{\"boxpoints\":false,\"line\":{\"width\":1.3},\"marker\":{\"color\":\"rgba(128, 0, 128, 1.0)\"},\"name\":\"D\",\"orientation\":\"v\",\"y\":[0.6419540448307282,-1.517608688344434,-0.3843863209352874,0.582205043637178,0.8423001398246008,-0.876654312681006,-1.4220090438249173,-0.09887636580710743,-0.3836306988926069,-0.9617171701958386,0.9130567531304483,0.1921750627294664,-0.40845165490719065,0.16948526516975354,1.1995423858357495,-0.0806001194463327,-0.15746670743873062,-1.1240019824944776,0.4363515372870392,1.9307908970315317,1.1031951510859273,-1.7251316715516243,0.8967867868252514,0.47529474535809924,-1.1739198506495272,0.5490829176478206,-0.10548357954143857,0.9350274188232347,-0.11857806913827566,0.8291018552229273,0.4404340905146739,1.0949591324812462,-0.5046317220659516,0.7277366176328306,-0.9220093815234568,-1.4401200584762028,-0.2735458841642263,0.5057772631008871,-0.5756586099298809,0.4469996935382162,1.2311387579172113,-0.7490594863628462,0.8877674978807628,0.0007280151525171892,-0.19498978287272922,-2.1616046744327897,1.3959629391980335,1.3542761626128896,0.3403680620018605,-1.2469655847187164,1.631557902538405,0.9386407535427541,-0.7152486651396022,-0.2896322392328507,0.4794983422428559,1.4993155479995524,-0.3357047654058956,2.1198825272852106,0.9335159436912603,0.07494701462476844,-1.0858501890051053,-0.5136565323101144,1.4674995050384145,-0.33782459796503067,0.4227277598515778,0.5345466892685413,-0.40806524589228743,-0.3632137413898601,-0.5128961430005934,0.32958613059022096,0.056449082223379625,-0.5741367405128155,-1.4522547358486244,1.5156989720072513,-1.5956070894351733,0.5468079407706042,0.5201902490525464,0.4405097935390144,0.16697909238681657,0.650148591850684,1.602800718166188,-2.323303975173998,-0.3919455823359626,-0.7901808014383477,0.3018838962950447,0.7363176053821264,0.3982958216374505,-1.8604341682340761,0.028930473350775563,0.3289011160680272,2.4482571174976813,0.17805452428597393,0.9037599076955404,-0.5356039813501637,0.5981293401750825,1.4011963024633105,0.02947680573042643,0.4138985401230784,-0.9208991891630186,1.153642037354523],\"type\":\"box\"}],                        {\"legend\":{\"bgcolor\":\"#F5F6F9\",\"font\":{\"color\":\"#4D5663\"}},\"paper_bgcolor\":\"#F5F6F9\",\"plot_bgcolor\":\"#F5F6F9\",\"template\":{\"data\":{\"barpolar\":[{\"marker\":{\"line\":{\"color\":\"#E5ECF6\",\"width\":0.5},\"pattern\":{\"fillmode\":\"overlay\",\"size\":10,\"solidity\":0.2}},\"type\":\"barpolar\"}],\"bar\":[{\"error_x\":{\"color\":\"#2a3f5f\"},\"error_y\":{\"color\":\"#2a3f5f\"},\"marker\":{\"line\":{\"color\":\"#E5ECF6\",\"width\":0.5},\"pattern\":{\"fillmode\":\"overlay\",\"size\":10,\"solidity\":0.2}},\"type\":\"bar\"}],\"carpet\":[{\"aaxis\":{\"endlinecolor\":\"#2a3f5f\",\"gridcolor\":\"white\",\"linecolor\":\"white\",\"minorgridcolor\":\"white\",\"startlinecolor\":\"#2a3f5f\"},\"baxis\":{\"endlinecolor\":\"#2a3f5f\",\"gridcolor\":\"white\",\"linecolor\":\"white\",\"minorgridcolor\":\"white\",\"startlinecolor\":\"#2a3f5f\"},\"type\":\"carpet\"}],\"choropleth\":[{\"colorbar\":{\"outlinewidth\":0,\"ticks\":\"\"},\"type\":\"choropleth\"}],\"contourcarpet\":[{\"colorbar\":{\"outlinewidth\":0,\"ticks\":\"\"},\"type\":\"contourcarpet\"}],\"contour\":[{\"colorbar\":{\"outlinewidth\":0,\"ticks\":\"\"},\"colorscale\":[[0.0,\"#0d0887\"],[0.1111111111111111,\"#46039f\"],[0.2222222222222222,\"#7201a8\"],[0.3333333333333333,\"#9c179e\"],[0.4444444444444444,\"#bd3786\"],[0.5555555555555556,\"#d8576b\"],[0.6666666666666666,\"#ed7953\"],[0.7777777777777778,\"#fb9f3a\"],[0.8888888888888888,\"#fdca26\"],[1.0,\"#f0f921\"]],\"type\":\"contour\"}],\"heatmapgl\":[{\"colorbar\":{\"outlinewidth\":0,\"ticks\":\"\"},\"colorscale\":[[0.0,\"#0d0887\"],[0.1111111111111111,\"#46039f\"],[0.2222222222222222,\"#7201a8\"],[0.3333333333333333,\"#9c179e\"],[0.4444444444444444,\"#bd3786\"],[0.5555555555555556,\"#d8576b\"],[0.6666666666666666,\"#ed7953\"],[0.7777777777777778,\"#fb9f3a\"],[0.8888888888888888,\"#fdca26\"],[1.0,\"#f0f921\"]],\"type\":\"heatmapgl\"}],\"heatmap\":[{\"colorbar\":{\"outlinewidth\":0,\"ticks\":\"\"},\"colorscale\":[[0.0,\"#0d0887\"],[0.1111111111111111,\"#46039f\"],[0.2222222222222222,\"#7201a8\"],[0.3333333333333333,\"#9c179e\"],[0.4444444444444444,\"#bd3786\"],[0.5555555555555556,\"#d8576b\"],[0.6666666666666666,\"#ed7953\"],[0.7777777777777778,\"#fb9f3a\"],[0.8888888888888888,\"#fdca26\"],[1.0,\"#f0f921\"]],\"type\":\"heatmap\"}],\"histogram2dcontour\":[{\"colorbar\":{\"outlinewidth\":0,\"ticks\":\"\"},\"colorscale\":[[0.0,\"#0d0887\"],[0.1111111111111111,\"#46039f\"],[0.2222222222222222,\"#7201a8\"],[0.3333333333333333,\"#9c179e\"],[0.4444444444444444,\"#bd3786\"],[0.5555555555555556,\"#d8576b\"],[0.6666666666666666,\"#ed7953\"],[0.7777777777777778,\"#fb9f3a\"],[0.8888888888888888,\"#fdca26\"],[1.0,\"#f0f921\"]],\"type\":\"histogram2dcontour\"}],\"histogram2d\":[{\"colorbar\":{\"outlinewidth\":0,\"ticks\":\"\"},\"colorscale\":[[0.0,\"#0d0887\"],[0.1111111111111111,\"#46039f\"],[0.2222222222222222,\"#7201a8\"],[0.3333333333333333,\"#9c179e\"],[0.4444444444444444,\"#bd3786\"],[0.5555555555555556,\"#d8576b\"],[0.6666666666666666,\"#ed7953\"],[0.7777777777777778,\"#fb9f3a\"],[0.8888888888888888,\"#fdca26\"],[1.0,\"#f0f921\"]],\"type\":\"histogram2d\"}],\"histogram\":[{\"marker\":{\"pattern\":{\"fillmode\":\"overlay\",\"size\":10,\"solidity\":0.2}},\"type\":\"histogram\"}],\"mesh3d\":[{\"colorbar\":{\"outlinewidth\":0,\"ticks\":\"\"},\"type\":\"mesh3d\"}],\"parcoords\":[{\"line\":{\"colorbar\":{\"outlinewidth\":0,\"ticks\":\"\"}},\"type\":\"parcoords\"}],\"pie\":[{\"automargin\":true,\"type\":\"pie\"}],\"scatter3d\":[{\"line\":{\"colorbar\":{\"outlinewidth\":0,\"ticks\":\"\"}},\"marker\":{\"colorbar\":{\"outlinewidth\":0,\"ticks\":\"\"}},\"type\":\"scatter3d\"}],\"scattercarpet\":[{\"marker\":{\"colorbar\":{\"outlinewidth\":0,\"ticks\":\"\"}},\"type\":\"scattercarpet\"}],\"scattergeo\":[{\"marker\":{\"colorbar\":{\"outlinewidth\":0,\"ticks\":\"\"}},\"type\":\"scattergeo\"}],\"scattergl\":[{\"marker\":{\"colorbar\":{\"outlinewidth\":0,\"ticks\":\"\"}},\"type\":\"scattergl\"}],\"scattermapbox\":[{\"marker\":{\"colorbar\":{\"outlinewidth\":0,\"ticks\":\"\"}},\"type\":\"scattermapbox\"}],\"scatterpolargl\":[{\"marker\":{\"colorbar\":{\"outlinewidth\":0,\"ticks\":\"\"}},\"type\":\"scatterpolargl\"}],\"scatterpolar\":[{\"marker\":{\"colorbar\":{\"outlinewidth\":0,\"ticks\":\"\"}},\"type\":\"scatterpolar\"}],\"scatter\":[{\"marker\":{\"colorbar\":{\"outlinewidth\":0,\"ticks\":\"\"}},\"type\":\"scatter\"}],\"scatterternary\":[{\"marker\":{\"colorbar\":{\"outlinewidth\":0,\"ticks\":\"\"}},\"type\":\"scatterternary\"}],\"surface\":[{\"colorbar\":{\"outlinewidth\":0,\"ticks\":\"\"},\"colorscale\":[[0.0,\"#0d0887\"],[0.1111111111111111,\"#46039f\"],[0.2222222222222222,\"#7201a8\"],[0.3333333333333333,\"#9c179e\"],[0.4444444444444444,\"#bd3786\"],[0.5555555555555556,\"#d8576b\"],[0.6666666666666666,\"#ed7953\"],[0.7777777777777778,\"#fb9f3a\"],[0.8888888888888888,\"#fdca26\"],[1.0,\"#f0f921\"]],\"type\":\"surface\"}],\"table\":[{\"cells\":{\"fill\":{\"color\":\"#EBF0F8\"},\"line\":{\"color\":\"white\"}},\"header\":{\"fill\":{\"color\":\"#C8D4E3\"},\"line\":{\"color\":\"white\"}},\"type\":\"table\"}]},\"layout\":{\"annotationdefaults\":{\"arrowcolor\":\"#2a3f5f\",\"arrowhead\":0,\"arrowwidth\":1},\"autotypenumbers\":\"strict\",\"coloraxis\":{\"colorbar\":{\"outlinewidth\":0,\"ticks\":\"\"}},\"colorscale\":{\"diverging\":[[0,\"#8e0152\"],[0.1,\"#c51b7d\"],[0.2,\"#de77ae\"],[0.3,\"#f1b6da\"],[0.4,\"#fde0ef\"],[0.5,\"#f7f7f7\"],[0.6,\"#e6f5d0\"],[0.7,\"#b8e186\"],[0.8,\"#7fbc41\"],[0.9,\"#4d9221\"],[1,\"#276419\"]],\"sequential\":[[0.0,\"#0d0887\"],[0.1111111111111111,\"#46039f\"],[0.2222222222222222,\"#7201a8\"],[0.3333333333333333,\"#9c179e\"],[0.4444444444444444,\"#bd3786\"],[0.5555555555555556,\"#d8576b\"],[0.6666666666666666,\"#ed7953\"],[0.7777777777777778,\"#fb9f3a\"],[0.8888888888888888,\"#fdca26\"],[1.0,\"#f0f921\"]],\"sequentialminus\":[[0.0,\"#0d0887\"],[0.1111111111111111,\"#46039f\"],[0.2222222222222222,\"#7201a8\"],[0.3333333333333333,\"#9c179e\"],[0.4444444444444444,\"#bd3786\"],[0.5555555555555556,\"#d8576b\"],[0.6666666666666666,\"#ed7953\"],[0.7777777777777778,\"#fb9f3a\"],[0.8888888888888888,\"#fdca26\"],[1.0,\"#f0f921\"]]},\"colorway\":[\"#636efa\",\"#EF553B\",\"#00cc96\",\"#ab63fa\",\"#FFA15A\",\"#19d3f3\",\"#FF6692\",\"#B6E880\",\"#FF97FF\",\"#FECB52\"],\"font\":{\"color\":\"#2a3f5f\"},\"geo\":{\"bgcolor\":\"white\",\"lakecolor\":\"white\",\"landcolor\":\"#E5ECF6\",\"showlakes\":true,\"showland\":true,\"subunitcolor\":\"white\"},\"hoverlabel\":{\"align\":\"left\"},\"hovermode\":\"closest\",\"mapbox\":{\"style\":\"light\"},\"paper_bgcolor\":\"white\",\"plot_bgcolor\":\"#E5ECF6\",\"polar\":{\"angularaxis\":{\"gridcolor\":\"white\",\"linecolor\":\"white\",\"ticks\":\"\"},\"bgcolor\":\"#E5ECF6\",\"radialaxis\":{\"gridcolor\":\"white\",\"linecolor\":\"white\",\"ticks\":\"\"}},\"scene\":{\"xaxis\":{\"backgroundcolor\":\"#E5ECF6\",\"gridcolor\":\"white\",\"gridwidth\":2,\"linecolor\":\"white\",\"showbackground\":true,\"ticks\":\"\",\"zerolinecolor\":\"white\"},\"yaxis\":{\"backgroundcolor\":\"#E5ECF6\",\"gridcolor\":\"white\",\"gridwidth\":2,\"linecolor\":\"white\",\"showbackground\":true,\"ticks\":\"\",\"zerolinecolor\":\"white\"},\"zaxis\":{\"backgroundcolor\":\"#E5ECF6\",\"gridcolor\":\"white\",\"gridwidth\":2,\"linecolor\":\"white\",\"showbackground\":true,\"ticks\":\"\",\"zerolinecolor\":\"white\"}},\"shapedefaults\":{\"line\":{\"color\":\"#2a3f5f\"}},\"ternary\":{\"aaxis\":{\"gridcolor\":\"white\",\"linecolor\":\"white\",\"ticks\":\"\"},\"baxis\":{\"gridcolor\":\"white\",\"linecolor\":\"white\",\"ticks\":\"\"},\"bgcolor\":\"#E5ECF6\",\"caxis\":{\"gridcolor\":\"white\",\"linecolor\":\"white\",\"ticks\":\"\"}},\"title\":{\"x\":0.05},\"xaxis\":{\"automargin\":true,\"gridcolor\":\"white\",\"linecolor\":\"white\",\"ticks\":\"\",\"title\":{\"standoff\":15},\"zerolinecolor\":\"white\",\"zerolinewidth\":2},\"yaxis\":{\"automargin\":true,\"gridcolor\":\"white\",\"linecolor\":\"white\",\"ticks\":\"\",\"title\":{\"standoff\":15},\"zerolinecolor\":\"white\",\"zerolinewidth\":2}}},\"title\":{\"font\":{\"color\":\"#4D5663\"}},\"xaxis\":{\"gridcolor\":\"#E1E5ED\",\"showgrid\":true,\"tickfont\":{\"color\":\"#4D5663\"},\"title\":{\"font\":{\"color\":\"#4D5663\"},\"text\":\"\"},\"zerolinecolor\":\"#E1E5ED\"},\"yaxis\":{\"gridcolor\":\"#E1E5ED\",\"showgrid\":true,\"tickfont\":{\"color\":\"#4D5663\"},\"title\":{\"font\":{\"color\":\"#4D5663\"},\"text\":\"\"},\"zerolinecolor\":\"#E1E5ED\"}},                        {\"showLink\": true, \"linkText\": \"Export to plot.ly\", \"plotlyServerURL\": \"https://plot.ly\", \"responsive\": true}                    ).then(function(){\n",
       "                            \n",
       "var gd = document.getElementById('13e9c9a1-e94e-46f3-ab22-6e9272de0704');\n",
       "var x = new MutationObserver(function (mutations, observer) {{\n",
       "        var display = window.getComputedStyle(gd).display;\n",
       "        if (!display || display === 'none') {{\n",
       "            console.log([gd, 'removed!']);\n",
       "            Plotly.purge(gd);\n",
       "            observer.disconnect();\n",
       "        }}\n",
       "}});\n",
       "\n",
       "// Listen for the removal of the full notebook cells\n",
       "var notebookContainer = gd.closest('#notebook-container');\n",
       "if (notebookContainer) {{\n",
       "    x.observe(notebookContainer, {childList: true});\n",
       "}}\n",
       "\n",
       "// Listen for the clearing of the current output cell\n",
       "var outputEl = gd.closest('.output');\n",
       "if (outputEl) {{\n",
       "    x.observe(outputEl, {childList: true});\n",
       "}}\n",
       "\n",
       "                        })                };                });            </script>        </div>"
      ]
     },
     "metadata": {},
     "output_type": "display_data"
    }
   ],
   "source": [
    "df.iplot(kind='box')"
   ]
  },
  {
   "cell_type": "code",
   "execution_count": 40,
   "id": "b219b436",
   "metadata": {},
   "outputs": [],
   "source": [
    "df3 = pd.DataFrame({'x':[1,2,3,4,5], 'y':[10,20,30,20,10], 'z':[5,4,3,2,1]})"
   ]
  },
  {
   "cell_type": "code",
   "execution_count": 41,
   "id": "82fa4df6",
   "metadata": {},
   "outputs": [
    {
     "data": {
      "text/html": [
       "<div>\n",
       "<style scoped>\n",
       "    .dataframe tbody tr th:only-of-type {\n",
       "        vertical-align: middle;\n",
       "    }\n",
       "\n",
       "    .dataframe tbody tr th {\n",
       "        vertical-align: top;\n",
       "    }\n",
       "\n",
       "    .dataframe thead th {\n",
       "        text-align: right;\n",
       "    }\n",
       "</style>\n",
       "<table border=\"1\" class=\"dataframe\">\n",
       "  <thead>\n",
       "    <tr style=\"text-align: right;\">\n",
       "      <th></th>\n",
       "      <th>x</th>\n",
       "      <th>y</th>\n",
       "      <th>z</th>\n",
       "    </tr>\n",
       "  </thead>\n",
       "  <tbody>\n",
       "    <tr>\n",
       "      <th>0</th>\n",
       "      <td>1</td>\n",
       "      <td>10</td>\n",
       "      <td>5</td>\n",
       "    </tr>\n",
       "    <tr>\n",
       "      <th>1</th>\n",
       "      <td>2</td>\n",
       "      <td>20</td>\n",
       "      <td>4</td>\n",
       "    </tr>\n",
       "    <tr>\n",
       "      <th>2</th>\n",
       "      <td>3</td>\n",
       "      <td>30</td>\n",
       "      <td>3</td>\n",
       "    </tr>\n",
       "    <tr>\n",
       "      <th>3</th>\n",
       "      <td>4</td>\n",
       "      <td>20</td>\n",
       "      <td>2</td>\n",
       "    </tr>\n",
       "    <tr>\n",
       "      <th>4</th>\n",
       "      <td>5</td>\n",
       "      <td>10</td>\n",
       "      <td>1</td>\n",
       "    </tr>\n",
       "  </tbody>\n",
       "</table>\n",
       "</div>"
      ],
      "text/plain": [
       "   x   y  z\n",
       "0  1  10  5\n",
       "1  2  20  4\n",
       "2  3  30  3\n",
       "3  4  20  2\n",
       "4  5  10  1"
      ]
     },
     "execution_count": 41,
     "metadata": {},
     "output_type": "execute_result"
    }
   ],
   "source": [
    "df3"
   ]
  },
  {
   "cell_type": "code",
   "execution_count": 43,
   "id": "35f81f52",
   "metadata": {},
   "outputs": [
    {
     "data": {
      "application/vnd.plotly.v1+json": {
       "config": {
        "linkText": "Export to plot.ly",
        "plotlyServerURL": "https://plot.ly",
        "showLink": true
       },
       "data": [
        {
         "colorscale": [
          [
           0,
           "rgb(165,0,38)"
          ],
          [
           0.1,
           "rgb(215,48,39)"
          ],
          [
           0.2,
           "rgb(244,109,67)"
          ],
          [
           0.3,
           "rgb(253,174,97)"
          ],
          [
           0.4,
           "rgb(254,224,144)"
          ],
          [
           0.5,
           "rgb(255,255,191)"
          ],
          [
           0.6,
           "rgb(224,243,248)"
          ],
          [
           0.7,
           "rgb(171,217,233)"
          ],
          [
           0.8,
           "rgb(116,173,209)"
          ],
          [
           0.9,
           "rgb(69,117,180)"
          ],
          [
           1,
           "rgb(49,54,149)"
          ]
         ],
         "type": "surface",
         "x": [
          0,
          1,
          2,
          3,
          4
         ],
         "y": [
          "x",
          "y",
          "z"
         ],
         "z": [
          [
           1,
           2,
           3,
           4,
           5
          ],
          [
           10,
           20,
           30,
           20,
           10
          ],
          [
           5,
           4,
           3,
           2,
           1
          ]
         ]
        }
       ],
       "layout": {
        "legend": {
         "bgcolor": "#F5F6F9",
         "font": {
          "color": "#4D5663"
         }
        },
        "paper_bgcolor": "#F5F6F9",
        "plot_bgcolor": "#F5F6F9",
        "template": {
         "data": {
          "bar": [
           {
            "error_x": {
             "color": "#2a3f5f"
            },
            "error_y": {
             "color": "#2a3f5f"
            },
            "marker": {
             "line": {
              "color": "#E5ECF6",
              "width": 0.5
             },
             "pattern": {
              "fillmode": "overlay",
              "size": 10,
              "solidity": 0.2
             }
            },
            "type": "bar"
           }
          ],
          "barpolar": [
           {
            "marker": {
             "line": {
              "color": "#E5ECF6",
              "width": 0.5
             },
             "pattern": {
              "fillmode": "overlay",
              "size": 10,
              "solidity": 0.2
             }
            },
            "type": "barpolar"
           }
          ],
          "carpet": [
           {
            "aaxis": {
             "endlinecolor": "#2a3f5f",
             "gridcolor": "white",
             "linecolor": "white",
             "minorgridcolor": "white",
             "startlinecolor": "#2a3f5f"
            },
            "baxis": {
             "endlinecolor": "#2a3f5f",
             "gridcolor": "white",
             "linecolor": "white",
             "minorgridcolor": "white",
             "startlinecolor": "#2a3f5f"
            },
            "type": "carpet"
           }
          ],
          "choropleth": [
           {
            "colorbar": {
             "outlinewidth": 0,
             "ticks": ""
            },
            "type": "choropleth"
           }
          ],
          "contour": [
           {
            "colorbar": {
             "outlinewidth": 0,
             "ticks": ""
            },
            "colorscale": [
             [
              0,
              "#0d0887"
             ],
             [
              0.1111111111111111,
              "#46039f"
             ],
             [
              0.2222222222222222,
              "#7201a8"
             ],
             [
              0.3333333333333333,
              "#9c179e"
             ],
             [
              0.4444444444444444,
              "#bd3786"
             ],
             [
              0.5555555555555556,
              "#d8576b"
             ],
             [
              0.6666666666666666,
              "#ed7953"
             ],
             [
              0.7777777777777778,
              "#fb9f3a"
             ],
             [
              0.8888888888888888,
              "#fdca26"
             ],
             [
              1,
              "#f0f921"
             ]
            ],
            "type": "contour"
           }
          ],
          "contourcarpet": [
           {
            "colorbar": {
             "outlinewidth": 0,
             "ticks": ""
            },
            "type": "contourcarpet"
           }
          ],
          "heatmap": [
           {
            "colorbar": {
             "outlinewidth": 0,
             "ticks": ""
            },
            "colorscale": [
             [
              0,
              "#0d0887"
             ],
             [
              0.1111111111111111,
              "#46039f"
             ],
             [
              0.2222222222222222,
              "#7201a8"
             ],
             [
              0.3333333333333333,
              "#9c179e"
             ],
             [
              0.4444444444444444,
              "#bd3786"
             ],
             [
              0.5555555555555556,
              "#d8576b"
             ],
             [
              0.6666666666666666,
              "#ed7953"
             ],
             [
              0.7777777777777778,
              "#fb9f3a"
             ],
             [
              0.8888888888888888,
              "#fdca26"
             ],
             [
              1,
              "#f0f921"
             ]
            ],
            "type": "heatmap"
           }
          ],
          "heatmapgl": [
           {
            "colorbar": {
             "outlinewidth": 0,
             "ticks": ""
            },
            "colorscale": [
             [
              0,
              "#0d0887"
             ],
             [
              0.1111111111111111,
              "#46039f"
             ],
             [
              0.2222222222222222,
              "#7201a8"
             ],
             [
              0.3333333333333333,
              "#9c179e"
             ],
             [
              0.4444444444444444,
              "#bd3786"
             ],
             [
              0.5555555555555556,
              "#d8576b"
             ],
             [
              0.6666666666666666,
              "#ed7953"
             ],
             [
              0.7777777777777778,
              "#fb9f3a"
             ],
             [
              0.8888888888888888,
              "#fdca26"
             ],
             [
              1,
              "#f0f921"
             ]
            ],
            "type": "heatmapgl"
           }
          ],
          "histogram": [
           {
            "marker": {
             "pattern": {
              "fillmode": "overlay",
              "size": 10,
              "solidity": 0.2
             }
            },
            "type": "histogram"
           }
          ],
          "histogram2d": [
           {
            "colorbar": {
             "outlinewidth": 0,
             "ticks": ""
            },
            "colorscale": [
             [
              0,
              "#0d0887"
             ],
             [
              0.1111111111111111,
              "#46039f"
             ],
             [
              0.2222222222222222,
              "#7201a8"
             ],
             [
              0.3333333333333333,
              "#9c179e"
             ],
             [
              0.4444444444444444,
              "#bd3786"
             ],
             [
              0.5555555555555556,
              "#d8576b"
             ],
             [
              0.6666666666666666,
              "#ed7953"
             ],
             [
              0.7777777777777778,
              "#fb9f3a"
             ],
             [
              0.8888888888888888,
              "#fdca26"
             ],
             [
              1,
              "#f0f921"
             ]
            ],
            "type": "histogram2d"
           }
          ],
          "histogram2dcontour": [
           {
            "colorbar": {
             "outlinewidth": 0,
             "ticks": ""
            },
            "colorscale": [
             [
              0,
              "#0d0887"
             ],
             [
              0.1111111111111111,
              "#46039f"
             ],
             [
              0.2222222222222222,
              "#7201a8"
             ],
             [
              0.3333333333333333,
              "#9c179e"
             ],
             [
              0.4444444444444444,
              "#bd3786"
             ],
             [
              0.5555555555555556,
              "#d8576b"
             ],
             [
              0.6666666666666666,
              "#ed7953"
             ],
             [
              0.7777777777777778,
              "#fb9f3a"
             ],
             [
              0.8888888888888888,
              "#fdca26"
             ],
             [
              1,
              "#f0f921"
             ]
            ],
            "type": "histogram2dcontour"
           }
          ],
          "mesh3d": [
           {
            "colorbar": {
             "outlinewidth": 0,
             "ticks": ""
            },
            "type": "mesh3d"
           }
          ],
          "parcoords": [
           {
            "line": {
             "colorbar": {
              "outlinewidth": 0,
              "ticks": ""
             }
            },
            "type": "parcoords"
           }
          ],
          "pie": [
           {
            "automargin": true,
            "type": "pie"
           }
          ],
          "scatter": [
           {
            "marker": {
             "colorbar": {
              "outlinewidth": 0,
              "ticks": ""
             }
            },
            "type": "scatter"
           }
          ],
          "scatter3d": [
           {
            "line": {
             "colorbar": {
              "outlinewidth": 0,
              "ticks": ""
             }
            },
            "marker": {
             "colorbar": {
              "outlinewidth": 0,
              "ticks": ""
             }
            },
            "type": "scatter3d"
           }
          ],
          "scattercarpet": [
           {
            "marker": {
             "colorbar": {
              "outlinewidth": 0,
              "ticks": ""
             }
            },
            "type": "scattercarpet"
           }
          ],
          "scattergeo": [
           {
            "marker": {
             "colorbar": {
              "outlinewidth": 0,
              "ticks": ""
             }
            },
            "type": "scattergeo"
           }
          ],
          "scattergl": [
           {
            "marker": {
             "colorbar": {
              "outlinewidth": 0,
              "ticks": ""
             }
            },
            "type": "scattergl"
           }
          ],
          "scattermapbox": [
           {
            "marker": {
             "colorbar": {
              "outlinewidth": 0,
              "ticks": ""
             }
            },
            "type": "scattermapbox"
           }
          ],
          "scatterpolar": [
           {
            "marker": {
             "colorbar": {
              "outlinewidth": 0,
              "ticks": ""
             }
            },
            "type": "scatterpolar"
           }
          ],
          "scatterpolargl": [
           {
            "marker": {
             "colorbar": {
              "outlinewidth": 0,
              "ticks": ""
             }
            },
            "type": "scatterpolargl"
           }
          ],
          "scatterternary": [
           {
            "marker": {
             "colorbar": {
              "outlinewidth": 0,
              "ticks": ""
             }
            },
            "type": "scatterternary"
           }
          ],
          "surface": [
           {
            "colorbar": {
             "outlinewidth": 0,
             "ticks": ""
            },
            "colorscale": [
             [
              0,
              "#0d0887"
             ],
             [
              0.1111111111111111,
              "#46039f"
             ],
             [
              0.2222222222222222,
              "#7201a8"
             ],
             [
              0.3333333333333333,
              "#9c179e"
             ],
             [
              0.4444444444444444,
              "#bd3786"
             ],
             [
              0.5555555555555556,
              "#d8576b"
             ],
             [
              0.6666666666666666,
              "#ed7953"
             ],
             [
              0.7777777777777778,
              "#fb9f3a"
             ],
             [
              0.8888888888888888,
              "#fdca26"
             ],
             [
              1,
              "#f0f921"
             ]
            ],
            "type": "surface"
           }
          ],
          "table": [
           {
            "cells": {
             "fill": {
              "color": "#EBF0F8"
             },
             "line": {
              "color": "white"
             }
            },
            "header": {
             "fill": {
              "color": "#C8D4E3"
             },
             "line": {
              "color": "white"
             }
            },
            "type": "table"
           }
          ]
         },
         "layout": {
          "annotationdefaults": {
           "arrowcolor": "#2a3f5f",
           "arrowhead": 0,
           "arrowwidth": 1
          },
          "autotypenumbers": "strict",
          "coloraxis": {
           "colorbar": {
            "outlinewidth": 0,
            "ticks": ""
           }
          },
          "colorscale": {
           "diverging": [
            [
             0,
             "#8e0152"
            ],
            [
             0.1,
             "#c51b7d"
            ],
            [
             0.2,
             "#de77ae"
            ],
            [
             0.3,
             "#f1b6da"
            ],
            [
             0.4,
             "#fde0ef"
            ],
            [
             0.5,
             "#f7f7f7"
            ],
            [
             0.6,
             "#e6f5d0"
            ],
            [
             0.7,
             "#b8e186"
            ],
            [
             0.8,
             "#7fbc41"
            ],
            [
             0.9,
             "#4d9221"
            ],
            [
             1,
             "#276419"
            ]
           ],
           "sequential": [
            [
             0,
             "#0d0887"
            ],
            [
             0.1111111111111111,
             "#46039f"
            ],
            [
             0.2222222222222222,
             "#7201a8"
            ],
            [
             0.3333333333333333,
             "#9c179e"
            ],
            [
             0.4444444444444444,
             "#bd3786"
            ],
            [
             0.5555555555555556,
             "#d8576b"
            ],
            [
             0.6666666666666666,
             "#ed7953"
            ],
            [
             0.7777777777777778,
             "#fb9f3a"
            ],
            [
             0.8888888888888888,
             "#fdca26"
            ],
            [
             1,
             "#f0f921"
            ]
           ],
           "sequentialminus": [
            [
             0,
             "#0d0887"
            ],
            [
             0.1111111111111111,
             "#46039f"
            ],
            [
             0.2222222222222222,
             "#7201a8"
            ],
            [
             0.3333333333333333,
             "#9c179e"
            ],
            [
             0.4444444444444444,
             "#bd3786"
            ],
            [
             0.5555555555555556,
             "#d8576b"
            ],
            [
             0.6666666666666666,
             "#ed7953"
            ],
            [
             0.7777777777777778,
             "#fb9f3a"
            ],
            [
             0.8888888888888888,
             "#fdca26"
            ],
            [
             1,
             "#f0f921"
            ]
           ]
          },
          "colorway": [
           "#636efa",
           "#EF553B",
           "#00cc96",
           "#ab63fa",
           "#FFA15A",
           "#19d3f3",
           "#FF6692",
           "#B6E880",
           "#FF97FF",
           "#FECB52"
          ],
          "font": {
           "color": "#2a3f5f"
          },
          "geo": {
           "bgcolor": "white",
           "lakecolor": "white",
           "landcolor": "#E5ECF6",
           "showlakes": true,
           "showland": true,
           "subunitcolor": "white"
          },
          "hoverlabel": {
           "align": "left"
          },
          "hovermode": "closest",
          "mapbox": {
           "style": "light"
          },
          "paper_bgcolor": "white",
          "plot_bgcolor": "#E5ECF6",
          "polar": {
           "angularaxis": {
            "gridcolor": "white",
            "linecolor": "white",
            "ticks": ""
           },
           "bgcolor": "#E5ECF6",
           "radialaxis": {
            "gridcolor": "white",
            "linecolor": "white",
            "ticks": ""
           }
          },
          "scene": {
           "xaxis": {
            "backgroundcolor": "#E5ECF6",
            "gridcolor": "white",
            "gridwidth": 2,
            "linecolor": "white",
            "showbackground": true,
            "ticks": "",
            "zerolinecolor": "white"
           },
           "yaxis": {
            "backgroundcolor": "#E5ECF6",
            "gridcolor": "white",
            "gridwidth": 2,
            "linecolor": "white",
            "showbackground": true,
            "ticks": "",
            "zerolinecolor": "white"
           },
           "zaxis": {
            "backgroundcolor": "#E5ECF6",
            "gridcolor": "white",
            "gridwidth": 2,
            "linecolor": "white",
            "showbackground": true,
            "ticks": "",
            "zerolinecolor": "white"
           }
          },
          "shapedefaults": {
           "line": {
            "color": "#2a3f5f"
           }
          },
          "ternary": {
           "aaxis": {
            "gridcolor": "white",
            "linecolor": "white",
            "ticks": ""
           },
           "baxis": {
            "gridcolor": "white",
            "linecolor": "white",
            "ticks": ""
           },
           "bgcolor": "#E5ECF6",
           "caxis": {
            "gridcolor": "white",
            "linecolor": "white",
            "ticks": ""
           }
          },
          "title": {
           "x": 0.05
          },
          "xaxis": {
           "automargin": true,
           "gridcolor": "white",
           "linecolor": "white",
           "ticks": "",
           "title": {
            "standoff": 15
           },
           "zerolinecolor": "white",
           "zerolinewidth": 2
          },
          "yaxis": {
           "automargin": true,
           "gridcolor": "white",
           "linecolor": "white",
           "ticks": "",
           "title": {
            "standoff": 15
           },
           "zerolinecolor": "white",
           "zerolinewidth": 2
          }
         }
        },
        "title": {
         "font": {
          "color": "#4D5663"
         }
        },
        "xaxis": {
         "gridcolor": "#E1E5ED",
         "showgrid": true,
         "tickfont": {
          "color": "#4D5663"
         },
         "title": {
          "font": {
           "color": "#4D5663"
          },
          "text": ""
         },
         "zerolinecolor": "#E1E5ED"
        },
        "yaxis": {
         "gridcolor": "#E1E5ED",
         "showgrid": true,
         "tickfont": {
          "color": "#4D5663"
         },
         "title": {
          "font": {
           "color": "#4D5663"
          },
          "text": ""
         },
         "zerolinecolor": "#E1E5ED"
        }
       }
      },
      "text/html": [
       "<div>                            <div id=\"19c8ac37-f903-4b34-87ae-93757f4f1289\" class=\"plotly-graph-div\" style=\"height:525px; width:100%;\"></div>            <script type=\"text/javascript\">                require([\"plotly\"], function(Plotly) {                    window.PLOTLYENV=window.PLOTLYENV || {};\n",
       "                    window.PLOTLYENV.BASE_URL='https://plot.ly';                                    if (document.getElementById(\"19c8ac37-f903-4b34-87ae-93757f4f1289\")) {                    Plotly.newPlot(                        \"19c8ac37-f903-4b34-87ae-93757f4f1289\",                        [{\"colorscale\":[[0.0,\"rgb(165,0,38)\"],[0.1,\"rgb(215,48,39)\"],[0.2,\"rgb(244,109,67)\"],[0.3,\"rgb(253,174,97)\"],[0.4,\"rgb(254,224,144)\"],[0.5,\"rgb(255,255,191)\"],[0.6,\"rgb(224,243,248)\"],[0.7,\"rgb(171,217,233)\"],[0.8,\"rgb(116,173,209)\"],[0.9,\"rgb(69,117,180)\"],[1.0,\"rgb(49,54,149)\"]],\"x\":[0,1,2,3,4],\"y\":[\"x\",\"y\",\"z\"],\"z\":[[1,2,3,4,5],[10,20,30,20,10],[5,4,3,2,1]],\"type\":\"surface\"}],                        {\"legend\":{\"bgcolor\":\"#F5F6F9\",\"font\":{\"color\":\"#4D5663\"}},\"paper_bgcolor\":\"#F5F6F9\",\"plot_bgcolor\":\"#F5F6F9\",\"template\":{\"data\":{\"barpolar\":[{\"marker\":{\"line\":{\"color\":\"#E5ECF6\",\"width\":0.5},\"pattern\":{\"fillmode\":\"overlay\",\"size\":10,\"solidity\":0.2}},\"type\":\"barpolar\"}],\"bar\":[{\"error_x\":{\"color\":\"#2a3f5f\"},\"error_y\":{\"color\":\"#2a3f5f\"},\"marker\":{\"line\":{\"color\":\"#E5ECF6\",\"width\":0.5},\"pattern\":{\"fillmode\":\"overlay\",\"size\":10,\"solidity\":0.2}},\"type\":\"bar\"}],\"carpet\":[{\"aaxis\":{\"endlinecolor\":\"#2a3f5f\",\"gridcolor\":\"white\",\"linecolor\":\"white\",\"minorgridcolor\":\"white\",\"startlinecolor\":\"#2a3f5f\"},\"baxis\":{\"endlinecolor\":\"#2a3f5f\",\"gridcolor\":\"white\",\"linecolor\":\"white\",\"minorgridcolor\":\"white\",\"startlinecolor\":\"#2a3f5f\"},\"type\":\"carpet\"}],\"choropleth\":[{\"colorbar\":{\"outlinewidth\":0,\"ticks\":\"\"},\"type\":\"choropleth\"}],\"contourcarpet\":[{\"colorbar\":{\"outlinewidth\":0,\"ticks\":\"\"},\"type\":\"contourcarpet\"}],\"contour\":[{\"colorbar\":{\"outlinewidth\":0,\"ticks\":\"\"},\"colorscale\":[[0.0,\"#0d0887\"],[0.1111111111111111,\"#46039f\"],[0.2222222222222222,\"#7201a8\"],[0.3333333333333333,\"#9c179e\"],[0.4444444444444444,\"#bd3786\"],[0.5555555555555556,\"#d8576b\"],[0.6666666666666666,\"#ed7953\"],[0.7777777777777778,\"#fb9f3a\"],[0.8888888888888888,\"#fdca26\"],[1.0,\"#f0f921\"]],\"type\":\"contour\"}],\"heatmapgl\":[{\"colorbar\":{\"outlinewidth\":0,\"ticks\":\"\"},\"colorscale\":[[0.0,\"#0d0887\"],[0.1111111111111111,\"#46039f\"],[0.2222222222222222,\"#7201a8\"],[0.3333333333333333,\"#9c179e\"],[0.4444444444444444,\"#bd3786\"],[0.5555555555555556,\"#d8576b\"],[0.6666666666666666,\"#ed7953\"],[0.7777777777777778,\"#fb9f3a\"],[0.8888888888888888,\"#fdca26\"],[1.0,\"#f0f921\"]],\"type\":\"heatmapgl\"}],\"heatmap\":[{\"colorbar\":{\"outlinewidth\":0,\"ticks\":\"\"},\"colorscale\":[[0.0,\"#0d0887\"],[0.1111111111111111,\"#46039f\"],[0.2222222222222222,\"#7201a8\"],[0.3333333333333333,\"#9c179e\"],[0.4444444444444444,\"#bd3786\"],[0.5555555555555556,\"#d8576b\"],[0.6666666666666666,\"#ed7953\"],[0.7777777777777778,\"#fb9f3a\"],[0.8888888888888888,\"#fdca26\"],[1.0,\"#f0f921\"]],\"type\":\"heatmap\"}],\"histogram2dcontour\":[{\"colorbar\":{\"outlinewidth\":0,\"ticks\":\"\"},\"colorscale\":[[0.0,\"#0d0887\"],[0.1111111111111111,\"#46039f\"],[0.2222222222222222,\"#7201a8\"],[0.3333333333333333,\"#9c179e\"],[0.4444444444444444,\"#bd3786\"],[0.5555555555555556,\"#d8576b\"],[0.6666666666666666,\"#ed7953\"],[0.7777777777777778,\"#fb9f3a\"],[0.8888888888888888,\"#fdca26\"],[1.0,\"#f0f921\"]],\"type\":\"histogram2dcontour\"}],\"histogram2d\":[{\"colorbar\":{\"outlinewidth\":0,\"ticks\":\"\"},\"colorscale\":[[0.0,\"#0d0887\"],[0.1111111111111111,\"#46039f\"],[0.2222222222222222,\"#7201a8\"],[0.3333333333333333,\"#9c179e\"],[0.4444444444444444,\"#bd3786\"],[0.5555555555555556,\"#d8576b\"],[0.6666666666666666,\"#ed7953\"],[0.7777777777777778,\"#fb9f3a\"],[0.8888888888888888,\"#fdca26\"],[1.0,\"#f0f921\"]],\"type\":\"histogram2d\"}],\"histogram\":[{\"marker\":{\"pattern\":{\"fillmode\":\"overlay\",\"size\":10,\"solidity\":0.2}},\"type\":\"histogram\"}],\"mesh3d\":[{\"colorbar\":{\"outlinewidth\":0,\"ticks\":\"\"},\"type\":\"mesh3d\"}],\"parcoords\":[{\"line\":{\"colorbar\":{\"outlinewidth\":0,\"ticks\":\"\"}},\"type\":\"parcoords\"}],\"pie\":[{\"automargin\":true,\"type\":\"pie\"}],\"scatter3d\":[{\"line\":{\"colorbar\":{\"outlinewidth\":0,\"ticks\":\"\"}},\"marker\":{\"colorbar\":{\"outlinewidth\":0,\"ticks\":\"\"}},\"type\":\"scatter3d\"}],\"scattercarpet\":[{\"marker\":{\"colorbar\":{\"outlinewidth\":0,\"ticks\":\"\"}},\"type\":\"scattercarpet\"}],\"scattergeo\":[{\"marker\":{\"colorbar\":{\"outlinewidth\":0,\"ticks\":\"\"}},\"type\":\"scattergeo\"}],\"scattergl\":[{\"marker\":{\"colorbar\":{\"outlinewidth\":0,\"ticks\":\"\"}},\"type\":\"scattergl\"}],\"scattermapbox\":[{\"marker\":{\"colorbar\":{\"outlinewidth\":0,\"ticks\":\"\"}},\"type\":\"scattermapbox\"}],\"scatterpolargl\":[{\"marker\":{\"colorbar\":{\"outlinewidth\":0,\"ticks\":\"\"}},\"type\":\"scatterpolargl\"}],\"scatterpolar\":[{\"marker\":{\"colorbar\":{\"outlinewidth\":0,\"ticks\":\"\"}},\"type\":\"scatterpolar\"}],\"scatter\":[{\"marker\":{\"colorbar\":{\"outlinewidth\":0,\"ticks\":\"\"}},\"type\":\"scatter\"}],\"scatterternary\":[{\"marker\":{\"colorbar\":{\"outlinewidth\":0,\"ticks\":\"\"}},\"type\":\"scatterternary\"}],\"surface\":[{\"colorbar\":{\"outlinewidth\":0,\"ticks\":\"\"},\"colorscale\":[[0.0,\"#0d0887\"],[0.1111111111111111,\"#46039f\"],[0.2222222222222222,\"#7201a8\"],[0.3333333333333333,\"#9c179e\"],[0.4444444444444444,\"#bd3786\"],[0.5555555555555556,\"#d8576b\"],[0.6666666666666666,\"#ed7953\"],[0.7777777777777778,\"#fb9f3a\"],[0.8888888888888888,\"#fdca26\"],[1.0,\"#f0f921\"]],\"type\":\"surface\"}],\"table\":[{\"cells\":{\"fill\":{\"color\":\"#EBF0F8\"},\"line\":{\"color\":\"white\"}},\"header\":{\"fill\":{\"color\":\"#C8D4E3\"},\"line\":{\"color\":\"white\"}},\"type\":\"table\"}]},\"layout\":{\"annotationdefaults\":{\"arrowcolor\":\"#2a3f5f\",\"arrowhead\":0,\"arrowwidth\":1},\"autotypenumbers\":\"strict\",\"coloraxis\":{\"colorbar\":{\"outlinewidth\":0,\"ticks\":\"\"}},\"colorscale\":{\"diverging\":[[0,\"#8e0152\"],[0.1,\"#c51b7d\"],[0.2,\"#de77ae\"],[0.3,\"#f1b6da\"],[0.4,\"#fde0ef\"],[0.5,\"#f7f7f7\"],[0.6,\"#e6f5d0\"],[0.7,\"#b8e186\"],[0.8,\"#7fbc41\"],[0.9,\"#4d9221\"],[1,\"#276419\"]],\"sequential\":[[0.0,\"#0d0887\"],[0.1111111111111111,\"#46039f\"],[0.2222222222222222,\"#7201a8\"],[0.3333333333333333,\"#9c179e\"],[0.4444444444444444,\"#bd3786\"],[0.5555555555555556,\"#d8576b\"],[0.6666666666666666,\"#ed7953\"],[0.7777777777777778,\"#fb9f3a\"],[0.8888888888888888,\"#fdca26\"],[1.0,\"#f0f921\"]],\"sequentialminus\":[[0.0,\"#0d0887\"],[0.1111111111111111,\"#46039f\"],[0.2222222222222222,\"#7201a8\"],[0.3333333333333333,\"#9c179e\"],[0.4444444444444444,\"#bd3786\"],[0.5555555555555556,\"#d8576b\"],[0.6666666666666666,\"#ed7953\"],[0.7777777777777778,\"#fb9f3a\"],[0.8888888888888888,\"#fdca26\"],[1.0,\"#f0f921\"]]},\"colorway\":[\"#636efa\",\"#EF553B\",\"#00cc96\",\"#ab63fa\",\"#FFA15A\",\"#19d3f3\",\"#FF6692\",\"#B6E880\",\"#FF97FF\",\"#FECB52\"],\"font\":{\"color\":\"#2a3f5f\"},\"geo\":{\"bgcolor\":\"white\",\"lakecolor\":\"white\",\"landcolor\":\"#E5ECF6\",\"showlakes\":true,\"showland\":true,\"subunitcolor\":\"white\"},\"hoverlabel\":{\"align\":\"left\"},\"hovermode\":\"closest\",\"mapbox\":{\"style\":\"light\"},\"paper_bgcolor\":\"white\",\"plot_bgcolor\":\"#E5ECF6\",\"polar\":{\"angularaxis\":{\"gridcolor\":\"white\",\"linecolor\":\"white\",\"ticks\":\"\"},\"bgcolor\":\"#E5ECF6\",\"radialaxis\":{\"gridcolor\":\"white\",\"linecolor\":\"white\",\"ticks\":\"\"}},\"scene\":{\"xaxis\":{\"backgroundcolor\":\"#E5ECF6\",\"gridcolor\":\"white\",\"gridwidth\":2,\"linecolor\":\"white\",\"showbackground\":true,\"ticks\":\"\",\"zerolinecolor\":\"white\"},\"yaxis\":{\"backgroundcolor\":\"#E5ECF6\",\"gridcolor\":\"white\",\"gridwidth\":2,\"linecolor\":\"white\",\"showbackground\":true,\"ticks\":\"\",\"zerolinecolor\":\"white\"},\"zaxis\":{\"backgroundcolor\":\"#E5ECF6\",\"gridcolor\":\"white\",\"gridwidth\":2,\"linecolor\":\"white\",\"showbackground\":true,\"ticks\":\"\",\"zerolinecolor\":\"white\"}},\"shapedefaults\":{\"line\":{\"color\":\"#2a3f5f\"}},\"ternary\":{\"aaxis\":{\"gridcolor\":\"white\",\"linecolor\":\"white\",\"ticks\":\"\"},\"baxis\":{\"gridcolor\":\"white\",\"linecolor\":\"white\",\"ticks\":\"\"},\"bgcolor\":\"#E5ECF6\",\"caxis\":{\"gridcolor\":\"white\",\"linecolor\":\"white\",\"ticks\":\"\"}},\"title\":{\"x\":0.05},\"xaxis\":{\"automargin\":true,\"gridcolor\":\"white\",\"linecolor\":\"white\",\"ticks\":\"\",\"title\":{\"standoff\":15},\"zerolinecolor\":\"white\",\"zerolinewidth\":2},\"yaxis\":{\"automargin\":true,\"gridcolor\":\"white\",\"linecolor\":\"white\",\"ticks\":\"\",\"title\":{\"standoff\":15},\"zerolinecolor\":\"white\",\"zerolinewidth\":2}}},\"title\":{\"font\":{\"color\":\"#4D5663\"}},\"xaxis\":{\"gridcolor\":\"#E1E5ED\",\"showgrid\":true,\"tickfont\":{\"color\":\"#4D5663\"},\"title\":{\"font\":{\"color\":\"#4D5663\"},\"text\":\"\"},\"zerolinecolor\":\"#E1E5ED\"},\"yaxis\":{\"gridcolor\":\"#E1E5ED\",\"showgrid\":true,\"tickfont\":{\"color\":\"#4D5663\"},\"title\":{\"font\":{\"color\":\"#4D5663\"},\"text\":\"\"},\"zerolinecolor\":\"#E1E5ED\"}},                        {\"showLink\": true, \"linkText\": \"Export to plot.ly\", \"plotlyServerURL\": \"https://plot.ly\", \"responsive\": true}                    ).then(function(){\n",
       "                            \n",
       "var gd = document.getElementById('19c8ac37-f903-4b34-87ae-93757f4f1289');\n",
       "var x = new MutationObserver(function (mutations, observer) {{\n",
       "        var display = window.getComputedStyle(gd).display;\n",
       "        if (!display || display === 'none') {{\n",
       "            console.log([gd, 'removed!']);\n",
       "            Plotly.purge(gd);\n",
       "            observer.disconnect();\n",
       "        }}\n",
       "}});\n",
       "\n",
       "// Listen for the removal of the full notebook cells\n",
       "var notebookContainer = gd.closest('#notebook-container');\n",
       "if (notebookContainer) {{\n",
       "    x.observe(notebookContainer, {childList: true});\n",
       "}}\n",
       "\n",
       "// Listen for the clearing of the current output cell\n",
       "var outputEl = gd.closest('.output');\n",
       "if (outputEl) {{\n",
       "    x.observe(outputEl, {childList: true});\n",
       "}}\n",
       "\n",
       "                        })                };                });            </script>        </div>"
      ]
     },
     "metadata": {},
     "output_type": "display_data"
    }
   ],
   "source": [
    "df3.iplot(kind='surface', colorscale='rdylbu')"
   ]
  },
  {
   "cell_type": "code",
   "execution_count": 49,
   "id": "25c990c1",
   "metadata": {},
   "outputs": [
    {
     "data": {
      "application/vnd.plotly.v1+json": {
       "config": {
        "linkText": "Export to plot.ly",
        "plotlyServerURL": "https://plot.ly",
        "showLink": true
       },
       "data": [
        {
         "histfunc": "count",
         "histnorm": "",
         "marker": {
          "color": "rgba(255, 153, 51, 1.0)",
          "line": {
           "color": "#4D5663",
           "width": 1.3
          }
         },
         "name": "A",
         "nbinsx": 50,
         "opacity": 0.8,
         "orientation": "v",
         "type": "histogram",
         "x": [
          0.48979428455356877,
          1.2000787712482575,
          0.023788380464120393,
          -0.7762937541590931,
          -0.012364867282905903,
          -1.2161957246449362,
          -0.02690116005734921,
          -0.6136576494704216,
          -1.0932741606526177,
          1.3367224280535983,
          -0.21086536735247163,
          0.7004920634418149,
          0.022903232284200294,
          1.8118903731503866,
          0.03874003270713806,
          0.14207857973235602,
          -1.2664546662031808,
          1.0882638165812608,
          -0.7120729647956264,
          0.6937532377713457,
          -0.38587006015377073,
          0.7944049114081017,
          0.8902470208690971,
          -0.017596363807709636,
          -0.21123469197121414,
          -0.44522679075601096,
          0.06594417027871106,
          -0.4005156041049335,
          1.531611994137102,
          1.469053508293093,
          -0.6960757696420884,
          0.42188597213691115,
          -0.24857896565921767,
          0.35243368033595995,
          0.32289319825012025,
          1.756959477480924,
          -0.8646444846801743,
          0.7327493359184236,
          -0.05616681327469264,
          0.24137468687379302,
          0.13490316200095048,
          -0.30294439883702995,
          0.20149030418780658,
          -0.8439630384647533,
          0.9173475168512586,
          -0.7267483351185445,
          0.4551191588285759,
          -1.3050200504200984,
          -0.940424126632205,
          -0.2861436512950377,
          0.3272416090612496,
          -1.4862435821612276,
          -0.7419822477245054,
          -0.5289520199886615,
          -0.19209542834834886,
          -1.6137840913423802,
          2.5253792135126267,
          -0.36401403896536855,
          1.0560010342257284,
          1.4282679514136718,
          -1.7240519483814831,
          0.5671338747613731,
          -0.9080841728798318,
          0.31546878483673546,
          -0.11377460855602518,
          0.053496764203978336,
          0.6818028998550107,
          -1.9774449121637068,
          0.7084250781799291,
          1.5278746674917012,
          -0.9571164971445482,
          -1.3294630618845433,
          0.942272172901489,
          -0.019981281703439734,
          1.4525537255249976,
          0.027433302927381463,
          -1.8001925853232867,
          1.4426728488088858,
          -0.6965262723544774,
          1.2879984069477703,
          -1.4514103759363945,
          0.10321693798368037,
          -1.0337673090830766,
          1.2123441508341763,
          0.2816563048236678,
          -1.0116419291291963,
          1.2137608091381367,
          -0.6097424621297425,
          1.199038876047825,
          -0.14784081503360644,
          -1.0529508579837437,
          0.203716845237984,
          -1.3703913734693944,
          -1.4621189194907764,
          1.2079693890251404,
          1.0607169379613697,
          1.6860621157919298,
          -0.3043036742676254,
          1.252089094534873,
          0.8019105881421928
         ]
        }
       ],
       "layout": {
        "barmode": "overlay",
        "legend": {
         "bgcolor": "#F5F6F9",
         "font": {
          "color": "#4D5663"
         }
        },
        "paper_bgcolor": "#F5F6F9",
        "plot_bgcolor": "#F5F6F9",
        "template": {
         "data": {
          "bar": [
           {
            "error_x": {
             "color": "#2a3f5f"
            },
            "error_y": {
             "color": "#2a3f5f"
            },
            "marker": {
             "line": {
              "color": "#E5ECF6",
              "width": 0.5
             },
             "pattern": {
              "fillmode": "overlay",
              "size": 10,
              "solidity": 0.2
             }
            },
            "type": "bar"
           }
          ],
          "barpolar": [
           {
            "marker": {
             "line": {
              "color": "#E5ECF6",
              "width": 0.5
             },
             "pattern": {
              "fillmode": "overlay",
              "size": 10,
              "solidity": 0.2
             }
            },
            "type": "barpolar"
           }
          ],
          "carpet": [
           {
            "aaxis": {
             "endlinecolor": "#2a3f5f",
             "gridcolor": "white",
             "linecolor": "white",
             "minorgridcolor": "white",
             "startlinecolor": "#2a3f5f"
            },
            "baxis": {
             "endlinecolor": "#2a3f5f",
             "gridcolor": "white",
             "linecolor": "white",
             "minorgridcolor": "white",
             "startlinecolor": "#2a3f5f"
            },
            "type": "carpet"
           }
          ],
          "choropleth": [
           {
            "colorbar": {
             "outlinewidth": 0,
             "ticks": ""
            },
            "type": "choropleth"
           }
          ],
          "contour": [
           {
            "colorbar": {
             "outlinewidth": 0,
             "ticks": ""
            },
            "colorscale": [
             [
              0,
              "#0d0887"
             ],
             [
              0.1111111111111111,
              "#46039f"
             ],
             [
              0.2222222222222222,
              "#7201a8"
             ],
             [
              0.3333333333333333,
              "#9c179e"
             ],
             [
              0.4444444444444444,
              "#bd3786"
             ],
             [
              0.5555555555555556,
              "#d8576b"
             ],
             [
              0.6666666666666666,
              "#ed7953"
             ],
             [
              0.7777777777777778,
              "#fb9f3a"
             ],
             [
              0.8888888888888888,
              "#fdca26"
             ],
             [
              1,
              "#f0f921"
             ]
            ],
            "type": "contour"
           }
          ],
          "contourcarpet": [
           {
            "colorbar": {
             "outlinewidth": 0,
             "ticks": ""
            },
            "type": "contourcarpet"
           }
          ],
          "heatmap": [
           {
            "colorbar": {
             "outlinewidth": 0,
             "ticks": ""
            },
            "colorscale": [
             [
              0,
              "#0d0887"
             ],
             [
              0.1111111111111111,
              "#46039f"
             ],
             [
              0.2222222222222222,
              "#7201a8"
             ],
             [
              0.3333333333333333,
              "#9c179e"
             ],
             [
              0.4444444444444444,
              "#bd3786"
             ],
             [
              0.5555555555555556,
              "#d8576b"
             ],
             [
              0.6666666666666666,
              "#ed7953"
             ],
             [
              0.7777777777777778,
              "#fb9f3a"
             ],
             [
              0.8888888888888888,
              "#fdca26"
             ],
             [
              1,
              "#f0f921"
             ]
            ],
            "type": "heatmap"
           }
          ],
          "heatmapgl": [
           {
            "colorbar": {
             "outlinewidth": 0,
             "ticks": ""
            },
            "colorscale": [
             [
              0,
              "#0d0887"
             ],
             [
              0.1111111111111111,
              "#46039f"
             ],
             [
              0.2222222222222222,
              "#7201a8"
             ],
             [
              0.3333333333333333,
              "#9c179e"
             ],
             [
              0.4444444444444444,
              "#bd3786"
             ],
             [
              0.5555555555555556,
              "#d8576b"
             ],
             [
              0.6666666666666666,
              "#ed7953"
             ],
             [
              0.7777777777777778,
              "#fb9f3a"
             ],
             [
              0.8888888888888888,
              "#fdca26"
             ],
             [
              1,
              "#f0f921"
             ]
            ],
            "type": "heatmapgl"
           }
          ],
          "histogram": [
           {
            "marker": {
             "pattern": {
              "fillmode": "overlay",
              "size": 10,
              "solidity": 0.2
             }
            },
            "type": "histogram"
           }
          ],
          "histogram2d": [
           {
            "colorbar": {
             "outlinewidth": 0,
             "ticks": ""
            },
            "colorscale": [
             [
              0,
              "#0d0887"
             ],
             [
              0.1111111111111111,
              "#46039f"
             ],
             [
              0.2222222222222222,
              "#7201a8"
             ],
             [
              0.3333333333333333,
              "#9c179e"
             ],
             [
              0.4444444444444444,
              "#bd3786"
             ],
             [
              0.5555555555555556,
              "#d8576b"
             ],
             [
              0.6666666666666666,
              "#ed7953"
             ],
             [
              0.7777777777777778,
              "#fb9f3a"
             ],
             [
              0.8888888888888888,
              "#fdca26"
             ],
             [
              1,
              "#f0f921"
             ]
            ],
            "type": "histogram2d"
           }
          ],
          "histogram2dcontour": [
           {
            "colorbar": {
             "outlinewidth": 0,
             "ticks": ""
            },
            "colorscale": [
             [
              0,
              "#0d0887"
             ],
             [
              0.1111111111111111,
              "#46039f"
             ],
             [
              0.2222222222222222,
              "#7201a8"
             ],
             [
              0.3333333333333333,
              "#9c179e"
             ],
             [
              0.4444444444444444,
              "#bd3786"
             ],
             [
              0.5555555555555556,
              "#d8576b"
             ],
             [
              0.6666666666666666,
              "#ed7953"
             ],
             [
              0.7777777777777778,
              "#fb9f3a"
             ],
             [
              0.8888888888888888,
              "#fdca26"
             ],
             [
              1,
              "#f0f921"
             ]
            ],
            "type": "histogram2dcontour"
           }
          ],
          "mesh3d": [
           {
            "colorbar": {
             "outlinewidth": 0,
             "ticks": ""
            },
            "type": "mesh3d"
           }
          ],
          "parcoords": [
           {
            "line": {
             "colorbar": {
              "outlinewidth": 0,
              "ticks": ""
             }
            },
            "type": "parcoords"
           }
          ],
          "pie": [
           {
            "automargin": true,
            "type": "pie"
           }
          ],
          "scatter": [
           {
            "marker": {
             "colorbar": {
              "outlinewidth": 0,
              "ticks": ""
             }
            },
            "type": "scatter"
           }
          ],
          "scatter3d": [
           {
            "line": {
             "colorbar": {
              "outlinewidth": 0,
              "ticks": ""
             }
            },
            "marker": {
             "colorbar": {
              "outlinewidth": 0,
              "ticks": ""
             }
            },
            "type": "scatter3d"
           }
          ],
          "scattercarpet": [
           {
            "marker": {
             "colorbar": {
              "outlinewidth": 0,
              "ticks": ""
             }
            },
            "type": "scattercarpet"
           }
          ],
          "scattergeo": [
           {
            "marker": {
             "colorbar": {
              "outlinewidth": 0,
              "ticks": ""
             }
            },
            "type": "scattergeo"
           }
          ],
          "scattergl": [
           {
            "marker": {
             "colorbar": {
              "outlinewidth": 0,
              "ticks": ""
             }
            },
            "type": "scattergl"
           }
          ],
          "scattermapbox": [
           {
            "marker": {
             "colorbar": {
              "outlinewidth": 0,
              "ticks": ""
             }
            },
            "type": "scattermapbox"
           }
          ],
          "scatterpolar": [
           {
            "marker": {
             "colorbar": {
              "outlinewidth": 0,
              "ticks": ""
             }
            },
            "type": "scatterpolar"
           }
          ],
          "scatterpolargl": [
           {
            "marker": {
             "colorbar": {
              "outlinewidth": 0,
              "ticks": ""
             }
            },
            "type": "scatterpolargl"
           }
          ],
          "scatterternary": [
           {
            "marker": {
             "colorbar": {
              "outlinewidth": 0,
              "ticks": ""
             }
            },
            "type": "scatterternary"
           }
          ],
          "surface": [
           {
            "colorbar": {
             "outlinewidth": 0,
             "ticks": ""
            },
            "colorscale": [
             [
              0,
              "#0d0887"
             ],
             [
              0.1111111111111111,
              "#46039f"
             ],
             [
              0.2222222222222222,
              "#7201a8"
             ],
             [
              0.3333333333333333,
              "#9c179e"
             ],
             [
              0.4444444444444444,
              "#bd3786"
             ],
             [
              0.5555555555555556,
              "#d8576b"
             ],
             [
              0.6666666666666666,
              "#ed7953"
             ],
             [
              0.7777777777777778,
              "#fb9f3a"
             ],
             [
              0.8888888888888888,
              "#fdca26"
             ],
             [
              1,
              "#f0f921"
             ]
            ],
            "type": "surface"
           }
          ],
          "table": [
           {
            "cells": {
             "fill": {
              "color": "#EBF0F8"
             },
             "line": {
              "color": "white"
             }
            },
            "header": {
             "fill": {
              "color": "#C8D4E3"
             },
             "line": {
              "color": "white"
             }
            },
            "type": "table"
           }
          ]
         },
         "layout": {
          "annotationdefaults": {
           "arrowcolor": "#2a3f5f",
           "arrowhead": 0,
           "arrowwidth": 1
          },
          "autotypenumbers": "strict",
          "coloraxis": {
           "colorbar": {
            "outlinewidth": 0,
            "ticks": ""
           }
          },
          "colorscale": {
           "diverging": [
            [
             0,
             "#8e0152"
            ],
            [
             0.1,
             "#c51b7d"
            ],
            [
             0.2,
             "#de77ae"
            ],
            [
             0.3,
             "#f1b6da"
            ],
            [
             0.4,
             "#fde0ef"
            ],
            [
             0.5,
             "#f7f7f7"
            ],
            [
             0.6,
             "#e6f5d0"
            ],
            [
             0.7,
             "#b8e186"
            ],
            [
             0.8,
             "#7fbc41"
            ],
            [
             0.9,
             "#4d9221"
            ],
            [
             1,
             "#276419"
            ]
           ],
           "sequential": [
            [
             0,
             "#0d0887"
            ],
            [
             0.1111111111111111,
             "#46039f"
            ],
            [
             0.2222222222222222,
             "#7201a8"
            ],
            [
             0.3333333333333333,
             "#9c179e"
            ],
            [
             0.4444444444444444,
             "#bd3786"
            ],
            [
             0.5555555555555556,
             "#d8576b"
            ],
            [
             0.6666666666666666,
             "#ed7953"
            ],
            [
             0.7777777777777778,
             "#fb9f3a"
            ],
            [
             0.8888888888888888,
             "#fdca26"
            ],
            [
             1,
             "#f0f921"
            ]
           ],
           "sequentialminus": [
            [
             0,
             "#0d0887"
            ],
            [
             0.1111111111111111,
             "#46039f"
            ],
            [
             0.2222222222222222,
             "#7201a8"
            ],
            [
             0.3333333333333333,
             "#9c179e"
            ],
            [
             0.4444444444444444,
             "#bd3786"
            ],
            [
             0.5555555555555556,
             "#d8576b"
            ],
            [
             0.6666666666666666,
             "#ed7953"
            ],
            [
             0.7777777777777778,
             "#fb9f3a"
            ],
            [
             0.8888888888888888,
             "#fdca26"
            ],
            [
             1,
             "#f0f921"
            ]
           ]
          },
          "colorway": [
           "#636efa",
           "#EF553B",
           "#00cc96",
           "#ab63fa",
           "#FFA15A",
           "#19d3f3",
           "#FF6692",
           "#B6E880",
           "#FF97FF",
           "#FECB52"
          ],
          "font": {
           "color": "#2a3f5f"
          },
          "geo": {
           "bgcolor": "white",
           "lakecolor": "white",
           "landcolor": "#E5ECF6",
           "showlakes": true,
           "showland": true,
           "subunitcolor": "white"
          },
          "hoverlabel": {
           "align": "left"
          },
          "hovermode": "closest",
          "mapbox": {
           "style": "light"
          },
          "paper_bgcolor": "white",
          "plot_bgcolor": "#E5ECF6",
          "polar": {
           "angularaxis": {
            "gridcolor": "white",
            "linecolor": "white",
            "ticks": ""
           },
           "bgcolor": "#E5ECF6",
           "radialaxis": {
            "gridcolor": "white",
            "linecolor": "white",
            "ticks": ""
           }
          },
          "scene": {
           "xaxis": {
            "backgroundcolor": "#E5ECF6",
            "gridcolor": "white",
            "gridwidth": 2,
            "linecolor": "white",
            "showbackground": true,
            "ticks": "",
            "zerolinecolor": "white"
           },
           "yaxis": {
            "backgroundcolor": "#E5ECF6",
            "gridcolor": "white",
            "gridwidth": 2,
            "linecolor": "white",
            "showbackground": true,
            "ticks": "",
            "zerolinecolor": "white"
           },
           "zaxis": {
            "backgroundcolor": "#E5ECF6",
            "gridcolor": "white",
            "gridwidth": 2,
            "linecolor": "white",
            "showbackground": true,
            "ticks": "",
            "zerolinecolor": "white"
           }
          },
          "shapedefaults": {
           "line": {
            "color": "#2a3f5f"
           }
          },
          "ternary": {
           "aaxis": {
            "gridcolor": "white",
            "linecolor": "white",
            "ticks": ""
           },
           "baxis": {
            "gridcolor": "white",
            "linecolor": "white",
            "ticks": ""
           },
           "bgcolor": "#E5ECF6",
           "caxis": {
            "gridcolor": "white",
            "linecolor": "white",
            "ticks": ""
           }
          },
          "title": {
           "x": 0.05
          },
          "xaxis": {
           "automargin": true,
           "gridcolor": "white",
           "linecolor": "white",
           "ticks": "",
           "title": {
            "standoff": 15
           },
           "zerolinecolor": "white",
           "zerolinewidth": 2
          },
          "yaxis": {
           "automargin": true,
           "gridcolor": "white",
           "linecolor": "white",
           "ticks": "",
           "title": {
            "standoff": 15
           },
           "zerolinecolor": "white",
           "zerolinewidth": 2
          }
         }
        },
        "title": {
         "font": {
          "color": "#4D5663"
         }
        },
        "xaxis": {
         "gridcolor": "#E1E5ED",
         "showgrid": true,
         "tickfont": {
          "color": "#4D5663"
         },
         "title": {
          "font": {
           "color": "#4D5663"
          },
          "text": ""
         },
         "zerolinecolor": "#E1E5ED"
        },
        "yaxis": {
         "gridcolor": "#E1E5ED",
         "showgrid": true,
         "tickfont": {
          "color": "#4D5663"
         },
         "title": {
          "font": {
           "color": "#4D5663"
          },
          "text": ""
         },
         "zerolinecolor": "#E1E5ED"
        }
       }
      },
      "text/html": [
       "<div>                            <div id=\"5cca7a90-d1ac-48d9-afea-7133f8619c5f\" class=\"plotly-graph-div\" style=\"height:525px; width:100%;\"></div>            <script type=\"text/javascript\">                require([\"plotly\"], function(Plotly) {                    window.PLOTLYENV=window.PLOTLYENV || {};\n",
       "                    window.PLOTLYENV.BASE_URL='https://plot.ly';                                    if (document.getElementById(\"5cca7a90-d1ac-48d9-afea-7133f8619c5f\")) {                    Plotly.newPlot(                        \"5cca7a90-d1ac-48d9-afea-7133f8619c5f\",                        [{\"histfunc\":\"count\",\"histnorm\":\"\",\"marker\":{\"color\":\"rgba(255, 153, 51, 1.0)\",\"line\":{\"color\":\"#4D5663\",\"width\":1.3}},\"name\":\"A\",\"nbinsx\":50,\"opacity\":0.8,\"orientation\":\"v\",\"x\":[0.48979428455356877,1.2000787712482575,0.023788380464120393,-0.7762937541590931,-0.012364867282905903,-1.2161957246449362,-0.02690116005734921,-0.6136576494704216,-1.0932741606526177,1.3367224280535983,-0.21086536735247163,0.7004920634418149,0.022903232284200294,1.8118903731503866,0.03874003270713806,0.14207857973235602,-1.2664546662031808,1.0882638165812608,-0.7120729647956264,0.6937532377713457,-0.38587006015377073,0.7944049114081017,0.8902470208690971,-0.017596363807709636,-0.21123469197121414,-0.44522679075601096,0.06594417027871106,-0.4005156041049335,1.531611994137102,1.469053508293093,-0.6960757696420884,0.42188597213691115,-0.24857896565921767,0.35243368033595995,0.32289319825012025,1.756959477480924,-0.8646444846801743,0.7327493359184236,-0.05616681327469264,0.24137468687379302,0.13490316200095048,-0.30294439883702995,0.20149030418780658,-0.8439630384647533,0.9173475168512586,-0.7267483351185445,0.4551191588285759,-1.3050200504200984,-0.940424126632205,-0.2861436512950377,0.3272416090612496,-1.4862435821612276,-0.7419822477245054,-0.5289520199886615,-0.19209542834834886,-1.6137840913423802,2.5253792135126267,-0.36401403896536855,1.0560010342257284,1.4282679514136718,-1.7240519483814831,0.5671338747613731,-0.9080841728798318,0.31546878483673546,-0.11377460855602518,0.053496764203978336,0.6818028998550107,-1.9774449121637068,0.7084250781799291,1.5278746674917012,-0.9571164971445482,-1.3294630618845433,0.942272172901489,-0.019981281703439734,1.4525537255249976,0.027433302927381463,-1.8001925853232867,1.4426728488088858,-0.6965262723544774,1.2879984069477703,-1.4514103759363945,0.10321693798368037,-1.0337673090830766,1.2123441508341763,0.2816563048236678,-1.0116419291291963,1.2137608091381367,-0.6097424621297425,1.199038876047825,-0.14784081503360644,-1.0529508579837437,0.203716845237984,-1.3703913734693944,-1.4621189194907764,1.2079693890251404,1.0607169379613697,1.6860621157919298,-0.3043036742676254,1.252089094534873,0.8019105881421928],\"type\":\"histogram\"}],                        {\"barmode\":\"overlay\",\"legend\":{\"bgcolor\":\"#F5F6F9\",\"font\":{\"color\":\"#4D5663\"}},\"paper_bgcolor\":\"#F5F6F9\",\"plot_bgcolor\":\"#F5F6F9\",\"template\":{\"data\":{\"barpolar\":[{\"marker\":{\"line\":{\"color\":\"#E5ECF6\",\"width\":0.5},\"pattern\":{\"fillmode\":\"overlay\",\"size\":10,\"solidity\":0.2}},\"type\":\"barpolar\"}],\"bar\":[{\"error_x\":{\"color\":\"#2a3f5f\"},\"error_y\":{\"color\":\"#2a3f5f\"},\"marker\":{\"line\":{\"color\":\"#E5ECF6\",\"width\":0.5},\"pattern\":{\"fillmode\":\"overlay\",\"size\":10,\"solidity\":0.2}},\"type\":\"bar\"}],\"carpet\":[{\"aaxis\":{\"endlinecolor\":\"#2a3f5f\",\"gridcolor\":\"white\",\"linecolor\":\"white\",\"minorgridcolor\":\"white\",\"startlinecolor\":\"#2a3f5f\"},\"baxis\":{\"endlinecolor\":\"#2a3f5f\",\"gridcolor\":\"white\",\"linecolor\":\"white\",\"minorgridcolor\":\"white\",\"startlinecolor\":\"#2a3f5f\"},\"type\":\"carpet\"}],\"choropleth\":[{\"colorbar\":{\"outlinewidth\":0,\"ticks\":\"\"},\"type\":\"choropleth\"}],\"contourcarpet\":[{\"colorbar\":{\"outlinewidth\":0,\"ticks\":\"\"},\"type\":\"contourcarpet\"}],\"contour\":[{\"colorbar\":{\"outlinewidth\":0,\"ticks\":\"\"},\"colorscale\":[[0.0,\"#0d0887\"],[0.1111111111111111,\"#46039f\"],[0.2222222222222222,\"#7201a8\"],[0.3333333333333333,\"#9c179e\"],[0.4444444444444444,\"#bd3786\"],[0.5555555555555556,\"#d8576b\"],[0.6666666666666666,\"#ed7953\"],[0.7777777777777778,\"#fb9f3a\"],[0.8888888888888888,\"#fdca26\"],[1.0,\"#f0f921\"]],\"type\":\"contour\"}],\"heatmapgl\":[{\"colorbar\":{\"outlinewidth\":0,\"ticks\":\"\"},\"colorscale\":[[0.0,\"#0d0887\"],[0.1111111111111111,\"#46039f\"],[0.2222222222222222,\"#7201a8\"],[0.3333333333333333,\"#9c179e\"],[0.4444444444444444,\"#bd3786\"],[0.5555555555555556,\"#d8576b\"],[0.6666666666666666,\"#ed7953\"],[0.7777777777777778,\"#fb9f3a\"],[0.8888888888888888,\"#fdca26\"],[1.0,\"#f0f921\"]],\"type\":\"heatmapgl\"}],\"heatmap\":[{\"colorbar\":{\"outlinewidth\":0,\"ticks\":\"\"},\"colorscale\":[[0.0,\"#0d0887\"],[0.1111111111111111,\"#46039f\"],[0.2222222222222222,\"#7201a8\"],[0.3333333333333333,\"#9c179e\"],[0.4444444444444444,\"#bd3786\"],[0.5555555555555556,\"#d8576b\"],[0.6666666666666666,\"#ed7953\"],[0.7777777777777778,\"#fb9f3a\"],[0.8888888888888888,\"#fdca26\"],[1.0,\"#f0f921\"]],\"type\":\"heatmap\"}],\"histogram2dcontour\":[{\"colorbar\":{\"outlinewidth\":0,\"ticks\":\"\"},\"colorscale\":[[0.0,\"#0d0887\"],[0.1111111111111111,\"#46039f\"],[0.2222222222222222,\"#7201a8\"],[0.3333333333333333,\"#9c179e\"],[0.4444444444444444,\"#bd3786\"],[0.5555555555555556,\"#d8576b\"],[0.6666666666666666,\"#ed7953\"],[0.7777777777777778,\"#fb9f3a\"],[0.8888888888888888,\"#fdca26\"],[1.0,\"#f0f921\"]],\"type\":\"histogram2dcontour\"}],\"histogram2d\":[{\"colorbar\":{\"outlinewidth\":0,\"ticks\":\"\"},\"colorscale\":[[0.0,\"#0d0887\"],[0.1111111111111111,\"#46039f\"],[0.2222222222222222,\"#7201a8\"],[0.3333333333333333,\"#9c179e\"],[0.4444444444444444,\"#bd3786\"],[0.5555555555555556,\"#d8576b\"],[0.6666666666666666,\"#ed7953\"],[0.7777777777777778,\"#fb9f3a\"],[0.8888888888888888,\"#fdca26\"],[1.0,\"#f0f921\"]],\"type\":\"histogram2d\"}],\"histogram\":[{\"marker\":{\"pattern\":{\"fillmode\":\"overlay\",\"size\":10,\"solidity\":0.2}},\"type\":\"histogram\"}],\"mesh3d\":[{\"colorbar\":{\"outlinewidth\":0,\"ticks\":\"\"},\"type\":\"mesh3d\"}],\"parcoords\":[{\"line\":{\"colorbar\":{\"outlinewidth\":0,\"ticks\":\"\"}},\"type\":\"parcoords\"}],\"pie\":[{\"automargin\":true,\"type\":\"pie\"}],\"scatter3d\":[{\"line\":{\"colorbar\":{\"outlinewidth\":0,\"ticks\":\"\"}},\"marker\":{\"colorbar\":{\"outlinewidth\":0,\"ticks\":\"\"}},\"type\":\"scatter3d\"}],\"scattercarpet\":[{\"marker\":{\"colorbar\":{\"outlinewidth\":0,\"ticks\":\"\"}},\"type\":\"scattercarpet\"}],\"scattergeo\":[{\"marker\":{\"colorbar\":{\"outlinewidth\":0,\"ticks\":\"\"}},\"type\":\"scattergeo\"}],\"scattergl\":[{\"marker\":{\"colorbar\":{\"outlinewidth\":0,\"ticks\":\"\"}},\"type\":\"scattergl\"}],\"scattermapbox\":[{\"marker\":{\"colorbar\":{\"outlinewidth\":0,\"ticks\":\"\"}},\"type\":\"scattermapbox\"}],\"scatterpolargl\":[{\"marker\":{\"colorbar\":{\"outlinewidth\":0,\"ticks\":\"\"}},\"type\":\"scatterpolargl\"}],\"scatterpolar\":[{\"marker\":{\"colorbar\":{\"outlinewidth\":0,\"ticks\":\"\"}},\"type\":\"scatterpolar\"}],\"scatter\":[{\"marker\":{\"colorbar\":{\"outlinewidth\":0,\"ticks\":\"\"}},\"type\":\"scatter\"}],\"scatterternary\":[{\"marker\":{\"colorbar\":{\"outlinewidth\":0,\"ticks\":\"\"}},\"type\":\"scatterternary\"}],\"surface\":[{\"colorbar\":{\"outlinewidth\":0,\"ticks\":\"\"},\"colorscale\":[[0.0,\"#0d0887\"],[0.1111111111111111,\"#46039f\"],[0.2222222222222222,\"#7201a8\"],[0.3333333333333333,\"#9c179e\"],[0.4444444444444444,\"#bd3786\"],[0.5555555555555556,\"#d8576b\"],[0.6666666666666666,\"#ed7953\"],[0.7777777777777778,\"#fb9f3a\"],[0.8888888888888888,\"#fdca26\"],[1.0,\"#f0f921\"]],\"type\":\"surface\"}],\"table\":[{\"cells\":{\"fill\":{\"color\":\"#EBF0F8\"},\"line\":{\"color\":\"white\"}},\"header\":{\"fill\":{\"color\":\"#C8D4E3\"},\"line\":{\"color\":\"white\"}},\"type\":\"table\"}]},\"layout\":{\"annotationdefaults\":{\"arrowcolor\":\"#2a3f5f\",\"arrowhead\":0,\"arrowwidth\":1},\"autotypenumbers\":\"strict\",\"coloraxis\":{\"colorbar\":{\"outlinewidth\":0,\"ticks\":\"\"}},\"colorscale\":{\"diverging\":[[0,\"#8e0152\"],[0.1,\"#c51b7d\"],[0.2,\"#de77ae\"],[0.3,\"#f1b6da\"],[0.4,\"#fde0ef\"],[0.5,\"#f7f7f7\"],[0.6,\"#e6f5d0\"],[0.7,\"#b8e186\"],[0.8,\"#7fbc41\"],[0.9,\"#4d9221\"],[1,\"#276419\"]],\"sequential\":[[0.0,\"#0d0887\"],[0.1111111111111111,\"#46039f\"],[0.2222222222222222,\"#7201a8\"],[0.3333333333333333,\"#9c179e\"],[0.4444444444444444,\"#bd3786\"],[0.5555555555555556,\"#d8576b\"],[0.6666666666666666,\"#ed7953\"],[0.7777777777777778,\"#fb9f3a\"],[0.8888888888888888,\"#fdca26\"],[1.0,\"#f0f921\"]],\"sequentialminus\":[[0.0,\"#0d0887\"],[0.1111111111111111,\"#46039f\"],[0.2222222222222222,\"#7201a8\"],[0.3333333333333333,\"#9c179e\"],[0.4444444444444444,\"#bd3786\"],[0.5555555555555556,\"#d8576b\"],[0.6666666666666666,\"#ed7953\"],[0.7777777777777778,\"#fb9f3a\"],[0.8888888888888888,\"#fdca26\"],[1.0,\"#f0f921\"]]},\"colorway\":[\"#636efa\",\"#EF553B\",\"#00cc96\",\"#ab63fa\",\"#FFA15A\",\"#19d3f3\",\"#FF6692\",\"#B6E880\",\"#FF97FF\",\"#FECB52\"],\"font\":{\"color\":\"#2a3f5f\"},\"geo\":{\"bgcolor\":\"white\",\"lakecolor\":\"white\",\"landcolor\":\"#E5ECF6\",\"showlakes\":true,\"showland\":true,\"subunitcolor\":\"white\"},\"hoverlabel\":{\"align\":\"left\"},\"hovermode\":\"closest\",\"mapbox\":{\"style\":\"light\"},\"paper_bgcolor\":\"white\",\"plot_bgcolor\":\"#E5ECF6\",\"polar\":{\"angularaxis\":{\"gridcolor\":\"white\",\"linecolor\":\"white\",\"ticks\":\"\"},\"bgcolor\":\"#E5ECF6\",\"radialaxis\":{\"gridcolor\":\"white\",\"linecolor\":\"white\",\"ticks\":\"\"}},\"scene\":{\"xaxis\":{\"backgroundcolor\":\"#E5ECF6\",\"gridcolor\":\"white\",\"gridwidth\":2,\"linecolor\":\"white\",\"showbackground\":true,\"ticks\":\"\",\"zerolinecolor\":\"white\"},\"yaxis\":{\"backgroundcolor\":\"#E5ECF6\",\"gridcolor\":\"white\",\"gridwidth\":2,\"linecolor\":\"white\",\"showbackground\":true,\"ticks\":\"\",\"zerolinecolor\":\"white\"},\"zaxis\":{\"backgroundcolor\":\"#E5ECF6\",\"gridcolor\":\"white\",\"gridwidth\":2,\"linecolor\":\"white\",\"showbackground\":true,\"ticks\":\"\",\"zerolinecolor\":\"white\"}},\"shapedefaults\":{\"line\":{\"color\":\"#2a3f5f\"}},\"ternary\":{\"aaxis\":{\"gridcolor\":\"white\",\"linecolor\":\"white\",\"ticks\":\"\"},\"baxis\":{\"gridcolor\":\"white\",\"linecolor\":\"white\",\"ticks\":\"\"},\"bgcolor\":\"#E5ECF6\",\"caxis\":{\"gridcolor\":\"white\",\"linecolor\":\"white\",\"ticks\":\"\"}},\"title\":{\"x\":0.05},\"xaxis\":{\"automargin\":true,\"gridcolor\":\"white\",\"linecolor\":\"white\",\"ticks\":\"\",\"title\":{\"standoff\":15},\"zerolinecolor\":\"white\",\"zerolinewidth\":2},\"yaxis\":{\"automargin\":true,\"gridcolor\":\"white\",\"linecolor\":\"white\",\"ticks\":\"\",\"title\":{\"standoff\":15},\"zerolinecolor\":\"white\",\"zerolinewidth\":2}}},\"title\":{\"font\":{\"color\":\"#4D5663\"}},\"xaxis\":{\"gridcolor\":\"#E1E5ED\",\"showgrid\":true,\"tickfont\":{\"color\":\"#4D5663\"},\"title\":{\"font\":{\"color\":\"#4D5663\"},\"text\":\"\"},\"zerolinecolor\":\"#E1E5ED\"},\"yaxis\":{\"gridcolor\":\"#E1E5ED\",\"showgrid\":true,\"tickfont\":{\"color\":\"#4D5663\"},\"title\":{\"font\":{\"color\":\"#4D5663\"},\"text\":\"\"},\"zerolinecolor\":\"#E1E5ED\"}},                        {\"showLink\": true, \"linkText\": \"Export to plot.ly\", \"plotlyServerURL\": \"https://plot.ly\", \"responsive\": true}                    ).then(function(){\n",
       "                            \n",
       "var gd = document.getElementById('5cca7a90-d1ac-48d9-afea-7133f8619c5f');\n",
       "var x = new MutationObserver(function (mutations, observer) {{\n",
       "        var display = window.getComputedStyle(gd).display;\n",
       "        if (!display || display === 'none') {{\n",
       "            console.log([gd, 'removed!']);\n",
       "            Plotly.purge(gd);\n",
       "            observer.disconnect();\n",
       "        }}\n",
       "}});\n",
       "\n",
       "// Listen for the removal of the full notebook cells\n",
       "var notebookContainer = gd.closest('#notebook-container');\n",
       "if (notebookContainer) {{\n",
       "    x.observe(notebookContainer, {childList: true});\n",
       "}}\n",
       "\n",
       "// Listen for the clearing of the current output cell\n",
       "var outputEl = gd.closest('.output');\n",
       "if (outputEl) {{\n",
       "    x.observe(outputEl, {childList: true});\n",
       "}}\n",
       "\n",
       "                        })                };                });            </script>        </div>"
      ]
     },
     "metadata": {},
     "output_type": "display_data"
    }
   ],
   "source": [
    "df['A'].iplot(kind='hist', bins=50)"
   ]
  },
  {
   "cell_type": "code",
   "execution_count": 51,
   "id": "b6fa4f05",
   "metadata": {},
   "outputs": [
    {
     "data": {
      "application/vnd.plotly.v1+json": {
       "config": {
        "linkText": "Export to plot.ly",
        "plotlyServerURL": "https://plot.ly",
        "showLink": true
       },
       "data": [
        {
         "histfunc": "count",
         "histnorm": "",
         "marker": {
          "color": "rgba(255, 153, 51, 1.0)",
          "line": {
           "color": "#4D5663",
           "width": 1.3
          }
         },
         "name": "A",
         "opacity": 0.8,
         "orientation": "v",
         "type": "histogram",
         "x": [
          0.48979428455356877,
          1.2000787712482575,
          0.023788380464120393,
          -0.7762937541590931,
          -0.012364867282905903,
          -1.2161957246449362,
          -0.02690116005734921,
          -0.6136576494704216,
          -1.0932741606526177,
          1.3367224280535983,
          -0.21086536735247163,
          0.7004920634418149,
          0.022903232284200294,
          1.8118903731503866,
          0.03874003270713806,
          0.14207857973235602,
          -1.2664546662031808,
          1.0882638165812608,
          -0.7120729647956264,
          0.6937532377713457,
          -0.38587006015377073,
          0.7944049114081017,
          0.8902470208690971,
          -0.017596363807709636,
          -0.21123469197121414,
          -0.44522679075601096,
          0.06594417027871106,
          -0.4005156041049335,
          1.531611994137102,
          1.469053508293093,
          -0.6960757696420884,
          0.42188597213691115,
          -0.24857896565921767,
          0.35243368033595995,
          0.32289319825012025,
          1.756959477480924,
          -0.8646444846801743,
          0.7327493359184236,
          -0.05616681327469264,
          0.24137468687379302,
          0.13490316200095048,
          -0.30294439883702995,
          0.20149030418780658,
          -0.8439630384647533,
          0.9173475168512586,
          -0.7267483351185445,
          0.4551191588285759,
          -1.3050200504200984,
          -0.940424126632205,
          -0.2861436512950377,
          0.3272416090612496,
          -1.4862435821612276,
          -0.7419822477245054,
          -0.5289520199886615,
          -0.19209542834834886,
          -1.6137840913423802,
          2.5253792135126267,
          -0.36401403896536855,
          1.0560010342257284,
          1.4282679514136718,
          -1.7240519483814831,
          0.5671338747613731,
          -0.9080841728798318,
          0.31546878483673546,
          -0.11377460855602518,
          0.053496764203978336,
          0.6818028998550107,
          -1.9774449121637068,
          0.7084250781799291,
          1.5278746674917012,
          -0.9571164971445482,
          -1.3294630618845433,
          0.942272172901489,
          -0.019981281703439734,
          1.4525537255249976,
          0.027433302927381463,
          -1.8001925853232867,
          1.4426728488088858,
          -0.6965262723544774,
          1.2879984069477703,
          -1.4514103759363945,
          0.10321693798368037,
          -1.0337673090830766,
          1.2123441508341763,
          0.2816563048236678,
          -1.0116419291291963,
          1.2137608091381367,
          -0.6097424621297425,
          1.199038876047825,
          -0.14784081503360644,
          -1.0529508579837437,
          0.203716845237984,
          -1.3703913734693944,
          -1.4621189194907764,
          1.2079693890251404,
          1.0607169379613697,
          1.6860621157919298,
          -0.3043036742676254,
          1.252089094534873,
          0.8019105881421928
         ]
        },
        {
         "histfunc": "count",
         "histnorm": "",
         "marker": {
          "color": "rgba(55, 128, 191, 1.0)",
          "line": {
           "color": "#4D5663",
           "width": 1.3
          }
         },
         "name": "B",
         "opacity": 0.8,
         "orientation": "v",
         "type": "histogram",
         "x": [
          -1.0998518931967172,
          -0.951310489501729,
          0.4961980985412946,
          -1.9465577812700667,
          0.4782546807810063,
          0.3915928924499597,
          -0.16195461581883155,
          -0.5684389432325745,
          0.7864442079773991,
          0.11786194397659192,
          0.7806483973082989,
          -0.7216593398328882,
          0.14627440175389989,
          -0.07554072415619882,
          0.014168578367290862,
          -0.6333465050786681,
          1.0127771174834996,
          1.3878021905639235,
          0.4904150562542391,
          0.2536434005385077,
          1.1786366553776157,
          -3.334302912542056,
          0.7647022080307493,
          -0.031935851656112776,
          -0.7839089589040155,
          -0.09122200998567682,
          -0.4898507459459323,
          -0.5684394463175186,
          0.11940011898377212,
          -0.19497172220308293,
          2.728343356239694,
          -0.40789330735339907,
          -0.24459607575641326,
          -0.4858707994184838,
          -0.015234217101942981,
          -0.08771777295493485,
          0.4772963643238052,
          1.4507007392664688,
          0.4061437530079583,
          0.15419502764767845,
          -0.726525983701748,
          -0.2669636603429239,
          0.9852178153304991,
          -1.29587901702008,
          -0.6664537394097019,
          -1.093155363979523,
          1.4968662243590183,
          -0.8959185628124724,
          -1.5208535704872201,
          -0.4052181341125891,
          -0.017951376963129023,
          0.9116272137945861,
          -1.6649360797874992,
          0.3040516316528378,
          -0.12186378938520936,
          1.1724212208098135,
          -1.274141257813947,
          0.11182468335506614,
          1.47499536050285,
          0.2583425826196655,
          -0.32092947933983107,
          1.0007576889539056,
          0.20795616239699127,
          -0.08665414940310559,
          0.6523377927617374,
          0.16726551027784153,
          -0.42557944492126054,
          1.3705804781599653,
          0.9989305038474585,
          -1.6823152185810062,
          -1.4777209857615803,
          -0.9939514975377667,
          -1.0574492878409467,
          -0.18781359857066682,
          0.8413247717773269,
          1.1757733216891897,
          0.2972356932010209,
          -0.28249667162063813,
          -1.3381021329751352,
          0.8454290322931972,
          -0.43718099727400006,
          0.08608827559328311,
          0.42555094905863433,
          0.06474854527759977,
          -1.7365979250057706,
          -0.6954111510725659,
          0.5943477159463276,
          -0.0624064236918547,
          -0.09311347408323536,
          -0.20864777953826144,
          -1.5057657340094361,
          0.985649019277635,
          -0.618834216881153,
          -0.24696789588479345,
          0.1741621994183457,
          -1.2990736535773484,
          -1.9746857091172834,
          0.04549424231182181,
          -0.4787536211341913,
          -1.8165952496968758
         ]
        },
        {
         "histfunc": "count",
         "histnorm": "",
         "marker": {
          "color": "rgba(50, 171, 96, 1.0)",
          "line": {
           "color": "#4D5663",
           "width": 1.3
          }
         },
         "name": "C",
         "opacity": 0.8,
         "orientation": "v",
         "type": "histogram",
         "x": [
          -1.0625887658002213,
          0.09202816193018518,
          0.564848376353891,
          0.419472612971872,
          0.12660612020962858,
          -0.5127914675811296,
          -1.1250834598039288,
          -0.6051822916912,
          -0.16221998280097874,
          0.7356228690390648,
          -0.07574687216850803,
          0.17596247282604027,
          -1.721717086791258,
          2.323429731895257,
          -0.8482030722200461,
          -0.13369431269758897,
          1.43368695838209,
          0.12440433777333088,
          0.6827434615859537,
          -1.2316479081514446,
          -1.6643319307140543,
          -0.7326761450757091,
          0.14581998247595768,
          -0.8486405675639428,
          -1.3879983259008852,
          -1.869598616511187,
          -2.360893594863502,
          1.1800886270616593,
          0.5182722178949594,
          0.7554306808110395,
          -1.2801531109221176,
          -1.816141993229202,
          -0.5232033577209291,
          0.7622410426171143,
          -0.05449472773996224,
          0.1922114685510936,
          -0.4141235355446176,
          0.7052675744404783,
          -2.59538260905528,
          -0.16142979812964459,
          0.2326207735748364,
          -0.7723616091348504,
          0.41227233208544345,
          0.16675903993999175,
          -0.5494052757613266,
          -1.2332580401100453,
          -1.5362604958487704,
          -0.6850801955952219,
          -0.10309357320981548,
          1.211292382720803,
          0.8824592740410863,
          -0.8569072831904082,
          -1.250014049122893,
          -0.08799308927471544,
          -0.6552934530711982,
          0.9863289277092309,
          -0.0031616249570040264,
          0.8656884015381522,
          -1.3457460857249597,
          -0.8700802229476118,
          0.7379618696557516,
          -1.310500185377312,
          -1.2439360756820212,
          -1.852983958425285,
          -0.5483973457086878,
          -0.2620927767535737,
          0.8223682944291094,
          0.41648038679327865,
          -0.14478273313287518,
          0.04459544764541705,
          0.0552076255058285,
          -0.35827809100913904,
          1.1307788184569203,
          0.23619861907372788,
          -0.3841381654666092,
          0.018158187353936536,
          -0.9297831247259087,
          -0.9483441497850129,
          0.15370068303643483,
          -0.7567916707710458,
          -0.22349775200537117,
          -0.16436541076498792,
          -0.04045064822824736,
          1.2055700104402123,
          -0.49887850886789453,
          -0.5435253428124678,
          0.07203272803770303,
          1.77607423833372,
          0.4643240466033002,
          0.7132203723900344,
          0.06056029680904643,
          0.5970097948018788,
          -0.9322428843780637,
          0.07146509261690312,
          1.7081053966754396,
          -0.29765733722000015,
          0.8941126463209245,
          -0.5008661024802709,
          2.3862236353444457,
          -2.640515182547073
         ]
        },
        {
         "histfunc": "count",
         "histnorm": "",
         "marker": {
          "color": "rgba(128, 0, 128, 1.0)",
          "line": {
           "color": "#4D5663",
           "width": 1.3
          }
         },
         "name": "D",
         "opacity": 0.8,
         "orientation": "v",
         "type": "histogram",
         "x": [
          0.6419540448307282,
          -1.517608688344434,
          -0.3843863209352874,
          0.582205043637178,
          0.8423001398246008,
          -0.876654312681006,
          -1.4220090438249173,
          -0.09887636580710743,
          -0.3836306988926069,
          -0.9617171701958386,
          0.9130567531304483,
          0.1921750627294664,
          -0.40845165490719065,
          0.16948526516975354,
          1.1995423858357495,
          -0.0806001194463327,
          -0.15746670743873062,
          -1.1240019824944776,
          0.4363515372870392,
          1.9307908970315317,
          1.1031951510859273,
          -1.7251316715516243,
          0.8967867868252514,
          0.47529474535809924,
          -1.1739198506495272,
          0.5490829176478206,
          -0.10548357954143857,
          0.9350274188232347,
          -0.11857806913827566,
          0.8291018552229273,
          0.4404340905146739,
          1.0949591324812462,
          -0.5046317220659516,
          0.7277366176328306,
          -0.9220093815234568,
          -1.4401200584762028,
          -0.2735458841642263,
          0.5057772631008871,
          -0.5756586099298809,
          0.4469996935382162,
          1.2311387579172113,
          -0.7490594863628462,
          0.8877674978807628,
          0.0007280151525171892,
          -0.19498978287272922,
          -2.1616046744327897,
          1.3959629391980335,
          1.3542761626128896,
          0.3403680620018605,
          -1.2469655847187164,
          1.631557902538405,
          0.9386407535427541,
          -0.7152486651396022,
          -0.2896322392328507,
          0.4794983422428559,
          1.4993155479995524,
          -0.3357047654058956,
          2.1198825272852106,
          0.9335159436912603,
          0.07494701462476844,
          -1.0858501890051053,
          -0.5136565323101144,
          1.4674995050384145,
          -0.33782459796503067,
          0.4227277598515778,
          0.5345466892685413,
          -0.40806524589228743,
          -0.3632137413898601,
          -0.5128961430005934,
          0.32958613059022096,
          0.056449082223379625,
          -0.5741367405128155,
          -1.4522547358486244,
          1.5156989720072513,
          -1.5956070894351733,
          0.5468079407706042,
          0.5201902490525464,
          0.4405097935390144,
          0.16697909238681657,
          0.650148591850684,
          1.602800718166188,
          -2.323303975173998,
          -0.3919455823359626,
          -0.7901808014383477,
          0.3018838962950447,
          0.7363176053821264,
          0.3982958216374505,
          -1.8604341682340761,
          0.028930473350775563,
          0.3289011160680272,
          2.4482571174976813,
          0.17805452428597393,
          0.9037599076955404,
          -0.5356039813501637,
          0.5981293401750825,
          1.4011963024633105,
          0.02947680573042643,
          0.4138985401230784,
          -0.9208991891630186,
          1.153642037354523
         ]
        }
       ],
       "layout": {
        "barmode": "overlay",
        "legend": {
         "bgcolor": "#F5F6F9",
         "font": {
          "color": "#4D5663"
         }
        },
        "paper_bgcolor": "#F5F6F9",
        "plot_bgcolor": "#F5F6F9",
        "template": {
         "data": {
          "bar": [
           {
            "error_x": {
             "color": "#2a3f5f"
            },
            "error_y": {
             "color": "#2a3f5f"
            },
            "marker": {
             "line": {
              "color": "#E5ECF6",
              "width": 0.5
             },
             "pattern": {
              "fillmode": "overlay",
              "size": 10,
              "solidity": 0.2
             }
            },
            "type": "bar"
           }
          ],
          "barpolar": [
           {
            "marker": {
             "line": {
              "color": "#E5ECF6",
              "width": 0.5
             },
             "pattern": {
              "fillmode": "overlay",
              "size": 10,
              "solidity": 0.2
             }
            },
            "type": "barpolar"
           }
          ],
          "carpet": [
           {
            "aaxis": {
             "endlinecolor": "#2a3f5f",
             "gridcolor": "white",
             "linecolor": "white",
             "minorgridcolor": "white",
             "startlinecolor": "#2a3f5f"
            },
            "baxis": {
             "endlinecolor": "#2a3f5f",
             "gridcolor": "white",
             "linecolor": "white",
             "minorgridcolor": "white",
             "startlinecolor": "#2a3f5f"
            },
            "type": "carpet"
           }
          ],
          "choropleth": [
           {
            "colorbar": {
             "outlinewidth": 0,
             "ticks": ""
            },
            "type": "choropleth"
           }
          ],
          "contour": [
           {
            "colorbar": {
             "outlinewidth": 0,
             "ticks": ""
            },
            "colorscale": [
             [
              0,
              "#0d0887"
             ],
             [
              0.1111111111111111,
              "#46039f"
             ],
             [
              0.2222222222222222,
              "#7201a8"
             ],
             [
              0.3333333333333333,
              "#9c179e"
             ],
             [
              0.4444444444444444,
              "#bd3786"
             ],
             [
              0.5555555555555556,
              "#d8576b"
             ],
             [
              0.6666666666666666,
              "#ed7953"
             ],
             [
              0.7777777777777778,
              "#fb9f3a"
             ],
             [
              0.8888888888888888,
              "#fdca26"
             ],
             [
              1,
              "#f0f921"
             ]
            ],
            "type": "contour"
           }
          ],
          "contourcarpet": [
           {
            "colorbar": {
             "outlinewidth": 0,
             "ticks": ""
            },
            "type": "contourcarpet"
           }
          ],
          "heatmap": [
           {
            "colorbar": {
             "outlinewidth": 0,
             "ticks": ""
            },
            "colorscale": [
             [
              0,
              "#0d0887"
             ],
             [
              0.1111111111111111,
              "#46039f"
             ],
             [
              0.2222222222222222,
              "#7201a8"
             ],
             [
              0.3333333333333333,
              "#9c179e"
             ],
             [
              0.4444444444444444,
              "#bd3786"
             ],
             [
              0.5555555555555556,
              "#d8576b"
             ],
             [
              0.6666666666666666,
              "#ed7953"
             ],
             [
              0.7777777777777778,
              "#fb9f3a"
             ],
             [
              0.8888888888888888,
              "#fdca26"
             ],
             [
              1,
              "#f0f921"
             ]
            ],
            "type": "heatmap"
           }
          ],
          "heatmapgl": [
           {
            "colorbar": {
             "outlinewidth": 0,
             "ticks": ""
            },
            "colorscale": [
             [
              0,
              "#0d0887"
             ],
             [
              0.1111111111111111,
              "#46039f"
             ],
             [
              0.2222222222222222,
              "#7201a8"
             ],
             [
              0.3333333333333333,
              "#9c179e"
             ],
             [
              0.4444444444444444,
              "#bd3786"
             ],
             [
              0.5555555555555556,
              "#d8576b"
             ],
             [
              0.6666666666666666,
              "#ed7953"
             ],
             [
              0.7777777777777778,
              "#fb9f3a"
             ],
             [
              0.8888888888888888,
              "#fdca26"
             ],
             [
              1,
              "#f0f921"
             ]
            ],
            "type": "heatmapgl"
           }
          ],
          "histogram": [
           {
            "marker": {
             "pattern": {
              "fillmode": "overlay",
              "size": 10,
              "solidity": 0.2
             }
            },
            "type": "histogram"
           }
          ],
          "histogram2d": [
           {
            "colorbar": {
             "outlinewidth": 0,
             "ticks": ""
            },
            "colorscale": [
             [
              0,
              "#0d0887"
             ],
             [
              0.1111111111111111,
              "#46039f"
             ],
             [
              0.2222222222222222,
              "#7201a8"
             ],
             [
              0.3333333333333333,
              "#9c179e"
             ],
             [
              0.4444444444444444,
              "#bd3786"
             ],
             [
              0.5555555555555556,
              "#d8576b"
             ],
             [
              0.6666666666666666,
              "#ed7953"
             ],
             [
              0.7777777777777778,
              "#fb9f3a"
             ],
             [
              0.8888888888888888,
              "#fdca26"
             ],
             [
              1,
              "#f0f921"
             ]
            ],
            "type": "histogram2d"
           }
          ],
          "histogram2dcontour": [
           {
            "colorbar": {
             "outlinewidth": 0,
             "ticks": ""
            },
            "colorscale": [
             [
              0,
              "#0d0887"
             ],
             [
              0.1111111111111111,
              "#46039f"
             ],
             [
              0.2222222222222222,
              "#7201a8"
             ],
             [
              0.3333333333333333,
              "#9c179e"
             ],
             [
              0.4444444444444444,
              "#bd3786"
             ],
             [
              0.5555555555555556,
              "#d8576b"
             ],
             [
              0.6666666666666666,
              "#ed7953"
             ],
             [
              0.7777777777777778,
              "#fb9f3a"
             ],
             [
              0.8888888888888888,
              "#fdca26"
             ],
             [
              1,
              "#f0f921"
             ]
            ],
            "type": "histogram2dcontour"
           }
          ],
          "mesh3d": [
           {
            "colorbar": {
             "outlinewidth": 0,
             "ticks": ""
            },
            "type": "mesh3d"
           }
          ],
          "parcoords": [
           {
            "line": {
             "colorbar": {
              "outlinewidth": 0,
              "ticks": ""
             }
            },
            "type": "parcoords"
           }
          ],
          "pie": [
           {
            "automargin": true,
            "type": "pie"
           }
          ],
          "scatter": [
           {
            "marker": {
             "colorbar": {
              "outlinewidth": 0,
              "ticks": ""
             }
            },
            "type": "scatter"
           }
          ],
          "scatter3d": [
           {
            "line": {
             "colorbar": {
              "outlinewidth": 0,
              "ticks": ""
             }
            },
            "marker": {
             "colorbar": {
              "outlinewidth": 0,
              "ticks": ""
             }
            },
            "type": "scatter3d"
           }
          ],
          "scattercarpet": [
           {
            "marker": {
             "colorbar": {
              "outlinewidth": 0,
              "ticks": ""
             }
            },
            "type": "scattercarpet"
           }
          ],
          "scattergeo": [
           {
            "marker": {
             "colorbar": {
              "outlinewidth": 0,
              "ticks": ""
             }
            },
            "type": "scattergeo"
           }
          ],
          "scattergl": [
           {
            "marker": {
             "colorbar": {
              "outlinewidth": 0,
              "ticks": ""
             }
            },
            "type": "scattergl"
           }
          ],
          "scattermapbox": [
           {
            "marker": {
             "colorbar": {
              "outlinewidth": 0,
              "ticks": ""
             }
            },
            "type": "scattermapbox"
           }
          ],
          "scatterpolar": [
           {
            "marker": {
             "colorbar": {
              "outlinewidth": 0,
              "ticks": ""
             }
            },
            "type": "scatterpolar"
           }
          ],
          "scatterpolargl": [
           {
            "marker": {
             "colorbar": {
              "outlinewidth": 0,
              "ticks": ""
             }
            },
            "type": "scatterpolargl"
           }
          ],
          "scatterternary": [
           {
            "marker": {
             "colorbar": {
              "outlinewidth": 0,
              "ticks": ""
             }
            },
            "type": "scatterternary"
           }
          ],
          "surface": [
           {
            "colorbar": {
             "outlinewidth": 0,
             "ticks": ""
            },
            "colorscale": [
             [
              0,
              "#0d0887"
             ],
             [
              0.1111111111111111,
              "#46039f"
             ],
             [
              0.2222222222222222,
              "#7201a8"
             ],
             [
              0.3333333333333333,
              "#9c179e"
             ],
             [
              0.4444444444444444,
              "#bd3786"
             ],
             [
              0.5555555555555556,
              "#d8576b"
             ],
             [
              0.6666666666666666,
              "#ed7953"
             ],
             [
              0.7777777777777778,
              "#fb9f3a"
             ],
             [
              0.8888888888888888,
              "#fdca26"
             ],
             [
              1,
              "#f0f921"
             ]
            ],
            "type": "surface"
           }
          ],
          "table": [
           {
            "cells": {
             "fill": {
              "color": "#EBF0F8"
             },
             "line": {
              "color": "white"
             }
            },
            "header": {
             "fill": {
              "color": "#C8D4E3"
             },
             "line": {
              "color": "white"
             }
            },
            "type": "table"
           }
          ]
         },
         "layout": {
          "annotationdefaults": {
           "arrowcolor": "#2a3f5f",
           "arrowhead": 0,
           "arrowwidth": 1
          },
          "autotypenumbers": "strict",
          "coloraxis": {
           "colorbar": {
            "outlinewidth": 0,
            "ticks": ""
           }
          },
          "colorscale": {
           "diverging": [
            [
             0,
             "#8e0152"
            ],
            [
             0.1,
             "#c51b7d"
            ],
            [
             0.2,
             "#de77ae"
            ],
            [
             0.3,
             "#f1b6da"
            ],
            [
             0.4,
             "#fde0ef"
            ],
            [
             0.5,
             "#f7f7f7"
            ],
            [
             0.6,
             "#e6f5d0"
            ],
            [
             0.7,
             "#b8e186"
            ],
            [
             0.8,
             "#7fbc41"
            ],
            [
             0.9,
             "#4d9221"
            ],
            [
             1,
             "#276419"
            ]
           ],
           "sequential": [
            [
             0,
             "#0d0887"
            ],
            [
             0.1111111111111111,
             "#46039f"
            ],
            [
             0.2222222222222222,
             "#7201a8"
            ],
            [
             0.3333333333333333,
             "#9c179e"
            ],
            [
             0.4444444444444444,
             "#bd3786"
            ],
            [
             0.5555555555555556,
             "#d8576b"
            ],
            [
             0.6666666666666666,
             "#ed7953"
            ],
            [
             0.7777777777777778,
             "#fb9f3a"
            ],
            [
             0.8888888888888888,
             "#fdca26"
            ],
            [
             1,
             "#f0f921"
            ]
           ],
           "sequentialminus": [
            [
             0,
             "#0d0887"
            ],
            [
             0.1111111111111111,
             "#46039f"
            ],
            [
             0.2222222222222222,
             "#7201a8"
            ],
            [
             0.3333333333333333,
             "#9c179e"
            ],
            [
             0.4444444444444444,
             "#bd3786"
            ],
            [
             0.5555555555555556,
             "#d8576b"
            ],
            [
             0.6666666666666666,
             "#ed7953"
            ],
            [
             0.7777777777777778,
             "#fb9f3a"
            ],
            [
             0.8888888888888888,
             "#fdca26"
            ],
            [
             1,
             "#f0f921"
            ]
           ]
          },
          "colorway": [
           "#636efa",
           "#EF553B",
           "#00cc96",
           "#ab63fa",
           "#FFA15A",
           "#19d3f3",
           "#FF6692",
           "#B6E880",
           "#FF97FF",
           "#FECB52"
          ],
          "font": {
           "color": "#2a3f5f"
          },
          "geo": {
           "bgcolor": "white",
           "lakecolor": "white",
           "landcolor": "#E5ECF6",
           "showlakes": true,
           "showland": true,
           "subunitcolor": "white"
          },
          "hoverlabel": {
           "align": "left"
          },
          "hovermode": "closest",
          "mapbox": {
           "style": "light"
          },
          "paper_bgcolor": "white",
          "plot_bgcolor": "#E5ECF6",
          "polar": {
           "angularaxis": {
            "gridcolor": "white",
            "linecolor": "white",
            "ticks": ""
           },
           "bgcolor": "#E5ECF6",
           "radialaxis": {
            "gridcolor": "white",
            "linecolor": "white",
            "ticks": ""
           }
          },
          "scene": {
           "xaxis": {
            "backgroundcolor": "#E5ECF6",
            "gridcolor": "white",
            "gridwidth": 2,
            "linecolor": "white",
            "showbackground": true,
            "ticks": "",
            "zerolinecolor": "white"
           },
           "yaxis": {
            "backgroundcolor": "#E5ECF6",
            "gridcolor": "white",
            "gridwidth": 2,
            "linecolor": "white",
            "showbackground": true,
            "ticks": "",
            "zerolinecolor": "white"
           },
           "zaxis": {
            "backgroundcolor": "#E5ECF6",
            "gridcolor": "white",
            "gridwidth": 2,
            "linecolor": "white",
            "showbackground": true,
            "ticks": "",
            "zerolinecolor": "white"
           }
          },
          "shapedefaults": {
           "line": {
            "color": "#2a3f5f"
           }
          },
          "ternary": {
           "aaxis": {
            "gridcolor": "white",
            "linecolor": "white",
            "ticks": ""
           },
           "baxis": {
            "gridcolor": "white",
            "linecolor": "white",
            "ticks": ""
           },
           "bgcolor": "#E5ECF6",
           "caxis": {
            "gridcolor": "white",
            "linecolor": "white",
            "ticks": ""
           }
          },
          "title": {
           "x": 0.05
          },
          "xaxis": {
           "automargin": true,
           "gridcolor": "white",
           "linecolor": "white",
           "ticks": "",
           "title": {
            "standoff": 15
           },
           "zerolinecolor": "white",
           "zerolinewidth": 2
          },
          "yaxis": {
           "automargin": true,
           "gridcolor": "white",
           "linecolor": "white",
           "ticks": "",
           "title": {
            "standoff": 15
           },
           "zerolinecolor": "white",
           "zerolinewidth": 2
          }
         }
        },
        "title": {
         "font": {
          "color": "#4D5663"
         }
        },
        "xaxis": {
         "gridcolor": "#E1E5ED",
         "showgrid": true,
         "tickfont": {
          "color": "#4D5663"
         },
         "title": {
          "font": {
           "color": "#4D5663"
          },
          "text": ""
         },
         "zerolinecolor": "#E1E5ED"
        },
        "yaxis": {
         "gridcolor": "#E1E5ED",
         "showgrid": true,
         "tickfont": {
          "color": "#4D5663"
         },
         "title": {
          "font": {
           "color": "#4D5663"
          },
          "text": ""
         },
         "zerolinecolor": "#E1E5ED"
        }
       }
      },
      "text/html": [
       "<div>                            <div id=\"801916f0-4938-4d73-9ae0-a33d05712bf3\" class=\"plotly-graph-div\" style=\"height:525px; width:100%;\"></div>            <script type=\"text/javascript\">                require([\"plotly\"], function(Plotly) {                    window.PLOTLYENV=window.PLOTLYENV || {};\n",
       "                    window.PLOTLYENV.BASE_URL='https://plot.ly';                                    if (document.getElementById(\"801916f0-4938-4d73-9ae0-a33d05712bf3\")) {                    Plotly.newPlot(                        \"801916f0-4938-4d73-9ae0-a33d05712bf3\",                        [{\"histfunc\":\"count\",\"histnorm\":\"\",\"marker\":{\"color\":\"rgba(255, 153, 51, 1.0)\",\"line\":{\"color\":\"#4D5663\",\"width\":1.3}},\"name\":\"A\",\"opacity\":0.8,\"orientation\":\"v\",\"x\":[0.48979428455356877,1.2000787712482575,0.023788380464120393,-0.7762937541590931,-0.012364867282905903,-1.2161957246449362,-0.02690116005734921,-0.6136576494704216,-1.0932741606526177,1.3367224280535983,-0.21086536735247163,0.7004920634418149,0.022903232284200294,1.8118903731503866,0.03874003270713806,0.14207857973235602,-1.2664546662031808,1.0882638165812608,-0.7120729647956264,0.6937532377713457,-0.38587006015377073,0.7944049114081017,0.8902470208690971,-0.017596363807709636,-0.21123469197121414,-0.44522679075601096,0.06594417027871106,-0.4005156041049335,1.531611994137102,1.469053508293093,-0.6960757696420884,0.42188597213691115,-0.24857896565921767,0.35243368033595995,0.32289319825012025,1.756959477480924,-0.8646444846801743,0.7327493359184236,-0.05616681327469264,0.24137468687379302,0.13490316200095048,-0.30294439883702995,0.20149030418780658,-0.8439630384647533,0.9173475168512586,-0.7267483351185445,0.4551191588285759,-1.3050200504200984,-0.940424126632205,-0.2861436512950377,0.3272416090612496,-1.4862435821612276,-0.7419822477245054,-0.5289520199886615,-0.19209542834834886,-1.6137840913423802,2.5253792135126267,-0.36401403896536855,1.0560010342257284,1.4282679514136718,-1.7240519483814831,0.5671338747613731,-0.9080841728798318,0.31546878483673546,-0.11377460855602518,0.053496764203978336,0.6818028998550107,-1.9774449121637068,0.7084250781799291,1.5278746674917012,-0.9571164971445482,-1.3294630618845433,0.942272172901489,-0.019981281703439734,1.4525537255249976,0.027433302927381463,-1.8001925853232867,1.4426728488088858,-0.6965262723544774,1.2879984069477703,-1.4514103759363945,0.10321693798368037,-1.0337673090830766,1.2123441508341763,0.2816563048236678,-1.0116419291291963,1.2137608091381367,-0.6097424621297425,1.199038876047825,-0.14784081503360644,-1.0529508579837437,0.203716845237984,-1.3703913734693944,-1.4621189194907764,1.2079693890251404,1.0607169379613697,1.6860621157919298,-0.3043036742676254,1.252089094534873,0.8019105881421928],\"type\":\"histogram\"},{\"histfunc\":\"count\",\"histnorm\":\"\",\"marker\":{\"color\":\"rgba(55, 128, 191, 1.0)\",\"line\":{\"color\":\"#4D5663\",\"width\":1.3}},\"name\":\"B\",\"opacity\":0.8,\"orientation\":\"v\",\"x\":[-1.0998518931967172,-0.951310489501729,0.4961980985412946,-1.9465577812700667,0.4782546807810063,0.3915928924499597,-0.16195461581883155,-0.5684389432325745,0.7864442079773991,0.11786194397659192,0.7806483973082989,-0.7216593398328882,0.14627440175389989,-0.07554072415619882,0.014168578367290862,-0.6333465050786681,1.0127771174834996,1.3878021905639235,0.4904150562542391,0.2536434005385077,1.1786366553776157,-3.334302912542056,0.7647022080307493,-0.031935851656112776,-0.7839089589040155,-0.09122200998567682,-0.4898507459459323,-0.5684394463175186,0.11940011898377212,-0.19497172220308293,2.728343356239694,-0.40789330735339907,-0.24459607575641326,-0.4858707994184838,-0.015234217101942981,-0.08771777295493485,0.4772963643238052,1.4507007392664688,0.4061437530079583,0.15419502764767845,-0.726525983701748,-0.2669636603429239,0.9852178153304991,-1.29587901702008,-0.6664537394097019,-1.093155363979523,1.4968662243590183,-0.8959185628124724,-1.5208535704872201,-0.4052181341125891,-0.017951376963129023,0.9116272137945861,-1.6649360797874992,0.3040516316528378,-0.12186378938520936,1.1724212208098135,-1.274141257813947,0.11182468335506614,1.47499536050285,0.2583425826196655,-0.32092947933983107,1.0007576889539056,0.20795616239699127,-0.08665414940310559,0.6523377927617374,0.16726551027784153,-0.42557944492126054,1.3705804781599653,0.9989305038474585,-1.6823152185810062,-1.4777209857615803,-0.9939514975377667,-1.0574492878409467,-0.18781359857066682,0.8413247717773269,1.1757733216891897,0.2972356932010209,-0.28249667162063813,-1.3381021329751352,0.8454290322931972,-0.43718099727400006,0.08608827559328311,0.42555094905863433,0.06474854527759977,-1.7365979250057706,-0.6954111510725659,0.5943477159463276,-0.0624064236918547,-0.09311347408323536,-0.20864777953826144,-1.5057657340094361,0.985649019277635,-0.618834216881153,-0.24696789588479345,0.1741621994183457,-1.2990736535773484,-1.9746857091172834,0.04549424231182181,-0.4787536211341913,-1.8165952496968758],\"type\":\"histogram\"},{\"histfunc\":\"count\",\"histnorm\":\"\",\"marker\":{\"color\":\"rgba(50, 171, 96, 1.0)\",\"line\":{\"color\":\"#4D5663\",\"width\":1.3}},\"name\":\"C\",\"opacity\":0.8,\"orientation\":\"v\",\"x\":[-1.0625887658002213,0.09202816193018518,0.564848376353891,0.419472612971872,0.12660612020962858,-0.5127914675811296,-1.1250834598039288,-0.6051822916912,-0.16221998280097874,0.7356228690390648,-0.07574687216850803,0.17596247282604027,-1.721717086791258,2.323429731895257,-0.8482030722200461,-0.13369431269758897,1.43368695838209,0.12440433777333088,0.6827434615859537,-1.2316479081514446,-1.6643319307140543,-0.7326761450757091,0.14581998247595768,-0.8486405675639428,-1.3879983259008852,-1.869598616511187,-2.360893594863502,1.1800886270616593,0.5182722178949594,0.7554306808110395,-1.2801531109221176,-1.816141993229202,-0.5232033577209291,0.7622410426171143,-0.05449472773996224,0.1922114685510936,-0.4141235355446176,0.7052675744404783,-2.59538260905528,-0.16142979812964459,0.2326207735748364,-0.7723616091348504,0.41227233208544345,0.16675903993999175,-0.5494052757613266,-1.2332580401100453,-1.5362604958487704,-0.6850801955952219,-0.10309357320981548,1.211292382720803,0.8824592740410863,-0.8569072831904082,-1.250014049122893,-0.08799308927471544,-0.6552934530711982,0.9863289277092309,-0.0031616249570040264,0.8656884015381522,-1.3457460857249597,-0.8700802229476118,0.7379618696557516,-1.310500185377312,-1.2439360756820212,-1.852983958425285,-0.5483973457086878,-0.2620927767535737,0.8223682944291094,0.41648038679327865,-0.14478273313287518,0.04459544764541705,0.0552076255058285,-0.35827809100913904,1.1307788184569203,0.23619861907372788,-0.3841381654666092,0.018158187353936536,-0.9297831247259087,-0.9483441497850129,0.15370068303643483,-0.7567916707710458,-0.22349775200537117,-0.16436541076498792,-0.04045064822824736,1.2055700104402123,-0.49887850886789453,-0.5435253428124678,0.07203272803770303,1.77607423833372,0.4643240466033002,0.7132203723900344,0.06056029680904643,0.5970097948018788,-0.9322428843780637,0.07146509261690312,1.7081053966754396,-0.29765733722000015,0.8941126463209245,-0.5008661024802709,2.3862236353444457,-2.640515182547073],\"type\":\"histogram\"},{\"histfunc\":\"count\",\"histnorm\":\"\",\"marker\":{\"color\":\"rgba(128, 0, 128, 1.0)\",\"line\":{\"color\":\"#4D5663\",\"width\":1.3}},\"name\":\"D\",\"opacity\":0.8,\"orientation\":\"v\",\"x\":[0.6419540448307282,-1.517608688344434,-0.3843863209352874,0.582205043637178,0.8423001398246008,-0.876654312681006,-1.4220090438249173,-0.09887636580710743,-0.3836306988926069,-0.9617171701958386,0.9130567531304483,0.1921750627294664,-0.40845165490719065,0.16948526516975354,1.1995423858357495,-0.0806001194463327,-0.15746670743873062,-1.1240019824944776,0.4363515372870392,1.9307908970315317,1.1031951510859273,-1.7251316715516243,0.8967867868252514,0.47529474535809924,-1.1739198506495272,0.5490829176478206,-0.10548357954143857,0.9350274188232347,-0.11857806913827566,0.8291018552229273,0.4404340905146739,1.0949591324812462,-0.5046317220659516,0.7277366176328306,-0.9220093815234568,-1.4401200584762028,-0.2735458841642263,0.5057772631008871,-0.5756586099298809,0.4469996935382162,1.2311387579172113,-0.7490594863628462,0.8877674978807628,0.0007280151525171892,-0.19498978287272922,-2.1616046744327897,1.3959629391980335,1.3542761626128896,0.3403680620018605,-1.2469655847187164,1.631557902538405,0.9386407535427541,-0.7152486651396022,-0.2896322392328507,0.4794983422428559,1.4993155479995524,-0.3357047654058956,2.1198825272852106,0.9335159436912603,0.07494701462476844,-1.0858501890051053,-0.5136565323101144,1.4674995050384145,-0.33782459796503067,0.4227277598515778,0.5345466892685413,-0.40806524589228743,-0.3632137413898601,-0.5128961430005934,0.32958613059022096,0.056449082223379625,-0.5741367405128155,-1.4522547358486244,1.5156989720072513,-1.5956070894351733,0.5468079407706042,0.5201902490525464,0.4405097935390144,0.16697909238681657,0.650148591850684,1.602800718166188,-2.323303975173998,-0.3919455823359626,-0.7901808014383477,0.3018838962950447,0.7363176053821264,0.3982958216374505,-1.8604341682340761,0.028930473350775563,0.3289011160680272,2.4482571174976813,0.17805452428597393,0.9037599076955404,-0.5356039813501637,0.5981293401750825,1.4011963024633105,0.02947680573042643,0.4138985401230784,-0.9208991891630186,1.153642037354523],\"type\":\"histogram\"}],                        {\"barmode\":\"overlay\",\"legend\":{\"bgcolor\":\"#F5F6F9\",\"font\":{\"color\":\"#4D5663\"}},\"paper_bgcolor\":\"#F5F6F9\",\"plot_bgcolor\":\"#F5F6F9\",\"template\":{\"data\":{\"barpolar\":[{\"marker\":{\"line\":{\"color\":\"#E5ECF6\",\"width\":0.5},\"pattern\":{\"fillmode\":\"overlay\",\"size\":10,\"solidity\":0.2}},\"type\":\"barpolar\"}],\"bar\":[{\"error_x\":{\"color\":\"#2a3f5f\"},\"error_y\":{\"color\":\"#2a3f5f\"},\"marker\":{\"line\":{\"color\":\"#E5ECF6\",\"width\":0.5},\"pattern\":{\"fillmode\":\"overlay\",\"size\":10,\"solidity\":0.2}},\"type\":\"bar\"}],\"carpet\":[{\"aaxis\":{\"endlinecolor\":\"#2a3f5f\",\"gridcolor\":\"white\",\"linecolor\":\"white\",\"minorgridcolor\":\"white\",\"startlinecolor\":\"#2a3f5f\"},\"baxis\":{\"endlinecolor\":\"#2a3f5f\",\"gridcolor\":\"white\",\"linecolor\":\"white\",\"minorgridcolor\":\"white\",\"startlinecolor\":\"#2a3f5f\"},\"type\":\"carpet\"}],\"choropleth\":[{\"colorbar\":{\"outlinewidth\":0,\"ticks\":\"\"},\"type\":\"choropleth\"}],\"contourcarpet\":[{\"colorbar\":{\"outlinewidth\":0,\"ticks\":\"\"},\"type\":\"contourcarpet\"}],\"contour\":[{\"colorbar\":{\"outlinewidth\":0,\"ticks\":\"\"},\"colorscale\":[[0.0,\"#0d0887\"],[0.1111111111111111,\"#46039f\"],[0.2222222222222222,\"#7201a8\"],[0.3333333333333333,\"#9c179e\"],[0.4444444444444444,\"#bd3786\"],[0.5555555555555556,\"#d8576b\"],[0.6666666666666666,\"#ed7953\"],[0.7777777777777778,\"#fb9f3a\"],[0.8888888888888888,\"#fdca26\"],[1.0,\"#f0f921\"]],\"type\":\"contour\"}],\"heatmapgl\":[{\"colorbar\":{\"outlinewidth\":0,\"ticks\":\"\"},\"colorscale\":[[0.0,\"#0d0887\"],[0.1111111111111111,\"#46039f\"],[0.2222222222222222,\"#7201a8\"],[0.3333333333333333,\"#9c179e\"],[0.4444444444444444,\"#bd3786\"],[0.5555555555555556,\"#d8576b\"],[0.6666666666666666,\"#ed7953\"],[0.7777777777777778,\"#fb9f3a\"],[0.8888888888888888,\"#fdca26\"],[1.0,\"#f0f921\"]],\"type\":\"heatmapgl\"}],\"heatmap\":[{\"colorbar\":{\"outlinewidth\":0,\"ticks\":\"\"},\"colorscale\":[[0.0,\"#0d0887\"],[0.1111111111111111,\"#46039f\"],[0.2222222222222222,\"#7201a8\"],[0.3333333333333333,\"#9c179e\"],[0.4444444444444444,\"#bd3786\"],[0.5555555555555556,\"#d8576b\"],[0.6666666666666666,\"#ed7953\"],[0.7777777777777778,\"#fb9f3a\"],[0.8888888888888888,\"#fdca26\"],[1.0,\"#f0f921\"]],\"type\":\"heatmap\"}],\"histogram2dcontour\":[{\"colorbar\":{\"outlinewidth\":0,\"ticks\":\"\"},\"colorscale\":[[0.0,\"#0d0887\"],[0.1111111111111111,\"#46039f\"],[0.2222222222222222,\"#7201a8\"],[0.3333333333333333,\"#9c179e\"],[0.4444444444444444,\"#bd3786\"],[0.5555555555555556,\"#d8576b\"],[0.6666666666666666,\"#ed7953\"],[0.7777777777777778,\"#fb9f3a\"],[0.8888888888888888,\"#fdca26\"],[1.0,\"#f0f921\"]],\"type\":\"histogram2dcontour\"}],\"histogram2d\":[{\"colorbar\":{\"outlinewidth\":0,\"ticks\":\"\"},\"colorscale\":[[0.0,\"#0d0887\"],[0.1111111111111111,\"#46039f\"],[0.2222222222222222,\"#7201a8\"],[0.3333333333333333,\"#9c179e\"],[0.4444444444444444,\"#bd3786\"],[0.5555555555555556,\"#d8576b\"],[0.6666666666666666,\"#ed7953\"],[0.7777777777777778,\"#fb9f3a\"],[0.8888888888888888,\"#fdca26\"],[1.0,\"#f0f921\"]],\"type\":\"histogram2d\"}],\"histogram\":[{\"marker\":{\"pattern\":{\"fillmode\":\"overlay\",\"size\":10,\"solidity\":0.2}},\"type\":\"histogram\"}],\"mesh3d\":[{\"colorbar\":{\"outlinewidth\":0,\"ticks\":\"\"},\"type\":\"mesh3d\"}],\"parcoords\":[{\"line\":{\"colorbar\":{\"outlinewidth\":0,\"ticks\":\"\"}},\"type\":\"parcoords\"}],\"pie\":[{\"automargin\":true,\"type\":\"pie\"}],\"scatter3d\":[{\"line\":{\"colorbar\":{\"outlinewidth\":0,\"ticks\":\"\"}},\"marker\":{\"colorbar\":{\"outlinewidth\":0,\"ticks\":\"\"}},\"type\":\"scatter3d\"}],\"scattercarpet\":[{\"marker\":{\"colorbar\":{\"outlinewidth\":0,\"ticks\":\"\"}},\"type\":\"scattercarpet\"}],\"scattergeo\":[{\"marker\":{\"colorbar\":{\"outlinewidth\":0,\"ticks\":\"\"}},\"type\":\"scattergeo\"}],\"scattergl\":[{\"marker\":{\"colorbar\":{\"outlinewidth\":0,\"ticks\":\"\"}},\"type\":\"scattergl\"}],\"scattermapbox\":[{\"marker\":{\"colorbar\":{\"outlinewidth\":0,\"ticks\":\"\"}},\"type\":\"scattermapbox\"}],\"scatterpolargl\":[{\"marker\":{\"colorbar\":{\"outlinewidth\":0,\"ticks\":\"\"}},\"type\":\"scatterpolargl\"}],\"scatterpolar\":[{\"marker\":{\"colorbar\":{\"outlinewidth\":0,\"ticks\":\"\"}},\"type\":\"scatterpolar\"}],\"scatter\":[{\"marker\":{\"colorbar\":{\"outlinewidth\":0,\"ticks\":\"\"}},\"type\":\"scatter\"}],\"scatterternary\":[{\"marker\":{\"colorbar\":{\"outlinewidth\":0,\"ticks\":\"\"}},\"type\":\"scatterternary\"}],\"surface\":[{\"colorbar\":{\"outlinewidth\":0,\"ticks\":\"\"},\"colorscale\":[[0.0,\"#0d0887\"],[0.1111111111111111,\"#46039f\"],[0.2222222222222222,\"#7201a8\"],[0.3333333333333333,\"#9c179e\"],[0.4444444444444444,\"#bd3786\"],[0.5555555555555556,\"#d8576b\"],[0.6666666666666666,\"#ed7953\"],[0.7777777777777778,\"#fb9f3a\"],[0.8888888888888888,\"#fdca26\"],[1.0,\"#f0f921\"]],\"type\":\"surface\"}],\"table\":[{\"cells\":{\"fill\":{\"color\":\"#EBF0F8\"},\"line\":{\"color\":\"white\"}},\"header\":{\"fill\":{\"color\":\"#C8D4E3\"},\"line\":{\"color\":\"white\"}},\"type\":\"table\"}]},\"layout\":{\"annotationdefaults\":{\"arrowcolor\":\"#2a3f5f\",\"arrowhead\":0,\"arrowwidth\":1},\"autotypenumbers\":\"strict\",\"coloraxis\":{\"colorbar\":{\"outlinewidth\":0,\"ticks\":\"\"}},\"colorscale\":{\"diverging\":[[0,\"#8e0152\"],[0.1,\"#c51b7d\"],[0.2,\"#de77ae\"],[0.3,\"#f1b6da\"],[0.4,\"#fde0ef\"],[0.5,\"#f7f7f7\"],[0.6,\"#e6f5d0\"],[0.7,\"#b8e186\"],[0.8,\"#7fbc41\"],[0.9,\"#4d9221\"],[1,\"#276419\"]],\"sequential\":[[0.0,\"#0d0887\"],[0.1111111111111111,\"#46039f\"],[0.2222222222222222,\"#7201a8\"],[0.3333333333333333,\"#9c179e\"],[0.4444444444444444,\"#bd3786\"],[0.5555555555555556,\"#d8576b\"],[0.6666666666666666,\"#ed7953\"],[0.7777777777777778,\"#fb9f3a\"],[0.8888888888888888,\"#fdca26\"],[1.0,\"#f0f921\"]],\"sequentialminus\":[[0.0,\"#0d0887\"],[0.1111111111111111,\"#46039f\"],[0.2222222222222222,\"#7201a8\"],[0.3333333333333333,\"#9c179e\"],[0.4444444444444444,\"#bd3786\"],[0.5555555555555556,\"#d8576b\"],[0.6666666666666666,\"#ed7953\"],[0.7777777777777778,\"#fb9f3a\"],[0.8888888888888888,\"#fdca26\"],[1.0,\"#f0f921\"]]},\"colorway\":[\"#636efa\",\"#EF553B\",\"#00cc96\",\"#ab63fa\",\"#FFA15A\",\"#19d3f3\",\"#FF6692\",\"#B6E880\",\"#FF97FF\",\"#FECB52\"],\"font\":{\"color\":\"#2a3f5f\"},\"geo\":{\"bgcolor\":\"white\",\"lakecolor\":\"white\",\"landcolor\":\"#E5ECF6\",\"showlakes\":true,\"showland\":true,\"subunitcolor\":\"white\"},\"hoverlabel\":{\"align\":\"left\"},\"hovermode\":\"closest\",\"mapbox\":{\"style\":\"light\"},\"paper_bgcolor\":\"white\",\"plot_bgcolor\":\"#E5ECF6\",\"polar\":{\"angularaxis\":{\"gridcolor\":\"white\",\"linecolor\":\"white\",\"ticks\":\"\"},\"bgcolor\":\"#E5ECF6\",\"radialaxis\":{\"gridcolor\":\"white\",\"linecolor\":\"white\",\"ticks\":\"\"}},\"scene\":{\"xaxis\":{\"backgroundcolor\":\"#E5ECF6\",\"gridcolor\":\"white\",\"gridwidth\":2,\"linecolor\":\"white\",\"showbackground\":true,\"ticks\":\"\",\"zerolinecolor\":\"white\"},\"yaxis\":{\"backgroundcolor\":\"#E5ECF6\",\"gridcolor\":\"white\",\"gridwidth\":2,\"linecolor\":\"white\",\"showbackground\":true,\"ticks\":\"\",\"zerolinecolor\":\"white\"},\"zaxis\":{\"backgroundcolor\":\"#E5ECF6\",\"gridcolor\":\"white\",\"gridwidth\":2,\"linecolor\":\"white\",\"showbackground\":true,\"ticks\":\"\",\"zerolinecolor\":\"white\"}},\"shapedefaults\":{\"line\":{\"color\":\"#2a3f5f\"}},\"ternary\":{\"aaxis\":{\"gridcolor\":\"white\",\"linecolor\":\"white\",\"ticks\":\"\"},\"baxis\":{\"gridcolor\":\"white\",\"linecolor\":\"white\",\"ticks\":\"\"},\"bgcolor\":\"#E5ECF6\",\"caxis\":{\"gridcolor\":\"white\",\"linecolor\":\"white\",\"ticks\":\"\"}},\"title\":{\"x\":0.05},\"xaxis\":{\"automargin\":true,\"gridcolor\":\"white\",\"linecolor\":\"white\",\"ticks\":\"\",\"title\":{\"standoff\":15},\"zerolinecolor\":\"white\",\"zerolinewidth\":2},\"yaxis\":{\"automargin\":true,\"gridcolor\":\"white\",\"linecolor\":\"white\",\"ticks\":\"\",\"title\":{\"standoff\":15},\"zerolinecolor\":\"white\",\"zerolinewidth\":2}}},\"title\":{\"font\":{\"color\":\"#4D5663\"}},\"xaxis\":{\"gridcolor\":\"#E1E5ED\",\"showgrid\":true,\"tickfont\":{\"color\":\"#4D5663\"},\"title\":{\"font\":{\"color\":\"#4D5663\"},\"text\":\"\"},\"zerolinecolor\":\"#E1E5ED\"},\"yaxis\":{\"gridcolor\":\"#E1E5ED\",\"showgrid\":true,\"tickfont\":{\"color\":\"#4D5663\"},\"title\":{\"font\":{\"color\":\"#4D5663\"},\"text\":\"\"},\"zerolinecolor\":\"#E1E5ED\"}},                        {\"showLink\": true, \"linkText\": \"Export to plot.ly\", \"plotlyServerURL\": \"https://plot.ly\", \"responsive\": true}                    ).then(function(){\n",
       "                            \n",
       "var gd = document.getElementById('801916f0-4938-4d73-9ae0-a33d05712bf3');\n",
       "var x = new MutationObserver(function (mutations, observer) {{\n",
       "        var display = window.getComputedStyle(gd).display;\n",
       "        if (!display || display === 'none') {{\n",
       "            console.log([gd, 'removed!']);\n",
       "            Plotly.purge(gd);\n",
       "            observer.disconnect();\n",
       "        }}\n",
       "}});\n",
       "\n",
       "// Listen for the removal of the full notebook cells\n",
       "var notebookContainer = gd.closest('#notebook-container');\n",
       "if (notebookContainer) {{\n",
       "    x.observe(notebookContainer, {childList: true});\n",
       "}}\n",
       "\n",
       "// Listen for the clearing of the current output cell\n",
       "var outputEl = gd.closest('.output');\n",
       "if (outputEl) {{\n",
       "    x.observe(outputEl, {childList: true});\n",
       "}}\n",
       "\n",
       "                        })                };                });            </script>        </div>"
      ]
     },
     "metadata": {},
     "output_type": "display_data"
    }
   ],
   "source": [
    "df.iplot(kind='hist')"
   ]
  },
  {
   "cell_type": "code",
   "execution_count": 53,
   "id": "1629929b",
   "metadata": {},
   "outputs": [
    {
     "name": "stderr",
     "output_type": "stream",
     "text": [
      "C:\\Users\\hoyun\\anaconda3\\lib\\site-packages\\cufflinks\\plotlytools.py:849: FutureWarning:\n",
      "\n",
      "The pandas.np module is deprecated and will be removed from pandas in a future version. Import numpy directly instead\n",
      "\n",
      "C:\\Users\\hoyun\\anaconda3\\lib\\site-packages\\cufflinks\\plotlytools.py:850: FutureWarning:\n",
      "\n",
      "The pandas.np module is deprecated and will be removed from pandas in a future version. Import numpy directly instead\n",
      "\n"
     ]
    },
    {
     "data": {
      "application/vnd.plotly.v1+json": {
       "config": {
        "linkText": "Export to plot.ly",
        "plotlyServerURL": "https://plot.ly",
        "showLink": true
       },
       "data": [
        {
         "line": {
          "color": "rgba(255, 153, 51, 1.0)",
          "dash": "solid",
          "shape": "linear",
          "width": 1.3
         },
         "mode": "lines",
         "name": "A",
         "text": "",
         "type": "scatter",
         "x": [
          0,
          1,
          2,
          3,
          4,
          5,
          6,
          7,
          8,
          9,
          10,
          11,
          12,
          13,
          14,
          15,
          16,
          17,
          18,
          19,
          20,
          21,
          22,
          23,
          24,
          25,
          26,
          27,
          28,
          29,
          30,
          31,
          32,
          33,
          34,
          35,
          36,
          37,
          38,
          39,
          40,
          41,
          42,
          43,
          44,
          45,
          46,
          47,
          48,
          49,
          50,
          51,
          52,
          53,
          54,
          55,
          56,
          57,
          58,
          59,
          60,
          61,
          62,
          63,
          64,
          65,
          66,
          67,
          68,
          69,
          70,
          71,
          72,
          73,
          74,
          75,
          76,
          77,
          78,
          79,
          80,
          81,
          82,
          83,
          84,
          85,
          86,
          87,
          88,
          89,
          90,
          91,
          92,
          93,
          94,
          95,
          96,
          97,
          98,
          99
         ],
         "y": [
          0.48979428455356877,
          1.2000787712482575,
          0.023788380464120393,
          -0.7762937541590931,
          -0.012364867282905903,
          -1.2161957246449362,
          -0.02690116005734921,
          -0.6136576494704216,
          -1.0932741606526177,
          1.3367224280535983,
          -0.21086536735247163,
          0.7004920634418149,
          0.022903232284200294,
          1.8118903731503866,
          0.03874003270713806,
          0.14207857973235602,
          -1.2664546662031808,
          1.0882638165812608,
          -0.7120729647956264,
          0.6937532377713457,
          -0.38587006015377073,
          0.7944049114081017,
          0.8902470208690971,
          -0.017596363807709636,
          -0.21123469197121414,
          -0.44522679075601096,
          0.06594417027871106,
          -0.4005156041049335,
          1.531611994137102,
          1.469053508293093,
          -0.6960757696420884,
          0.42188597213691115,
          -0.24857896565921767,
          0.35243368033595995,
          0.32289319825012025,
          1.756959477480924,
          -0.8646444846801743,
          0.7327493359184236,
          -0.05616681327469264,
          0.24137468687379302,
          0.13490316200095048,
          -0.30294439883702995,
          0.20149030418780658,
          -0.8439630384647533,
          0.9173475168512586,
          -0.7267483351185445,
          0.4551191588285759,
          -1.3050200504200984,
          -0.940424126632205,
          -0.2861436512950377,
          0.3272416090612496,
          -1.4862435821612276,
          -0.7419822477245054,
          -0.5289520199886615,
          -0.19209542834834886,
          -1.6137840913423802,
          2.5253792135126267,
          -0.36401403896536855,
          1.0560010342257284,
          1.4282679514136718,
          -1.7240519483814831,
          0.5671338747613731,
          -0.9080841728798318,
          0.31546878483673546,
          -0.11377460855602518,
          0.053496764203978336,
          0.6818028998550107,
          -1.9774449121637068,
          0.7084250781799291,
          1.5278746674917012,
          -0.9571164971445482,
          -1.3294630618845433,
          0.942272172901489,
          -0.019981281703439734,
          1.4525537255249976,
          0.027433302927381463,
          -1.8001925853232867,
          1.4426728488088858,
          -0.6965262723544774,
          1.2879984069477703,
          -1.4514103759363945,
          0.10321693798368037,
          -1.0337673090830766,
          1.2123441508341763,
          0.2816563048236678,
          -1.0116419291291963,
          1.2137608091381367,
          -0.6097424621297425,
          1.199038876047825,
          -0.14784081503360644,
          -1.0529508579837437,
          0.203716845237984,
          -1.3703913734693944,
          -1.4621189194907764,
          1.2079693890251404,
          1.0607169379613697,
          1.6860621157919298,
          -0.3043036742676254,
          1.252089094534873,
          0.8019105881421928
         ]
        },
        {
         "line": {
          "color": "rgba(55, 128, 191, 1.0)",
          "dash": "solid",
          "shape": "linear",
          "width": 1.3
         },
         "mode": "lines",
         "name": "B",
         "text": "",
         "type": "scatter",
         "x": [
          0,
          1,
          2,
          3,
          4,
          5,
          6,
          7,
          8,
          9,
          10,
          11,
          12,
          13,
          14,
          15,
          16,
          17,
          18,
          19,
          20,
          21,
          22,
          23,
          24,
          25,
          26,
          27,
          28,
          29,
          30,
          31,
          32,
          33,
          34,
          35,
          36,
          37,
          38,
          39,
          40,
          41,
          42,
          43,
          44,
          45,
          46,
          47,
          48,
          49,
          50,
          51,
          52,
          53,
          54,
          55,
          56,
          57,
          58,
          59,
          60,
          61,
          62,
          63,
          64,
          65,
          66,
          67,
          68,
          69,
          70,
          71,
          72,
          73,
          74,
          75,
          76,
          77,
          78,
          79,
          80,
          81,
          82,
          83,
          84,
          85,
          86,
          87,
          88,
          89,
          90,
          91,
          92,
          93,
          94,
          95,
          96,
          97,
          98,
          99
         ],
         "y": [
          -1.0998518931967172,
          -0.951310489501729,
          0.4961980985412946,
          -1.9465577812700667,
          0.4782546807810063,
          0.3915928924499597,
          -0.16195461581883155,
          -0.5684389432325745,
          0.7864442079773991,
          0.11786194397659192,
          0.7806483973082989,
          -0.7216593398328882,
          0.14627440175389989,
          -0.07554072415619882,
          0.014168578367290862,
          -0.6333465050786681,
          1.0127771174834996,
          1.3878021905639235,
          0.4904150562542391,
          0.2536434005385077,
          1.1786366553776157,
          -3.334302912542056,
          0.7647022080307493,
          -0.031935851656112776,
          -0.7839089589040155,
          -0.09122200998567682,
          -0.4898507459459323,
          -0.5684394463175186,
          0.11940011898377212,
          -0.19497172220308293,
          2.728343356239694,
          -0.40789330735339907,
          -0.24459607575641326,
          -0.4858707994184838,
          -0.015234217101942981,
          -0.08771777295493485,
          0.4772963643238052,
          1.4507007392664688,
          0.4061437530079583,
          0.15419502764767845,
          -0.726525983701748,
          -0.2669636603429239,
          0.9852178153304991,
          -1.29587901702008,
          -0.6664537394097019,
          -1.093155363979523,
          1.4968662243590183,
          -0.8959185628124724,
          -1.5208535704872201,
          -0.4052181341125891,
          -0.017951376963129023,
          0.9116272137945861,
          -1.6649360797874992,
          0.3040516316528378,
          -0.12186378938520936,
          1.1724212208098135,
          -1.274141257813947,
          0.11182468335506614,
          1.47499536050285,
          0.2583425826196655,
          -0.32092947933983107,
          1.0007576889539056,
          0.20795616239699127,
          -0.08665414940310559,
          0.6523377927617374,
          0.16726551027784153,
          -0.42557944492126054,
          1.3705804781599653,
          0.9989305038474585,
          -1.6823152185810062,
          -1.4777209857615803,
          -0.9939514975377667,
          -1.0574492878409467,
          -0.18781359857066682,
          0.8413247717773269,
          1.1757733216891897,
          0.2972356932010209,
          -0.28249667162063813,
          -1.3381021329751352,
          0.8454290322931972,
          -0.43718099727400006,
          0.08608827559328311,
          0.42555094905863433,
          0.06474854527759977,
          -1.7365979250057706,
          -0.6954111510725659,
          0.5943477159463276,
          -0.0624064236918547,
          -0.09311347408323536,
          -0.20864777953826144,
          -1.5057657340094361,
          0.985649019277635,
          -0.618834216881153,
          -0.24696789588479345,
          0.1741621994183457,
          -1.2990736535773484,
          -1.9746857091172834,
          0.04549424231182181,
          -0.4787536211341913,
          -1.8165952496968758
         ]
        },
        {
         "connectgaps": false,
         "fill": "tozeroy",
         "line": {
          "color": "green",
          "dash": "solid",
          "shape": "linear",
          "width": 0.5
         },
         "mode": "lines",
         "name": "Spread",
         "showlegend": false,
         "type": "scatter",
         "x": [
          0,
          1,
          2,
          3,
          4,
          5,
          6,
          7,
          8,
          9,
          10,
          11,
          12,
          13,
          14,
          15,
          16,
          17,
          18,
          19,
          20,
          21,
          22,
          23,
          24,
          25,
          26,
          27,
          28,
          29,
          30,
          31,
          32,
          33,
          34,
          35,
          36,
          37,
          38,
          39,
          40,
          41,
          42,
          43,
          44,
          45,
          46,
          47,
          48,
          49,
          50,
          51,
          52,
          53,
          54,
          55,
          56,
          57,
          58,
          59,
          60,
          61,
          62,
          63,
          64,
          65,
          66,
          67,
          68,
          69,
          70,
          71,
          72,
          73,
          74,
          75,
          76,
          77,
          78,
          79,
          80,
          81,
          82,
          83,
          84,
          85,
          86,
          87,
          88,
          89,
          90,
          91,
          92,
          93,
          94,
          95,
          96,
          97,
          98,
          99
         ],
         "xaxis": "x2",
         "y": [
          1.589646177750286,
          2.1513892607499865,
          "",
          1.1702640271109737,
          "",
          "",
          0.13505345576148234,
          "",
          "",
          1.2188604840770063,
          "",
          1.4221514032747031,
          "",
          1.8874310973065853,
          0.024571454339847195,
          0.7754250848110241,
          "",
          "",
          "",
          0.440109837232838,
          "",
          4.128707823950157,
          0.12554481283834784,
          0.01433948784840314,
          0.5726742669328013,
          "",
          0.5557949162246434,
          0.16792384221258516,
          1.41221187515333,
          1.6640252304961758,
          "",
          0.8297792794903103,
          "",
          0.8383044797544438,
          0.33812741535206325,
          1.8446772504358588,
          "",
          "",
          "",
          0.08717965922611456,
          0.8614291457026986,
          "",
          "",
          0.4519159785553267,
          1.5838012562609605,
          0.36640702886097853,
          "",
          "",
          0.5804294438550152,
          0.1190744828175514,
          0.34519298602437865,
          "",
          0.9229538320629939,
          "",
          "",
          "",
          3.7995204713265736,
          "",
          "",
          1.1699253687940063,
          "",
          "",
          "",
          0.402122934239841,
          "",
          "",
          1.1073823447762714,
          "",
          "",
          3.2101898860727074,
          0.5206044886170321,
          "",
          1.9997214607424358,
          0.16783231686722708,
          0.6112289537476707,
          "",
          "",
          1.7251695204295239,
          0.6415758606206579,
          0.44256937465457313,
          "",
          0.01712866239039726,
          "",
          1.1475956055565766,
          2.0182542298294384,
          "",
          0.619413093191809,
          "",
          1.2921523501310603,
          0.060806964504655,
          0.4528148760256925,
          "",
          "",
          "",
          1.0338071896067946,
          2.359790591538718,
          3.660747824909213,
          "",
          1.7308427156690644,
          2.6185058378390687
         ],
         "yaxis": "y2"
        },
        {
         "connectgaps": false,
         "fill": "tozeroy",
         "line": {
          "color": "red",
          "dash": "solid",
          "shape": "linear",
          "width": 0.5
         },
         "mode": "lines",
         "name": "Spread",
         "showlegend": false,
         "type": "scatter",
         "x": [
          0,
          1,
          2,
          3,
          4,
          5,
          6,
          7,
          8,
          9,
          10,
          11,
          12,
          13,
          14,
          15,
          16,
          17,
          18,
          19,
          20,
          21,
          22,
          23,
          24,
          25,
          26,
          27,
          28,
          29,
          30,
          31,
          32,
          33,
          34,
          35,
          36,
          37,
          38,
          39,
          40,
          41,
          42,
          43,
          44,
          45,
          46,
          47,
          48,
          49,
          50,
          51,
          52,
          53,
          54,
          55,
          56,
          57,
          58,
          59,
          60,
          61,
          62,
          63,
          64,
          65,
          66,
          67,
          68,
          69,
          70,
          71,
          72,
          73,
          74,
          75,
          76,
          77,
          78,
          79,
          80,
          81,
          82,
          83,
          84,
          85,
          86,
          87,
          88,
          89,
          90,
          91,
          92,
          93,
          94,
          95,
          96,
          97,
          98,
          99
         ],
         "xaxis": "x2",
         "y": [
          "",
          "",
          -0.4724097180771742,
          "",
          -0.4906195480639122,
          -1.6077886170948958,
          "",
          -0.04521870623784707,
          -1.8797183686300167,
          "",
          -0.9915137646607706,
          "",
          -0.12337116946969959,
          "",
          "",
          "",
          -2.2792317836866802,
          -0.2995383739826627,
          -1.2024880210498656,
          "",
          -1.5645067155313865,
          "",
          "",
          "",
          "",
          -0.35400478077033415,
          "",
          "",
          "",
          "",
          -3.424419125881782,
          "",
          -0.003982889902804404,
          "",
          "",
          "",
          -1.3419408490039795,
          -0.7179514033480452,
          -0.46231056628265094,
          "",
          "",
          -0.035980738494106046,
          -0.7837275111426926,
          "",
          "",
          "",
          -1.0417470655304424,
          -0.409101487607626,
          "",
          "",
          "",
          -2.397870795955814,
          "",
          -0.8330036516414993,
          -0.0702316389631395,
          -2.7862053121521937,
          "",
          -0.47583872232043467,
          -0.41899432627712163,
          "",
          -1.403122469041652,
          -0.4336238141925325,
          -1.1160403352768231,
          "",
          -0.7661124013177626,
          -0.1137687460738632,
          "",
          -3.348025390323672,
          -0.29050542566752946,
          "",
          "",
          -0.33551156434677665,
          "",
          "",
          "",
          -1.1483400187618082,
          -2.0974282785243075,
          "",
          "",
          "",
          -1.0142293786623946,
          "",
          -1.4593182581417108,
          "",
          "",
          -0.31623077805663036,
          "",
          -0.5473360384378878,
          "",
          "",
          "",
          -0.781932174039651,
          -0.7515571565882414,
          -1.215151023605983,
          "",
          "",
          "",
          -0.3497979165794472,
          "",
          ""
         ],
         "yaxis": "y2"
        }
       ],
       "layout": {
        "hovermode": "x",
        "legend": {
         "bgcolor": "#F5F6F9",
         "font": {
          "color": "#4D5663"
         }
        },
        "paper_bgcolor": "#F5F6F9",
        "plot_bgcolor": "#F5F6F9",
        "template": {
         "data": {
          "bar": [
           {
            "error_x": {
             "color": "#2a3f5f"
            },
            "error_y": {
             "color": "#2a3f5f"
            },
            "marker": {
             "line": {
              "color": "#E5ECF6",
              "width": 0.5
             },
             "pattern": {
              "fillmode": "overlay",
              "size": 10,
              "solidity": 0.2
             }
            },
            "type": "bar"
           }
          ],
          "barpolar": [
           {
            "marker": {
             "line": {
              "color": "#E5ECF6",
              "width": 0.5
             },
             "pattern": {
              "fillmode": "overlay",
              "size": 10,
              "solidity": 0.2
             }
            },
            "type": "barpolar"
           }
          ],
          "carpet": [
           {
            "aaxis": {
             "endlinecolor": "#2a3f5f",
             "gridcolor": "white",
             "linecolor": "white",
             "minorgridcolor": "white",
             "startlinecolor": "#2a3f5f"
            },
            "baxis": {
             "endlinecolor": "#2a3f5f",
             "gridcolor": "white",
             "linecolor": "white",
             "minorgridcolor": "white",
             "startlinecolor": "#2a3f5f"
            },
            "type": "carpet"
           }
          ],
          "choropleth": [
           {
            "colorbar": {
             "outlinewidth": 0,
             "ticks": ""
            },
            "type": "choropleth"
           }
          ],
          "contour": [
           {
            "colorbar": {
             "outlinewidth": 0,
             "ticks": ""
            },
            "colorscale": [
             [
              0,
              "#0d0887"
             ],
             [
              0.1111111111111111,
              "#46039f"
             ],
             [
              0.2222222222222222,
              "#7201a8"
             ],
             [
              0.3333333333333333,
              "#9c179e"
             ],
             [
              0.4444444444444444,
              "#bd3786"
             ],
             [
              0.5555555555555556,
              "#d8576b"
             ],
             [
              0.6666666666666666,
              "#ed7953"
             ],
             [
              0.7777777777777778,
              "#fb9f3a"
             ],
             [
              0.8888888888888888,
              "#fdca26"
             ],
             [
              1,
              "#f0f921"
             ]
            ],
            "type": "contour"
           }
          ],
          "contourcarpet": [
           {
            "colorbar": {
             "outlinewidth": 0,
             "ticks": ""
            },
            "type": "contourcarpet"
           }
          ],
          "heatmap": [
           {
            "colorbar": {
             "outlinewidth": 0,
             "ticks": ""
            },
            "colorscale": [
             [
              0,
              "#0d0887"
             ],
             [
              0.1111111111111111,
              "#46039f"
             ],
             [
              0.2222222222222222,
              "#7201a8"
             ],
             [
              0.3333333333333333,
              "#9c179e"
             ],
             [
              0.4444444444444444,
              "#bd3786"
             ],
             [
              0.5555555555555556,
              "#d8576b"
             ],
             [
              0.6666666666666666,
              "#ed7953"
             ],
             [
              0.7777777777777778,
              "#fb9f3a"
             ],
             [
              0.8888888888888888,
              "#fdca26"
             ],
             [
              1,
              "#f0f921"
             ]
            ],
            "type": "heatmap"
           }
          ],
          "heatmapgl": [
           {
            "colorbar": {
             "outlinewidth": 0,
             "ticks": ""
            },
            "colorscale": [
             [
              0,
              "#0d0887"
             ],
             [
              0.1111111111111111,
              "#46039f"
             ],
             [
              0.2222222222222222,
              "#7201a8"
             ],
             [
              0.3333333333333333,
              "#9c179e"
             ],
             [
              0.4444444444444444,
              "#bd3786"
             ],
             [
              0.5555555555555556,
              "#d8576b"
             ],
             [
              0.6666666666666666,
              "#ed7953"
             ],
             [
              0.7777777777777778,
              "#fb9f3a"
             ],
             [
              0.8888888888888888,
              "#fdca26"
             ],
             [
              1,
              "#f0f921"
             ]
            ],
            "type": "heatmapgl"
           }
          ],
          "histogram": [
           {
            "marker": {
             "pattern": {
              "fillmode": "overlay",
              "size": 10,
              "solidity": 0.2
             }
            },
            "type": "histogram"
           }
          ],
          "histogram2d": [
           {
            "colorbar": {
             "outlinewidth": 0,
             "ticks": ""
            },
            "colorscale": [
             [
              0,
              "#0d0887"
             ],
             [
              0.1111111111111111,
              "#46039f"
             ],
             [
              0.2222222222222222,
              "#7201a8"
             ],
             [
              0.3333333333333333,
              "#9c179e"
             ],
             [
              0.4444444444444444,
              "#bd3786"
             ],
             [
              0.5555555555555556,
              "#d8576b"
             ],
             [
              0.6666666666666666,
              "#ed7953"
             ],
             [
              0.7777777777777778,
              "#fb9f3a"
             ],
             [
              0.8888888888888888,
              "#fdca26"
             ],
             [
              1,
              "#f0f921"
             ]
            ],
            "type": "histogram2d"
           }
          ],
          "histogram2dcontour": [
           {
            "colorbar": {
             "outlinewidth": 0,
             "ticks": ""
            },
            "colorscale": [
             [
              0,
              "#0d0887"
             ],
             [
              0.1111111111111111,
              "#46039f"
             ],
             [
              0.2222222222222222,
              "#7201a8"
             ],
             [
              0.3333333333333333,
              "#9c179e"
             ],
             [
              0.4444444444444444,
              "#bd3786"
             ],
             [
              0.5555555555555556,
              "#d8576b"
             ],
             [
              0.6666666666666666,
              "#ed7953"
             ],
             [
              0.7777777777777778,
              "#fb9f3a"
             ],
             [
              0.8888888888888888,
              "#fdca26"
             ],
             [
              1,
              "#f0f921"
             ]
            ],
            "type": "histogram2dcontour"
           }
          ],
          "mesh3d": [
           {
            "colorbar": {
             "outlinewidth": 0,
             "ticks": ""
            },
            "type": "mesh3d"
           }
          ],
          "parcoords": [
           {
            "line": {
             "colorbar": {
              "outlinewidth": 0,
              "ticks": ""
             }
            },
            "type": "parcoords"
           }
          ],
          "pie": [
           {
            "automargin": true,
            "type": "pie"
           }
          ],
          "scatter": [
           {
            "marker": {
             "colorbar": {
              "outlinewidth": 0,
              "ticks": ""
             }
            },
            "type": "scatter"
           }
          ],
          "scatter3d": [
           {
            "line": {
             "colorbar": {
              "outlinewidth": 0,
              "ticks": ""
             }
            },
            "marker": {
             "colorbar": {
              "outlinewidth": 0,
              "ticks": ""
             }
            },
            "type": "scatter3d"
           }
          ],
          "scattercarpet": [
           {
            "marker": {
             "colorbar": {
              "outlinewidth": 0,
              "ticks": ""
             }
            },
            "type": "scattercarpet"
           }
          ],
          "scattergeo": [
           {
            "marker": {
             "colorbar": {
              "outlinewidth": 0,
              "ticks": ""
             }
            },
            "type": "scattergeo"
           }
          ],
          "scattergl": [
           {
            "marker": {
             "colorbar": {
              "outlinewidth": 0,
              "ticks": ""
             }
            },
            "type": "scattergl"
           }
          ],
          "scattermapbox": [
           {
            "marker": {
             "colorbar": {
              "outlinewidth": 0,
              "ticks": ""
             }
            },
            "type": "scattermapbox"
           }
          ],
          "scatterpolar": [
           {
            "marker": {
             "colorbar": {
              "outlinewidth": 0,
              "ticks": ""
             }
            },
            "type": "scatterpolar"
           }
          ],
          "scatterpolargl": [
           {
            "marker": {
             "colorbar": {
              "outlinewidth": 0,
              "ticks": ""
             }
            },
            "type": "scatterpolargl"
           }
          ],
          "scatterternary": [
           {
            "marker": {
             "colorbar": {
              "outlinewidth": 0,
              "ticks": ""
             }
            },
            "type": "scatterternary"
           }
          ],
          "surface": [
           {
            "colorbar": {
             "outlinewidth": 0,
             "ticks": ""
            },
            "colorscale": [
             [
              0,
              "#0d0887"
             ],
             [
              0.1111111111111111,
              "#46039f"
             ],
             [
              0.2222222222222222,
              "#7201a8"
             ],
             [
              0.3333333333333333,
              "#9c179e"
             ],
             [
              0.4444444444444444,
              "#bd3786"
             ],
             [
              0.5555555555555556,
              "#d8576b"
             ],
             [
              0.6666666666666666,
              "#ed7953"
             ],
             [
              0.7777777777777778,
              "#fb9f3a"
             ],
             [
              0.8888888888888888,
              "#fdca26"
             ],
             [
              1,
              "#f0f921"
             ]
            ],
            "type": "surface"
           }
          ],
          "table": [
           {
            "cells": {
             "fill": {
              "color": "#EBF0F8"
             },
             "line": {
              "color": "white"
             }
            },
            "header": {
             "fill": {
              "color": "#C8D4E3"
             },
             "line": {
              "color": "white"
             }
            },
            "type": "table"
           }
          ]
         },
         "layout": {
          "annotationdefaults": {
           "arrowcolor": "#2a3f5f",
           "arrowhead": 0,
           "arrowwidth": 1
          },
          "autotypenumbers": "strict",
          "coloraxis": {
           "colorbar": {
            "outlinewidth": 0,
            "ticks": ""
           }
          },
          "colorscale": {
           "diverging": [
            [
             0,
             "#8e0152"
            ],
            [
             0.1,
             "#c51b7d"
            ],
            [
             0.2,
             "#de77ae"
            ],
            [
             0.3,
             "#f1b6da"
            ],
            [
             0.4,
             "#fde0ef"
            ],
            [
             0.5,
             "#f7f7f7"
            ],
            [
             0.6,
             "#e6f5d0"
            ],
            [
             0.7,
             "#b8e186"
            ],
            [
             0.8,
             "#7fbc41"
            ],
            [
             0.9,
             "#4d9221"
            ],
            [
             1,
             "#276419"
            ]
           ],
           "sequential": [
            [
             0,
             "#0d0887"
            ],
            [
             0.1111111111111111,
             "#46039f"
            ],
            [
             0.2222222222222222,
             "#7201a8"
            ],
            [
             0.3333333333333333,
             "#9c179e"
            ],
            [
             0.4444444444444444,
             "#bd3786"
            ],
            [
             0.5555555555555556,
             "#d8576b"
            ],
            [
             0.6666666666666666,
             "#ed7953"
            ],
            [
             0.7777777777777778,
             "#fb9f3a"
            ],
            [
             0.8888888888888888,
             "#fdca26"
            ],
            [
             1,
             "#f0f921"
            ]
           ],
           "sequentialminus": [
            [
             0,
             "#0d0887"
            ],
            [
             0.1111111111111111,
             "#46039f"
            ],
            [
             0.2222222222222222,
             "#7201a8"
            ],
            [
             0.3333333333333333,
             "#9c179e"
            ],
            [
             0.4444444444444444,
             "#bd3786"
            ],
            [
             0.5555555555555556,
             "#d8576b"
            ],
            [
             0.6666666666666666,
             "#ed7953"
            ],
            [
             0.7777777777777778,
             "#fb9f3a"
            ],
            [
             0.8888888888888888,
             "#fdca26"
            ],
            [
             1,
             "#f0f921"
            ]
           ]
          },
          "colorway": [
           "#636efa",
           "#EF553B",
           "#00cc96",
           "#ab63fa",
           "#FFA15A",
           "#19d3f3",
           "#FF6692",
           "#B6E880",
           "#FF97FF",
           "#FECB52"
          ],
          "font": {
           "color": "#2a3f5f"
          },
          "geo": {
           "bgcolor": "white",
           "lakecolor": "white",
           "landcolor": "#E5ECF6",
           "showlakes": true,
           "showland": true,
           "subunitcolor": "white"
          },
          "hoverlabel": {
           "align": "left"
          },
          "hovermode": "closest",
          "mapbox": {
           "style": "light"
          },
          "paper_bgcolor": "white",
          "plot_bgcolor": "#E5ECF6",
          "polar": {
           "angularaxis": {
            "gridcolor": "white",
            "linecolor": "white",
            "ticks": ""
           },
           "bgcolor": "#E5ECF6",
           "radialaxis": {
            "gridcolor": "white",
            "linecolor": "white",
            "ticks": ""
           }
          },
          "scene": {
           "xaxis": {
            "backgroundcolor": "#E5ECF6",
            "gridcolor": "white",
            "gridwidth": 2,
            "linecolor": "white",
            "showbackground": true,
            "ticks": "",
            "zerolinecolor": "white"
           },
           "yaxis": {
            "backgroundcolor": "#E5ECF6",
            "gridcolor": "white",
            "gridwidth": 2,
            "linecolor": "white",
            "showbackground": true,
            "ticks": "",
            "zerolinecolor": "white"
           },
           "zaxis": {
            "backgroundcolor": "#E5ECF6",
            "gridcolor": "white",
            "gridwidth": 2,
            "linecolor": "white",
            "showbackground": true,
            "ticks": "",
            "zerolinecolor": "white"
           }
          },
          "shapedefaults": {
           "line": {
            "color": "#2a3f5f"
           }
          },
          "ternary": {
           "aaxis": {
            "gridcolor": "white",
            "linecolor": "white",
            "ticks": ""
           },
           "baxis": {
            "gridcolor": "white",
            "linecolor": "white",
            "ticks": ""
           },
           "bgcolor": "#E5ECF6",
           "caxis": {
            "gridcolor": "white",
            "linecolor": "white",
            "ticks": ""
           }
          },
          "title": {
           "x": 0.05
          },
          "xaxis": {
           "automargin": true,
           "gridcolor": "white",
           "linecolor": "white",
           "ticks": "",
           "title": {
            "standoff": 15
           },
           "zerolinecolor": "white",
           "zerolinewidth": 2
          },
          "yaxis": {
           "automargin": true,
           "gridcolor": "white",
           "linecolor": "white",
           "ticks": "",
           "title": {
            "standoff": 15
           },
           "zerolinecolor": "white",
           "zerolinewidth": 2
          }
         }
        },
        "title": {
         "font": {
          "color": "#4D5663"
         }
        },
        "xaxis": {
         "gridcolor": "#E1E5ED",
         "showgrid": true,
         "tickfont": {
          "color": "#4D5663"
         },
         "title": {
          "font": {
           "color": "#4D5663"
          },
          "text": ""
         },
         "zerolinecolor": "#E1E5ED"
        },
        "xaxis2": {
         "anchor": "y2",
         "gridcolor": "#E1E5ED",
         "showgrid": true,
         "showticklabels": false,
         "tickfont": {
          "color": "#4D5663"
         },
         "title": {
          "font": {
           "color": "#4D5663"
          },
          "text": ""
         },
         "zerolinecolor": "#E1E5ED"
        },
        "yaxis": {
         "domain": [
          0.3,
          1
         ],
         "gridcolor": "#E1E5ED",
         "showgrid": true,
         "tickfont": {
          "color": "#4D5663"
         },
         "title": {
          "font": {
           "color": "#4D5663"
          },
          "text": ""
         },
         "zerolinecolor": "#E1E5ED"
        },
        "yaxis2": {
         "domain": [
          0,
          0.25
         ],
         "gridcolor": "#E1E5ED",
         "showgrid": true,
         "tickfont": {
          "color": "#4D5663"
         },
         "title": {
          "font": {
           "color": "#4D5663"
          },
          "text": "Spread"
         },
         "zerolinecolor": "#E1E5ED"
        }
       }
      },
      "text/html": [
       "<div>                            <div id=\"57f9a4e2-865c-40cf-ac39-d6ec202e5e93\" class=\"plotly-graph-div\" style=\"height:525px; width:100%;\"></div>            <script type=\"text/javascript\">                require([\"plotly\"], function(Plotly) {                    window.PLOTLYENV=window.PLOTLYENV || {};\n",
       "                    window.PLOTLYENV.BASE_URL='https://plot.ly';                                    if (document.getElementById(\"57f9a4e2-865c-40cf-ac39-d6ec202e5e93\")) {                    Plotly.newPlot(                        \"57f9a4e2-865c-40cf-ac39-d6ec202e5e93\",                        [{\"line\":{\"color\":\"rgba(255, 153, 51, 1.0)\",\"dash\":\"solid\",\"shape\":\"linear\",\"width\":1.3},\"mode\":\"lines\",\"name\":\"A\",\"text\":\"\",\"x\":[0,1,2,3,4,5,6,7,8,9,10,11,12,13,14,15,16,17,18,19,20,21,22,23,24,25,26,27,28,29,30,31,32,33,34,35,36,37,38,39,40,41,42,43,44,45,46,47,48,49,50,51,52,53,54,55,56,57,58,59,60,61,62,63,64,65,66,67,68,69,70,71,72,73,74,75,76,77,78,79,80,81,82,83,84,85,86,87,88,89,90,91,92,93,94,95,96,97,98,99],\"y\":[0.48979428455356877,1.2000787712482575,0.023788380464120393,-0.7762937541590931,-0.012364867282905903,-1.2161957246449362,-0.02690116005734921,-0.6136576494704216,-1.0932741606526177,1.3367224280535983,-0.21086536735247163,0.7004920634418149,0.022903232284200294,1.8118903731503866,0.03874003270713806,0.14207857973235602,-1.2664546662031808,1.0882638165812608,-0.7120729647956264,0.6937532377713457,-0.38587006015377073,0.7944049114081017,0.8902470208690971,-0.017596363807709636,-0.21123469197121414,-0.44522679075601096,0.06594417027871106,-0.4005156041049335,1.531611994137102,1.469053508293093,-0.6960757696420884,0.42188597213691115,-0.24857896565921767,0.35243368033595995,0.32289319825012025,1.756959477480924,-0.8646444846801743,0.7327493359184236,-0.05616681327469264,0.24137468687379302,0.13490316200095048,-0.30294439883702995,0.20149030418780658,-0.8439630384647533,0.9173475168512586,-0.7267483351185445,0.4551191588285759,-1.3050200504200984,-0.940424126632205,-0.2861436512950377,0.3272416090612496,-1.4862435821612276,-0.7419822477245054,-0.5289520199886615,-0.19209542834834886,-1.6137840913423802,2.5253792135126267,-0.36401403896536855,1.0560010342257284,1.4282679514136718,-1.7240519483814831,0.5671338747613731,-0.9080841728798318,0.31546878483673546,-0.11377460855602518,0.053496764203978336,0.6818028998550107,-1.9774449121637068,0.7084250781799291,1.5278746674917012,-0.9571164971445482,-1.3294630618845433,0.942272172901489,-0.019981281703439734,1.4525537255249976,0.027433302927381463,-1.8001925853232867,1.4426728488088858,-0.6965262723544774,1.2879984069477703,-1.4514103759363945,0.10321693798368037,-1.0337673090830766,1.2123441508341763,0.2816563048236678,-1.0116419291291963,1.2137608091381367,-0.6097424621297425,1.199038876047825,-0.14784081503360644,-1.0529508579837437,0.203716845237984,-1.3703913734693944,-1.4621189194907764,1.2079693890251404,1.0607169379613697,1.6860621157919298,-0.3043036742676254,1.252089094534873,0.8019105881421928],\"type\":\"scatter\"},{\"line\":{\"color\":\"rgba(55, 128, 191, 1.0)\",\"dash\":\"solid\",\"shape\":\"linear\",\"width\":1.3},\"mode\":\"lines\",\"name\":\"B\",\"text\":\"\",\"x\":[0,1,2,3,4,5,6,7,8,9,10,11,12,13,14,15,16,17,18,19,20,21,22,23,24,25,26,27,28,29,30,31,32,33,34,35,36,37,38,39,40,41,42,43,44,45,46,47,48,49,50,51,52,53,54,55,56,57,58,59,60,61,62,63,64,65,66,67,68,69,70,71,72,73,74,75,76,77,78,79,80,81,82,83,84,85,86,87,88,89,90,91,92,93,94,95,96,97,98,99],\"y\":[-1.0998518931967172,-0.951310489501729,0.4961980985412946,-1.9465577812700667,0.4782546807810063,0.3915928924499597,-0.16195461581883155,-0.5684389432325745,0.7864442079773991,0.11786194397659192,0.7806483973082989,-0.7216593398328882,0.14627440175389989,-0.07554072415619882,0.014168578367290862,-0.6333465050786681,1.0127771174834996,1.3878021905639235,0.4904150562542391,0.2536434005385077,1.1786366553776157,-3.334302912542056,0.7647022080307493,-0.031935851656112776,-0.7839089589040155,-0.09122200998567682,-0.4898507459459323,-0.5684394463175186,0.11940011898377212,-0.19497172220308293,2.728343356239694,-0.40789330735339907,-0.24459607575641326,-0.4858707994184838,-0.015234217101942981,-0.08771777295493485,0.4772963643238052,1.4507007392664688,0.4061437530079583,0.15419502764767845,-0.726525983701748,-0.2669636603429239,0.9852178153304991,-1.29587901702008,-0.6664537394097019,-1.093155363979523,1.4968662243590183,-0.8959185628124724,-1.5208535704872201,-0.4052181341125891,-0.017951376963129023,0.9116272137945861,-1.6649360797874992,0.3040516316528378,-0.12186378938520936,1.1724212208098135,-1.274141257813947,0.11182468335506614,1.47499536050285,0.2583425826196655,-0.32092947933983107,1.0007576889539056,0.20795616239699127,-0.08665414940310559,0.6523377927617374,0.16726551027784153,-0.42557944492126054,1.3705804781599653,0.9989305038474585,-1.6823152185810062,-1.4777209857615803,-0.9939514975377667,-1.0574492878409467,-0.18781359857066682,0.8413247717773269,1.1757733216891897,0.2972356932010209,-0.28249667162063813,-1.3381021329751352,0.8454290322931972,-0.43718099727400006,0.08608827559328311,0.42555094905863433,0.06474854527759977,-1.7365979250057706,-0.6954111510725659,0.5943477159463276,-0.0624064236918547,-0.09311347408323536,-0.20864777953826144,-1.5057657340094361,0.985649019277635,-0.618834216881153,-0.24696789588479345,0.1741621994183457,-1.2990736535773484,-1.9746857091172834,0.04549424231182181,-0.4787536211341913,-1.8165952496968758],\"type\":\"scatter\"},{\"connectgaps\":false,\"fill\":\"tozeroy\",\"line\":{\"color\":\"green\",\"dash\":\"solid\",\"shape\":\"linear\",\"width\":0.5},\"mode\":\"lines\",\"name\":\"Spread\",\"showlegend\":false,\"x\":[0,1,2,3,4,5,6,7,8,9,10,11,12,13,14,15,16,17,18,19,20,21,22,23,24,25,26,27,28,29,30,31,32,33,34,35,36,37,38,39,40,41,42,43,44,45,46,47,48,49,50,51,52,53,54,55,56,57,58,59,60,61,62,63,64,65,66,67,68,69,70,71,72,73,74,75,76,77,78,79,80,81,82,83,84,85,86,87,88,89,90,91,92,93,94,95,96,97,98,99],\"xaxis\":\"x2\",\"y\":[1.589646177750286,2.1513892607499865,\"\",1.1702640271109737,\"\",\"\",0.13505345576148234,\"\",\"\",1.2188604840770063,\"\",1.4221514032747031,\"\",1.8874310973065853,0.024571454339847195,0.7754250848110241,\"\",\"\",\"\",0.440109837232838,\"\",4.128707823950157,0.12554481283834784,0.01433948784840314,0.5726742669328013,\"\",0.5557949162246434,0.16792384221258516,1.41221187515333,1.6640252304961758,\"\",0.8297792794903103,\"\",0.8383044797544438,0.33812741535206325,1.8446772504358588,\"\",\"\",\"\",0.08717965922611456,0.8614291457026986,\"\",\"\",0.4519159785553267,1.5838012562609605,0.36640702886097853,\"\",\"\",0.5804294438550152,0.1190744828175514,0.34519298602437865,\"\",0.9229538320629939,\"\",\"\",\"\",3.7995204713265736,\"\",\"\",1.1699253687940063,\"\",\"\",\"\",0.402122934239841,\"\",\"\",1.1073823447762714,\"\",\"\",3.2101898860727074,0.5206044886170321,\"\",1.9997214607424358,0.16783231686722708,0.6112289537476707,\"\",\"\",1.7251695204295239,0.6415758606206579,0.44256937465457313,\"\",0.01712866239039726,\"\",1.1475956055565766,2.0182542298294384,\"\",0.619413093191809,\"\",1.2921523501310603,0.060806964504655,0.4528148760256925,\"\",\"\",\"\",1.0338071896067946,2.359790591538718,3.660747824909213,\"\",1.7308427156690644,2.6185058378390687],\"yaxis\":\"y2\",\"type\":\"scatter\"},{\"connectgaps\":false,\"fill\":\"tozeroy\",\"line\":{\"color\":\"red\",\"dash\":\"solid\",\"shape\":\"linear\",\"width\":0.5},\"mode\":\"lines\",\"name\":\"Spread\",\"showlegend\":false,\"x\":[0,1,2,3,4,5,6,7,8,9,10,11,12,13,14,15,16,17,18,19,20,21,22,23,24,25,26,27,28,29,30,31,32,33,34,35,36,37,38,39,40,41,42,43,44,45,46,47,48,49,50,51,52,53,54,55,56,57,58,59,60,61,62,63,64,65,66,67,68,69,70,71,72,73,74,75,76,77,78,79,80,81,82,83,84,85,86,87,88,89,90,91,92,93,94,95,96,97,98,99],\"xaxis\":\"x2\",\"y\":[\"\",\"\",-0.4724097180771742,\"\",-0.4906195480639122,-1.6077886170948958,\"\",-0.04521870623784707,-1.8797183686300167,\"\",-0.9915137646607706,\"\",-0.12337116946969959,\"\",\"\",\"\",-2.2792317836866802,-0.2995383739826627,-1.2024880210498656,\"\",-1.5645067155313865,\"\",\"\",\"\",\"\",-0.35400478077033415,\"\",\"\",\"\",\"\",-3.424419125881782,\"\",-0.003982889902804404,\"\",\"\",\"\",-1.3419408490039795,-0.7179514033480452,-0.46231056628265094,\"\",\"\",-0.035980738494106046,-0.7837275111426926,\"\",\"\",\"\",-1.0417470655304424,-0.409101487607626,\"\",\"\",\"\",-2.397870795955814,\"\",-0.8330036516414993,-0.0702316389631395,-2.7862053121521937,\"\",-0.47583872232043467,-0.41899432627712163,\"\",-1.403122469041652,-0.4336238141925325,-1.1160403352768231,\"\",-0.7661124013177626,-0.1137687460738632,\"\",-3.348025390323672,-0.29050542566752946,\"\",\"\",-0.33551156434677665,\"\",\"\",\"\",-1.1483400187618082,-2.0974282785243075,\"\",\"\",\"\",-1.0142293786623946,\"\",-1.4593182581417108,\"\",\"\",-0.31623077805663036,\"\",-0.5473360384378878,\"\",\"\",\"\",-0.781932174039651,-0.7515571565882414,-1.215151023605983,\"\",\"\",\"\",-0.3497979165794472,\"\",\"\"],\"yaxis\":\"y2\",\"type\":\"scatter\"}],                        {\"hovermode\":\"x\",\"legend\":{\"bgcolor\":\"#F5F6F9\",\"font\":{\"color\":\"#4D5663\"}},\"paper_bgcolor\":\"#F5F6F9\",\"plot_bgcolor\":\"#F5F6F9\",\"template\":{\"data\":{\"barpolar\":[{\"marker\":{\"line\":{\"color\":\"#E5ECF6\",\"width\":0.5},\"pattern\":{\"fillmode\":\"overlay\",\"size\":10,\"solidity\":0.2}},\"type\":\"barpolar\"}],\"bar\":[{\"error_x\":{\"color\":\"#2a3f5f\"},\"error_y\":{\"color\":\"#2a3f5f\"},\"marker\":{\"line\":{\"color\":\"#E5ECF6\",\"width\":0.5},\"pattern\":{\"fillmode\":\"overlay\",\"size\":10,\"solidity\":0.2}},\"type\":\"bar\"}],\"carpet\":[{\"aaxis\":{\"endlinecolor\":\"#2a3f5f\",\"gridcolor\":\"white\",\"linecolor\":\"white\",\"minorgridcolor\":\"white\",\"startlinecolor\":\"#2a3f5f\"},\"baxis\":{\"endlinecolor\":\"#2a3f5f\",\"gridcolor\":\"white\",\"linecolor\":\"white\",\"minorgridcolor\":\"white\",\"startlinecolor\":\"#2a3f5f\"},\"type\":\"carpet\"}],\"choropleth\":[{\"colorbar\":{\"outlinewidth\":0,\"ticks\":\"\"},\"type\":\"choropleth\"}],\"contourcarpet\":[{\"colorbar\":{\"outlinewidth\":0,\"ticks\":\"\"},\"type\":\"contourcarpet\"}],\"contour\":[{\"colorbar\":{\"outlinewidth\":0,\"ticks\":\"\"},\"colorscale\":[[0.0,\"#0d0887\"],[0.1111111111111111,\"#46039f\"],[0.2222222222222222,\"#7201a8\"],[0.3333333333333333,\"#9c179e\"],[0.4444444444444444,\"#bd3786\"],[0.5555555555555556,\"#d8576b\"],[0.6666666666666666,\"#ed7953\"],[0.7777777777777778,\"#fb9f3a\"],[0.8888888888888888,\"#fdca26\"],[1.0,\"#f0f921\"]],\"type\":\"contour\"}],\"heatmapgl\":[{\"colorbar\":{\"outlinewidth\":0,\"ticks\":\"\"},\"colorscale\":[[0.0,\"#0d0887\"],[0.1111111111111111,\"#46039f\"],[0.2222222222222222,\"#7201a8\"],[0.3333333333333333,\"#9c179e\"],[0.4444444444444444,\"#bd3786\"],[0.5555555555555556,\"#d8576b\"],[0.6666666666666666,\"#ed7953\"],[0.7777777777777778,\"#fb9f3a\"],[0.8888888888888888,\"#fdca26\"],[1.0,\"#f0f921\"]],\"type\":\"heatmapgl\"}],\"heatmap\":[{\"colorbar\":{\"outlinewidth\":0,\"ticks\":\"\"},\"colorscale\":[[0.0,\"#0d0887\"],[0.1111111111111111,\"#46039f\"],[0.2222222222222222,\"#7201a8\"],[0.3333333333333333,\"#9c179e\"],[0.4444444444444444,\"#bd3786\"],[0.5555555555555556,\"#d8576b\"],[0.6666666666666666,\"#ed7953\"],[0.7777777777777778,\"#fb9f3a\"],[0.8888888888888888,\"#fdca26\"],[1.0,\"#f0f921\"]],\"type\":\"heatmap\"}],\"histogram2dcontour\":[{\"colorbar\":{\"outlinewidth\":0,\"ticks\":\"\"},\"colorscale\":[[0.0,\"#0d0887\"],[0.1111111111111111,\"#46039f\"],[0.2222222222222222,\"#7201a8\"],[0.3333333333333333,\"#9c179e\"],[0.4444444444444444,\"#bd3786\"],[0.5555555555555556,\"#d8576b\"],[0.6666666666666666,\"#ed7953\"],[0.7777777777777778,\"#fb9f3a\"],[0.8888888888888888,\"#fdca26\"],[1.0,\"#f0f921\"]],\"type\":\"histogram2dcontour\"}],\"histogram2d\":[{\"colorbar\":{\"outlinewidth\":0,\"ticks\":\"\"},\"colorscale\":[[0.0,\"#0d0887\"],[0.1111111111111111,\"#46039f\"],[0.2222222222222222,\"#7201a8\"],[0.3333333333333333,\"#9c179e\"],[0.4444444444444444,\"#bd3786\"],[0.5555555555555556,\"#d8576b\"],[0.6666666666666666,\"#ed7953\"],[0.7777777777777778,\"#fb9f3a\"],[0.8888888888888888,\"#fdca26\"],[1.0,\"#f0f921\"]],\"type\":\"histogram2d\"}],\"histogram\":[{\"marker\":{\"pattern\":{\"fillmode\":\"overlay\",\"size\":10,\"solidity\":0.2}},\"type\":\"histogram\"}],\"mesh3d\":[{\"colorbar\":{\"outlinewidth\":0,\"ticks\":\"\"},\"type\":\"mesh3d\"}],\"parcoords\":[{\"line\":{\"colorbar\":{\"outlinewidth\":0,\"ticks\":\"\"}},\"type\":\"parcoords\"}],\"pie\":[{\"automargin\":true,\"type\":\"pie\"}],\"scatter3d\":[{\"line\":{\"colorbar\":{\"outlinewidth\":0,\"ticks\":\"\"}},\"marker\":{\"colorbar\":{\"outlinewidth\":0,\"ticks\":\"\"}},\"type\":\"scatter3d\"}],\"scattercarpet\":[{\"marker\":{\"colorbar\":{\"outlinewidth\":0,\"ticks\":\"\"}},\"type\":\"scattercarpet\"}],\"scattergeo\":[{\"marker\":{\"colorbar\":{\"outlinewidth\":0,\"ticks\":\"\"}},\"type\":\"scattergeo\"}],\"scattergl\":[{\"marker\":{\"colorbar\":{\"outlinewidth\":0,\"ticks\":\"\"}},\"type\":\"scattergl\"}],\"scattermapbox\":[{\"marker\":{\"colorbar\":{\"outlinewidth\":0,\"ticks\":\"\"}},\"type\":\"scattermapbox\"}],\"scatterpolargl\":[{\"marker\":{\"colorbar\":{\"outlinewidth\":0,\"ticks\":\"\"}},\"type\":\"scatterpolargl\"}],\"scatterpolar\":[{\"marker\":{\"colorbar\":{\"outlinewidth\":0,\"ticks\":\"\"}},\"type\":\"scatterpolar\"}],\"scatter\":[{\"marker\":{\"colorbar\":{\"outlinewidth\":0,\"ticks\":\"\"}},\"type\":\"scatter\"}],\"scatterternary\":[{\"marker\":{\"colorbar\":{\"outlinewidth\":0,\"ticks\":\"\"}},\"type\":\"scatterternary\"}],\"surface\":[{\"colorbar\":{\"outlinewidth\":0,\"ticks\":\"\"},\"colorscale\":[[0.0,\"#0d0887\"],[0.1111111111111111,\"#46039f\"],[0.2222222222222222,\"#7201a8\"],[0.3333333333333333,\"#9c179e\"],[0.4444444444444444,\"#bd3786\"],[0.5555555555555556,\"#d8576b\"],[0.6666666666666666,\"#ed7953\"],[0.7777777777777778,\"#fb9f3a\"],[0.8888888888888888,\"#fdca26\"],[1.0,\"#f0f921\"]],\"type\":\"surface\"}],\"table\":[{\"cells\":{\"fill\":{\"color\":\"#EBF0F8\"},\"line\":{\"color\":\"white\"}},\"header\":{\"fill\":{\"color\":\"#C8D4E3\"},\"line\":{\"color\":\"white\"}},\"type\":\"table\"}]},\"layout\":{\"annotationdefaults\":{\"arrowcolor\":\"#2a3f5f\",\"arrowhead\":0,\"arrowwidth\":1},\"autotypenumbers\":\"strict\",\"coloraxis\":{\"colorbar\":{\"outlinewidth\":0,\"ticks\":\"\"}},\"colorscale\":{\"diverging\":[[0,\"#8e0152\"],[0.1,\"#c51b7d\"],[0.2,\"#de77ae\"],[0.3,\"#f1b6da\"],[0.4,\"#fde0ef\"],[0.5,\"#f7f7f7\"],[0.6,\"#e6f5d0\"],[0.7,\"#b8e186\"],[0.8,\"#7fbc41\"],[0.9,\"#4d9221\"],[1,\"#276419\"]],\"sequential\":[[0.0,\"#0d0887\"],[0.1111111111111111,\"#46039f\"],[0.2222222222222222,\"#7201a8\"],[0.3333333333333333,\"#9c179e\"],[0.4444444444444444,\"#bd3786\"],[0.5555555555555556,\"#d8576b\"],[0.6666666666666666,\"#ed7953\"],[0.7777777777777778,\"#fb9f3a\"],[0.8888888888888888,\"#fdca26\"],[1.0,\"#f0f921\"]],\"sequentialminus\":[[0.0,\"#0d0887\"],[0.1111111111111111,\"#46039f\"],[0.2222222222222222,\"#7201a8\"],[0.3333333333333333,\"#9c179e\"],[0.4444444444444444,\"#bd3786\"],[0.5555555555555556,\"#d8576b\"],[0.6666666666666666,\"#ed7953\"],[0.7777777777777778,\"#fb9f3a\"],[0.8888888888888888,\"#fdca26\"],[1.0,\"#f0f921\"]]},\"colorway\":[\"#636efa\",\"#EF553B\",\"#00cc96\",\"#ab63fa\",\"#FFA15A\",\"#19d3f3\",\"#FF6692\",\"#B6E880\",\"#FF97FF\",\"#FECB52\"],\"font\":{\"color\":\"#2a3f5f\"},\"geo\":{\"bgcolor\":\"white\",\"lakecolor\":\"white\",\"landcolor\":\"#E5ECF6\",\"showlakes\":true,\"showland\":true,\"subunitcolor\":\"white\"},\"hoverlabel\":{\"align\":\"left\"},\"hovermode\":\"closest\",\"mapbox\":{\"style\":\"light\"},\"paper_bgcolor\":\"white\",\"plot_bgcolor\":\"#E5ECF6\",\"polar\":{\"angularaxis\":{\"gridcolor\":\"white\",\"linecolor\":\"white\",\"ticks\":\"\"},\"bgcolor\":\"#E5ECF6\",\"radialaxis\":{\"gridcolor\":\"white\",\"linecolor\":\"white\",\"ticks\":\"\"}},\"scene\":{\"xaxis\":{\"backgroundcolor\":\"#E5ECF6\",\"gridcolor\":\"white\",\"gridwidth\":2,\"linecolor\":\"white\",\"showbackground\":true,\"ticks\":\"\",\"zerolinecolor\":\"white\"},\"yaxis\":{\"backgroundcolor\":\"#E5ECF6\",\"gridcolor\":\"white\",\"gridwidth\":2,\"linecolor\":\"white\",\"showbackground\":true,\"ticks\":\"\",\"zerolinecolor\":\"white\"},\"zaxis\":{\"backgroundcolor\":\"#E5ECF6\",\"gridcolor\":\"white\",\"gridwidth\":2,\"linecolor\":\"white\",\"showbackground\":true,\"ticks\":\"\",\"zerolinecolor\":\"white\"}},\"shapedefaults\":{\"line\":{\"color\":\"#2a3f5f\"}},\"ternary\":{\"aaxis\":{\"gridcolor\":\"white\",\"linecolor\":\"white\",\"ticks\":\"\"},\"baxis\":{\"gridcolor\":\"white\",\"linecolor\":\"white\",\"ticks\":\"\"},\"bgcolor\":\"#E5ECF6\",\"caxis\":{\"gridcolor\":\"white\",\"linecolor\":\"white\",\"ticks\":\"\"}},\"title\":{\"x\":0.05},\"xaxis\":{\"automargin\":true,\"gridcolor\":\"white\",\"linecolor\":\"white\",\"ticks\":\"\",\"title\":{\"standoff\":15},\"zerolinecolor\":\"white\",\"zerolinewidth\":2},\"yaxis\":{\"automargin\":true,\"gridcolor\":\"white\",\"linecolor\":\"white\",\"ticks\":\"\",\"title\":{\"standoff\":15},\"zerolinecolor\":\"white\",\"zerolinewidth\":2}}},\"title\":{\"font\":{\"color\":\"#4D5663\"}},\"xaxis\":{\"gridcolor\":\"#E1E5ED\",\"showgrid\":true,\"tickfont\":{\"color\":\"#4D5663\"},\"title\":{\"font\":{\"color\":\"#4D5663\"},\"text\":\"\"},\"zerolinecolor\":\"#E1E5ED\"},\"yaxis\":{\"domain\":[0.3,1],\"gridcolor\":\"#E1E5ED\",\"showgrid\":true,\"tickfont\":{\"color\":\"#4D5663\"},\"title\":{\"font\":{\"color\":\"#4D5663\"},\"text\":\"\"},\"zerolinecolor\":\"#E1E5ED\"},\"yaxis2\":{\"domain\":[0,0.25],\"gridcolor\":\"#E1E5ED\",\"showgrid\":true,\"tickfont\":{\"color\":\"#4D5663\"},\"title\":{\"font\":{\"color\":\"#4D5663\"},\"text\":\"Spread\"},\"zerolinecolor\":\"#E1E5ED\"},\"xaxis2\":{\"anchor\":\"y2\",\"gridcolor\":\"#E1E5ED\",\"showgrid\":true,\"showticklabels\":false,\"tickfont\":{\"color\":\"#4D5663\"},\"title\":{\"font\":{\"color\":\"#4D5663\"},\"text\":\"\"},\"zerolinecolor\":\"#E1E5ED\"}},                        {\"showLink\": true, \"linkText\": \"Export to plot.ly\", \"plotlyServerURL\": \"https://plot.ly\", \"responsive\": true}                    ).then(function(){\n",
       "                            \n",
       "var gd = document.getElementById('57f9a4e2-865c-40cf-ac39-d6ec202e5e93');\n",
       "var x = new MutationObserver(function (mutations, observer) {{\n",
       "        var display = window.getComputedStyle(gd).display;\n",
       "        if (!display || display === 'none') {{\n",
       "            console.log([gd, 'removed!']);\n",
       "            Plotly.purge(gd);\n",
       "            observer.disconnect();\n",
       "        }}\n",
       "}});\n",
       "\n",
       "// Listen for the removal of the full notebook cells\n",
       "var notebookContainer = gd.closest('#notebook-container');\n",
       "if (notebookContainer) {{\n",
       "    x.observe(notebookContainer, {childList: true});\n",
       "}}\n",
       "\n",
       "// Listen for the clearing of the current output cell\n",
       "var outputEl = gd.closest('.output');\n",
       "if (outputEl) {{\n",
       "    x.observe(outputEl, {childList: true});\n",
       "}}\n",
       "\n",
       "                        })                };                });            </script>        </div>"
      ]
     },
     "metadata": {},
     "output_type": "display_data"
    }
   ],
   "source": [
    "df[['A','B']].iplot(kind='spread')"
   ]
  },
  {
   "cell_type": "code",
   "execution_count": 55,
   "id": "85191d25",
   "metadata": {},
   "outputs": [
    {
     "data": {
      "application/vnd.plotly.v1+json": {
       "config": {
        "linkText": "Export to plot.ly",
        "plotlyServerURL": "https://plot.ly",
        "showLink": true
       },
       "data": [
        {
         "marker": {
          "color": [
           "rgb(255, 153, 51)",
           "rgb(55, 128, 191)",
           "rgb(50, 171, 96)",
           "rgb(128, 0, 128)",
           "rgb(219, 64, 82)",
           "rgb(0, 128, 128)",
           "rgb(255, 255, 51)",
           "rgb(128, 128, 0)",
           "rgb(251, 128, 114)",
           "rgb(128, 177, 211)"
          ],
          "line": {
           "width": 1.3
          },
          "size": [
           43,
           66,
           75,
           72,
           67,
           54,
           42,
           52,
           61,
           79,
           63,
           68,
           30,
           110,
           47,
           61,
           93,
           67,
           78,
           40,
           31,
           49,
           67,
           47,
           36,
           27,
           17,
           88,
           74,
           79,
           39,
           28,
           54,
           79,
           63,
           68,
           56,
           78,
           12,
           61,
           69,
           49,
           72,
           67,
           53,
           39,
           33,
           50,
           62,
           88,
           82,
           47,
           39,
           62,
           51,
           84,
           64,
           81,
           37,
           47,
           79,
           38,
           39,
           27,
           53,
           59,
           80,
           72,
           61,
           65,
           65,
           57,
           87,
           69,
           56,
           64,
           46,
           45,
           67,
           49,
           60,
           61,
           63,
           88,
           54,
           53,
           65,
           99,
           73,
           78,
           65,
           76,
           45,
           65,
           98,
           58,
           82,
           54,
           112,
           12
          ],
          "symbol": "circle"
         },
         "mode": "markers",
         "text": "",
         "type": "scatter",
         "x": [
          0.48979428455356877,
          1.2000787712482575,
          0.023788380464120393,
          -0.7762937541590931,
          -0.012364867282905903,
          -1.2161957246449362,
          -0.02690116005734921,
          -0.6136576494704216,
          -1.0932741606526177,
          1.3367224280535983,
          -0.21086536735247163,
          0.7004920634418149,
          0.022903232284200294,
          1.8118903731503866,
          0.03874003270713806,
          0.14207857973235602,
          -1.2664546662031808,
          1.0882638165812608,
          -0.7120729647956264,
          0.6937532377713457,
          -0.38587006015377073,
          0.7944049114081017,
          0.8902470208690971,
          -0.017596363807709636,
          -0.21123469197121414,
          -0.44522679075601096,
          0.06594417027871106,
          -0.4005156041049335,
          1.531611994137102,
          1.469053508293093,
          -0.6960757696420884,
          0.42188597213691115,
          -0.24857896565921767,
          0.35243368033595995,
          0.32289319825012025,
          1.756959477480924,
          -0.8646444846801743,
          0.7327493359184236,
          -0.05616681327469264,
          0.24137468687379302,
          0.13490316200095048,
          -0.30294439883702995,
          0.20149030418780658,
          -0.8439630384647533,
          0.9173475168512586,
          -0.7267483351185445,
          0.4551191588285759,
          -1.3050200504200984,
          -0.940424126632205,
          -0.2861436512950377,
          0.3272416090612496,
          -1.4862435821612276,
          -0.7419822477245054,
          -0.5289520199886615,
          -0.19209542834834886,
          -1.6137840913423802,
          2.5253792135126267,
          -0.36401403896536855,
          1.0560010342257284,
          1.4282679514136718,
          -1.7240519483814831,
          0.5671338747613731,
          -0.9080841728798318,
          0.31546878483673546,
          -0.11377460855602518,
          0.053496764203978336,
          0.6818028998550107,
          -1.9774449121637068,
          0.7084250781799291,
          1.5278746674917012,
          -0.9571164971445482,
          -1.3294630618845433,
          0.942272172901489,
          -0.019981281703439734,
          1.4525537255249976,
          0.027433302927381463,
          -1.8001925853232867,
          1.4426728488088858,
          -0.6965262723544774,
          1.2879984069477703,
          -1.4514103759363945,
          0.10321693798368037,
          -1.0337673090830766,
          1.2123441508341763,
          0.2816563048236678,
          -1.0116419291291963,
          1.2137608091381367,
          -0.6097424621297425,
          1.199038876047825,
          -0.14784081503360644,
          -1.0529508579837437,
          0.203716845237984,
          -1.3703913734693944,
          -1.4621189194907764,
          1.2079693890251404,
          1.0607169379613697,
          1.6860621157919298,
          -0.3043036742676254,
          1.252089094534873,
          0.8019105881421928
         ],
         "y": [
          -1.0998518931967172,
          -0.951310489501729,
          0.4961980985412946,
          -1.9465577812700667,
          0.4782546807810063,
          0.3915928924499597,
          -0.16195461581883155,
          -0.5684389432325745,
          0.7864442079773991,
          0.11786194397659192,
          0.7806483973082989,
          -0.7216593398328882,
          0.14627440175389989,
          -0.07554072415619882,
          0.014168578367290862,
          -0.6333465050786681,
          1.0127771174834996,
          1.3878021905639235,
          0.4904150562542391,
          0.2536434005385077,
          1.1786366553776157,
          -3.334302912542056,
          0.7647022080307493,
          -0.031935851656112776,
          -0.7839089589040155,
          -0.09122200998567682,
          -0.4898507459459323,
          -0.5684394463175186,
          0.11940011898377212,
          -0.19497172220308293,
          2.728343356239694,
          -0.40789330735339907,
          -0.24459607575641326,
          -0.4858707994184838,
          -0.015234217101942981,
          -0.08771777295493485,
          0.4772963643238052,
          1.4507007392664688,
          0.4061437530079583,
          0.15419502764767845,
          -0.726525983701748,
          -0.2669636603429239,
          0.9852178153304991,
          -1.29587901702008,
          -0.6664537394097019,
          -1.093155363979523,
          1.4968662243590183,
          -0.8959185628124724,
          -1.5208535704872201,
          -0.4052181341125891,
          -0.017951376963129023,
          0.9116272137945861,
          -1.6649360797874992,
          0.3040516316528378,
          -0.12186378938520936,
          1.1724212208098135,
          -1.274141257813947,
          0.11182468335506614,
          1.47499536050285,
          0.2583425826196655,
          -0.32092947933983107,
          1.0007576889539056,
          0.20795616239699127,
          -0.08665414940310559,
          0.6523377927617374,
          0.16726551027784153,
          -0.42557944492126054,
          1.3705804781599653,
          0.9989305038474585,
          -1.6823152185810062,
          -1.4777209857615803,
          -0.9939514975377667,
          -1.0574492878409467,
          -0.18781359857066682,
          0.8413247717773269,
          1.1757733216891897,
          0.2972356932010209,
          -0.28249667162063813,
          -1.3381021329751352,
          0.8454290322931972,
          -0.43718099727400006,
          0.08608827559328311,
          0.42555094905863433,
          0.06474854527759977,
          -1.7365979250057706,
          -0.6954111510725659,
          0.5943477159463276,
          -0.0624064236918547,
          -0.09311347408323536,
          -0.20864777953826144,
          -1.5057657340094361,
          0.985649019277635,
          -0.618834216881153,
          -0.24696789588479345,
          0.1741621994183457,
          -1.2990736535773484,
          -1.9746857091172834,
          0.04549424231182181,
          -0.4787536211341913,
          -1.8165952496968758
         ]
        }
       ],
       "layout": {
        "legend": {
         "bgcolor": "#F5F6F9",
         "font": {
          "color": "#4D5663"
         }
        },
        "paper_bgcolor": "#F5F6F9",
        "plot_bgcolor": "#F5F6F9",
        "template": {
         "data": {
          "bar": [
           {
            "error_x": {
             "color": "#2a3f5f"
            },
            "error_y": {
             "color": "#2a3f5f"
            },
            "marker": {
             "line": {
              "color": "#E5ECF6",
              "width": 0.5
             },
             "pattern": {
              "fillmode": "overlay",
              "size": 10,
              "solidity": 0.2
             }
            },
            "type": "bar"
           }
          ],
          "barpolar": [
           {
            "marker": {
             "line": {
              "color": "#E5ECF6",
              "width": 0.5
             },
             "pattern": {
              "fillmode": "overlay",
              "size": 10,
              "solidity": 0.2
             }
            },
            "type": "barpolar"
           }
          ],
          "carpet": [
           {
            "aaxis": {
             "endlinecolor": "#2a3f5f",
             "gridcolor": "white",
             "linecolor": "white",
             "minorgridcolor": "white",
             "startlinecolor": "#2a3f5f"
            },
            "baxis": {
             "endlinecolor": "#2a3f5f",
             "gridcolor": "white",
             "linecolor": "white",
             "minorgridcolor": "white",
             "startlinecolor": "#2a3f5f"
            },
            "type": "carpet"
           }
          ],
          "choropleth": [
           {
            "colorbar": {
             "outlinewidth": 0,
             "ticks": ""
            },
            "type": "choropleth"
           }
          ],
          "contour": [
           {
            "colorbar": {
             "outlinewidth": 0,
             "ticks": ""
            },
            "colorscale": [
             [
              0,
              "#0d0887"
             ],
             [
              0.1111111111111111,
              "#46039f"
             ],
             [
              0.2222222222222222,
              "#7201a8"
             ],
             [
              0.3333333333333333,
              "#9c179e"
             ],
             [
              0.4444444444444444,
              "#bd3786"
             ],
             [
              0.5555555555555556,
              "#d8576b"
             ],
             [
              0.6666666666666666,
              "#ed7953"
             ],
             [
              0.7777777777777778,
              "#fb9f3a"
             ],
             [
              0.8888888888888888,
              "#fdca26"
             ],
             [
              1,
              "#f0f921"
             ]
            ],
            "type": "contour"
           }
          ],
          "contourcarpet": [
           {
            "colorbar": {
             "outlinewidth": 0,
             "ticks": ""
            },
            "type": "contourcarpet"
           }
          ],
          "heatmap": [
           {
            "colorbar": {
             "outlinewidth": 0,
             "ticks": ""
            },
            "colorscale": [
             [
              0,
              "#0d0887"
             ],
             [
              0.1111111111111111,
              "#46039f"
             ],
             [
              0.2222222222222222,
              "#7201a8"
             ],
             [
              0.3333333333333333,
              "#9c179e"
             ],
             [
              0.4444444444444444,
              "#bd3786"
             ],
             [
              0.5555555555555556,
              "#d8576b"
             ],
             [
              0.6666666666666666,
              "#ed7953"
             ],
             [
              0.7777777777777778,
              "#fb9f3a"
             ],
             [
              0.8888888888888888,
              "#fdca26"
             ],
             [
              1,
              "#f0f921"
             ]
            ],
            "type": "heatmap"
           }
          ],
          "heatmapgl": [
           {
            "colorbar": {
             "outlinewidth": 0,
             "ticks": ""
            },
            "colorscale": [
             [
              0,
              "#0d0887"
             ],
             [
              0.1111111111111111,
              "#46039f"
             ],
             [
              0.2222222222222222,
              "#7201a8"
             ],
             [
              0.3333333333333333,
              "#9c179e"
             ],
             [
              0.4444444444444444,
              "#bd3786"
             ],
             [
              0.5555555555555556,
              "#d8576b"
             ],
             [
              0.6666666666666666,
              "#ed7953"
             ],
             [
              0.7777777777777778,
              "#fb9f3a"
             ],
             [
              0.8888888888888888,
              "#fdca26"
             ],
             [
              1,
              "#f0f921"
             ]
            ],
            "type": "heatmapgl"
           }
          ],
          "histogram": [
           {
            "marker": {
             "pattern": {
              "fillmode": "overlay",
              "size": 10,
              "solidity": 0.2
             }
            },
            "type": "histogram"
           }
          ],
          "histogram2d": [
           {
            "colorbar": {
             "outlinewidth": 0,
             "ticks": ""
            },
            "colorscale": [
             [
              0,
              "#0d0887"
             ],
             [
              0.1111111111111111,
              "#46039f"
             ],
             [
              0.2222222222222222,
              "#7201a8"
             ],
             [
              0.3333333333333333,
              "#9c179e"
             ],
             [
              0.4444444444444444,
              "#bd3786"
             ],
             [
              0.5555555555555556,
              "#d8576b"
             ],
             [
              0.6666666666666666,
              "#ed7953"
             ],
             [
              0.7777777777777778,
              "#fb9f3a"
             ],
             [
              0.8888888888888888,
              "#fdca26"
             ],
             [
              1,
              "#f0f921"
             ]
            ],
            "type": "histogram2d"
           }
          ],
          "histogram2dcontour": [
           {
            "colorbar": {
             "outlinewidth": 0,
             "ticks": ""
            },
            "colorscale": [
             [
              0,
              "#0d0887"
             ],
             [
              0.1111111111111111,
              "#46039f"
             ],
             [
              0.2222222222222222,
              "#7201a8"
             ],
             [
              0.3333333333333333,
              "#9c179e"
             ],
             [
              0.4444444444444444,
              "#bd3786"
             ],
             [
              0.5555555555555556,
              "#d8576b"
             ],
             [
              0.6666666666666666,
              "#ed7953"
             ],
             [
              0.7777777777777778,
              "#fb9f3a"
             ],
             [
              0.8888888888888888,
              "#fdca26"
             ],
             [
              1,
              "#f0f921"
             ]
            ],
            "type": "histogram2dcontour"
           }
          ],
          "mesh3d": [
           {
            "colorbar": {
             "outlinewidth": 0,
             "ticks": ""
            },
            "type": "mesh3d"
           }
          ],
          "parcoords": [
           {
            "line": {
             "colorbar": {
              "outlinewidth": 0,
              "ticks": ""
             }
            },
            "type": "parcoords"
           }
          ],
          "pie": [
           {
            "automargin": true,
            "type": "pie"
           }
          ],
          "scatter": [
           {
            "marker": {
             "colorbar": {
              "outlinewidth": 0,
              "ticks": ""
             }
            },
            "type": "scatter"
           }
          ],
          "scatter3d": [
           {
            "line": {
             "colorbar": {
              "outlinewidth": 0,
              "ticks": ""
             }
            },
            "marker": {
             "colorbar": {
              "outlinewidth": 0,
              "ticks": ""
             }
            },
            "type": "scatter3d"
           }
          ],
          "scattercarpet": [
           {
            "marker": {
             "colorbar": {
              "outlinewidth": 0,
              "ticks": ""
             }
            },
            "type": "scattercarpet"
           }
          ],
          "scattergeo": [
           {
            "marker": {
             "colorbar": {
              "outlinewidth": 0,
              "ticks": ""
             }
            },
            "type": "scattergeo"
           }
          ],
          "scattergl": [
           {
            "marker": {
             "colorbar": {
              "outlinewidth": 0,
              "ticks": ""
             }
            },
            "type": "scattergl"
           }
          ],
          "scattermapbox": [
           {
            "marker": {
             "colorbar": {
              "outlinewidth": 0,
              "ticks": ""
             }
            },
            "type": "scattermapbox"
           }
          ],
          "scatterpolar": [
           {
            "marker": {
             "colorbar": {
              "outlinewidth": 0,
              "ticks": ""
             }
            },
            "type": "scatterpolar"
           }
          ],
          "scatterpolargl": [
           {
            "marker": {
             "colorbar": {
              "outlinewidth": 0,
              "ticks": ""
             }
            },
            "type": "scatterpolargl"
           }
          ],
          "scatterternary": [
           {
            "marker": {
             "colorbar": {
              "outlinewidth": 0,
              "ticks": ""
             }
            },
            "type": "scatterternary"
           }
          ],
          "surface": [
           {
            "colorbar": {
             "outlinewidth": 0,
             "ticks": ""
            },
            "colorscale": [
             [
              0,
              "#0d0887"
             ],
             [
              0.1111111111111111,
              "#46039f"
             ],
             [
              0.2222222222222222,
              "#7201a8"
             ],
             [
              0.3333333333333333,
              "#9c179e"
             ],
             [
              0.4444444444444444,
              "#bd3786"
             ],
             [
              0.5555555555555556,
              "#d8576b"
             ],
             [
              0.6666666666666666,
              "#ed7953"
             ],
             [
              0.7777777777777778,
              "#fb9f3a"
             ],
             [
              0.8888888888888888,
              "#fdca26"
             ],
             [
              1,
              "#f0f921"
             ]
            ],
            "type": "surface"
           }
          ],
          "table": [
           {
            "cells": {
             "fill": {
              "color": "#EBF0F8"
             },
             "line": {
              "color": "white"
             }
            },
            "header": {
             "fill": {
              "color": "#C8D4E3"
             },
             "line": {
              "color": "white"
             }
            },
            "type": "table"
           }
          ]
         },
         "layout": {
          "annotationdefaults": {
           "arrowcolor": "#2a3f5f",
           "arrowhead": 0,
           "arrowwidth": 1
          },
          "autotypenumbers": "strict",
          "coloraxis": {
           "colorbar": {
            "outlinewidth": 0,
            "ticks": ""
           }
          },
          "colorscale": {
           "diverging": [
            [
             0,
             "#8e0152"
            ],
            [
             0.1,
             "#c51b7d"
            ],
            [
             0.2,
             "#de77ae"
            ],
            [
             0.3,
             "#f1b6da"
            ],
            [
             0.4,
             "#fde0ef"
            ],
            [
             0.5,
             "#f7f7f7"
            ],
            [
             0.6,
             "#e6f5d0"
            ],
            [
             0.7,
             "#b8e186"
            ],
            [
             0.8,
             "#7fbc41"
            ],
            [
             0.9,
             "#4d9221"
            ],
            [
             1,
             "#276419"
            ]
           ],
           "sequential": [
            [
             0,
             "#0d0887"
            ],
            [
             0.1111111111111111,
             "#46039f"
            ],
            [
             0.2222222222222222,
             "#7201a8"
            ],
            [
             0.3333333333333333,
             "#9c179e"
            ],
            [
             0.4444444444444444,
             "#bd3786"
            ],
            [
             0.5555555555555556,
             "#d8576b"
            ],
            [
             0.6666666666666666,
             "#ed7953"
            ],
            [
             0.7777777777777778,
             "#fb9f3a"
            ],
            [
             0.8888888888888888,
             "#fdca26"
            ],
            [
             1,
             "#f0f921"
            ]
           ],
           "sequentialminus": [
            [
             0,
             "#0d0887"
            ],
            [
             0.1111111111111111,
             "#46039f"
            ],
            [
             0.2222222222222222,
             "#7201a8"
            ],
            [
             0.3333333333333333,
             "#9c179e"
            ],
            [
             0.4444444444444444,
             "#bd3786"
            ],
            [
             0.5555555555555556,
             "#d8576b"
            ],
            [
             0.6666666666666666,
             "#ed7953"
            ],
            [
             0.7777777777777778,
             "#fb9f3a"
            ],
            [
             0.8888888888888888,
             "#fdca26"
            ],
            [
             1,
             "#f0f921"
            ]
           ]
          },
          "colorway": [
           "#636efa",
           "#EF553B",
           "#00cc96",
           "#ab63fa",
           "#FFA15A",
           "#19d3f3",
           "#FF6692",
           "#B6E880",
           "#FF97FF",
           "#FECB52"
          ],
          "font": {
           "color": "#2a3f5f"
          },
          "geo": {
           "bgcolor": "white",
           "lakecolor": "white",
           "landcolor": "#E5ECF6",
           "showlakes": true,
           "showland": true,
           "subunitcolor": "white"
          },
          "hoverlabel": {
           "align": "left"
          },
          "hovermode": "closest",
          "mapbox": {
           "style": "light"
          },
          "paper_bgcolor": "white",
          "plot_bgcolor": "#E5ECF6",
          "polar": {
           "angularaxis": {
            "gridcolor": "white",
            "linecolor": "white",
            "ticks": ""
           },
           "bgcolor": "#E5ECF6",
           "radialaxis": {
            "gridcolor": "white",
            "linecolor": "white",
            "ticks": ""
           }
          },
          "scene": {
           "xaxis": {
            "backgroundcolor": "#E5ECF6",
            "gridcolor": "white",
            "gridwidth": 2,
            "linecolor": "white",
            "showbackground": true,
            "ticks": "",
            "zerolinecolor": "white"
           },
           "yaxis": {
            "backgroundcolor": "#E5ECF6",
            "gridcolor": "white",
            "gridwidth": 2,
            "linecolor": "white",
            "showbackground": true,
            "ticks": "",
            "zerolinecolor": "white"
           },
           "zaxis": {
            "backgroundcolor": "#E5ECF6",
            "gridcolor": "white",
            "gridwidth": 2,
            "linecolor": "white",
            "showbackground": true,
            "ticks": "",
            "zerolinecolor": "white"
           }
          },
          "shapedefaults": {
           "line": {
            "color": "#2a3f5f"
           }
          },
          "ternary": {
           "aaxis": {
            "gridcolor": "white",
            "linecolor": "white",
            "ticks": ""
           },
           "baxis": {
            "gridcolor": "white",
            "linecolor": "white",
            "ticks": ""
           },
           "bgcolor": "#E5ECF6",
           "caxis": {
            "gridcolor": "white",
            "linecolor": "white",
            "ticks": ""
           }
          },
          "title": {
           "x": 0.05
          },
          "xaxis": {
           "automargin": true,
           "gridcolor": "white",
           "linecolor": "white",
           "ticks": "",
           "title": {
            "standoff": 15
           },
           "zerolinecolor": "white",
           "zerolinewidth": 2
          },
          "yaxis": {
           "automargin": true,
           "gridcolor": "white",
           "linecolor": "white",
           "ticks": "",
           "title": {
            "standoff": 15
           },
           "zerolinecolor": "white",
           "zerolinewidth": 2
          }
         }
        },
        "title": {
         "font": {
          "color": "#4D5663"
         }
        },
        "xaxis": {
         "gridcolor": "#E1E5ED",
         "showgrid": true,
         "tickfont": {
          "color": "#4D5663"
         },
         "title": {
          "font": {
           "color": "#4D5663"
          },
          "text": ""
         },
         "zerolinecolor": "#E1E5ED"
        },
        "yaxis": {
         "gridcolor": "#E1E5ED",
         "showgrid": true,
         "tickfont": {
          "color": "#4D5663"
         },
         "title": {
          "font": {
           "color": "#4D5663"
          },
          "text": ""
         },
         "zerolinecolor": "#E1E5ED"
        }
       }
      },
      "text/html": [
       "<div>                            <div id=\"556662a5-b895-4a18-83b5-2f8fa7f0fd37\" class=\"plotly-graph-div\" style=\"height:525px; width:100%;\"></div>            <script type=\"text/javascript\">                require([\"plotly\"], function(Plotly) {                    window.PLOTLYENV=window.PLOTLYENV || {};\n",
       "                    window.PLOTLYENV.BASE_URL='https://plot.ly';                                    if (document.getElementById(\"556662a5-b895-4a18-83b5-2f8fa7f0fd37\")) {                    Plotly.newPlot(                        \"556662a5-b895-4a18-83b5-2f8fa7f0fd37\",                        [{\"marker\":{\"color\":[\"rgb(255, 153, 51)\",\"rgb(55, 128, 191)\",\"rgb(50, 171, 96)\",\"rgb(128, 0, 128)\",\"rgb(219, 64, 82)\",\"rgb(0, 128, 128)\",\"rgb(255, 255, 51)\",\"rgb(128, 128, 0)\",\"rgb(251, 128, 114)\",\"rgb(128, 177, 211)\"],\"line\":{\"width\":1.3},\"size\":[43,66,75,72,67,54,42,52,61,79,63,68,30,110,47,61,93,67,78,40,31,49,67,47,36,27,17,88,74,79,39,28,54,79,63,68,56,78,12,61,69,49,72,67,53,39,33,50,62,88,82,47,39,62,51,84,64,81,37,47,79,38,39,27,53,59,80,72,61,65,65,57,87,69,56,64,46,45,67,49,60,61,63,88,54,53,65,99,73,78,65,76,45,65,98,58,82,54,112,12],\"symbol\":\"circle\"},\"mode\":\"markers\",\"text\":\"\",\"x\":[0.48979428455356877,1.2000787712482575,0.023788380464120393,-0.7762937541590931,-0.012364867282905903,-1.2161957246449362,-0.02690116005734921,-0.6136576494704216,-1.0932741606526177,1.3367224280535983,-0.21086536735247163,0.7004920634418149,0.022903232284200294,1.8118903731503866,0.03874003270713806,0.14207857973235602,-1.2664546662031808,1.0882638165812608,-0.7120729647956264,0.6937532377713457,-0.38587006015377073,0.7944049114081017,0.8902470208690971,-0.017596363807709636,-0.21123469197121414,-0.44522679075601096,0.06594417027871106,-0.4005156041049335,1.531611994137102,1.469053508293093,-0.6960757696420884,0.42188597213691115,-0.24857896565921767,0.35243368033595995,0.32289319825012025,1.756959477480924,-0.8646444846801743,0.7327493359184236,-0.05616681327469264,0.24137468687379302,0.13490316200095048,-0.30294439883702995,0.20149030418780658,-0.8439630384647533,0.9173475168512586,-0.7267483351185445,0.4551191588285759,-1.3050200504200984,-0.940424126632205,-0.2861436512950377,0.3272416090612496,-1.4862435821612276,-0.7419822477245054,-0.5289520199886615,-0.19209542834834886,-1.6137840913423802,2.5253792135126267,-0.36401403896536855,1.0560010342257284,1.4282679514136718,-1.7240519483814831,0.5671338747613731,-0.9080841728798318,0.31546878483673546,-0.11377460855602518,0.053496764203978336,0.6818028998550107,-1.9774449121637068,0.7084250781799291,1.5278746674917012,-0.9571164971445482,-1.3294630618845433,0.942272172901489,-0.019981281703439734,1.4525537255249976,0.027433302927381463,-1.8001925853232867,1.4426728488088858,-0.6965262723544774,1.2879984069477703,-1.4514103759363945,0.10321693798368037,-1.0337673090830766,1.2123441508341763,0.2816563048236678,-1.0116419291291963,1.2137608091381367,-0.6097424621297425,1.199038876047825,-0.14784081503360644,-1.0529508579837437,0.203716845237984,-1.3703913734693944,-1.4621189194907764,1.2079693890251404,1.0607169379613697,1.6860621157919298,-0.3043036742676254,1.252089094534873,0.8019105881421928],\"y\":[-1.0998518931967172,-0.951310489501729,0.4961980985412946,-1.9465577812700667,0.4782546807810063,0.3915928924499597,-0.16195461581883155,-0.5684389432325745,0.7864442079773991,0.11786194397659192,0.7806483973082989,-0.7216593398328882,0.14627440175389989,-0.07554072415619882,0.014168578367290862,-0.6333465050786681,1.0127771174834996,1.3878021905639235,0.4904150562542391,0.2536434005385077,1.1786366553776157,-3.334302912542056,0.7647022080307493,-0.031935851656112776,-0.7839089589040155,-0.09122200998567682,-0.4898507459459323,-0.5684394463175186,0.11940011898377212,-0.19497172220308293,2.728343356239694,-0.40789330735339907,-0.24459607575641326,-0.4858707994184838,-0.015234217101942981,-0.08771777295493485,0.4772963643238052,1.4507007392664688,0.4061437530079583,0.15419502764767845,-0.726525983701748,-0.2669636603429239,0.9852178153304991,-1.29587901702008,-0.6664537394097019,-1.093155363979523,1.4968662243590183,-0.8959185628124724,-1.5208535704872201,-0.4052181341125891,-0.017951376963129023,0.9116272137945861,-1.6649360797874992,0.3040516316528378,-0.12186378938520936,1.1724212208098135,-1.274141257813947,0.11182468335506614,1.47499536050285,0.2583425826196655,-0.32092947933983107,1.0007576889539056,0.20795616239699127,-0.08665414940310559,0.6523377927617374,0.16726551027784153,-0.42557944492126054,1.3705804781599653,0.9989305038474585,-1.6823152185810062,-1.4777209857615803,-0.9939514975377667,-1.0574492878409467,-0.18781359857066682,0.8413247717773269,1.1757733216891897,0.2972356932010209,-0.28249667162063813,-1.3381021329751352,0.8454290322931972,-0.43718099727400006,0.08608827559328311,0.42555094905863433,0.06474854527759977,-1.7365979250057706,-0.6954111510725659,0.5943477159463276,-0.0624064236918547,-0.09311347408323536,-0.20864777953826144,-1.5057657340094361,0.985649019277635,-0.618834216881153,-0.24696789588479345,0.1741621994183457,-1.2990736535773484,-1.9746857091172834,0.04549424231182181,-0.4787536211341913,-1.8165952496968758],\"type\":\"scatter\"}],                        {\"legend\":{\"bgcolor\":\"#F5F6F9\",\"font\":{\"color\":\"#4D5663\"}},\"paper_bgcolor\":\"#F5F6F9\",\"plot_bgcolor\":\"#F5F6F9\",\"template\":{\"data\":{\"barpolar\":[{\"marker\":{\"line\":{\"color\":\"#E5ECF6\",\"width\":0.5},\"pattern\":{\"fillmode\":\"overlay\",\"size\":10,\"solidity\":0.2}},\"type\":\"barpolar\"}],\"bar\":[{\"error_x\":{\"color\":\"#2a3f5f\"},\"error_y\":{\"color\":\"#2a3f5f\"},\"marker\":{\"line\":{\"color\":\"#E5ECF6\",\"width\":0.5},\"pattern\":{\"fillmode\":\"overlay\",\"size\":10,\"solidity\":0.2}},\"type\":\"bar\"}],\"carpet\":[{\"aaxis\":{\"endlinecolor\":\"#2a3f5f\",\"gridcolor\":\"white\",\"linecolor\":\"white\",\"minorgridcolor\":\"white\",\"startlinecolor\":\"#2a3f5f\"},\"baxis\":{\"endlinecolor\":\"#2a3f5f\",\"gridcolor\":\"white\",\"linecolor\":\"white\",\"minorgridcolor\":\"white\",\"startlinecolor\":\"#2a3f5f\"},\"type\":\"carpet\"}],\"choropleth\":[{\"colorbar\":{\"outlinewidth\":0,\"ticks\":\"\"},\"type\":\"choropleth\"}],\"contourcarpet\":[{\"colorbar\":{\"outlinewidth\":0,\"ticks\":\"\"},\"type\":\"contourcarpet\"}],\"contour\":[{\"colorbar\":{\"outlinewidth\":0,\"ticks\":\"\"},\"colorscale\":[[0.0,\"#0d0887\"],[0.1111111111111111,\"#46039f\"],[0.2222222222222222,\"#7201a8\"],[0.3333333333333333,\"#9c179e\"],[0.4444444444444444,\"#bd3786\"],[0.5555555555555556,\"#d8576b\"],[0.6666666666666666,\"#ed7953\"],[0.7777777777777778,\"#fb9f3a\"],[0.8888888888888888,\"#fdca26\"],[1.0,\"#f0f921\"]],\"type\":\"contour\"}],\"heatmapgl\":[{\"colorbar\":{\"outlinewidth\":0,\"ticks\":\"\"},\"colorscale\":[[0.0,\"#0d0887\"],[0.1111111111111111,\"#46039f\"],[0.2222222222222222,\"#7201a8\"],[0.3333333333333333,\"#9c179e\"],[0.4444444444444444,\"#bd3786\"],[0.5555555555555556,\"#d8576b\"],[0.6666666666666666,\"#ed7953\"],[0.7777777777777778,\"#fb9f3a\"],[0.8888888888888888,\"#fdca26\"],[1.0,\"#f0f921\"]],\"type\":\"heatmapgl\"}],\"heatmap\":[{\"colorbar\":{\"outlinewidth\":0,\"ticks\":\"\"},\"colorscale\":[[0.0,\"#0d0887\"],[0.1111111111111111,\"#46039f\"],[0.2222222222222222,\"#7201a8\"],[0.3333333333333333,\"#9c179e\"],[0.4444444444444444,\"#bd3786\"],[0.5555555555555556,\"#d8576b\"],[0.6666666666666666,\"#ed7953\"],[0.7777777777777778,\"#fb9f3a\"],[0.8888888888888888,\"#fdca26\"],[1.0,\"#f0f921\"]],\"type\":\"heatmap\"}],\"histogram2dcontour\":[{\"colorbar\":{\"outlinewidth\":0,\"ticks\":\"\"},\"colorscale\":[[0.0,\"#0d0887\"],[0.1111111111111111,\"#46039f\"],[0.2222222222222222,\"#7201a8\"],[0.3333333333333333,\"#9c179e\"],[0.4444444444444444,\"#bd3786\"],[0.5555555555555556,\"#d8576b\"],[0.6666666666666666,\"#ed7953\"],[0.7777777777777778,\"#fb9f3a\"],[0.8888888888888888,\"#fdca26\"],[1.0,\"#f0f921\"]],\"type\":\"histogram2dcontour\"}],\"histogram2d\":[{\"colorbar\":{\"outlinewidth\":0,\"ticks\":\"\"},\"colorscale\":[[0.0,\"#0d0887\"],[0.1111111111111111,\"#46039f\"],[0.2222222222222222,\"#7201a8\"],[0.3333333333333333,\"#9c179e\"],[0.4444444444444444,\"#bd3786\"],[0.5555555555555556,\"#d8576b\"],[0.6666666666666666,\"#ed7953\"],[0.7777777777777778,\"#fb9f3a\"],[0.8888888888888888,\"#fdca26\"],[1.0,\"#f0f921\"]],\"type\":\"histogram2d\"}],\"histogram\":[{\"marker\":{\"pattern\":{\"fillmode\":\"overlay\",\"size\":10,\"solidity\":0.2}},\"type\":\"histogram\"}],\"mesh3d\":[{\"colorbar\":{\"outlinewidth\":0,\"ticks\":\"\"},\"type\":\"mesh3d\"}],\"parcoords\":[{\"line\":{\"colorbar\":{\"outlinewidth\":0,\"ticks\":\"\"}},\"type\":\"parcoords\"}],\"pie\":[{\"automargin\":true,\"type\":\"pie\"}],\"scatter3d\":[{\"line\":{\"colorbar\":{\"outlinewidth\":0,\"ticks\":\"\"}},\"marker\":{\"colorbar\":{\"outlinewidth\":0,\"ticks\":\"\"}},\"type\":\"scatter3d\"}],\"scattercarpet\":[{\"marker\":{\"colorbar\":{\"outlinewidth\":0,\"ticks\":\"\"}},\"type\":\"scattercarpet\"}],\"scattergeo\":[{\"marker\":{\"colorbar\":{\"outlinewidth\":0,\"ticks\":\"\"}},\"type\":\"scattergeo\"}],\"scattergl\":[{\"marker\":{\"colorbar\":{\"outlinewidth\":0,\"ticks\":\"\"}},\"type\":\"scattergl\"}],\"scattermapbox\":[{\"marker\":{\"colorbar\":{\"outlinewidth\":0,\"ticks\":\"\"}},\"type\":\"scattermapbox\"}],\"scatterpolargl\":[{\"marker\":{\"colorbar\":{\"outlinewidth\":0,\"ticks\":\"\"}},\"type\":\"scatterpolargl\"}],\"scatterpolar\":[{\"marker\":{\"colorbar\":{\"outlinewidth\":0,\"ticks\":\"\"}},\"type\":\"scatterpolar\"}],\"scatter\":[{\"marker\":{\"colorbar\":{\"outlinewidth\":0,\"ticks\":\"\"}},\"type\":\"scatter\"}],\"scatterternary\":[{\"marker\":{\"colorbar\":{\"outlinewidth\":0,\"ticks\":\"\"}},\"type\":\"scatterternary\"}],\"surface\":[{\"colorbar\":{\"outlinewidth\":0,\"ticks\":\"\"},\"colorscale\":[[0.0,\"#0d0887\"],[0.1111111111111111,\"#46039f\"],[0.2222222222222222,\"#7201a8\"],[0.3333333333333333,\"#9c179e\"],[0.4444444444444444,\"#bd3786\"],[0.5555555555555556,\"#d8576b\"],[0.6666666666666666,\"#ed7953\"],[0.7777777777777778,\"#fb9f3a\"],[0.8888888888888888,\"#fdca26\"],[1.0,\"#f0f921\"]],\"type\":\"surface\"}],\"table\":[{\"cells\":{\"fill\":{\"color\":\"#EBF0F8\"},\"line\":{\"color\":\"white\"}},\"header\":{\"fill\":{\"color\":\"#C8D4E3\"},\"line\":{\"color\":\"white\"}},\"type\":\"table\"}]},\"layout\":{\"annotationdefaults\":{\"arrowcolor\":\"#2a3f5f\",\"arrowhead\":0,\"arrowwidth\":1},\"autotypenumbers\":\"strict\",\"coloraxis\":{\"colorbar\":{\"outlinewidth\":0,\"ticks\":\"\"}},\"colorscale\":{\"diverging\":[[0,\"#8e0152\"],[0.1,\"#c51b7d\"],[0.2,\"#de77ae\"],[0.3,\"#f1b6da\"],[0.4,\"#fde0ef\"],[0.5,\"#f7f7f7\"],[0.6,\"#e6f5d0\"],[0.7,\"#b8e186\"],[0.8,\"#7fbc41\"],[0.9,\"#4d9221\"],[1,\"#276419\"]],\"sequential\":[[0.0,\"#0d0887\"],[0.1111111111111111,\"#46039f\"],[0.2222222222222222,\"#7201a8\"],[0.3333333333333333,\"#9c179e\"],[0.4444444444444444,\"#bd3786\"],[0.5555555555555556,\"#d8576b\"],[0.6666666666666666,\"#ed7953\"],[0.7777777777777778,\"#fb9f3a\"],[0.8888888888888888,\"#fdca26\"],[1.0,\"#f0f921\"]],\"sequentialminus\":[[0.0,\"#0d0887\"],[0.1111111111111111,\"#46039f\"],[0.2222222222222222,\"#7201a8\"],[0.3333333333333333,\"#9c179e\"],[0.4444444444444444,\"#bd3786\"],[0.5555555555555556,\"#d8576b\"],[0.6666666666666666,\"#ed7953\"],[0.7777777777777778,\"#fb9f3a\"],[0.8888888888888888,\"#fdca26\"],[1.0,\"#f0f921\"]]},\"colorway\":[\"#636efa\",\"#EF553B\",\"#00cc96\",\"#ab63fa\",\"#FFA15A\",\"#19d3f3\",\"#FF6692\",\"#B6E880\",\"#FF97FF\",\"#FECB52\"],\"font\":{\"color\":\"#2a3f5f\"},\"geo\":{\"bgcolor\":\"white\",\"lakecolor\":\"white\",\"landcolor\":\"#E5ECF6\",\"showlakes\":true,\"showland\":true,\"subunitcolor\":\"white\"},\"hoverlabel\":{\"align\":\"left\"},\"hovermode\":\"closest\",\"mapbox\":{\"style\":\"light\"},\"paper_bgcolor\":\"white\",\"plot_bgcolor\":\"#E5ECF6\",\"polar\":{\"angularaxis\":{\"gridcolor\":\"white\",\"linecolor\":\"white\",\"ticks\":\"\"},\"bgcolor\":\"#E5ECF6\",\"radialaxis\":{\"gridcolor\":\"white\",\"linecolor\":\"white\",\"ticks\":\"\"}},\"scene\":{\"xaxis\":{\"backgroundcolor\":\"#E5ECF6\",\"gridcolor\":\"white\",\"gridwidth\":2,\"linecolor\":\"white\",\"showbackground\":true,\"ticks\":\"\",\"zerolinecolor\":\"white\"},\"yaxis\":{\"backgroundcolor\":\"#E5ECF6\",\"gridcolor\":\"white\",\"gridwidth\":2,\"linecolor\":\"white\",\"showbackground\":true,\"ticks\":\"\",\"zerolinecolor\":\"white\"},\"zaxis\":{\"backgroundcolor\":\"#E5ECF6\",\"gridcolor\":\"white\",\"gridwidth\":2,\"linecolor\":\"white\",\"showbackground\":true,\"ticks\":\"\",\"zerolinecolor\":\"white\"}},\"shapedefaults\":{\"line\":{\"color\":\"#2a3f5f\"}},\"ternary\":{\"aaxis\":{\"gridcolor\":\"white\",\"linecolor\":\"white\",\"ticks\":\"\"},\"baxis\":{\"gridcolor\":\"white\",\"linecolor\":\"white\",\"ticks\":\"\"},\"bgcolor\":\"#E5ECF6\",\"caxis\":{\"gridcolor\":\"white\",\"linecolor\":\"white\",\"ticks\":\"\"}},\"title\":{\"x\":0.05},\"xaxis\":{\"automargin\":true,\"gridcolor\":\"white\",\"linecolor\":\"white\",\"ticks\":\"\",\"title\":{\"standoff\":15},\"zerolinecolor\":\"white\",\"zerolinewidth\":2},\"yaxis\":{\"automargin\":true,\"gridcolor\":\"white\",\"linecolor\":\"white\",\"ticks\":\"\",\"title\":{\"standoff\":15},\"zerolinecolor\":\"white\",\"zerolinewidth\":2}}},\"title\":{\"font\":{\"color\":\"#4D5663\"}},\"xaxis\":{\"gridcolor\":\"#E1E5ED\",\"showgrid\":true,\"tickfont\":{\"color\":\"#4D5663\"},\"title\":{\"font\":{\"color\":\"#4D5663\"},\"text\":\"\"},\"zerolinecolor\":\"#E1E5ED\"},\"yaxis\":{\"gridcolor\":\"#E1E5ED\",\"showgrid\":true,\"tickfont\":{\"color\":\"#4D5663\"},\"title\":{\"font\":{\"color\":\"#4D5663\"},\"text\":\"\"},\"zerolinecolor\":\"#E1E5ED\"}},                        {\"showLink\": true, \"linkText\": \"Export to plot.ly\", \"plotlyServerURL\": \"https://plot.ly\", \"responsive\": true}                    ).then(function(){\n",
       "                            \n",
       "var gd = document.getElementById('556662a5-b895-4a18-83b5-2f8fa7f0fd37');\n",
       "var x = new MutationObserver(function (mutations, observer) {{\n",
       "        var display = window.getComputedStyle(gd).display;\n",
       "        if (!display || display === 'none') {{\n",
       "            console.log([gd, 'removed!']);\n",
       "            Plotly.purge(gd);\n",
       "            observer.disconnect();\n",
       "        }}\n",
       "}});\n",
       "\n",
       "// Listen for the removal of the full notebook cells\n",
       "var notebookContainer = gd.closest('#notebook-container');\n",
       "if (notebookContainer) {{\n",
       "    x.observe(notebookContainer, {childList: true});\n",
       "}}\n",
       "\n",
       "// Listen for the clearing of the current output cell\n",
       "var outputEl = gd.closest('.output');\n",
       "if (outputEl) {{\n",
       "    x.observe(outputEl, {childList: true});\n",
       "}}\n",
       "\n",
       "                        })                };                });            </script>        </div>"
      ]
     },
     "metadata": {},
     "output_type": "display_data"
    }
   ],
   "source": [
    "df.iplot(kind='bubble', x='A',y='B', size = 'C')"
   ]
  },
  {
   "cell_type": "code",
   "execution_count": 56,
   "id": "7ce7a084",
   "metadata": {},
   "outputs": [
    {
     "data": {
      "application/vnd.plotly.v1+json": {
       "config": {
        "linkText": "Export to plot.ly",
        "plotlyServerURL": "https://plot.ly",
        "showLink": true
       },
       "data": [
        {
         "histfunc": "count",
         "histnorm": "",
         "marker": {
          "color": "rgba(255, 153, 51, 1.0)",
          "line": {
           "color": "#4D5663",
           "width": 1.3
          }
         },
         "name": "A",
         "nbinsx": 10,
         "opacity": 0.8,
         "orientation": "v",
         "type": "histogram",
         "x": [
          0.48979428455356877,
          1.2000787712482575,
          0.023788380464120393,
          -0.7762937541590931,
          -0.012364867282905903,
          -1.2161957246449362,
          -0.02690116005734921,
          -0.6136576494704216,
          -1.0932741606526177,
          1.3367224280535983,
          -0.21086536735247163,
          0.7004920634418149,
          0.022903232284200294,
          1.8118903731503866,
          0.03874003270713806,
          0.14207857973235602,
          -1.2664546662031808,
          1.0882638165812608,
          -0.7120729647956264,
          0.6937532377713457,
          -0.38587006015377073,
          0.7944049114081017,
          0.8902470208690971,
          -0.017596363807709636,
          -0.21123469197121414,
          -0.44522679075601096,
          0.06594417027871106,
          -0.4005156041049335,
          1.531611994137102,
          1.469053508293093,
          -0.6960757696420884,
          0.42188597213691115,
          -0.24857896565921767,
          0.35243368033595995,
          0.32289319825012025,
          1.756959477480924,
          -0.8646444846801743,
          0.7327493359184236,
          -0.05616681327469264,
          0.24137468687379302,
          0.13490316200095048,
          -0.30294439883702995,
          0.20149030418780658,
          -0.8439630384647533,
          0.9173475168512586,
          -0.7267483351185445,
          0.4551191588285759,
          -1.3050200504200984,
          -0.940424126632205,
          -0.2861436512950377,
          0.3272416090612496,
          -1.4862435821612276,
          -0.7419822477245054,
          -0.5289520199886615,
          -0.19209542834834886,
          -1.6137840913423802,
          2.5253792135126267,
          -0.36401403896536855,
          1.0560010342257284,
          1.4282679514136718,
          -1.7240519483814831,
          0.5671338747613731,
          -0.9080841728798318,
          0.31546878483673546,
          -0.11377460855602518,
          0.053496764203978336,
          0.6818028998550107,
          -1.9774449121637068,
          0.7084250781799291,
          1.5278746674917012,
          -0.9571164971445482,
          -1.3294630618845433,
          0.942272172901489,
          -0.019981281703439734,
          1.4525537255249976,
          0.027433302927381463,
          -1.8001925853232867,
          1.4426728488088858,
          -0.6965262723544774,
          1.2879984069477703,
          -1.4514103759363945,
          0.10321693798368037,
          -1.0337673090830766,
          1.2123441508341763,
          0.2816563048236678,
          -1.0116419291291963,
          1.2137608091381367,
          -0.6097424621297425,
          1.199038876047825,
          -0.14784081503360644,
          -1.0529508579837437,
          0.203716845237984,
          -1.3703913734693944,
          -1.4621189194907764,
          1.2079693890251404,
          1.0607169379613697,
          1.6860621157919298,
          -0.3043036742676254,
          1.252089094534873,
          0.8019105881421928
         ],
         "xaxis": "x",
         "yaxis": "y"
        },
        {
         "line": {
          "color": "rgba(128, 128, 128, 1.0)",
          "dash": "solid",
          "shape": "linear",
          "width": 1.3
         },
         "marker": {
          "size": 2,
          "symbol": "circle"
         },
         "mode": "markers",
         "name": "A",
         "text": "",
         "type": "scatter",
         "x": [
          -1.0998518931967172,
          -0.951310489501729,
          0.4961980985412946,
          -1.9465577812700667,
          0.4782546807810063,
          0.3915928924499597,
          -0.16195461581883155,
          -0.5684389432325745,
          0.7864442079773991,
          0.11786194397659192,
          0.7806483973082989,
          -0.7216593398328882,
          0.14627440175389989,
          -0.07554072415619882,
          0.014168578367290862,
          -0.6333465050786681,
          1.0127771174834996,
          1.3878021905639235,
          0.4904150562542391,
          0.2536434005385077,
          1.1786366553776157,
          -3.334302912542056,
          0.7647022080307493,
          -0.031935851656112776,
          -0.7839089589040155,
          -0.09122200998567682,
          -0.4898507459459323,
          -0.5684394463175186,
          0.11940011898377212,
          -0.19497172220308293,
          2.728343356239694,
          -0.40789330735339907,
          -0.24459607575641326,
          -0.4858707994184838,
          -0.015234217101942981,
          -0.08771777295493485,
          0.4772963643238052,
          1.4507007392664688,
          0.4061437530079583,
          0.15419502764767845,
          -0.726525983701748,
          -0.2669636603429239,
          0.9852178153304991,
          -1.29587901702008,
          -0.6664537394097019,
          -1.093155363979523,
          1.4968662243590183,
          -0.8959185628124724,
          -1.5208535704872201,
          -0.4052181341125891,
          -0.017951376963129023,
          0.9116272137945861,
          -1.6649360797874992,
          0.3040516316528378,
          -0.12186378938520936,
          1.1724212208098135,
          -1.274141257813947,
          0.11182468335506614,
          1.47499536050285,
          0.2583425826196655,
          -0.32092947933983107,
          1.0007576889539056,
          0.20795616239699127,
          -0.08665414940310559,
          0.6523377927617374,
          0.16726551027784153,
          -0.42557944492126054,
          1.3705804781599653,
          0.9989305038474585,
          -1.6823152185810062,
          -1.4777209857615803,
          -0.9939514975377667,
          -1.0574492878409467,
          -0.18781359857066682,
          0.8413247717773269,
          1.1757733216891897,
          0.2972356932010209,
          -0.28249667162063813,
          -1.3381021329751352,
          0.8454290322931972,
          -0.43718099727400006,
          0.08608827559328311,
          0.42555094905863433,
          0.06474854527759977,
          -1.7365979250057706,
          -0.6954111510725659,
          0.5943477159463276,
          -0.0624064236918547,
          -0.09311347408323536,
          -0.20864777953826144,
          -1.5057657340094361,
          0.985649019277635,
          -0.618834216881153,
          -0.24696789588479345,
          0.1741621994183457,
          -1.2990736535773484,
          -1.9746857091172834,
          0.04549424231182181,
          -0.4787536211341913,
          -1.8165952496968758
         ],
         "xaxis": "x2",
         "y": [
          0.48979428455356877,
          1.2000787712482575,
          0.023788380464120393,
          -0.7762937541590931,
          -0.012364867282905903,
          -1.2161957246449362,
          -0.02690116005734921,
          -0.6136576494704216,
          -1.0932741606526177,
          1.3367224280535983,
          -0.21086536735247163,
          0.7004920634418149,
          0.022903232284200294,
          1.8118903731503866,
          0.03874003270713806,
          0.14207857973235602,
          -1.2664546662031808,
          1.0882638165812608,
          -0.7120729647956264,
          0.6937532377713457,
          -0.38587006015377073,
          0.7944049114081017,
          0.8902470208690971,
          -0.017596363807709636,
          -0.21123469197121414,
          -0.44522679075601096,
          0.06594417027871106,
          -0.4005156041049335,
          1.531611994137102,
          1.469053508293093,
          -0.6960757696420884,
          0.42188597213691115,
          -0.24857896565921767,
          0.35243368033595995,
          0.32289319825012025,
          1.756959477480924,
          -0.8646444846801743,
          0.7327493359184236,
          -0.05616681327469264,
          0.24137468687379302,
          0.13490316200095048,
          -0.30294439883702995,
          0.20149030418780658,
          -0.8439630384647533,
          0.9173475168512586,
          -0.7267483351185445,
          0.4551191588285759,
          -1.3050200504200984,
          -0.940424126632205,
          -0.2861436512950377,
          0.3272416090612496,
          -1.4862435821612276,
          -0.7419822477245054,
          -0.5289520199886615,
          -0.19209542834834886,
          -1.6137840913423802,
          2.5253792135126267,
          -0.36401403896536855,
          1.0560010342257284,
          1.4282679514136718,
          -1.7240519483814831,
          0.5671338747613731,
          -0.9080841728798318,
          0.31546878483673546,
          -0.11377460855602518,
          0.053496764203978336,
          0.6818028998550107,
          -1.9774449121637068,
          0.7084250781799291,
          1.5278746674917012,
          -0.9571164971445482,
          -1.3294630618845433,
          0.942272172901489,
          -0.019981281703439734,
          1.4525537255249976,
          0.027433302927381463,
          -1.8001925853232867,
          1.4426728488088858,
          -0.6965262723544774,
          1.2879984069477703,
          -1.4514103759363945,
          0.10321693798368037,
          -1.0337673090830766,
          1.2123441508341763,
          0.2816563048236678,
          -1.0116419291291963,
          1.2137608091381367,
          -0.6097424621297425,
          1.199038876047825,
          -0.14784081503360644,
          -1.0529508579837437,
          0.203716845237984,
          -1.3703913734693944,
          -1.4621189194907764,
          1.2079693890251404,
          1.0607169379613697,
          1.6860621157919298,
          -0.3043036742676254,
          1.252089094534873,
          0.8019105881421928
         ],
         "yaxis": "y2"
        },
        {
         "line": {
          "color": "rgba(128, 128, 128, 1.0)",
          "dash": "solid",
          "shape": "linear",
          "width": 1.3
         },
         "marker": {
          "size": 2,
          "symbol": "circle"
         },
         "mode": "markers",
         "name": "A",
         "text": "",
         "type": "scatter",
         "x": [
          -1.0625887658002213,
          0.09202816193018518,
          0.564848376353891,
          0.419472612971872,
          0.12660612020962858,
          -0.5127914675811296,
          -1.1250834598039288,
          -0.6051822916912,
          -0.16221998280097874,
          0.7356228690390648,
          -0.07574687216850803,
          0.17596247282604027,
          -1.721717086791258,
          2.323429731895257,
          -0.8482030722200461,
          -0.13369431269758897,
          1.43368695838209,
          0.12440433777333088,
          0.6827434615859537,
          -1.2316479081514446,
          -1.6643319307140543,
          -0.7326761450757091,
          0.14581998247595768,
          -0.8486405675639428,
          -1.3879983259008852,
          -1.869598616511187,
          -2.360893594863502,
          1.1800886270616593,
          0.5182722178949594,
          0.7554306808110395,
          -1.2801531109221176,
          -1.816141993229202,
          -0.5232033577209291,
          0.7622410426171143,
          -0.05449472773996224,
          0.1922114685510936,
          -0.4141235355446176,
          0.7052675744404783,
          -2.59538260905528,
          -0.16142979812964459,
          0.2326207735748364,
          -0.7723616091348504,
          0.41227233208544345,
          0.16675903993999175,
          -0.5494052757613266,
          -1.2332580401100453,
          -1.5362604958487704,
          -0.6850801955952219,
          -0.10309357320981548,
          1.211292382720803,
          0.8824592740410863,
          -0.8569072831904082,
          -1.250014049122893,
          -0.08799308927471544,
          -0.6552934530711982,
          0.9863289277092309,
          -0.0031616249570040264,
          0.8656884015381522,
          -1.3457460857249597,
          -0.8700802229476118,
          0.7379618696557516,
          -1.310500185377312,
          -1.2439360756820212,
          -1.852983958425285,
          -0.5483973457086878,
          -0.2620927767535737,
          0.8223682944291094,
          0.41648038679327865,
          -0.14478273313287518,
          0.04459544764541705,
          0.0552076255058285,
          -0.35827809100913904,
          1.1307788184569203,
          0.23619861907372788,
          -0.3841381654666092,
          0.018158187353936536,
          -0.9297831247259087,
          -0.9483441497850129,
          0.15370068303643483,
          -0.7567916707710458,
          -0.22349775200537117,
          -0.16436541076498792,
          -0.04045064822824736,
          1.2055700104402123,
          -0.49887850886789453,
          -0.5435253428124678,
          0.07203272803770303,
          1.77607423833372,
          0.4643240466033002,
          0.7132203723900344,
          0.06056029680904643,
          0.5970097948018788,
          -0.9322428843780637,
          0.07146509261690312,
          1.7081053966754396,
          -0.29765733722000015,
          0.8941126463209245,
          -0.5008661024802709,
          2.3862236353444457,
          -2.640515182547073
         ],
         "xaxis": "x3",
         "y": [
          0.48979428455356877,
          1.2000787712482575,
          0.023788380464120393,
          -0.7762937541590931,
          -0.012364867282905903,
          -1.2161957246449362,
          -0.02690116005734921,
          -0.6136576494704216,
          -1.0932741606526177,
          1.3367224280535983,
          -0.21086536735247163,
          0.7004920634418149,
          0.022903232284200294,
          1.8118903731503866,
          0.03874003270713806,
          0.14207857973235602,
          -1.2664546662031808,
          1.0882638165812608,
          -0.7120729647956264,
          0.6937532377713457,
          -0.38587006015377073,
          0.7944049114081017,
          0.8902470208690971,
          -0.017596363807709636,
          -0.21123469197121414,
          -0.44522679075601096,
          0.06594417027871106,
          -0.4005156041049335,
          1.531611994137102,
          1.469053508293093,
          -0.6960757696420884,
          0.42188597213691115,
          -0.24857896565921767,
          0.35243368033595995,
          0.32289319825012025,
          1.756959477480924,
          -0.8646444846801743,
          0.7327493359184236,
          -0.05616681327469264,
          0.24137468687379302,
          0.13490316200095048,
          -0.30294439883702995,
          0.20149030418780658,
          -0.8439630384647533,
          0.9173475168512586,
          -0.7267483351185445,
          0.4551191588285759,
          -1.3050200504200984,
          -0.940424126632205,
          -0.2861436512950377,
          0.3272416090612496,
          -1.4862435821612276,
          -0.7419822477245054,
          -0.5289520199886615,
          -0.19209542834834886,
          -1.6137840913423802,
          2.5253792135126267,
          -0.36401403896536855,
          1.0560010342257284,
          1.4282679514136718,
          -1.7240519483814831,
          0.5671338747613731,
          -0.9080841728798318,
          0.31546878483673546,
          -0.11377460855602518,
          0.053496764203978336,
          0.6818028998550107,
          -1.9774449121637068,
          0.7084250781799291,
          1.5278746674917012,
          -0.9571164971445482,
          -1.3294630618845433,
          0.942272172901489,
          -0.019981281703439734,
          1.4525537255249976,
          0.027433302927381463,
          -1.8001925853232867,
          1.4426728488088858,
          -0.6965262723544774,
          1.2879984069477703,
          -1.4514103759363945,
          0.10321693798368037,
          -1.0337673090830766,
          1.2123441508341763,
          0.2816563048236678,
          -1.0116419291291963,
          1.2137608091381367,
          -0.6097424621297425,
          1.199038876047825,
          -0.14784081503360644,
          -1.0529508579837437,
          0.203716845237984,
          -1.3703913734693944,
          -1.4621189194907764,
          1.2079693890251404,
          1.0607169379613697,
          1.6860621157919298,
          -0.3043036742676254,
          1.252089094534873,
          0.8019105881421928
         ],
         "yaxis": "y3"
        },
        {
         "line": {
          "color": "rgba(128, 128, 128, 1.0)",
          "dash": "solid",
          "shape": "linear",
          "width": 1.3
         },
         "marker": {
          "size": 2,
          "symbol": "circle"
         },
         "mode": "markers",
         "name": "A",
         "text": "",
         "type": "scatter",
         "x": [
          0.6419540448307282,
          -1.517608688344434,
          -0.3843863209352874,
          0.582205043637178,
          0.8423001398246008,
          -0.876654312681006,
          -1.4220090438249173,
          -0.09887636580710743,
          -0.3836306988926069,
          -0.9617171701958386,
          0.9130567531304483,
          0.1921750627294664,
          -0.40845165490719065,
          0.16948526516975354,
          1.1995423858357495,
          -0.0806001194463327,
          -0.15746670743873062,
          -1.1240019824944776,
          0.4363515372870392,
          1.9307908970315317,
          1.1031951510859273,
          -1.7251316715516243,
          0.8967867868252514,
          0.47529474535809924,
          -1.1739198506495272,
          0.5490829176478206,
          -0.10548357954143857,
          0.9350274188232347,
          -0.11857806913827566,
          0.8291018552229273,
          0.4404340905146739,
          1.0949591324812462,
          -0.5046317220659516,
          0.7277366176328306,
          -0.9220093815234568,
          -1.4401200584762028,
          -0.2735458841642263,
          0.5057772631008871,
          -0.5756586099298809,
          0.4469996935382162,
          1.2311387579172113,
          -0.7490594863628462,
          0.8877674978807628,
          0.0007280151525171892,
          -0.19498978287272922,
          -2.1616046744327897,
          1.3959629391980335,
          1.3542761626128896,
          0.3403680620018605,
          -1.2469655847187164,
          1.631557902538405,
          0.9386407535427541,
          -0.7152486651396022,
          -0.2896322392328507,
          0.4794983422428559,
          1.4993155479995524,
          -0.3357047654058956,
          2.1198825272852106,
          0.9335159436912603,
          0.07494701462476844,
          -1.0858501890051053,
          -0.5136565323101144,
          1.4674995050384145,
          -0.33782459796503067,
          0.4227277598515778,
          0.5345466892685413,
          -0.40806524589228743,
          -0.3632137413898601,
          -0.5128961430005934,
          0.32958613059022096,
          0.056449082223379625,
          -0.5741367405128155,
          -1.4522547358486244,
          1.5156989720072513,
          -1.5956070894351733,
          0.5468079407706042,
          0.5201902490525464,
          0.4405097935390144,
          0.16697909238681657,
          0.650148591850684,
          1.602800718166188,
          -2.323303975173998,
          -0.3919455823359626,
          -0.7901808014383477,
          0.3018838962950447,
          0.7363176053821264,
          0.3982958216374505,
          -1.8604341682340761,
          0.028930473350775563,
          0.3289011160680272,
          2.4482571174976813,
          0.17805452428597393,
          0.9037599076955404,
          -0.5356039813501637,
          0.5981293401750825,
          1.4011963024633105,
          0.02947680573042643,
          0.4138985401230784,
          -0.9208991891630186,
          1.153642037354523
         ],
         "xaxis": "x4",
         "y": [
          0.48979428455356877,
          1.2000787712482575,
          0.023788380464120393,
          -0.7762937541590931,
          -0.012364867282905903,
          -1.2161957246449362,
          -0.02690116005734921,
          -0.6136576494704216,
          -1.0932741606526177,
          1.3367224280535983,
          -0.21086536735247163,
          0.7004920634418149,
          0.022903232284200294,
          1.8118903731503866,
          0.03874003270713806,
          0.14207857973235602,
          -1.2664546662031808,
          1.0882638165812608,
          -0.7120729647956264,
          0.6937532377713457,
          -0.38587006015377073,
          0.7944049114081017,
          0.8902470208690971,
          -0.017596363807709636,
          -0.21123469197121414,
          -0.44522679075601096,
          0.06594417027871106,
          -0.4005156041049335,
          1.531611994137102,
          1.469053508293093,
          -0.6960757696420884,
          0.42188597213691115,
          -0.24857896565921767,
          0.35243368033595995,
          0.32289319825012025,
          1.756959477480924,
          -0.8646444846801743,
          0.7327493359184236,
          -0.05616681327469264,
          0.24137468687379302,
          0.13490316200095048,
          -0.30294439883702995,
          0.20149030418780658,
          -0.8439630384647533,
          0.9173475168512586,
          -0.7267483351185445,
          0.4551191588285759,
          -1.3050200504200984,
          -0.940424126632205,
          -0.2861436512950377,
          0.3272416090612496,
          -1.4862435821612276,
          -0.7419822477245054,
          -0.5289520199886615,
          -0.19209542834834886,
          -1.6137840913423802,
          2.5253792135126267,
          -0.36401403896536855,
          1.0560010342257284,
          1.4282679514136718,
          -1.7240519483814831,
          0.5671338747613731,
          -0.9080841728798318,
          0.31546878483673546,
          -0.11377460855602518,
          0.053496764203978336,
          0.6818028998550107,
          -1.9774449121637068,
          0.7084250781799291,
          1.5278746674917012,
          -0.9571164971445482,
          -1.3294630618845433,
          0.942272172901489,
          -0.019981281703439734,
          1.4525537255249976,
          0.027433302927381463,
          -1.8001925853232867,
          1.4426728488088858,
          -0.6965262723544774,
          1.2879984069477703,
          -1.4514103759363945,
          0.10321693798368037,
          -1.0337673090830766,
          1.2123441508341763,
          0.2816563048236678,
          -1.0116419291291963,
          1.2137608091381367,
          -0.6097424621297425,
          1.199038876047825,
          -0.14784081503360644,
          -1.0529508579837437,
          0.203716845237984,
          -1.3703913734693944,
          -1.4621189194907764,
          1.2079693890251404,
          1.0607169379613697,
          1.6860621157919298,
          -0.3043036742676254,
          1.252089094534873,
          0.8019105881421928
         ],
         "yaxis": "y4"
        },
        {
         "line": {
          "color": "rgba(128, 128, 128, 1.0)",
          "dash": "solid",
          "shape": "linear",
          "width": 1.3
         },
         "marker": {
          "size": 2,
          "symbol": "circle"
         },
         "mode": "markers",
         "name": "B",
         "text": "",
         "type": "scatter",
         "x": [
          0.48979428455356877,
          1.2000787712482575,
          0.023788380464120393,
          -0.7762937541590931,
          -0.012364867282905903,
          -1.2161957246449362,
          -0.02690116005734921,
          -0.6136576494704216,
          -1.0932741606526177,
          1.3367224280535983,
          -0.21086536735247163,
          0.7004920634418149,
          0.022903232284200294,
          1.8118903731503866,
          0.03874003270713806,
          0.14207857973235602,
          -1.2664546662031808,
          1.0882638165812608,
          -0.7120729647956264,
          0.6937532377713457,
          -0.38587006015377073,
          0.7944049114081017,
          0.8902470208690971,
          -0.017596363807709636,
          -0.21123469197121414,
          -0.44522679075601096,
          0.06594417027871106,
          -0.4005156041049335,
          1.531611994137102,
          1.469053508293093,
          -0.6960757696420884,
          0.42188597213691115,
          -0.24857896565921767,
          0.35243368033595995,
          0.32289319825012025,
          1.756959477480924,
          -0.8646444846801743,
          0.7327493359184236,
          -0.05616681327469264,
          0.24137468687379302,
          0.13490316200095048,
          -0.30294439883702995,
          0.20149030418780658,
          -0.8439630384647533,
          0.9173475168512586,
          -0.7267483351185445,
          0.4551191588285759,
          -1.3050200504200984,
          -0.940424126632205,
          -0.2861436512950377,
          0.3272416090612496,
          -1.4862435821612276,
          -0.7419822477245054,
          -0.5289520199886615,
          -0.19209542834834886,
          -1.6137840913423802,
          2.5253792135126267,
          -0.36401403896536855,
          1.0560010342257284,
          1.4282679514136718,
          -1.7240519483814831,
          0.5671338747613731,
          -0.9080841728798318,
          0.31546878483673546,
          -0.11377460855602518,
          0.053496764203978336,
          0.6818028998550107,
          -1.9774449121637068,
          0.7084250781799291,
          1.5278746674917012,
          -0.9571164971445482,
          -1.3294630618845433,
          0.942272172901489,
          -0.019981281703439734,
          1.4525537255249976,
          0.027433302927381463,
          -1.8001925853232867,
          1.4426728488088858,
          -0.6965262723544774,
          1.2879984069477703,
          -1.4514103759363945,
          0.10321693798368037,
          -1.0337673090830766,
          1.2123441508341763,
          0.2816563048236678,
          -1.0116419291291963,
          1.2137608091381367,
          -0.6097424621297425,
          1.199038876047825,
          -0.14784081503360644,
          -1.0529508579837437,
          0.203716845237984,
          -1.3703913734693944,
          -1.4621189194907764,
          1.2079693890251404,
          1.0607169379613697,
          1.6860621157919298,
          -0.3043036742676254,
          1.252089094534873,
          0.8019105881421928
         ],
         "xaxis": "x5",
         "y": [
          -1.0998518931967172,
          -0.951310489501729,
          0.4961980985412946,
          -1.9465577812700667,
          0.4782546807810063,
          0.3915928924499597,
          -0.16195461581883155,
          -0.5684389432325745,
          0.7864442079773991,
          0.11786194397659192,
          0.7806483973082989,
          -0.7216593398328882,
          0.14627440175389989,
          -0.07554072415619882,
          0.014168578367290862,
          -0.6333465050786681,
          1.0127771174834996,
          1.3878021905639235,
          0.4904150562542391,
          0.2536434005385077,
          1.1786366553776157,
          -3.334302912542056,
          0.7647022080307493,
          -0.031935851656112776,
          -0.7839089589040155,
          -0.09122200998567682,
          -0.4898507459459323,
          -0.5684394463175186,
          0.11940011898377212,
          -0.19497172220308293,
          2.728343356239694,
          -0.40789330735339907,
          -0.24459607575641326,
          -0.4858707994184838,
          -0.015234217101942981,
          -0.08771777295493485,
          0.4772963643238052,
          1.4507007392664688,
          0.4061437530079583,
          0.15419502764767845,
          -0.726525983701748,
          -0.2669636603429239,
          0.9852178153304991,
          -1.29587901702008,
          -0.6664537394097019,
          -1.093155363979523,
          1.4968662243590183,
          -0.8959185628124724,
          -1.5208535704872201,
          -0.4052181341125891,
          -0.017951376963129023,
          0.9116272137945861,
          -1.6649360797874992,
          0.3040516316528378,
          -0.12186378938520936,
          1.1724212208098135,
          -1.274141257813947,
          0.11182468335506614,
          1.47499536050285,
          0.2583425826196655,
          -0.32092947933983107,
          1.0007576889539056,
          0.20795616239699127,
          -0.08665414940310559,
          0.6523377927617374,
          0.16726551027784153,
          -0.42557944492126054,
          1.3705804781599653,
          0.9989305038474585,
          -1.6823152185810062,
          -1.4777209857615803,
          -0.9939514975377667,
          -1.0574492878409467,
          -0.18781359857066682,
          0.8413247717773269,
          1.1757733216891897,
          0.2972356932010209,
          -0.28249667162063813,
          -1.3381021329751352,
          0.8454290322931972,
          -0.43718099727400006,
          0.08608827559328311,
          0.42555094905863433,
          0.06474854527759977,
          -1.7365979250057706,
          -0.6954111510725659,
          0.5943477159463276,
          -0.0624064236918547,
          -0.09311347408323536,
          -0.20864777953826144,
          -1.5057657340094361,
          0.985649019277635,
          -0.618834216881153,
          -0.24696789588479345,
          0.1741621994183457,
          -1.2990736535773484,
          -1.9746857091172834,
          0.04549424231182181,
          -0.4787536211341913,
          -1.8165952496968758
         ],
         "yaxis": "y5"
        },
        {
         "histfunc": "count",
         "histnorm": "",
         "marker": {
          "color": "rgba(55, 128, 191, 1.0)",
          "line": {
           "color": "#4D5663",
           "width": 1.3
          }
         },
         "name": "B",
         "nbinsx": 10,
         "opacity": 0.8,
         "orientation": "v",
         "type": "histogram",
         "x": [
          -1.0998518931967172,
          -0.951310489501729,
          0.4961980985412946,
          -1.9465577812700667,
          0.4782546807810063,
          0.3915928924499597,
          -0.16195461581883155,
          -0.5684389432325745,
          0.7864442079773991,
          0.11786194397659192,
          0.7806483973082989,
          -0.7216593398328882,
          0.14627440175389989,
          -0.07554072415619882,
          0.014168578367290862,
          -0.6333465050786681,
          1.0127771174834996,
          1.3878021905639235,
          0.4904150562542391,
          0.2536434005385077,
          1.1786366553776157,
          -3.334302912542056,
          0.7647022080307493,
          -0.031935851656112776,
          -0.7839089589040155,
          -0.09122200998567682,
          -0.4898507459459323,
          -0.5684394463175186,
          0.11940011898377212,
          -0.19497172220308293,
          2.728343356239694,
          -0.40789330735339907,
          -0.24459607575641326,
          -0.4858707994184838,
          -0.015234217101942981,
          -0.08771777295493485,
          0.4772963643238052,
          1.4507007392664688,
          0.4061437530079583,
          0.15419502764767845,
          -0.726525983701748,
          -0.2669636603429239,
          0.9852178153304991,
          -1.29587901702008,
          -0.6664537394097019,
          -1.093155363979523,
          1.4968662243590183,
          -0.8959185628124724,
          -1.5208535704872201,
          -0.4052181341125891,
          -0.017951376963129023,
          0.9116272137945861,
          -1.6649360797874992,
          0.3040516316528378,
          -0.12186378938520936,
          1.1724212208098135,
          -1.274141257813947,
          0.11182468335506614,
          1.47499536050285,
          0.2583425826196655,
          -0.32092947933983107,
          1.0007576889539056,
          0.20795616239699127,
          -0.08665414940310559,
          0.6523377927617374,
          0.16726551027784153,
          -0.42557944492126054,
          1.3705804781599653,
          0.9989305038474585,
          -1.6823152185810062,
          -1.4777209857615803,
          -0.9939514975377667,
          -1.0574492878409467,
          -0.18781359857066682,
          0.8413247717773269,
          1.1757733216891897,
          0.2972356932010209,
          -0.28249667162063813,
          -1.3381021329751352,
          0.8454290322931972,
          -0.43718099727400006,
          0.08608827559328311,
          0.42555094905863433,
          0.06474854527759977,
          -1.7365979250057706,
          -0.6954111510725659,
          0.5943477159463276,
          -0.0624064236918547,
          -0.09311347408323536,
          -0.20864777953826144,
          -1.5057657340094361,
          0.985649019277635,
          -0.618834216881153,
          -0.24696789588479345,
          0.1741621994183457,
          -1.2990736535773484,
          -1.9746857091172834,
          0.04549424231182181,
          -0.4787536211341913,
          -1.8165952496968758
         ],
         "xaxis": "x6",
         "yaxis": "y6"
        },
        {
         "line": {
          "color": "rgba(128, 128, 128, 1.0)",
          "dash": "solid",
          "shape": "linear",
          "width": 1.3
         },
         "marker": {
          "size": 2,
          "symbol": "circle"
         },
         "mode": "markers",
         "name": "B",
         "text": "",
         "type": "scatter",
         "x": [
          -1.0625887658002213,
          0.09202816193018518,
          0.564848376353891,
          0.419472612971872,
          0.12660612020962858,
          -0.5127914675811296,
          -1.1250834598039288,
          -0.6051822916912,
          -0.16221998280097874,
          0.7356228690390648,
          -0.07574687216850803,
          0.17596247282604027,
          -1.721717086791258,
          2.323429731895257,
          -0.8482030722200461,
          -0.13369431269758897,
          1.43368695838209,
          0.12440433777333088,
          0.6827434615859537,
          -1.2316479081514446,
          -1.6643319307140543,
          -0.7326761450757091,
          0.14581998247595768,
          -0.8486405675639428,
          -1.3879983259008852,
          -1.869598616511187,
          -2.360893594863502,
          1.1800886270616593,
          0.5182722178949594,
          0.7554306808110395,
          -1.2801531109221176,
          -1.816141993229202,
          -0.5232033577209291,
          0.7622410426171143,
          -0.05449472773996224,
          0.1922114685510936,
          -0.4141235355446176,
          0.7052675744404783,
          -2.59538260905528,
          -0.16142979812964459,
          0.2326207735748364,
          -0.7723616091348504,
          0.41227233208544345,
          0.16675903993999175,
          -0.5494052757613266,
          -1.2332580401100453,
          -1.5362604958487704,
          -0.6850801955952219,
          -0.10309357320981548,
          1.211292382720803,
          0.8824592740410863,
          -0.8569072831904082,
          -1.250014049122893,
          -0.08799308927471544,
          -0.6552934530711982,
          0.9863289277092309,
          -0.0031616249570040264,
          0.8656884015381522,
          -1.3457460857249597,
          -0.8700802229476118,
          0.7379618696557516,
          -1.310500185377312,
          -1.2439360756820212,
          -1.852983958425285,
          -0.5483973457086878,
          -0.2620927767535737,
          0.8223682944291094,
          0.41648038679327865,
          -0.14478273313287518,
          0.04459544764541705,
          0.0552076255058285,
          -0.35827809100913904,
          1.1307788184569203,
          0.23619861907372788,
          -0.3841381654666092,
          0.018158187353936536,
          -0.9297831247259087,
          -0.9483441497850129,
          0.15370068303643483,
          -0.7567916707710458,
          -0.22349775200537117,
          -0.16436541076498792,
          -0.04045064822824736,
          1.2055700104402123,
          -0.49887850886789453,
          -0.5435253428124678,
          0.07203272803770303,
          1.77607423833372,
          0.4643240466033002,
          0.7132203723900344,
          0.06056029680904643,
          0.5970097948018788,
          -0.9322428843780637,
          0.07146509261690312,
          1.7081053966754396,
          -0.29765733722000015,
          0.8941126463209245,
          -0.5008661024802709,
          2.3862236353444457,
          -2.640515182547073
         ],
         "xaxis": "x7",
         "y": [
          -1.0998518931967172,
          -0.951310489501729,
          0.4961980985412946,
          -1.9465577812700667,
          0.4782546807810063,
          0.3915928924499597,
          -0.16195461581883155,
          -0.5684389432325745,
          0.7864442079773991,
          0.11786194397659192,
          0.7806483973082989,
          -0.7216593398328882,
          0.14627440175389989,
          -0.07554072415619882,
          0.014168578367290862,
          -0.6333465050786681,
          1.0127771174834996,
          1.3878021905639235,
          0.4904150562542391,
          0.2536434005385077,
          1.1786366553776157,
          -3.334302912542056,
          0.7647022080307493,
          -0.031935851656112776,
          -0.7839089589040155,
          -0.09122200998567682,
          -0.4898507459459323,
          -0.5684394463175186,
          0.11940011898377212,
          -0.19497172220308293,
          2.728343356239694,
          -0.40789330735339907,
          -0.24459607575641326,
          -0.4858707994184838,
          -0.015234217101942981,
          -0.08771777295493485,
          0.4772963643238052,
          1.4507007392664688,
          0.4061437530079583,
          0.15419502764767845,
          -0.726525983701748,
          -0.2669636603429239,
          0.9852178153304991,
          -1.29587901702008,
          -0.6664537394097019,
          -1.093155363979523,
          1.4968662243590183,
          -0.8959185628124724,
          -1.5208535704872201,
          -0.4052181341125891,
          -0.017951376963129023,
          0.9116272137945861,
          -1.6649360797874992,
          0.3040516316528378,
          -0.12186378938520936,
          1.1724212208098135,
          -1.274141257813947,
          0.11182468335506614,
          1.47499536050285,
          0.2583425826196655,
          -0.32092947933983107,
          1.0007576889539056,
          0.20795616239699127,
          -0.08665414940310559,
          0.6523377927617374,
          0.16726551027784153,
          -0.42557944492126054,
          1.3705804781599653,
          0.9989305038474585,
          -1.6823152185810062,
          -1.4777209857615803,
          -0.9939514975377667,
          -1.0574492878409467,
          -0.18781359857066682,
          0.8413247717773269,
          1.1757733216891897,
          0.2972356932010209,
          -0.28249667162063813,
          -1.3381021329751352,
          0.8454290322931972,
          -0.43718099727400006,
          0.08608827559328311,
          0.42555094905863433,
          0.06474854527759977,
          -1.7365979250057706,
          -0.6954111510725659,
          0.5943477159463276,
          -0.0624064236918547,
          -0.09311347408323536,
          -0.20864777953826144,
          -1.5057657340094361,
          0.985649019277635,
          -0.618834216881153,
          -0.24696789588479345,
          0.1741621994183457,
          -1.2990736535773484,
          -1.9746857091172834,
          0.04549424231182181,
          -0.4787536211341913,
          -1.8165952496968758
         ],
         "yaxis": "y7"
        },
        {
         "line": {
          "color": "rgba(128, 128, 128, 1.0)",
          "dash": "solid",
          "shape": "linear",
          "width": 1.3
         },
         "marker": {
          "size": 2,
          "symbol": "circle"
         },
         "mode": "markers",
         "name": "B",
         "text": "",
         "type": "scatter",
         "x": [
          0.6419540448307282,
          -1.517608688344434,
          -0.3843863209352874,
          0.582205043637178,
          0.8423001398246008,
          -0.876654312681006,
          -1.4220090438249173,
          -0.09887636580710743,
          -0.3836306988926069,
          -0.9617171701958386,
          0.9130567531304483,
          0.1921750627294664,
          -0.40845165490719065,
          0.16948526516975354,
          1.1995423858357495,
          -0.0806001194463327,
          -0.15746670743873062,
          -1.1240019824944776,
          0.4363515372870392,
          1.9307908970315317,
          1.1031951510859273,
          -1.7251316715516243,
          0.8967867868252514,
          0.47529474535809924,
          -1.1739198506495272,
          0.5490829176478206,
          -0.10548357954143857,
          0.9350274188232347,
          -0.11857806913827566,
          0.8291018552229273,
          0.4404340905146739,
          1.0949591324812462,
          -0.5046317220659516,
          0.7277366176328306,
          -0.9220093815234568,
          -1.4401200584762028,
          -0.2735458841642263,
          0.5057772631008871,
          -0.5756586099298809,
          0.4469996935382162,
          1.2311387579172113,
          -0.7490594863628462,
          0.8877674978807628,
          0.0007280151525171892,
          -0.19498978287272922,
          -2.1616046744327897,
          1.3959629391980335,
          1.3542761626128896,
          0.3403680620018605,
          -1.2469655847187164,
          1.631557902538405,
          0.9386407535427541,
          -0.7152486651396022,
          -0.2896322392328507,
          0.4794983422428559,
          1.4993155479995524,
          -0.3357047654058956,
          2.1198825272852106,
          0.9335159436912603,
          0.07494701462476844,
          -1.0858501890051053,
          -0.5136565323101144,
          1.4674995050384145,
          -0.33782459796503067,
          0.4227277598515778,
          0.5345466892685413,
          -0.40806524589228743,
          -0.3632137413898601,
          -0.5128961430005934,
          0.32958613059022096,
          0.056449082223379625,
          -0.5741367405128155,
          -1.4522547358486244,
          1.5156989720072513,
          -1.5956070894351733,
          0.5468079407706042,
          0.5201902490525464,
          0.4405097935390144,
          0.16697909238681657,
          0.650148591850684,
          1.602800718166188,
          -2.323303975173998,
          -0.3919455823359626,
          -0.7901808014383477,
          0.3018838962950447,
          0.7363176053821264,
          0.3982958216374505,
          -1.8604341682340761,
          0.028930473350775563,
          0.3289011160680272,
          2.4482571174976813,
          0.17805452428597393,
          0.9037599076955404,
          -0.5356039813501637,
          0.5981293401750825,
          1.4011963024633105,
          0.02947680573042643,
          0.4138985401230784,
          -0.9208991891630186,
          1.153642037354523
         ],
         "xaxis": "x8",
         "y": [
          -1.0998518931967172,
          -0.951310489501729,
          0.4961980985412946,
          -1.9465577812700667,
          0.4782546807810063,
          0.3915928924499597,
          -0.16195461581883155,
          -0.5684389432325745,
          0.7864442079773991,
          0.11786194397659192,
          0.7806483973082989,
          -0.7216593398328882,
          0.14627440175389989,
          -0.07554072415619882,
          0.014168578367290862,
          -0.6333465050786681,
          1.0127771174834996,
          1.3878021905639235,
          0.4904150562542391,
          0.2536434005385077,
          1.1786366553776157,
          -3.334302912542056,
          0.7647022080307493,
          -0.031935851656112776,
          -0.7839089589040155,
          -0.09122200998567682,
          -0.4898507459459323,
          -0.5684394463175186,
          0.11940011898377212,
          -0.19497172220308293,
          2.728343356239694,
          -0.40789330735339907,
          -0.24459607575641326,
          -0.4858707994184838,
          -0.015234217101942981,
          -0.08771777295493485,
          0.4772963643238052,
          1.4507007392664688,
          0.4061437530079583,
          0.15419502764767845,
          -0.726525983701748,
          -0.2669636603429239,
          0.9852178153304991,
          -1.29587901702008,
          -0.6664537394097019,
          -1.093155363979523,
          1.4968662243590183,
          -0.8959185628124724,
          -1.5208535704872201,
          -0.4052181341125891,
          -0.017951376963129023,
          0.9116272137945861,
          -1.6649360797874992,
          0.3040516316528378,
          -0.12186378938520936,
          1.1724212208098135,
          -1.274141257813947,
          0.11182468335506614,
          1.47499536050285,
          0.2583425826196655,
          -0.32092947933983107,
          1.0007576889539056,
          0.20795616239699127,
          -0.08665414940310559,
          0.6523377927617374,
          0.16726551027784153,
          -0.42557944492126054,
          1.3705804781599653,
          0.9989305038474585,
          -1.6823152185810062,
          -1.4777209857615803,
          -0.9939514975377667,
          -1.0574492878409467,
          -0.18781359857066682,
          0.8413247717773269,
          1.1757733216891897,
          0.2972356932010209,
          -0.28249667162063813,
          -1.3381021329751352,
          0.8454290322931972,
          -0.43718099727400006,
          0.08608827559328311,
          0.42555094905863433,
          0.06474854527759977,
          -1.7365979250057706,
          -0.6954111510725659,
          0.5943477159463276,
          -0.0624064236918547,
          -0.09311347408323536,
          -0.20864777953826144,
          -1.5057657340094361,
          0.985649019277635,
          -0.618834216881153,
          -0.24696789588479345,
          0.1741621994183457,
          -1.2990736535773484,
          -1.9746857091172834,
          0.04549424231182181,
          -0.4787536211341913,
          -1.8165952496968758
         ],
         "yaxis": "y8"
        },
        {
         "line": {
          "color": "rgba(128, 128, 128, 1.0)",
          "dash": "solid",
          "shape": "linear",
          "width": 1.3
         },
         "marker": {
          "size": 2,
          "symbol": "circle"
         },
         "mode": "markers",
         "name": "C",
         "text": "",
         "type": "scatter",
         "x": [
          0.48979428455356877,
          1.2000787712482575,
          0.023788380464120393,
          -0.7762937541590931,
          -0.012364867282905903,
          -1.2161957246449362,
          -0.02690116005734921,
          -0.6136576494704216,
          -1.0932741606526177,
          1.3367224280535983,
          -0.21086536735247163,
          0.7004920634418149,
          0.022903232284200294,
          1.8118903731503866,
          0.03874003270713806,
          0.14207857973235602,
          -1.2664546662031808,
          1.0882638165812608,
          -0.7120729647956264,
          0.6937532377713457,
          -0.38587006015377073,
          0.7944049114081017,
          0.8902470208690971,
          -0.017596363807709636,
          -0.21123469197121414,
          -0.44522679075601096,
          0.06594417027871106,
          -0.4005156041049335,
          1.531611994137102,
          1.469053508293093,
          -0.6960757696420884,
          0.42188597213691115,
          -0.24857896565921767,
          0.35243368033595995,
          0.32289319825012025,
          1.756959477480924,
          -0.8646444846801743,
          0.7327493359184236,
          -0.05616681327469264,
          0.24137468687379302,
          0.13490316200095048,
          -0.30294439883702995,
          0.20149030418780658,
          -0.8439630384647533,
          0.9173475168512586,
          -0.7267483351185445,
          0.4551191588285759,
          -1.3050200504200984,
          -0.940424126632205,
          -0.2861436512950377,
          0.3272416090612496,
          -1.4862435821612276,
          -0.7419822477245054,
          -0.5289520199886615,
          -0.19209542834834886,
          -1.6137840913423802,
          2.5253792135126267,
          -0.36401403896536855,
          1.0560010342257284,
          1.4282679514136718,
          -1.7240519483814831,
          0.5671338747613731,
          -0.9080841728798318,
          0.31546878483673546,
          -0.11377460855602518,
          0.053496764203978336,
          0.6818028998550107,
          -1.9774449121637068,
          0.7084250781799291,
          1.5278746674917012,
          -0.9571164971445482,
          -1.3294630618845433,
          0.942272172901489,
          -0.019981281703439734,
          1.4525537255249976,
          0.027433302927381463,
          -1.8001925853232867,
          1.4426728488088858,
          -0.6965262723544774,
          1.2879984069477703,
          -1.4514103759363945,
          0.10321693798368037,
          -1.0337673090830766,
          1.2123441508341763,
          0.2816563048236678,
          -1.0116419291291963,
          1.2137608091381367,
          -0.6097424621297425,
          1.199038876047825,
          -0.14784081503360644,
          -1.0529508579837437,
          0.203716845237984,
          -1.3703913734693944,
          -1.4621189194907764,
          1.2079693890251404,
          1.0607169379613697,
          1.6860621157919298,
          -0.3043036742676254,
          1.252089094534873,
          0.8019105881421928
         ],
         "xaxis": "x9",
         "y": [
          -1.0625887658002213,
          0.09202816193018518,
          0.564848376353891,
          0.419472612971872,
          0.12660612020962858,
          -0.5127914675811296,
          -1.1250834598039288,
          -0.6051822916912,
          -0.16221998280097874,
          0.7356228690390648,
          -0.07574687216850803,
          0.17596247282604027,
          -1.721717086791258,
          2.323429731895257,
          -0.8482030722200461,
          -0.13369431269758897,
          1.43368695838209,
          0.12440433777333088,
          0.6827434615859537,
          -1.2316479081514446,
          -1.6643319307140543,
          -0.7326761450757091,
          0.14581998247595768,
          -0.8486405675639428,
          -1.3879983259008852,
          -1.869598616511187,
          -2.360893594863502,
          1.1800886270616593,
          0.5182722178949594,
          0.7554306808110395,
          -1.2801531109221176,
          -1.816141993229202,
          -0.5232033577209291,
          0.7622410426171143,
          -0.05449472773996224,
          0.1922114685510936,
          -0.4141235355446176,
          0.7052675744404783,
          -2.59538260905528,
          -0.16142979812964459,
          0.2326207735748364,
          -0.7723616091348504,
          0.41227233208544345,
          0.16675903993999175,
          -0.5494052757613266,
          -1.2332580401100453,
          -1.5362604958487704,
          -0.6850801955952219,
          -0.10309357320981548,
          1.211292382720803,
          0.8824592740410863,
          -0.8569072831904082,
          -1.250014049122893,
          -0.08799308927471544,
          -0.6552934530711982,
          0.9863289277092309,
          -0.0031616249570040264,
          0.8656884015381522,
          -1.3457460857249597,
          -0.8700802229476118,
          0.7379618696557516,
          -1.310500185377312,
          -1.2439360756820212,
          -1.852983958425285,
          -0.5483973457086878,
          -0.2620927767535737,
          0.8223682944291094,
          0.41648038679327865,
          -0.14478273313287518,
          0.04459544764541705,
          0.0552076255058285,
          -0.35827809100913904,
          1.1307788184569203,
          0.23619861907372788,
          -0.3841381654666092,
          0.018158187353936536,
          -0.9297831247259087,
          -0.9483441497850129,
          0.15370068303643483,
          -0.7567916707710458,
          -0.22349775200537117,
          -0.16436541076498792,
          -0.04045064822824736,
          1.2055700104402123,
          -0.49887850886789453,
          -0.5435253428124678,
          0.07203272803770303,
          1.77607423833372,
          0.4643240466033002,
          0.7132203723900344,
          0.06056029680904643,
          0.5970097948018788,
          -0.9322428843780637,
          0.07146509261690312,
          1.7081053966754396,
          -0.29765733722000015,
          0.8941126463209245,
          -0.5008661024802709,
          2.3862236353444457,
          -2.640515182547073
         ],
         "yaxis": "y9"
        },
        {
         "line": {
          "color": "rgba(128, 128, 128, 1.0)",
          "dash": "solid",
          "shape": "linear",
          "width": 1.3
         },
         "marker": {
          "size": 2,
          "symbol": "circle"
         },
         "mode": "markers",
         "name": "C",
         "text": "",
         "type": "scatter",
         "x": [
          -1.0998518931967172,
          -0.951310489501729,
          0.4961980985412946,
          -1.9465577812700667,
          0.4782546807810063,
          0.3915928924499597,
          -0.16195461581883155,
          -0.5684389432325745,
          0.7864442079773991,
          0.11786194397659192,
          0.7806483973082989,
          -0.7216593398328882,
          0.14627440175389989,
          -0.07554072415619882,
          0.014168578367290862,
          -0.6333465050786681,
          1.0127771174834996,
          1.3878021905639235,
          0.4904150562542391,
          0.2536434005385077,
          1.1786366553776157,
          -3.334302912542056,
          0.7647022080307493,
          -0.031935851656112776,
          -0.7839089589040155,
          -0.09122200998567682,
          -0.4898507459459323,
          -0.5684394463175186,
          0.11940011898377212,
          -0.19497172220308293,
          2.728343356239694,
          -0.40789330735339907,
          -0.24459607575641326,
          -0.4858707994184838,
          -0.015234217101942981,
          -0.08771777295493485,
          0.4772963643238052,
          1.4507007392664688,
          0.4061437530079583,
          0.15419502764767845,
          -0.726525983701748,
          -0.2669636603429239,
          0.9852178153304991,
          -1.29587901702008,
          -0.6664537394097019,
          -1.093155363979523,
          1.4968662243590183,
          -0.8959185628124724,
          -1.5208535704872201,
          -0.4052181341125891,
          -0.017951376963129023,
          0.9116272137945861,
          -1.6649360797874992,
          0.3040516316528378,
          -0.12186378938520936,
          1.1724212208098135,
          -1.274141257813947,
          0.11182468335506614,
          1.47499536050285,
          0.2583425826196655,
          -0.32092947933983107,
          1.0007576889539056,
          0.20795616239699127,
          -0.08665414940310559,
          0.6523377927617374,
          0.16726551027784153,
          -0.42557944492126054,
          1.3705804781599653,
          0.9989305038474585,
          -1.6823152185810062,
          -1.4777209857615803,
          -0.9939514975377667,
          -1.0574492878409467,
          -0.18781359857066682,
          0.8413247717773269,
          1.1757733216891897,
          0.2972356932010209,
          -0.28249667162063813,
          -1.3381021329751352,
          0.8454290322931972,
          -0.43718099727400006,
          0.08608827559328311,
          0.42555094905863433,
          0.06474854527759977,
          -1.7365979250057706,
          -0.6954111510725659,
          0.5943477159463276,
          -0.0624064236918547,
          -0.09311347408323536,
          -0.20864777953826144,
          -1.5057657340094361,
          0.985649019277635,
          -0.618834216881153,
          -0.24696789588479345,
          0.1741621994183457,
          -1.2990736535773484,
          -1.9746857091172834,
          0.04549424231182181,
          -0.4787536211341913,
          -1.8165952496968758
         ],
         "xaxis": "x10",
         "y": [
          -1.0625887658002213,
          0.09202816193018518,
          0.564848376353891,
          0.419472612971872,
          0.12660612020962858,
          -0.5127914675811296,
          -1.1250834598039288,
          -0.6051822916912,
          -0.16221998280097874,
          0.7356228690390648,
          -0.07574687216850803,
          0.17596247282604027,
          -1.721717086791258,
          2.323429731895257,
          -0.8482030722200461,
          -0.13369431269758897,
          1.43368695838209,
          0.12440433777333088,
          0.6827434615859537,
          -1.2316479081514446,
          -1.6643319307140543,
          -0.7326761450757091,
          0.14581998247595768,
          -0.8486405675639428,
          -1.3879983259008852,
          -1.869598616511187,
          -2.360893594863502,
          1.1800886270616593,
          0.5182722178949594,
          0.7554306808110395,
          -1.2801531109221176,
          -1.816141993229202,
          -0.5232033577209291,
          0.7622410426171143,
          -0.05449472773996224,
          0.1922114685510936,
          -0.4141235355446176,
          0.7052675744404783,
          -2.59538260905528,
          -0.16142979812964459,
          0.2326207735748364,
          -0.7723616091348504,
          0.41227233208544345,
          0.16675903993999175,
          -0.5494052757613266,
          -1.2332580401100453,
          -1.5362604958487704,
          -0.6850801955952219,
          -0.10309357320981548,
          1.211292382720803,
          0.8824592740410863,
          -0.8569072831904082,
          -1.250014049122893,
          -0.08799308927471544,
          -0.6552934530711982,
          0.9863289277092309,
          -0.0031616249570040264,
          0.8656884015381522,
          -1.3457460857249597,
          -0.8700802229476118,
          0.7379618696557516,
          -1.310500185377312,
          -1.2439360756820212,
          -1.852983958425285,
          -0.5483973457086878,
          -0.2620927767535737,
          0.8223682944291094,
          0.41648038679327865,
          -0.14478273313287518,
          0.04459544764541705,
          0.0552076255058285,
          -0.35827809100913904,
          1.1307788184569203,
          0.23619861907372788,
          -0.3841381654666092,
          0.018158187353936536,
          -0.9297831247259087,
          -0.9483441497850129,
          0.15370068303643483,
          -0.7567916707710458,
          -0.22349775200537117,
          -0.16436541076498792,
          -0.04045064822824736,
          1.2055700104402123,
          -0.49887850886789453,
          -0.5435253428124678,
          0.07203272803770303,
          1.77607423833372,
          0.4643240466033002,
          0.7132203723900344,
          0.06056029680904643,
          0.5970097948018788,
          -0.9322428843780637,
          0.07146509261690312,
          1.7081053966754396,
          -0.29765733722000015,
          0.8941126463209245,
          -0.5008661024802709,
          2.3862236353444457,
          -2.640515182547073
         ],
         "yaxis": "y10"
        },
        {
         "histfunc": "count",
         "histnorm": "",
         "marker": {
          "color": "rgba(50, 171, 96, 1.0)",
          "line": {
           "color": "#4D5663",
           "width": 1.3
          }
         },
         "name": "C",
         "nbinsx": 10,
         "opacity": 0.8,
         "orientation": "v",
         "type": "histogram",
         "x": [
          -1.0625887658002213,
          0.09202816193018518,
          0.564848376353891,
          0.419472612971872,
          0.12660612020962858,
          -0.5127914675811296,
          -1.1250834598039288,
          -0.6051822916912,
          -0.16221998280097874,
          0.7356228690390648,
          -0.07574687216850803,
          0.17596247282604027,
          -1.721717086791258,
          2.323429731895257,
          -0.8482030722200461,
          -0.13369431269758897,
          1.43368695838209,
          0.12440433777333088,
          0.6827434615859537,
          -1.2316479081514446,
          -1.6643319307140543,
          -0.7326761450757091,
          0.14581998247595768,
          -0.8486405675639428,
          -1.3879983259008852,
          -1.869598616511187,
          -2.360893594863502,
          1.1800886270616593,
          0.5182722178949594,
          0.7554306808110395,
          -1.2801531109221176,
          -1.816141993229202,
          -0.5232033577209291,
          0.7622410426171143,
          -0.05449472773996224,
          0.1922114685510936,
          -0.4141235355446176,
          0.7052675744404783,
          -2.59538260905528,
          -0.16142979812964459,
          0.2326207735748364,
          -0.7723616091348504,
          0.41227233208544345,
          0.16675903993999175,
          -0.5494052757613266,
          -1.2332580401100453,
          -1.5362604958487704,
          -0.6850801955952219,
          -0.10309357320981548,
          1.211292382720803,
          0.8824592740410863,
          -0.8569072831904082,
          -1.250014049122893,
          -0.08799308927471544,
          -0.6552934530711982,
          0.9863289277092309,
          -0.0031616249570040264,
          0.8656884015381522,
          -1.3457460857249597,
          -0.8700802229476118,
          0.7379618696557516,
          -1.310500185377312,
          -1.2439360756820212,
          -1.852983958425285,
          -0.5483973457086878,
          -0.2620927767535737,
          0.8223682944291094,
          0.41648038679327865,
          -0.14478273313287518,
          0.04459544764541705,
          0.0552076255058285,
          -0.35827809100913904,
          1.1307788184569203,
          0.23619861907372788,
          -0.3841381654666092,
          0.018158187353936536,
          -0.9297831247259087,
          -0.9483441497850129,
          0.15370068303643483,
          -0.7567916707710458,
          -0.22349775200537117,
          -0.16436541076498792,
          -0.04045064822824736,
          1.2055700104402123,
          -0.49887850886789453,
          -0.5435253428124678,
          0.07203272803770303,
          1.77607423833372,
          0.4643240466033002,
          0.7132203723900344,
          0.06056029680904643,
          0.5970097948018788,
          -0.9322428843780637,
          0.07146509261690312,
          1.7081053966754396,
          -0.29765733722000015,
          0.8941126463209245,
          -0.5008661024802709,
          2.3862236353444457,
          -2.640515182547073
         ],
         "xaxis": "x11",
         "yaxis": "y11"
        },
        {
         "line": {
          "color": "rgba(128, 128, 128, 1.0)",
          "dash": "solid",
          "shape": "linear",
          "width": 1.3
         },
         "marker": {
          "size": 2,
          "symbol": "circle"
         },
         "mode": "markers",
         "name": "C",
         "text": "",
         "type": "scatter",
         "x": [
          0.6419540448307282,
          -1.517608688344434,
          -0.3843863209352874,
          0.582205043637178,
          0.8423001398246008,
          -0.876654312681006,
          -1.4220090438249173,
          -0.09887636580710743,
          -0.3836306988926069,
          -0.9617171701958386,
          0.9130567531304483,
          0.1921750627294664,
          -0.40845165490719065,
          0.16948526516975354,
          1.1995423858357495,
          -0.0806001194463327,
          -0.15746670743873062,
          -1.1240019824944776,
          0.4363515372870392,
          1.9307908970315317,
          1.1031951510859273,
          -1.7251316715516243,
          0.8967867868252514,
          0.47529474535809924,
          -1.1739198506495272,
          0.5490829176478206,
          -0.10548357954143857,
          0.9350274188232347,
          -0.11857806913827566,
          0.8291018552229273,
          0.4404340905146739,
          1.0949591324812462,
          -0.5046317220659516,
          0.7277366176328306,
          -0.9220093815234568,
          -1.4401200584762028,
          -0.2735458841642263,
          0.5057772631008871,
          -0.5756586099298809,
          0.4469996935382162,
          1.2311387579172113,
          -0.7490594863628462,
          0.8877674978807628,
          0.0007280151525171892,
          -0.19498978287272922,
          -2.1616046744327897,
          1.3959629391980335,
          1.3542761626128896,
          0.3403680620018605,
          -1.2469655847187164,
          1.631557902538405,
          0.9386407535427541,
          -0.7152486651396022,
          -0.2896322392328507,
          0.4794983422428559,
          1.4993155479995524,
          -0.3357047654058956,
          2.1198825272852106,
          0.9335159436912603,
          0.07494701462476844,
          -1.0858501890051053,
          -0.5136565323101144,
          1.4674995050384145,
          -0.33782459796503067,
          0.4227277598515778,
          0.5345466892685413,
          -0.40806524589228743,
          -0.3632137413898601,
          -0.5128961430005934,
          0.32958613059022096,
          0.056449082223379625,
          -0.5741367405128155,
          -1.4522547358486244,
          1.5156989720072513,
          -1.5956070894351733,
          0.5468079407706042,
          0.5201902490525464,
          0.4405097935390144,
          0.16697909238681657,
          0.650148591850684,
          1.602800718166188,
          -2.323303975173998,
          -0.3919455823359626,
          -0.7901808014383477,
          0.3018838962950447,
          0.7363176053821264,
          0.3982958216374505,
          -1.8604341682340761,
          0.028930473350775563,
          0.3289011160680272,
          2.4482571174976813,
          0.17805452428597393,
          0.9037599076955404,
          -0.5356039813501637,
          0.5981293401750825,
          1.4011963024633105,
          0.02947680573042643,
          0.4138985401230784,
          -0.9208991891630186,
          1.153642037354523
         ],
         "xaxis": "x12",
         "y": [
          -1.0625887658002213,
          0.09202816193018518,
          0.564848376353891,
          0.419472612971872,
          0.12660612020962858,
          -0.5127914675811296,
          -1.1250834598039288,
          -0.6051822916912,
          -0.16221998280097874,
          0.7356228690390648,
          -0.07574687216850803,
          0.17596247282604027,
          -1.721717086791258,
          2.323429731895257,
          -0.8482030722200461,
          -0.13369431269758897,
          1.43368695838209,
          0.12440433777333088,
          0.6827434615859537,
          -1.2316479081514446,
          -1.6643319307140543,
          -0.7326761450757091,
          0.14581998247595768,
          -0.8486405675639428,
          -1.3879983259008852,
          -1.869598616511187,
          -2.360893594863502,
          1.1800886270616593,
          0.5182722178949594,
          0.7554306808110395,
          -1.2801531109221176,
          -1.816141993229202,
          -0.5232033577209291,
          0.7622410426171143,
          -0.05449472773996224,
          0.1922114685510936,
          -0.4141235355446176,
          0.7052675744404783,
          -2.59538260905528,
          -0.16142979812964459,
          0.2326207735748364,
          -0.7723616091348504,
          0.41227233208544345,
          0.16675903993999175,
          -0.5494052757613266,
          -1.2332580401100453,
          -1.5362604958487704,
          -0.6850801955952219,
          -0.10309357320981548,
          1.211292382720803,
          0.8824592740410863,
          -0.8569072831904082,
          -1.250014049122893,
          -0.08799308927471544,
          -0.6552934530711982,
          0.9863289277092309,
          -0.0031616249570040264,
          0.8656884015381522,
          -1.3457460857249597,
          -0.8700802229476118,
          0.7379618696557516,
          -1.310500185377312,
          -1.2439360756820212,
          -1.852983958425285,
          -0.5483973457086878,
          -0.2620927767535737,
          0.8223682944291094,
          0.41648038679327865,
          -0.14478273313287518,
          0.04459544764541705,
          0.0552076255058285,
          -0.35827809100913904,
          1.1307788184569203,
          0.23619861907372788,
          -0.3841381654666092,
          0.018158187353936536,
          -0.9297831247259087,
          -0.9483441497850129,
          0.15370068303643483,
          -0.7567916707710458,
          -0.22349775200537117,
          -0.16436541076498792,
          -0.04045064822824736,
          1.2055700104402123,
          -0.49887850886789453,
          -0.5435253428124678,
          0.07203272803770303,
          1.77607423833372,
          0.4643240466033002,
          0.7132203723900344,
          0.06056029680904643,
          0.5970097948018788,
          -0.9322428843780637,
          0.07146509261690312,
          1.7081053966754396,
          -0.29765733722000015,
          0.8941126463209245,
          -0.5008661024802709,
          2.3862236353444457,
          -2.640515182547073
         ],
         "yaxis": "y12"
        },
        {
         "line": {
          "color": "rgba(128, 128, 128, 1.0)",
          "dash": "solid",
          "shape": "linear",
          "width": 1.3
         },
         "marker": {
          "size": 2,
          "symbol": "circle"
         },
         "mode": "markers",
         "name": "D",
         "text": "",
         "type": "scatter",
         "x": [
          0.48979428455356877,
          1.2000787712482575,
          0.023788380464120393,
          -0.7762937541590931,
          -0.012364867282905903,
          -1.2161957246449362,
          -0.02690116005734921,
          -0.6136576494704216,
          -1.0932741606526177,
          1.3367224280535983,
          -0.21086536735247163,
          0.7004920634418149,
          0.022903232284200294,
          1.8118903731503866,
          0.03874003270713806,
          0.14207857973235602,
          -1.2664546662031808,
          1.0882638165812608,
          -0.7120729647956264,
          0.6937532377713457,
          -0.38587006015377073,
          0.7944049114081017,
          0.8902470208690971,
          -0.017596363807709636,
          -0.21123469197121414,
          -0.44522679075601096,
          0.06594417027871106,
          -0.4005156041049335,
          1.531611994137102,
          1.469053508293093,
          -0.6960757696420884,
          0.42188597213691115,
          -0.24857896565921767,
          0.35243368033595995,
          0.32289319825012025,
          1.756959477480924,
          -0.8646444846801743,
          0.7327493359184236,
          -0.05616681327469264,
          0.24137468687379302,
          0.13490316200095048,
          -0.30294439883702995,
          0.20149030418780658,
          -0.8439630384647533,
          0.9173475168512586,
          -0.7267483351185445,
          0.4551191588285759,
          -1.3050200504200984,
          -0.940424126632205,
          -0.2861436512950377,
          0.3272416090612496,
          -1.4862435821612276,
          -0.7419822477245054,
          -0.5289520199886615,
          -0.19209542834834886,
          -1.6137840913423802,
          2.5253792135126267,
          -0.36401403896536855,
          1.0560010342257284,
          1.4282679514136718,
          -1.7240519483814831,
          0.5671338747613731,
          -0.9080841728798318,
          0.31546878483673546,
          -0.11377460855602518,
          0.053496764203978336,
          0.6818028998550107,
          -1.9774449121637068,
          0.7084250781799291,
          1.5278746674917012,
          -0.9571164971445482,
          -1.3294630618845433,
          0.942272172901489,
          -0.019981281703439734,
          1.4525537255249976,
          0.027433302927381463,
          -1.8001925853232867,
          1.4426728488088858,
          -0.6965262723544774,
          1.2879984069477703,
          -1.4514103759363945,
          0.10321693798368037,
          -1.0337673090830766,
          1.2123441508341763,
          0.2816563048236678,
          -1.0116419291291963,
          1.2137608091381367,
          -0.6097424621297425,
          1.199038876047825,
          -0.14784081503360644,
          -1.0529508579837437,
          0.203716845237984,
          -1.3703913734693944,
          -1.4621189194907764,
          1.2079693890251404,
          1.0607169379613697,
          1.6860621157919298,
          -0.3043036742676254,
          1.252089094534873,
          0.8019105881421928
         ],
         "xaxis": "x13",
         "y": [
          0.6419540448307282,
          -1.517608688344434,
          -0.3843863209352874,
          0.582205043637178,
          0.8423001398246008,
          -0.876654312681006,
          -1.4220090438249173,
          -0.09887636580710743,
          -0.3836306988926069,
          -0.9617171701958386,
          0.9130567531304483,
          0.1921750627294664,
          -0.40845165490719065,
          0.16948526516975354,
          1.1995423858357495,
          -0.0806001194463327,
          -0.15746670743873062,
          -1.1240019824944776,
          0.4363515372870392,
          1.9307908970315317,
          1.1031951510859273,
          -1.7251316715516243,
          0.8967867868252514,
          0.47529474535809924,
          -1.1739198506495272,
          0.5490829176478206,
          -0.10548357954143857,
          0.9350274188232347,
          -0.11857806913827566,
          0.8291018552229273,
          0.4404340905146739,
          1.0949591324812462,
          -0.5046317220659516,
          0.7277366176328306,
          -0.9220093815234568,
          -1.4401200584762028,
          -0.2735458841642263,
          0.5057772631008871,
          -0.5756586099298809,
          0.4469996935382162,
          1.2311387579172113,
          -0.7490594863628462,
          0.8877674978807628,
          0.0007280151525171892,
          -0.19498978287272922,
          -2.1616046744327897,
          1.3959629391980335,
          1.3542761626128896,
          0.3403680620018605,
          -1.2469655847187164,
          1.631557902538405,
          0.9386407535427541,
          -0.7152486651396022,
          -0.2896322392328507,
          0.4794983422428559,
          1.4993155479995524,
          -0.3357047654058956,
          2.1198825272852106,
          0.9335159436912603,
          0.07494701462476844,
          -1.0858501890051053,
          -0.5136565323101144,
          1.4674995050384145,
          -0.33782459796503067,
          0.4227277598515778,
          0.5345466892685413,
          -0.40806524589228743,
          -0.3632137413898601,
          -0.5128961430005934,
          0.32958613059022096,
          0.056449082223379625,
          -0.5741367405128155,
          -1.4522547358486244,
          1.5156989720072513,
          -1.5956070894351733,
          0.5468079407706042,
          0.5201902490525464,
          0.4405097935390144,
          0.16697909238681657,
          0.650148591850684,
          1.602800718166188,
          -2.323303975173998,
          -0.3919455823359626,
          -0.7901808014383477,
          0.3018838962950447,
          0.7363176053821264,
          0.3982958216374505,
          -1.8604341682340761,
          0.028930473350775563,
          0.3289011160680272,
          2.4482571174976813,
          0.17805452428597393,
          0.9037599076955404,
          -0.5356039813501637,
          0.5981293401750825,
          1.4011963024633105,
          0.02947680573042643,
          0.4138985401230784,
          -0.9208991891630186,
          1.153642037354523
         ],
         "yaxis": "y13"
        },
        {
         "line": {
          "color": "rgba(128, 128, 128, 1.0)",
          "dash": "solid",
          "shape": "linear",
          "width": 1.3
         },
         "marker": {
          "size": 2,
          "symbol": "circle"
         },
         "mode": "markers",
         "name": "D",
         "text": "",
         "type": "scatter",
         "x": [
          -1.0998518931967172,
          -0.951310489501729,
          0.4961980985412946,
          -1.9465577812700667,
          0.4782546807810063,
          0.3915928924499597,
          -0.16195461581883155,
          -0.5684389432325745,
          0.7864442079773991,
          0.11786194397659192,
          0.7806483973082989,
          -0.7216593398328882,
          0.14627440175389989,
          -0.07554072415619882,
          0.014168578367290862,
          -0.6333465050786681,
          1.0127771174834996,
          1.3878021905639235,
          0.4904150562542391,
          0.2536434005385077,
          1.1786366553776157,
          -3.334302912542056,
          0.7647022080307493,
          -0.031935851656112776,
          -0.7839089589040155,
          -0.09122200998567682,
          -0.4898507459459323,
          -0.5684394463175186,
          0.11940011898377212,
          -0.19497172220308293,
          2.728343356239694,
          -0.40789330735339907,
          -0.24459607575641326,
          -0.4858707994184838,
          -0.015234217101942981,
          -0.08771777295493485,
          0.4772963643238052,
          1.4507007392664688,
          0.4061437530079583,
          0.15419502764767845,
          -0.726525983701748,
          -0.2669636603429239,
          0.9852178153304991,
          -1.29587901702008,
          -0.6664537394097019,
          -1.093155363979523,
          1.4968662243590183,
          -0.8959185628124724,
          -1.5208535704872201,
          -0.4052181341125891,
          -0.017951376963129023,
          0.9116272137945861,
          -1.6649360797874992,
          0.3040516316528378,
          -0.12186378938520936,
          1.1724212208098135,
          -1.274141257813947,
          0.11182468335506614,
          1.47499536050285,
          0.2583425826196655,
          -0.32092947933983107,
          1.0007576889539056,
          0.20795616239699127,
          -0.08665414940310559,
          0.6523377927617374,
          0.16726551027784153,
          -0.42557944492126054,
          1.3705804781599653,
          0.9989305038474585,
          -1.6823152185810062,
          -1.4777209857615803,
          -0.9939514975377667,
          -1.0574492878409467,
          -0.18781359857066682,
          0.8413247717773269,
          1.1757733216891897,
          0.2972356932010209,
          -0.28249667162063813,
          -1.3381021329751352,
          0.8454290322931972,
          -0.43718099727400006,
          0.08608827559328311,
          0.42555094905863433,
          0.06474854527759977,
          -1.7365979250057706,
          -0.6954111510725659,
          0.5943477159463276,
          -0.0624064236918547,
          -0.09311347408323536,
          -0.20864777953826144,
          -1.5057657340094361,
          0.985649019277635,
          -0.618834216881153,
          -0.24696789588479345,
          0.1741621994183457,
          -1.2990736535773484,
          -1.9746857091172834,
          0.04549424231182181,
          -0.4787536211341913,
          -1.8165952496968758
         ],
         "xaxis": "x14",
         "y": [
          0.6419540448307282,
          -1.517608688344434,
          -0.3843863209352874,
          0.582205043637178,
          0.8423001398246008,
          -0.876654312681006,
          -1.4220090438249173,
          -0.09887636580710743,
          -0.3836306988926069,
          -0.9617171701958386,
          0.9130567531304483,
          0.1921750627294664,
          -0.40845165490719065,
          0.16948526516975354,
          1.1995423858357495,
          -0.0806001194463327,
          -0.15746670743873062,
          -1.1240019824944776,
          0.4363515372870392,
          1.9307908970315317,
          1.1031951510859273,
          -1.7251316715516243,
          0.8967867868252514,
          0.47529474535809924,
          -1.1739198506495272,
          0.5490829176478206,
          -0.10548357954143857,
          0.9350274188232347,
          -0.11857806913827566,
          0.8291018552229273,
          0.4404340905146739,
          1.0949591324812462,
          -0.5046317220659516,
          0.7277366176328306,
          -0.9220093815234568,
          -1.4401200584762028,
          -0.2735458841642263,
          0.5057772631008871,
          -0.5756586099298809,
          0.4469996935382162,
          1.2311387579172113,
          -0.7490594863628462,
          0.8877674978807628,
          0.0007280151525171892,
          -0.19498978287272922,
          -2.1616046744327897,
          1.3959629391980335,
          1.3542761626128896,
          0.3403680620018605,
          -1.2469655847187164,
          1.631557902538405,
          0.9386407535427541,
          -0.7152486651396022,
          -0.2896322392328507,
          0.4794983422428559,
          1.4993155479995524,
          -0.3357047654058956,
          2.1198825272852106,
          0.9335159436912603,
          0.07494701462476844,
          -1.0858501890051053,
          -0.5136565323101144,
          1.4674995050384145,
          -0.33782459796503067,
          0.4227277598515778,
          0.5345466892685413,
          -0.40806524589228743,
          -0.3632137413898601,
          -0.5128961430005934,
          0.32958613059022096,
          0.056449082223379625,
          -0.5741367405128155,
          -1.4522547358486244,
          1.5156989720072513,
          -1.5956070894351733,
          0.5468079407706042,
          0.5201902490525464,
          0.4405097935390144,
          0.16697909238681657,
          0.650148591850684,
          1.602800718166188,
          -2.323303975173998,
          -0.3919455823359626,
          -0.7901808014383477,
          0.3018838962950447,
          0.7363176053821264,
          0.3982958216374505,
          -1.8604341682340761,
          0.028930473350775563,
          0.3289011160680272,
          2.4482571174976813,
          0.17805452428597393,
          0.9037599076955404,
          -0.5356039813501637,
          0.5981293401750825,
          1.4011963024633105,
          0.02947680573042643,
          0.4138985401230784,
          -0.9208991891630186,
          1.153642037354523
         ],
         "yaxis": "y14"
        },
        {
         "line": {
          "color": "rgba(128, 128, 128, 1.0)",
          "dash": "solid",
          "shape": "linear",
          "width": 1.3
         },
         "marker": {
          "size": 2,
          "symbol": "circle"
         },
         "mode": "markers",
         "name": "D",
         "text": "",
         "type": "scatter",
         "x": [
          -1.0625887658002213,
          0.09202816193018518,
          0.564848376353891,
          0.419472612971872,
          0.12660612020962858,
          -0.5127914675811296,
          -1.1250834598039288,
          -0.6051822916912,
          -0.16221998280097874,
          0.7356228690390648,
          -0.07574687216850803,
          0.17596247282604027,
          -1.721717086791258,
          2.323429731895257,
          -0.8482030722200461,
          -0.13369431269758897,
          1.43368695838209,
          0.12440433777333088,
          0.6827434615859537,
          -1.2316479081514446,
          -1.6643319307140543,
          -0.7326761450757091,
          0.14581998247595768,
          -0.8486405675639428,
          -1.3879983259008852,
          -1.869598616511187,
          -2.360893594863502,
          1.1800886270616593,
          0.5182722178949594,
          0.7554306808110395,
          -1.2801531109221176,
          -1.816141993229202,
          -0.5232033577209291,
          0.7622410426171143,
          -0.05449472773996224,
          0.1922114685510936,
          -0.4141235355446176,
          0.7052675744404783,
          -2.59538260905528,
          -0.16142979812964459,
          0.2326207735748364,
          -0.7723616091348504,
          0.41227233208544345,
          0.16675903993999175,
          -0.5494052757613266,
          -1.2332580401100453,
          -1.5362604958487704,
          -0.6850801955952219,
          -0.10309357320981548,
          1.211292382720803,
          0.8824592740410863,
          -0.8569072831904082,
          -1.250014049122893,
          -0.08799308927471544,
          -0.6552934530711982,
          0.9863289277092309,
          -0.0031616249570040264,
          0.8656884015381522,
          -1.3457460857249597,
          -0.8700802229476118,
          0.7379618696557516,
          -1.310500185377312,
          -1.2439360756820212,
          -1.852983958425285,
          -0.5483973457086878,
          -0.2620927767535737,
          0.8223682944291094,
          0.41648038679327865,
          -0.14478273313287518,
          0.04459544764541705,
          0.0552076255058285,
          -0.35827809100913904,
          1.1307788184569203,
          0.23619861907372788,
          -0.3841381654666092,
          0.018158187353936536,
          -0.9297831247259087,
          -0.9483441497850129,
          0.15370068303643483,
          -0.7567916707710458,
          -0.22349775200537117,
          -0.16436541076498792,
          -0.04045064822824736,
          1.2055700104402123,
          -0.49887850886789453,
          -0.5435253428124678,
          0.07203272803770303,
          1.77607423833372,
          0.4643240466033002,
          0.7132203723900344,
          0.06056029680904643,
          0.5970097948018788,
          -0.9322428843780637,
          0.07146509261690312,
          1.7081053966754396,
          -0.29765733722000015,
          0.8941126463209245,
          -0.5008661024802709,
          2.3862236353444457,
          -2.640515182547073
         ],
         "xaxis": "x15",
         "y": [
          0.6419540448307282,
          -1.517608688344434,
          -0.3843863209352874,
          0.582205043637178,
          0.8423001398246008,
          -0.876654312681006,
          -1.4220090438249173,
          -0.09887636580710743,
          -0.3836306988926069,
          -0.9617171701958386,
          0.9130567531304483,
          0.1921750627294664,
          -0.40845165490719065,
          0.16948526516975354,
          1.1995423858357495,
          -0.0806001194463327,
          -0.15746670743873062,
          -1.1240019824944776,
          0.4363515372870392,
          1.9307908970315317,
          1.1031951510859273,
          -1.7251316715516243,
          0.8967867868252514,
          0.47529474535809924,
          -1.1739198506495272,
          0.5490829176478206,
          -0.10548357954143857,
          0.9350274188232347,
          -0.11857806913827566,
          0.8291018552229273,
          0.4404340905146739,
          1.0949591324812462,
          -0.5046317220659516,
          0.7277366176328306,
          -0.9220093815234568,
          -1.4401200584762028,
          -0.2735458841642263,
          0.5057772631008871,
          -0.5756586099298809,
          0.4469996935382162,
          1.2311387579172113,
          -0.7490594863628462,
          0.8877674978807628,
          0.0007280151525171892,
          -0.19498978287272922,
          -2.1616046744327897,
          1.3959629391980335,
          1.3542761626128896,
          0.3403680620018605,
          -1.2469655847187164,
          1.631557902538405,
          0.9386407535427541,
          -0.7152486651396022,
          -0.2896322392328507,
          0.4794983422428559,
          1.4993155479995524,
          -0.3357047654058956,
          2.1198825272852106,
          0.9335159436912603,
          0.07494701462476844,
          -1.0858501890051053,
          -0.5136565323101144,
          1.4674995050384145,
          -0.33782459796503067,
          0.4227277598515778,
          0.5345466892685413,
          -0.40806524589228743,
          -0.3632137413898601,
          -0.5128961430005934,
          0.32958613059022096,
          0.056449082223379625,
          -0.5741367405128155,
          -1.4522547358486244,
          1.5156989720072513,
          -1.5956070894351733,
          0.5468079407706042,
          0.5201902490525464,
          0.4405097935390144,
          0.16697909238681657,
          0.650148591850684,
          1.602800718166188,
          -2.323303975173998,
          -0.3919455823359626,
          -0.7901808014383477,
          0.3018838962950447,
          0.7363176053821264,
          0.3982958216374505,
          -1.8604341682340761,
          0.028930473350775563,
          0.3289011160680272,
          2.4482571174976813,
          0.17805452428597393,
          0.9037599076955404,
          -0.5356039813501637,
          0.5981293401750825,
          1.4011963024633105,
          0.02947680573042643,
          0.4138985401230784,
          -0.9208991891630186,
          1.153642037354523
         ],
         "yaxis": "y15"
        },
        {
         "histfunc": "count",
         "histnorm": "",
         "marker": {
          "color": "rgba(128, 0, 128, 1.0)",
          "line": {
           "color": "#4D5663",
           "width": 1.3
          }
         },
         "name": "D",
         "nbinsx": 10,
         "opacity": 0.8,
         "orientation": "v",
         "type": "histogram",
         "x": [
          0.6419540448307282,
          -1.517608688344434,
          -0.3843863209352874,
          0.582205043637178,
          0.8423001398246008,
          -0.876654312681006,
          -1.4220090438249173,
          -0.09887636580710743,
          -0.3836306988926069,
          -0.9617171701958386,
          0.9130567531304483,
          0.1921750627294664,
          -0.40845165490719065,
          0.16948526516975354,
          1.1995423858357495,
          -0.0806001194463327,
          -0.15746670743873062,
          -1.1240019824944776,
          0.4363515372870392,
          1.9307908970315317,
          1.1031951510859273,
          -1.7251316715516243,
          0.8967867868252514,
          0.47529474535809924,
          -1.1739198506495272,
          0.5490829176478206,
          -0.10548357954143857,
          0.9350274188232347,
          -0.11857806913827566,
          0.8291018552229273,
          0.4404340905146739,
          1.0949591324812462,
          -0.5046317220659516,
          0.7277366176328306,
          -0.9220093815234568,
          -1.4401200584762028,
          -0.2735458841642263,
          0.5057772631008871,
          -0.5756586099298809,
          0.4469996935382162,
          1.2311387579172113,
          -0.7490594863628462,
          0.8877674978807628,
          0.0007280151525171892,
          -0.19498978287272922,
          -2.1616046744327897,
          1.3959629391980335,
          1.3542761626128896,
          0.3403680620018605,
          -1.2469655847187164,
          1.631557902538405,
          0.9386407535427541,
          -0.7152486651396022,
          -0.2896322392328507,
          0.4794983422428559,
          1.4993155479995524,
          -0.3357047654058956,
          2.1198825272852106,
          0.9335159436912603,
          0.07494701462476844,
          -1.0858501890051053,
          -0.5136565323101144,
          1.4674995050384145,
          -0.33782459796503067,
          0.4227277598515778,
          0.5345466892685413,
          -0.40806524589228743,
          -0.3632137413898601,
          -0.5128961430005934,
          0.32958613059022096,
          0.056449082223379625,
          -0.5741367405128155,
          -1.4522547358486244,
          1.5156989720072513,
          -1.5956070894351733,
          0.5468079407706042,
          0.5201902490525464,
          0.4405097935390144,
          0.16697909238681657,
          0.650148591850684,
          1.602800718166188,
          -2.323303975173998,
          -0.3919455823359626,
          -0.7901808014383477,
          0.3018838962950447,
          0.7363176053821264,
          0.3982958216374505,
          -1.8604341682340761,
          0.028930473350775563,
          0.3289011160680272,
          2.4482571174976813,
          0.17805452428597393,
          0.9037599076955404,
          -0.5356039813501637,
          0.5981293401750825,
          1.4011963024633105,
          0.02947680573042643,
          0.4138985401230784,
          -0.9208991891630186,
          1.153642037354523
         ],
         "xaxis": "x16",
         "yaxis": "y16"
        }
       ],
       "layout": {
        "bargap": 0.02,
        "legend": {
         "bgcolor": "#F5F6F9",
         "font": {
          "color": "#4D5663"
         }
        },
        "paper_bgcolor": "#F5F6F9",
        "plot_bgcolor": "#F5F6F9",
        "showlegend": false,
        "template": {
         "data": {
          "bar": [
           {
            "error_x": {
             "color": "#2a3f5f"
            },
            "error_y": {
             "color": "#2a3f5f"
            },
            "marker": {
             "line": {
              "color": "#E5ECF6",
              "width": 0.5
             },
             "pattern": {
              "fillmode": "overlay",
              "size": 10,
              "solidity": 0.2
             }
            },
            "type": "bar"
           }
          ],
          "barpolar": [
           {
            "marker": {
             "line": {
              "color": "#E5ECF6",
              "width": 0.5
             },
             "pattern": {
              "fillmode": "overlay",
              "size": 10,
              "solidity": 0.2
             }
            },
            "type": "barpolar"
           }
          ],
          "carpet": [
           {
            "aaxis": {
             "endlinecolor": "#2a3f5f",
             "gridcolor": "white",
             "linecolor": "white",
             "minorgridcolor": "white",
             "startlinecolor": "#2a3f5f"
            },
            "baxis": {
             "endlinecolor": "#2a3f5f",
             "gridcolor": "white",
             "linecolor": "white",
             "minorgridcolor": "white",
             "startlinecolor": "#2a3f5f"
            },
            "type": "carpet"
           }
          ],
          "choropleth": [
           {
            "colorbar": {
             "outlinewidth": 0,
             "ticks": ""
            },
            "type": "choropleth"
           }
          ],
          "contour": [
           {
            "colorbar": {
             "outlinewidth": 0,
             "ticks": ""
            },
            "colorscale": [
             [
              0,
              "#0d0887"
             ],
             [
              0.1111111111111111,
              "#46039f"
             ],
             [
              0.2222222222222222,
              "#7201a8"
             ],
             [
              0.3333333333333333,
              "#9c179e"
             ],
             [
              0.4444444444444444,
              "#bd3786"
             ],
             [
              0.5555555555555556,
              "#d8576b"
             ],
             [
              0.6666666666666666,
              "#ed7953"
             ],
             [
              0.7777777777777778,
              "#fb9f3a"
             ],
             [
              0.8888888888888888,
              "#fdca26"
             ],
             [
              1,
              "#f0f921"
             ]
            ],
            "type": "contour"
           }
          ],
          "contourcarpet": [
           {
            "colorbar": {
             "outlinewidth": 0,
             "ticks": ""
            },
            "type": "contourcarpet"
           }
          ],
          "heatmap": [
           {
            "colorbar": {
             "outlinewidth": 0,
             "ticks": ""
            },
            "colorscale": [
             [
              0,
              "#0d0887"
             ],
             [
              0.1111111111111111,
              "#46039f"
             ],
             [
              0.2222222222222222,
              "#7201a8"
             ],
             [
              0.3333333333333333,
              "#9c179e"
             ],
             [
              0.4444444444444444,
              "#bd3786"
             ],
             [
              0.5555555555555556,
              "#d8576b"
             ],
             [
              0.6666666666666666,
              "#ed7953"
             ],
             [
              0.7777777777777778,
              "#fb9f3a"
             ],
             [
              0.8888888888888888,
              "#fdca26"
             ],
             [
              1,
              "#f0f921"
             ]
            ],
            "type": "heatmap"
           }
          ],
          "heatmapgl": [
           {
            "colorbar": {
             "outlinewidth": 0,
             "ticks": ""
            },
            "colorscale": [
             [
              0,
              "#0d0887"
             ],
             [
              0.1111111111111111,
              "#46039f"
             ],
             [
              0.2222222222222222,
              "#7201a8"
             ],
             [
              0.3333333333333333,
              "#9c179e"
             ],
             [
              0.4444444444444444,
              "#bd3786"
             ],
             [
              0.5555555555555556,
              "#d8576b"
             ],
             [
              0.6666666666666666,
              "#ed7953"
             ],
             [
              0.7777777777777778,
              "#fb9f3a"
             ],
             [
              0.8888888888888888,
              "#fdca26"
             ],
             [
              1,
              "#f0f921"
             ]
            ],
            "type": "heatmapgl"
           }
          ],
          "histogram": [
           {
            "marker": {
             "pattern": {
              "fillmode": "overlay",
              "size": 10,
              "solidity": 0.2
             }
            },
            "type": "histogram"
           }
          ],
          "histogram2d": [
           {
            "colorbar": {
             "outlinewidth": 0,
             "ticks": ""
            },
            "colorscale": [
             [
              0,
              "#0d0887"
             ],
             [
              0.1111111111111111,
              "#46039f"
             ],
             [
              0.2222222222222222,
              "#7201a8"
             ],
             [
              0.3333333333333333,
              "#9c179e"
             ],
             [
              0.4444444444444444,
              "#bd3786"
             ],
             [
              0.5555555555555556,
              "#d8576b"
             ],
             [
              0.6666666666666666,
              "#ed7953"
             ],
             [
              0.7777777777777778,
              "#fb9f3a"
             ],
             [
              0.8888888888888888,
              "#fdca26"
             ],
             [
              1,
              "#f0f921"
             ]
            ],
            "type": "histogram2d"
           }
          ],
          "histogram2dcontour": [
           {
            "colorbar": {
             "outlinewidth": 0,
             "ticks": ""
            },
            "colorscale": [
             [
              0,
              "#0d0887"
             ],
             [
              0.1111111111111111,
              "#46039f"
             ],
             [
              0.2222222222222222,
              "#7201a8"
             ],
             [
              0.3333333333333333,
              "#9c179e"
             ],
             [
              0.4444444444444444,
              "#bd3786"
             ],
             [
              0.5555555555555556,
              "#d8576b"
             ],
             [
              0.6666666666666666,
              "#ed7953"
             ],
             [
              0.7777777777777778,
              "#fb9f3a"
             ],
             [
              0.8888888888888888,
              "#fdca26"
             ],
             [
              1,
              "#f0f921"
             ]
            ],
            "type": "histogram2dcontour"
           }
          ],
          "mesh3d": [
           {
            "colorbar": {
             "outlinewidth": 0,
             "ticks": ""
            },
            "type": "mesh3d"
           }
          ],
          "parcoords": [
           {
            "line": {
             "colorbar": {
              "outlinewidth": 0,
              "ticks": ""
             }
            },
            "type": "parcoords"
           }
          ],
          "pie": [
           {
            "automargin": true,
            "type": "pie"
           }
          ],
          "scatter": [
           {
            "marker": {
             "colorbar": {
              "outlinewidth": 0,
              "ticks": ""
             }
            },
            "type": "scatter"
           }
          ],
          "scatter3d": [
           {
            "line": {
             "colorbar": {
              "outlinewidth": 0,
              "ticks": ""
             }
            },
            "marker": {
             "colorbar": {
              "outlinewidth": 0,
              "ticks": ""
             }
            },
            "type": "scatter3d"
           }
          ],
          "scattercarpet": [
           {
            "marker": {
             "colorbar": {
              "outlinewidth": 0,
              "ticks": ""
             }
            },
            "type": "scattercarpet"
           }
          ],
          "scattergeo": [
           {
            "marker": {
             "colorbar": {
              "outlinewidth": 0,
              "ticks": ""
             }
            },
            "type": "scattergeo"
           }
          ],
          "scattergl": [
           {
            "marker": {
             "colorbar": {
              "outlinewidth": 0,
              "ticks": ""
             }
            },
            "type": "scattergl"
           }
          ],
          "scattermapbox": [
           {
            "marker": {
             "colorbar": {
              "outlinewidth": 0,
              "ticks": ""
             }
            },
            "type": "scattermapbox"
           }
          ],
          "scatterpolar": [
           {
            "marker": {
             "colorbar": {
              "outlinewidth": 0,
              "ticks": ""
             }
            },
            "type": "scatterpolar"
           }
          ],
          "scatterpolargl": [
           {
            "marker": {
             "colorbar": {
              "outlinewidth": 0,
              "ticks": ""
             }
            },
            "type": "scatterpolargl"
           }
          ],
          "scatterternary": [
           {
            "marker": {
             "colorbar": {
              "outlinewidth": 0,
              "ticks": ""
             }
            },
            "type": "scatterternary"
           }
          ],
          "surface": [
           {
            "colorbar": {
             "outlinewidth": 0,
             "ticks": ""
            },
            "colorscale": [
             [
              0,
              "#0d0887"
             ],
             [
              0.1111111111111111,
              "#46039f"
             ],
             [
              0.2222222222222222,
              "#7201a8"
             ],
             [
              0.3333333333333333,
              "#9c179e"
             ],
             [
              0.4444444444444444,
              "#bd3786"
             ],
             [
              0.5555555555555556,
              "#d8576b"
             ],
             [
              0.6666666666666666,
              "#ed7953"
             ],
             [
              0.7777777777777778,
              "#fb9f3a"
             ],
             [
              0.8888888888888888,
              "#fdca26"
             ],
             [
              1,
              "#f0f921"
             ]
            ],
            "type": "surface"
           }
          ],
          "table": [
           {
            "cells": {
             "fill": {
              "color": "#EBF0F8"
             },
             "line": {
              "color": "white"
             }
            },
            "header": {
             "fill": {
              "color": "#C8D4E3"
             },
             "line": {
              "color": "white"
             }
            },
            "type": "table"
           }
          ]
         },
         "layout": {
          "annotationdefaults": {
           "arrowcolor": "#2a3f5f",
           "arrowhead": 0,
           "arrowwidth": 1
          },
          "autotypenumbers": "strict",
          "coloraxis": {
           "colorbar": {
            "outlinewidth": 0,
            "ticks": ""
           }
          },
          "colorscale": {
           "diverging": [
            [
             0,
             "#8e0152"
            ],
            [
             0.1,
             "#c51b7d"
            ],
            [
             0.2,
             "#de77ae"
            ],
            [
             0.3,
             "#f1b6da"
            ],
            [
             0.4,
             "#fde0ef"
            ],
            [
             0.5,
             "#f7f7f7"
            ],
            [
             0.6,
             "#e6f5d0"
            ],
            [
             0.7,
             "#b8e186"
            ],
            [
             0.8,
             "#7fbc41"
            ],
            [
             0.9,
             "#4d9221"
            ],
            [
             1,
             "#276419"
            ]
           ],
           "sequential": [
            [
             0,
             "#0d0887"
            ],
            [
             0.1111111111111111,
             "#46039f"
            ],
            [
             0.2222222222222222,
             "#7201a8"
            ],
            [
             0.3333333333333333,
             "#9c179e"
            ],
            [
             0.4444444444444444,
             "#bd3786"
            ],
            [
             0.5555555555555556,
             "#d8576b"
            ],
            [
             0.6666666666666666,
             "#ed7953"
            ],
            [
             0.7777777777777778,
             "#fb9f3a"
            ],
            [
             0.8888888888888888,
             "#fdca26"
            ],
            [
             1,
             "#f0f921"
            ]
           ],
           "sequentialminus": [
            [
             0,
             "#0d0887"
            ],
            [
             0.1111111111111111,
             "#46039f"
            ],
            [
             0.2222222222222222,
             "#7201a8"
            ],
            [
             0.3333333333333333,
             "#9c179e"
            ],
            [
             0.4444444444444444,
             "#bd3786"
            ],
            [
             0.5555555555555556,
             "#d8576b"
            ],
            [
             0.6666666666666666,
             "#ed7953"
            ],
            [
             0.7777777777777778,
             "#fb9f3a"
            ],
            [
             0.8888888888888888,
             "#fdca26"
            ],
            [
             1,
             "#f0f921"
            ]
           ]
          },
          "colorway": [
           "#636efa",
           "#EF553B",
           "#00cc96",
           "#ab63fa",
           "#FFA15A",
           "#19d3f3",
           "#FF6692",
           "#B6E880",
           "#FF97FF",
           "#FECB52"
          ],
          "font": {
           "color": "#2a3f5f"
          },
          "geo": {
           "bgcolor": "white",
           "lakecolor": "white",
           "landcolor": "#E5ECF6",
           "showlakes": true,
           "showland": true,
           "subunitcolor": "white"
          },
          "hoverlabel": {
           "align": "left"
          },
          "hovermode": "closest",
          "mapbox": {
           "style": "light"
          },
          "paper_bgcolor": "white",
          "plot_bgcolor": "#E5ECF6",
          "polar": {
           "angularaxis": {
            "gridcolor": "white",
            "linecolor": "white",
            "ticks": ""
           },
           "bgcolor": "#E5ECF6",
           "radialaxis": {
            "gridcolor": "white",
            "linecolor": "white",
            "ticks": ""
           }
          },
          "scene": {
           "xaxis": {
            "backgroundcolor": "#E5ECF6",
            "gridcolor": "white",
            "gridwidth": 2,
            "linecolor": "white",
            "showbackground": true,
            "ticks": "",
            "zerolinecolor": "white"
           },
           "yaxis": {
            "backgroundcolor": "#E5ECF6",
            "gridcolor": "white",
            "gridwidth": 2,
            "linecolor": "white",
            "showbackground": true,
            "ticks": "",
            "zerolinecolor": "white"
           },
           "zaxis": {
            "backgroundcolor": "#E5ECF6",
            "gridcolor": "white",
            "gridwidth": 2,
            "linecolor": "white",
            "showbackground": true,
            "ticks": "",
            "zerolinecolor": "white"
           }
          },
          "shapedefaults": {
           "line": {
            "color": "#2a3f5f"
           }
          },
          "ternary": {
           "aaxis": {
            "gridcolor": "white",
            "linecolor": "white",
            "ticks": ""
           },
           "baxis": {
            "gridcolor": "white",
            "linecolor": "white",
            "ticks": ""
           },
           "bgcolor": "#E5ECF6",
           "caxis": {
            "gridcolor": "white",
            "linecolor": "white",
            "ticks": ""
           }
          },
          "title": {
           "x": 0.05
          },
          "xaxis": {
           "automargin": true,
           "gridcolor": "white",
           "linecolor": "white",
           "ticks": "",
           "title": {
            "standoff": 15
           },
           "zerolinecolor": "white",
           "zerolinewidth": 2
          },
          "yaxis": {
           "automargin": true,
           "gridcolor": "white",
           "linecolor": "white",
           "ticks": "",
           "title": {
            "standoff": 15
           },
           "zerolinecolor": "white",
           "zerolinewidth": 2
          }
         }
        },
        "title": {
         "font": {
          "color": "#4D5663"
         }
        },
        "xaxis": {
         "anchor": "y",
         "domain": [
          0,
          0.2125
         ],
         "gridcolor": "#E1E5ED",
         "showgrid": false,
         "tickfont": {
          "color": "#4D5663"
         },
         "title": {
          "font": {
           "color": "#4D5663"
          },
          "text": ""
         },
         "zerolinecolor": "#E1E5ED"
        },
        "xaxis10": {
         "anchor": "y10",
         "domain": [
          0.2625,
          0.475
         ],
         "gridcolor": "#E1E5ED",
         "showgrid": false,
         "tickfont": {
          "color": "#4D5663"
         },
         "title": {
          "font": {
           "color": "#4D5663"
          },
          "text": ""
         },
         "zerolinecolor": "#E1E5ED"
        },
        "xaxis11": {
         "anchor": "y11",
         "domain": [
          0.525,
          0.7375
         ],
         "gridcolor": "#E1E5ED",
         "showgrid": false,
         "tickfont": {
          "color": "#4D5663"
         },
         "title": {
          "font": {
           "color": "#4D5663"
          },
          "text": ""
         },
         "zerolinecolor": "#E1E5ED"
        },
        "xaxis12": {
         "anchor": "y12",
         "domain": [
          0.7875,
          1
         ],
         "gridcolor": "#E1E5ED",
         "showgrid": false,
         "tickfont": {
          "color": "#4D5663"
         },
         "title": {
          "font": {
           "color": "#4D5663"
          },
          "text": ""
         },
         "zerolinecolor": "#E1E5ED"
        },
        "xaxis13": {
         "anchor": "y13",
         "domain": [
          0,
          0.2125
         ],
         "gridcolor": "#E1E5ED",
         "showgrid": false,
         "tickfont": {
          "color": "#4D5663"
         },
         "title": {
          "font": {
           "color": "#4D5663"
          },
          "text": ""
         },
         "zerolinecolor": "#E1E5ED"
        },
        "xaxis14": {
         "anchor": "y14",
         "domain": [
          0.2625,
          0.475
         ],
         "gridcolor": "#E1E5ED",
         "showgrid": false,
         "tickfont": {
          "color": "#4D5663"
         },
         "title": {
          "font": {
           "color": "#4D5663"
          },
          "text": ""
         },
         "zerolinecolor": "#E1E5ED"
        },
        "xaxis15": {
         "anchor": "y15",
         "domain": [
          0.525,
          0.7375
         ],
         "gridcolor": "#E1E5ED",
         "showgrid": false,
         "tickfont": {
          "color": "#4D5663"
         },
         "title": {
          "font": {
           "color": "#4D5663"
          },
          "text": ""
         },
         "zerolinecolor": "#E1E5ED"
        },
        "xaxis16": {
         "anchor": "y16",
         "domain": [
          0.7875,
          1
         ],
         "gridcolor": "#E1E5ED",
         "showgrid": false,
         "tickfont": {
          "color": "#4D5663"
         },
         "title": {
          "font": {
           "color": "#4D5663"
          },
          "text": ""
         },
         "zerolinecolor": "#E1E5ED"
        },
        "xaxis2": {
         "anchor": "y2",
         "domain": [
          0.2625,
          0.475
         ],
         "gridcolor": "#E1E5ED",
         "showgrid": false,
         "tickfont": {
          "color": "#4D5663"
         },
         "title": {
          "font": {
           "color": "#4D5663"
          },
          "text": ""
         },
         "zerolinecolor": "#E1E5ED"
        },
        "xaxis3": {
         "anchor": "y3",
         "domain": [
          0.525,
          0.7375
         ],
         "gridcolor": "#E1E5ED",
         "showgrid": false,
         "tickfont": {
          "color": "#4D5663"
         },
         "title": {
          "font": {
           "color": "#4D5663"
          },
          "text": ""
         },
         "zerolinecolor": "#E1E5ED"
        },
        "xaxis4": {
         "anchor": "y4",
         "domain": [
          0.7875,
          1
         ],
         "gridcolor": "#E1E5ED",
         "showgrid": false,
         "tickfont": {
          "color": "#4D5663"
         },
         "title": {
          "font": {
           "color": "#4D5663"
          },
          "text": ""
         },
         "zerolinecolor": "#E1E5ED"
        },
        "xaxis5": {
         "anchor": "y5",
         "domain": [
          0,
          0.2125
         ],
         "gridcolor": "#E1E5ED",
         "showgrid": false,
         "tickfont": {
          "color": "#4D5663"
         },
         "title": {
          "font": {
           "color": "#4D5663"
          },
          "text": ""
         },
         "zerolinecolor": "#E1E5ED"
        },
        "xaxis6": {
         "anchor": "y6",
         "domain": [
          0.2625,
          0.475
         ],
         "gridcolor": "#E1E5ED",
         "showgrid": false,
         "tickfont": {
          "color": "#4D5663"
         },
         "title": {
          "font": {
           "color": "#4D5663"
          },
          "text": ""
         },
         "zerolinecolor": "#E1E5ED"
        },
        "xaxis7": {
         "anchor": "y7",
         "domain": [
          0.525,
          0.7375
         ],
         "gridcolor": "#E1E5ED",
         "showgrid": false,
         "tickfont": {
          "color": "#4D5663"
         },
         "title": {
          "font": {
           "color": "#4D5663"
          },
          "text": ""
         },
         "zerolinecolor": "#E1E5ED"
        },
        "xaxis8": {
         "anchor": "y8",
         "domain": [
          0.7875,
          1
         ],
         "gridcolor": "#E1E5ED",
         "showgrid": false,
         "tickfont": {
          "color": "#4D5663"
         },
         "title": {
          "font": {
           "color": "#4D5663"
          },
          "text": ""
         },
         "zerolinecolor": "#E1E5ED"
        },
        "xaxis9": {
         "anchor": "y9",
         "domain": [
          0,
          0.2125
         ],
         "gridcolor": "#E1E5ED",
         "showgrid": false,
         "tickfont": {
          "color": "#4D5663"
         },
         "title": {
          "font": {
           "color": "#4D5663"
          },
          "text": ""
         },
         "zerolinecolor": "#E1E5ED"
        },
        "yaxis": {
         "anchor": "x",
         "domain": [
          0.8025,
          1
         ],
         "gridcolor": "#E1E5ED",
         "showgrid": false,
         "tickfont": {
          "color": "#4D5663"
         },
         "title": {
          "font": {
           "color": "#4D5663"
          },
          "text": ""
         },
         "zerolinecolor": "#E1E5ED"
        },
        "yaxis10": {
         "anchor": "x10",
         "domain": [
          0.2675,
          0.465
         ],
         "gridcolor": "#E1E5ED",
         "showgrid": false,
         "tickfont": {
          "color": "#4D5663"
         },
         "title": {
          "font": {
           "color": "#4D5663"
          },
          "text": ""
         },
         "zerolinecolor": "#E1E5ED"
        },
        "yaxis11": {
         "anchor": "x11",
         "domain": [
          0.2675,
          0.465
         ],
         "gridcolor": "#E1E5ED",
         "showgrid": false,
         "tickfont": {
          "color": "#4D5663"
         },
         "title": {
          "font": {
           "color": "#4D5663"
          },
          "text": ""
         },
         "zerolinecolor": "#E1E5ED"
        },
        "yaxis12": {
         "anchor": "x12",
         "domain": [
          0.2675,
          0.465
         ],
         "gridcolor": "#E1E5ED",
         "showgrid": false,
         "tickfont": {
          "color": "#4D5663"
         },
         "title": {
          "font": {
           "color": "#4D5663"
          },
          "text": ""
         },
         "zerolinecolor": "#E1E5ED"
        },
        "yaxis13": {
         "anchor": "x13",
         "domain": [
          0,
          0.1975
         ],
         "gridcolor": "#E1E5ED",
         "showgrid": false,
         "tickfont": {
          "color": "#4D5663"
         },
         "title": {
          "font": {
           "color": "#4D5663"
          },
          "text": ""
         },
         "zerolinecolor": "#E1E5ED"
        },
        "yaxis14": {
         "anchor": "x14",
         "domain": [
          0,
          0.1975
         ],
         "gridcolor": "#E1E5ED",
         "showgrid": false,
         "tickfont": {
          "color": "#4D5663"
         },
         "title": {
          "font": {
           "color": "#4D5663"
          },
          "text": ""
         },
         "zerolinecolor": "#E1E5ED"
        },
        "yaxis15": {
         "anchor": "x15",
         "domain": [
          0,
          0.1975
         ],
         "gridcolor": "#E1E5ED",
         "showgrid": false,
         "tickfont": {
          "color": "#4D5663"
         },
         "title": {
          "font": {
           "color": "#4D5663"
          },
          "text": ""
         },
         "zerolinecolor": "#E1E5ED"
        },
        "yaxis16": {
         "anchor": "x16",
         "domain": [
          0,
          0.1975
         ],
         "gridcolor": "#E1E5ED",
         "showgrid": false,
         "tickfont": {
          "color": "#4D5663"
         },
         "title": {
          "font": {
           "color": "#4D5663"
          },
          "text": ""
         },
         "zerolinecolor": "#E1E5ED"
        },
        "yaxis2": {
         "anchor": "x2",
         "domain": [
          0.8025,
          1
         ],
         "gridcolor": "#E1E5ED",
         "showgrid": false,
         "tickfont": {
          "color": "#4D5663"
         },
         "title": {
          "font": {
           "color": "#4D5663"
          },
          "text": ""
         },
         "zerolinecolor": "#E1E5ED"
        },
        "yaxis3": {
         "anchor": "x3",
         "domain": [
          0.8025,
          1
         ],
         "gridcolor": "#E1E5ED",
         "showgrid": false,
         "tickfont": {
          "color": "#4D5663"
         },
         "title": {
          "font": {
           "color": "#4D5663"
          },
          "text": ""
         },
         "zerolinecolor": "#E1E5ED"
        },
        "yaxis4": {
         "anchor": "x4",
         "domain": [
          0.8025,
          1
         ],
         "gridcolor": "#E1E5ED",
         "showgrid": false,
         "tickfont": {
          "color": "#4D5663"
         },
         "title": {
          "font": {
           "color": "#4D5663"
          },
          "text": ""
         },
         "zerolinecolor": "#E1E5ED"
        },
        "yaxis5": {
         "anchor": "x5",
         "domain": [
          0.535,
          0.7325
         ],
         "gridcolor": "#E1E5ED",
         "showgrid": false,
         "tickfont": {
          "color": "#4D5663"
         },
         "title": {
          "font": {
           "color": "#4D5663"
          },
          "text": ""
         },
         "zerolinecolor": "#E1E5ED"
        },
        "yaxis6": {
         "anchor": "x6",
         "domain": [
          0.535,
          0.7325
         ],
         "gridcolor": "#E1E5ED",
         "showgrid": false,
         "tickfont": {
          "color": "#4D5663"
         },
         "title": {
          "font": {
           "color": "#4D5663"
          },
          "text": ""
         },
         "zerolinecolor": "#E1E5ED"
        },
        "yaxis7": {
         "anchor": "x7",
         "domain": [
          0.535,
          0.7325
         ],
         "gridcolor": "#E1E5ED",
         "showgrid": false,
         "tickfont": {
          "color": "#4D5663"
         },
         "title": {
          "font": {
           "color": "#4D5663"
          },
          "text": ""
         },
         "zerolinecolor": "#E1E5ED"
        },
        "yaxis8": {
         "anchor": "x8",
         "domain": [
          0.535,
          0.7325
         ],
         "gridcolor": "#E1E5ED",
         "showgrid": false,
         "tickfont": {
          "color": "#4D5663"
         },
         "title": {
          "font": {
           "color": "#4D5663"
          },
          "text": ""
         },
         "zerolinecolor": "#E1E5ED"
        },
        "yaxis9": {
         "anchor": "x9",
         "domain": [
          0.2675,
          0.465
         ],
         "gridcolor": "#E1E5ED",
         "showgrid": false,
         "tickfont": {
          "color": "#4D5663"
         },
         "title": {
          "font": {
           "color": "#4D5663"
          },
          "text": ""
         },
         "zerolinecolor": "#E1E5ED"
        }
       }
      },
      "text/html": [
       "<div>                            <div id=\"75199340-0ca4-49f2-b0b3-41455c5f90c8\" class=\"plotly-graph-div\" style=\"height:525px; width:100%;\"></div>            <script type=\"text/javascript\">                require([\"plotly\"], function(Plotly) {                    window.PLOTLYENV=window.PLOTLYENV || {};\n",
       "                    window.PLOTLYENV.BASE_URL='https://plot.ly';                                    if (document.getElementById(\"75199340-0ca4-49f2-b0b3-41455c5f90c8\")) {                    Plotly.newPlot(                        \"75199340-0ca4-49f2-b0b3-41455c5f90c8\",                        [{\"histfunc\":\"count\",\"histnorm\":\"\",\"marker\":{\"color\":\"rgba(255, 153, 51, 1.0)\",\"line\":{\"color\":\"#4D5663\",\"width\":1.3}},\"name\":\"A\",\"nbinsx\":10,\"opacity\":0.8,\"orientation\":\"v\",\"x\":[0.48979428455356877,1.2000787712482575,0.023788380464120393,-0.7762937541590931,-0.012364867282905903,-1.2161957246449362,-0.02690116005734921,-0.6136576494704216,-1.0932741606526177,1.3367224280535983,-0.21086536735247163,0.7004920634418149,0.022903232284200294,1.8118903731503866,0.03874003270713806,0.14207857973235602,-1.2664546662031808,1.0882638165812608,-0.7120729647956264,0.6937532377713457,-0.38587006015377073,0.7944049114081017,0.8902470208690971,-0.017596363807709636,-0.21123469197121414,-0.44522679075601096,0.06594417027871106,-0.4005156041049335,1.531611994137102,1.469053508293093,-0.6960757696420884,0.42188597213691115,-0.24857896565921767,0.35243368033595995,0.32289319825012025,1.756959477480924,-0.8646444846801743,0.7327493359184236,-0.05616681327469264,0.24137468687379302,0.13490316200095048,-0.30294439883702995,0.20149030418780658,-0.8439630384647533,0.9173475168512586,-0.7267483351185445,0.4551191588285759,-1.3050200504200984,-0.940424126632205,-0.2861436512950377,0.3272416090612496,-1.4862435821612276,-0.7419822477245054,-0.5289520199886615,-0.19209542834834886,-1.6137840913423802,2.5253792135126267,-0.36401403896536855,1.0560010342257284,1.4282679514136718,-1.7240519483814831,0.5671338747613731,-0.9080841728798318,0.31546878483673546,-0.11377460855602518,0.053496764203978336,0.6818028998550107,-1.9774449121637068,0.7084250781799291,1.5278746674917012,-0.9571164971445482,-1.3294630618845433,0.942272172901489,-0.019981281703439734,1.4525537255249976,0.027433302927381463,-1.8001925853232867,1.4426728488088858,-0.6965262723544774,1.2879984069477703,-1.4514103759363945,0.10321693798368037,-1.0337673090830766,1.2123441508341763,0.2816563048236678,-1.0116419291291963,1.2137608091381367,-0.6097424621297425,1.199038876047825,-0.14784081503360644,-1.0529508579837437,0.203716845237984,-1.3703913734693944,-1.4621189194907764,1.2079693890251404,1.0607169379613697,1.6860621157919298,-0.3043036742676254,1.252089094534873,0.8019105881421928],\"xaxis\":\"x\",\"yaxis\":\"y\",\"type\":\"histogram\"},{\"line\":{\"color\":\"rgba(128, 128, 128, 1.0)\",\"dash\":\"solid\",\"shape\":\"linear\",\"width\":1.3},\"marker\":{\"size\":2,\"symbol\":\"circle\"},\"mode\":\"markers\",\"name\":\"A\",\"text\":\"\",\"x\":[-1.0998518931967172,-0.951310489501729,0.4961980985412946,-1.9465577812700667,0.4782546807810063,0.3915928924499597,-0.16195461581883155,-0.5684389432325745,0.7864442079773991,0.11786194397659192,0.7806483973082989,-0.7216593398328882,0.14627440175389989,-0.07554072415619882,0.014168578367290862,-0.6333465050786681,1.0127771174834996,1.3878021905639235,0.4904150562542391,0.2536434005385077,1.1786366553776157,-3.334302912542056,0.7647022080307493,-0.031935851656112776,-0.7839089589040155,-0.09122200998567682,-0.4898507459459323,-0.5684394463175186,0.11940011898377212,-0.19497172220308293,2.728343356239694,-0.40789330735339907,-0.24459607575641326,-0.4858707994184838,-0.015234217101942981,-0.08771777295493485,0.4772963643238052,1.4507007392664688,0.4061437530079583,0.15419502764767845,-0.726525983701748,-0.2669636603429239,0.9852178153304991,-1.29587901702008,-0.6664537394097019,-1.093155363979523,1.4968662243590183,-0.8959185628124724,-1.5208535704872201,-0.4052181341125891,-0.017951376963129023,0.9116272137945861,-1.6649360797874992,0.3040516316528378,-0.12186378938520936,1.1724212208098135,-1.274141257813947,0.11182468335506614,1.47499536050285,0.2583425826196655,-0.32092947933983107,1.0007576889539056,0.20795616239699127,-0.08665414940310559,0.6523377927617374,0.16726551027784153,-0.42557944492126054,1.3705804781599653,0.9989305038474585,-1.6823152185810062,-1.4777209857615803,-0.9939514975377667,-1.0574492878409467,-0.18781359857066682,0.8413247717773269,1.1757733216891897,0.2972356932010209,-0.28249667162063813,-1.3381021329751352,0.8454290322931972,-0.43718099727400006,0.08608827559328311,0.42555094905863433,0.06474854527759977,-1.7365979250057706,-0.6954111510725659,0.5943477159463276,-0.0624064236918547,-0.09311347408323536,-0.20864777953826144,-1.5057657340094361,0.985649019277635,-0.618834216881153,-0.24696789588479345,0.1741621994183457,-1.2990736535773484,-1.9746857091172834,0.04549424231182181,-0.4787536211341913,-1.8165952496968758],\"xaxis\":\"x2\",\"y\":[0.48979428455356877,1.2000787712482575,0.023788380464120393,-0.7762937541590931,-0.012364867282905903,-1.2161957246449362,-0.02690116005734921,-0.6136576494704216,-1.0932741606526177,1.3367224280535983,-0.21086536735247163,0.7004920634418149,0.022903232284200294,1.8118903731503866,0.03874003270713806,0.14207857973235602,-1.2664546662031808,1.0882638165812608,-0.7120729647956264,0.6937532377713457,-0.38587006015377073,0.7944049114081017,0.8902470208690971,-0.017596363807709636,-0.21123469197121414,-0.44522679075601096,0.06594417027871106,-0.4005156041049335,1.531611994137102,1.469053508293093,-0.6960757696420884,0.42188597213691115,-0.24857896565921767,0.35243368033595995,0.32289319825012025,1.756959477480924,-0.8646444846801743,0.7327493359184236,-0.05616681327469264,0.24137468687379302,0.13490316200095048,-0.30294439883702995,0.20149030418780658,-0.8439630384647533,0.9173475168512586,-0.7267483351185445,0.4551191588285759,-1.3050200504200984,-0.940424126632205,-0.2861436512950377,0.3272416090612496,-1.4862435821612276,-0.7419822477245054,-0.5289520199886615,-0.19209542834834886,-1.6137840913423802,2.5253792135126267,-0.36401403896536855,1.0560010342257284,1.4282679514136718,-1.7240519483814831,0.5671338747613731,-0.9080841728798318,0.31546878483673546,-0.11377460855602518,0.053496764203978336,0.6818028998550107,-1.9774449121637068,0.7084250781799291,1.5278746674917012,-0.9571164971445482,-1.3294630618845433,0.942272172901489,-0.019981281703439734,1.4525537255249976,0.027433302927381463,-1.8001925853232867,1.4426728488088858,-0.6965262723544774,1.2879984069477703,-1.4514103759363945,0.10321693798368037,-1.0337673090830766,1.2123441508341763,0.2816563048236678,-1.0116419291291963,1.2137608091381367,-0.6097424621297425,1.199038876047825,-0.14784081503360644,-1.0529508579837437,0.203716845237984,-1.3703913734693944,-1.4621189194907764,1.2079693890251404,1.0607169379613697,1.6860621157919298,-0.3043036742676254,1.252089094534873,0.8019105881421928],\"yaxis\":\"y2\",\"type\":\"scatter\"},{\"line\":{\"color\":\"rgba(128, 128, 128, 1.0)\",\"dash\":\"solid\",\"shape\":\"linear\",\"width\":1.3},\"marker\":{\"size\":2,\"symbol\":\"circle\"},\"mode\":\"markers\",\"name\":\"A\",\"text\":\"\",\"x\":[-1.0625887658002213,0.09202816193018518,0.564848376353891,0.419472612971872,0.12660612020962858,-0.5127914675811296,-1.1250834598039288,-0.6051822916912,-0.16221998280097874,0.7356228690390648,-0.07574687216850803,0.17596247282604027,-1.721717086791258,2.323429731895257,-0.8482030722200461,-0.13369431269758897,1.43368695838209,0.12440433777333088,0.6827434615859537,-1.2316479081514446,-1.6643319307140543,-0.7326761450757091,0.14581998247595768,-0.8486405675639428,-1.3879983259008852,-1.869598616511187,-2.360893594863502,1.1800886270616593,0.5182722178949594,0.7554306808110395,-1.2801531109221176,-1.816141993229202,-0.5232033577209291,0.7622410426171143,-0.05449472773996224,0.1922114685510936,-0.4141235355446176,0.7052675744404783,-2.59538260905528,-0.16142979812964459,0.2326207735748364,-0.7723616091348504,0.41227233208544345,0.16675903993999175,-0.5494052757613266,-1.2332580401100453,-1.5362604958487704,-0.6850801955952219,-0.10309357320981548,1.211292382720803,0.8824592740410863,-0.8569072831904082,-1.250014049122893,-0.08799308927471544,-0.6552934530711982,0.9863289277092309,-0.0031616249570040264,0.8656884015381522,-1.3457460857249597,-0.8700802229476118,0.7379618696557516,-1.310500185377312,-1.2439360756820212,-1.852983958425285,-0.5483973457086878,-0.2620927767535737,0.8223682944291094,0.41648038679327865,-0.14478273313287518,0.04459544764541705,0.0552076255058285,-0.35827809100913904,1.1307788184569203,0.23619861907372788,-0.3841381654666092,0.018158187353936536,-0.9297831247259087,-0.9483441497850129,0.15370068303643483,-0.7567916707710458,-0.22349775200537117,-0.16436541076498792,-0.04045064822824736,1.2055700104402123,-0.49887850886789453,-0.5435253428124678,0.07203272803770303,1.77607423833372,0.4643240466033002,0.7132203723900344,0.06056029680904643,0.5970097948018788,-0.9322428843780637,0.07146509261690312,1.7081053966754396,-0.29765733722000015,0.8941126463209245,-0.5008661024802709,2.3862236353444457,-2.640515182547073],\"xaxis\":\"x3\",\"y\":[0.48979428455356877,1.2000787712482575,0.023788380464120393,-0.7762937541590931,-0.012364867282905903,-1.2161957246449362,-0.02690116005734921,-0.6136576494704216,-1.0932741606526177,1.3367224280535983,-0.21086536735247163,0.7004920634418149,0.022903232284200294,1.8118903731503866,0.03874003270713806,0.14207857973235602,-1.2664546662031808,1.0882638165812608,-0.7120729647956264,0.6937532377713457,-0.38587006015377073,0.7944049114081017,0.8902470208690971,-0.017596363807709636,-0.21123469197121414,-0.44522679075601096,0.06594417027871106,-0.4005156041049335,1.531611994137102,1.469053508293093,-0.6960757696420884,0.42188597213691115,-0.24857896565921767,0.35243368033595995,0.32289319825012025,1.756959477480924,-0.8646444846801743,0.7327493359184236,-0.05616681327469264,0.24137468687379302,0.13490316200095048,-0.30294439883702995,0.20149030418780658,-0.8439630384647533,0.9173475168512586,-0.7267483351185445,0.4551191588285759,-1.3050200504200984,-0.940424126632205,-0.2861436512950377,0.3272416090612496,-1.4862435821612276,-0.7419822477245054,-0.5289520199886615,-0.19209542834834886,-1.6137840913423802,2.5253792135126267,-0.36401403896536855,1.0560010342257284,1.4282679514136718,-1.7240519483814831,0.5671338747613731,-0.9080841728798318,0.31546878483673546,-0.11377460855602518,0.053496764203978336,0.6818028998550107,-1.9774449121637068,0.7084250781799291,1.5278746674917012,-0.9571164971445482,-1.3294630618845433,0.942272172901489,-0.019981281703439734,1.4525537255249976,0.027433302927381463,-1.8001925853232867,1.4426728488088858,-0.6965262723544774,1.2879984069477703,-1.4514103759363945,0.10321693798368037,-1.0337673090830766,1.2123441508341763,0.2816563048236678,-1.0116419291291963,1.2137608091381367,-0.6097424621297425,1.199038876047825,-0.14784081503360644,-1.0529508579837437,0.203716845237984,-1.3703913734693944,-1.4621189194907764,1.2079693890251404,1.0607169379613697,1.6860621157919298,-0.3043036742676254,1.252089094534873,0.8019105881421928],\"yaxis\":\"y3\",\"type\":\"scatter\"},{\"line\":{\"color\":\"rgba(128, 128, 128, 1.0)\",\"dash\":\"solid\",\"shape\":\"linear\",\"width\":1.3},\"marker\":{\"size\":2,\"symbol\":\"circle\"},\"mode\":\"markers\",\"name\":\"A\",\"text\":\"\",\"x\":[0.6419540448307282,-1.517608688344434,-0.3843863209352874,0.582205043637178,0.8423001398246008,-0.876654312681006,-1.4220090438249173,-0.09887636580710743,-0.3836306988926069,-0.9617171701958386,0.9130567531304483,0.1921750627294664,-0.40845165490719065,0.16948526516975354,1.1995423858357495,-0.0806001194463327,-0.15746670743873062,-1.1240019824944776,0.4363515372870392,1.9307908970315317,1.1031951510859273,-1.7251316715516243,0.8967867868252514,0.47529474535809924,-1.1739198506495272,0.5490829176478206,-0.10548357954143857,0.9350274188232347,-0.11857806913827566,0.8291018552229273,0.4404340905146739,1.0949591324812462,-0.5046317220659516,0.7277366176328306,-0.9220093815234568,-1.4401200584762028,-0.2735458841642263,0.5057772631008871,-0.5756586099298809,0.4469996935382162,1.2311387579172113,-0.7490594863628462,0.8877674978807628,0.0007280151525171892,-0.19498978287272922,-2.1616046744327897,1.3959629391980335,1.3542761626128896,0.3403680620018605,-1.2469655847187164,1.631557902538405,0.9386407535427541,-0.7152486651396022,-0.2896322392328507,0.4794983422428559,1.4993155479995524,-0.3357047654058956,2.1198825272852106,0.9335159436912603,0.07494701462476844,-1.0858501890051053,-0.5136565323101144,1.4674995050384145,-0.33782459796503067,0.4227277598515778,0.5345466892685413,-0.40806524589228743,-0.3632137413898601,-0.5128961430005934,0.32958613059022096,0.056449082223379625,-0.5741367405128155,-1.4522547358486244,1.5156989720072513,-1.5956070894351733,0.5468079407706042,0.5201902490525464,0.4405097935390144,0.16697909238681657,0.650148591850684,1.602800718166188,-2.323303975173998,-0.3919455823359626,-0.7901808014383477,0.3018838962950447,0.7363176053821264,0.3982958216374505,-1.8604341682340761,0.028930473350775563,0.3289011160680272,2.4482571174976813,0.17805452428597393,0.9037599076955404,-0.5356039813501637,0.5981293401750825,1.4011963024633105,0.02947680573042643,0.4138985401230784,-0.9208991891630186,1.153642037354523],\"xaxis\":\"x4\",\"y\":[0.48979428455356877,1.2000787712482575,0.023788380464120393,-0.7762937541590931,-0.012364867282905903,-1.2161957246449362,-0.02690116005734921,-0.6136576494704216,-1.0932741606526177,1.3367224280535983,-0.21086536735247163,0.7004920634418149,0.022903232284200294,1.8118903731503866,0.03874003270713806,0.14207857973235602,-1.2664546662031808,1.0882638165812608,-0.7120729647956264,0.6937532377713457,-0.38587006015377073,0.7944049114081017,0.8902470208690971,-0.017596363807709636,-0.21123469197121414,-0.44522679075601096,0.06594417027871106,-0.4005156041049335,1.531611994137102,1.469053508293093,-0.6960757696420884,0.42188597213691115,-0.24857896565921767,0.35243368033595995,0.32289319825012025,1.756959477480924,-0.8646444846801743,0.7327493359184236,-0.05616681327469264,0.24137468687379302,0.13490316200095048,-0.30294439883702995,0.20149030418780658,-0.8439630384647533,0.9173475168512586,-0.7267483351185445,0.4551191588285759,-1.3050200504200984,-0.940424126632205,-0.2861436512950377,0.3272416090612496,-1.4862435821612276,-0.7419822477245054,-0.5289520199886615,-0.19209542834834886,-1.6137840913423802,2.5253792135126267,-0.36401403896536855,1.0560010342257284,1.4282679514136718,-1.7240519483814831,0.5671338747613731,-0.9080841728798318,0.31546878483673546,-0.11377460855602518,0.053496764203978336,0.6818028998550107,-1.9774449121637068,0.7084250781799291,1.5278746674917012,-0.9571164971445482,-1.3294630618845433,0.942272172901489,-0.019981281703439734,1.4525537255249976,0.027433302927381463,-1.8001925853232867,1.4426728488088858,-0.6965262723544774,1.2879984069477703,-1.4514103759363945,0.10321693798368037,-1.0337673090830766,1.2123441508341763,0.2816563048236678,-1.0116419291291963,1.2137608091381367,-0.6097424621297425,1.199038876047825,-0.14784081503360644,-1.0529508579837437,0.203716845237984,-1.3703913734693944,-1.4621189194907764,1.2079693890251404,1.0607169379613697,1.6860621157919298,-0.3043036742676254,1.252089094534873,0.8019105881421928],\"yaxis\":\"y4\",\"type\":\"scatter\"},{\"line\":{\"color\":\"rgba(128, 128, 128, 1.0)\",\"dash\":\"solid\",\"shape\":\"linear\",\"width\":1.3},\"marker\":{\"size\":2,\"symbol\":\"circle\"},\"mode\":\"markers\",\"name\":\"B\",\"text\":\"\",\"x\":[0.48979428455356877,1.2000787712482575,0.023788380464120393,-0.7762937541590931,-0.012364867282905903,-1.2161957246449362,-0.02690116005734921,-0.6136576494704216,-1.0932741606526177,1.3367224280535983,-0.21086536735247163,0.7004920634418149,0.022903232284200294,1.8118903731503866,0.03874003270713806,0.14207857973235602,-1.2664546662031808,1.0882638165812608,-0.7120729647956264,0.6937532377713457,-0.38587006015377073,0.7944049114081017,0.8902470208690971,-0.017596363807709636,-0.21123469197121414,-0.44522679075601096,0.06594417027871106,-0.4005156041049335,1.531611994137102,1.469053508293093,-0.6960757696420884,0.42188597213691115,-0.24857896565921767,0.35243368033595995,0.32289319825012025,1.756959477480924,-0.8646444846801743,0.7327493359184236,-0.05616681327469264,0.24137468687379302,0.13490316200095048,-0.30294439883702995,0.20149030418780658,-0.8439630384647533,0.9173475168512586,-0.7267483351185445,0.4551191588285759,-1.3050200504200984,-0.940424126632205,-0.2861436512950377,0.3272416090612496,-1.4862435821612276,-0.7419822477245054,-0.5289520199886615,-0.19209542834834886,-1.6137840913423802,2.5253792135126267,-0.36401403896536855,1.0560010342257284,1.4282679514136718,-1.7240519483814831,0.5671338747613731,-0.9080841728798318,0.31546878483673546,-0.11377460855602518,0.053496764203978336,0.6818028998550107,-1.9774449121637068,0.7084250781799291,1.5278746674917012,-0.9571164971445482,-1.3294630618845433,0.942272172901489,-0.019981281703439734,1.4525537255249976,0.027433302927381463,-1.8001925853232867,1.4426728488088858,-0.6965262723544774,1.2879984069477703,-1.4514103759363945,0.10321693798368037,-1.0337673090830766,1.2123441508341763,0.2816563048236678,-1.0116419291291963,1.2137608091381367,-0.6097424621297425,1.199038876047825,-0.14784081503360644,-1.0529508579837437,0.203716845237984,-1.3703913734693944,-1.4621189194907764,1.2079693890251404,1.0607169379613697,1.6860621157919298,-0.3043036742676254,1.252089094534873,0.8019105881421928],\"xaxis\":\"x5\",\"y\":[-1.0998518931967172,-0.951310489501729,0.4961980985412946,-1.9465577812700667,0.4782546807810063,0.3915928924499597,-0.16195461581883155,-0.5684389432325745,0.7864442079773991,0.11786194397659192,0.7806483973082989,-0.7216593398328882,0.14627440175389989,-0.07554072415619882,0.014168578367290862,-0.6333465050786681,1.0127771174834996,1.3878021905639235,0.4904150562542391,0.2536434005385077,1.1786366553776157,-3.334302912542056,0.7647022080307493,-0.031935851656112776,-0.7839089589040155,-0.09122200998567682,-0.4898507459459323,-0.5684394463175186,0.11940011898377212,-0.19497172220308293,2.728343356239694,-0.40789330735339907,-0.24459607575641326,-0.4858707994184838,-0.015234217101942981,-0.08771777295493485,0.4772963643238052,1.4507007392664688,0.4061437530079583,0.15419502764767845,-0.726525983701748,-0.2669636603429239,0.9852178153304991,-1.29587901702008,-0.6664537394097019,-1.093155363979523,1.4968662243590183,-0.8959185628124724,-1.5208535704872201,-0.4052181341125891,-0.017951376963129023,0.9116272137945861,-1.6649360797874992,0.3040516316528378,-0.12186378938520936,1.1724212208098135,-1.274141257813947,0.11182468335506614,1.47499536050285,0.2583425826196655,-0.32092947933983107,1.0007576889539056,0.20795616239699127,-0.08665414940310559,0.6523377927617374,0.16726551027784153,-0.42557944492126054,1.3705804781599653,0.9989305038474585,-1.6823152185810062,-1.4777209857615803,-0.9939514975377667,-1.0574492878409467,-0.18781359857066682,0.8413247717773269,1.1757733216891897,0.2972356932010209,-0.28249667162063813,-1.3381021329751352,0.8454290322931972,-0.43718099727400006,0.08608827559328311,0.42555094905863433,0.06474854527759977,-1.7365979250057706,-0.6954111510725659,0.5943477159463276,-0.0624064236918547,-0.09311347408323536,-0.20864777953826144,-1.5057657340094361,0.985649019277635,-0.618834216881153,-0.24696789588479345,0.1741621994183457,-1.2990736535773484,-1.9746857091172834,0.04549424231182181,-0.4787536211341913,-1.8165952496968758],\"yaxis\":\"y5\",\"type\":\"scatter\"},{\"histfunc\":\"count\",\"histnorm\":\"\",\"marker\":{\"color\":\"rgba(55, 128, 191, 1.0)\",\"line\":{\"color\":\"#4D5663\",\"width\":1.3}},\"name\":\"B\",\"nbinsx\":10,\"opacity\":0.8,\"orientation\":\"v\",\"x\":[-1.0998518931967172,-0.951310489501729,0.4961980985412946,-1.9465577812700667,0.4782546807810063,0.3915928924499597,-0.16195461581883155,-0.5684389432325745,0.7864442079773991,0.11786194397659192,0.7806483973082989,-0.7216593398328882,0.14627440175389989,-0.07554072415619882,0.014168578367290862,-0.6333465050786681,1.0127771174834996,1.3878021905639235,0.4904150562542391,0.2536434005385077,1.1786366553776157,-3.334302912542056,0.7647022080307493,-0.031935851656112776,-0.7839089589040155,-0.09122200998567682,-0.4898507459459323,-0.5684394463175186,0.11940011898377212,-0.19497172220308293,2.728343356239694,-0.40789330735339907,-0.24459607575641326,-0.4858707994184838,-0.015234217101942981,-0.08771777295493485,0.4772963643238052,1.4507007392664688,0.4061437530079583,0.15419502764767845,-0.726525983701748,-0.2669636603429239,0.9852178153304991,-1.29587901702008,-0.6664537394097019,-1.093155363979523,1.4968662243590183,-0.8959185628124724,-1.5208535704872201,-0.4052181341125891,-0.017951376963129023,0.9116272137945861,-1.6649360797874992,0.3040516316528378,-0.12186378938520936,1.1724212208098135,-1.274141257813947,0.11182468335506614,1.47499536050285,0.2583425826196655,-0.32092947933983107,1.0007576889539056,0.20795616239699127,-0.08665414940310559,0.6523377927617374,0.16726551027784153,-0.42557944492126054,1.3705804781599653,0.9989305038474585,-1.6823152185810062,-1.4777209857615803,-0.9939514975377667,-1.0574492878409467,-0.18781359857066682,0.8413247717773269,1.1757733216891897,0.2972356932010209,-0.28249667162063813,-1.3381021329751352,0.8454290322931972,-0.43718099727400006,0.08608827559328311,0.42555094905863433,0.06474854527759977,-1.7365979250057706,-0.6954111510725659,0.5943477159463276,-0.0624064236918547,-0.09311347408323536,-0.20864777953826144,-1.5057657340094361,0.985649019277635,-0.618834216881153,-0.24696789588479345,0.1741621994183457,-1.2990736535773484,-1.9746857091172834,0.04549424231182181,-0.4787536211341913,-1.8165952496968758],\"xaxis\":\"x6\",\"yaxis\":\"y6\",\"type\":\"histogram\"},{\"line\":{\"color\":\"rgba(128, 128, 128, 1.0)\",\"dash\":\"solid\",\"shape\":\"linear\",\"width\":1.3},\"marker\":{\"size\":2,\"symbol\":\"circle\"},\"mode\":\"markers\",\"name\":\"B\",\"text\":\"\",\"x\":[-1.0625887658002213,0.09202816193018518,0.564848376353891,0.419472612971872,0.12660612020962858,-0.5127914675811296,-1.1250834598039288,-0.6051822916912,-0.16221998280097874,0.7356228690390648,-0.07574687216850803,0.17596247282604027,-1.721717086791258,2.323429731895257,-0.8482030722200461,-0.13369431269758897,1.43368695838209,0.12440433777333088,0.6827434615859537,-1.2316479081514446,-1.6643319307140543,-0.7326761450757091,0.14581998247595768,-0.8486405675639428,-1.3879983259008852,-1.869598616511187,-2.360893594863502,1.1800886270616593,0.5182722178949594,0.7554306808110395,-1.2801531109221176,-1.816141993229202,-0.5232033577209291,0.7622410426171143,-0.05449472773996224,0.1922114685510936,-0.4141235355446176,0.7052675744404783,-2.59538260905528,-0.16142979812964459,0.2326207735748364,-0.7723616091348504,0.41227233208544345,0.16675903993999175,-0.5494052757613266,-1.2332580401100453,-1.5362604958487704,-0.6850801955952219,-0.10309357320981548,1.211292382720803,0.8824592740410863,-0.8569072831904082,-1.250014049122893,-0.08799308927471544,-0.6552934530711982,0.9863289277092309,-0.0031616249570040264,0.8656884015381522,-1.3457460857249597,-0.8700802229476118,0.7379618696557516,-1.310500185377312,-1.2439360756820212,-1.852983958425285,-0.5483973457086878,-0.2620927767535737,0.8223682944291094,0.41648038679327865,-0.14478273313287518,0.04459544764541705,0.0552076255058285,-0.35827809100913904,1.1307788184569203,0.23619861907372788,-0.3841381654666092,0.018158187353936536,-0.9297831247259087,-0.9483441497850129,0.15370068303643483,-0.7567916707710458,-0.22349775200537117,-0.16436541076498792,-0.04045064822824736,1.2055700104402123,-0.49887850886789453,-0.5435253428124678,0.07203272803770303,1.77607423833372,0.4643240466033002,0.7132203723900344,0.06056029680904643,0.5970097948018788,-0.9322428843780637,0.07146509261690312,1.7081053966754396,-0.29765733722000015,0.8941126463209245,-0.5008661024802709,2.3862236353444457,-2.640515182547073],\"xaxis\":\"x7\",\"y\":[-1.0998518931967172,-0.951310489501729,0.4961980985412946,-1.9465577812700667,0.4782546807810063,0.3915928924499597,-0.16195461581883155,-0.5684389432325745,0.7864442079773991,0.11786194397659192,0.7806483973082989,-0.7216593398328882,0.14627440175389989,-0.07554072415619882,0.014168578367290862,-0.6333465050786681,1.0127771174834996,1.3878021905639235,0.4904150562542391,0.2536434005385077,1.1786366553776157,-3.334302912542056,0.7647022080307493,-0.031935851656112776,-0.7839089589040155,-0.09122200998567682,-0.4898507459459323,-0.5684394463175186,0.11940011898377212,-0.19497172220308293,2.728343356239694,-0.40789330735339907,-0.24459607575641326,-0.4858707994184838,-0.015234217101942981,-0.08771777295493485,0.4772963643238052,1.4507007392664688,0.4061437530079583,0.15419502764767845,-0.726525983701748,-0.2669636603429239,0.9852178153304991,-1.29587901702008,-0.6664537394097019,-1.093155363979523,1.4968662243590183,-0.8959185628124724,-1.5208535704872201,-0.4052181341125891,-0.017951376963129023,0.9116272137945861,-1.6649360797874992,0.3040516316528378,-0.12186378938520936,1.1724212208098135,-1.274141257813947,0.11182468335506614,1.47499536050285,0.2583425826196655,-0.32092947933983107,1.0007576889539056,0.20795616239699127,-0.08665414940310559,0.6523377927617374,0.16726551027784153,-0.42557944492126054,1.3705804781599653,0.9989305038474585,-1.6823152185810062,-1.4777209857615803,-0.9939514975377667,-1.0574492878409467,-0.18781359857066682,0.8413247717773269,1.1757733216891897,0.2972356932010209,-0.28249667162063813,-1.3381021329751352,0.8454290322931972,-0.43718099727400006,0.08608827559328311,0.42555094905863433,0.06474854527759977,-1.7365979250057706,-0.6954111510725659,0.5943477159463276,-0.0624064236918547,-0.09311347408323536,-0.20864777953826144,-1.5057657340094361,0.985649019277635,-0.618834216881153,-0.24696789588479345,0.1741621994183457,-1.2990736535773484,-1.9746857091172834,0.04549424231182181,-0.4787536211341913,-1.8165952496968758],\"yaxis\":\"y7\",\"type\":\"scatter\"},{\"line\":{\"color\":\"rgba(128, 128, 128, 1.0)\",\"dash\":\"solid\",\"shape\":\"linear\",\"width\":1.3},\"marker\":{\"size\":2,\"symbol\":\"circle\"},\"mode\":\"markers\",\"name\":\"B\",\"text\":\"\",\"x\":[0.6419540448307282,-1.517608688344434,-0.3843863209352874,0.582205043637178,0.8423001398246008,-0.876654312681006,-1.4220090438249173,-0.09887636580710743,-0.3836306988926069,-0.9617171701958386,0.9130567531304483,0.1921750627294664,-0.40845165490719065,0.16948526516975354,1.1995423858357495,-0.0806001194463327,-0.15746670743873062,-1.1240019824944776,0.4363515372870392,1.9307908970315317,1.1031951510859273,-1.7251316715516243,0.8967867868252514,0.47529474535809924,-1.1739198506495272,0.5490829176478206,-0.10548357954143857,0.9350274188232347,-0.11857806913827566,0.8291018552229273,0.4404340905146739,1.0949591324812462,-0.5046317220659516,0.7277366176328306,-0.9220093815234568,-1.4401200584762028,-0.2735458841642263,0.5057772631008871,-0.5756586099298809,0.4469996935382162,1.2311387579172113,-0.7490594863628462,0.8877674978807628,0.0007280151525171892,-0.19498978287272922,-2.1616046744327897,1.3959629391980335,1.3542761626128896,0.3403680620018605,-1.2469655847187164,1.631557902538405,0.9386407535427541,-0.7152486651396022,-0.2896322392328507,0.4794983422428559,1.4993155479995524,-0.3357047654058956,2.1198825272852106,0.9335159436912603,0.07494701462476844,-1.0858501890051053,-0.5136565323101144,1.4674995050384145,-0.33782459796503067,0.4227277598515778,0.5345466892685413,-0.40806524589228743,-0.3632137413898601,-0.5128961430005934,0.32958613059022096,0.056449082223379625,-0.5741367405128155,-1.4522547358486244,1.5156989720072513,-1.5956070894351733,0.5468079407706042,0.5201902490525464,0.4405097935390144,0.16697909238681657,0.650148591850684,1.602800718166188,-2.323303975173998,-0.3919455823359626,-0.7901808014383477,0.3018838962950447,0.7363176053821264,0.3982958216374505,-1.8604341682340761,0.028930473350775563,0.3289011160680272,2.4482571174976813,0.17805452428597393,0.9037599076955404,-0.5356039813501637,0.5981293401750825,1.4011963024633105,0.02947680573042643,0.4138985401230784,-0.9208991891630186,1.153642037354523],\"xaxis\":\"x8\",\"y\":[-1.0998518931967172,-0.951310489501729,0.4961980985412946,-1.9465577812700667,0.4782546807810063,0.3915928924499597,-0.16195461581883155,-0.5684389432325745,0.7864442079773991,0.11786194397659192,0.7806483973082989,-0.7216593398328882,0.14627440175389989,-0.07554072415619882,0.014168578367290862,-0.6333465050786681,1.0127771174834996,1.3878021905639235,0.4904150562542391,0.2536434005385077,1.1786366553776157,-3.334302912542056,0.7647022080307493,-0.031935851656112776,-0.7839089589040155,-0.09122200998567682,-0.4898507459459323,-0.5684394463175186,0.11940011898377212,-0.19497172220308293,2.728343356239694,-0.40789330735339907,-0.24459607575641326,-0.4858707994184838,-0.015234217101942981,-0.08771777295493485,0.4772963643238052,1.4507007392664688,0.4061437530079583,0.15419502764767845,-0.726525983701748,-0.2669636603429239,0.9852178153304991,-1.29587901702008,-0.6664537394097019,-1.093155363979523,1.4968662243590183,-0.8959185628124724,-1.5208535704872201,-0.4052181341125891,-0.017951376963129023,0.9116272137945861,-1.6649360797874992,0.3040516316528378,-0.12186378938520936,1.1724212208098135,-1.274141257813947,0.11182468335506614,1.47499536050285,0.2583425826196655,-0.32092947933983107,1.0007576889539056,0.20795616239699127,-0.08665414940310559,0.6523377927617374,0.16726551027784153,-0.42557944492126054,1.3705804781599653,0.9989305038474585,-1.6823152185810062,-1.4777209857615803,-0.9939514975377667,-1.0574492878409467,-0.18781359857066682,0.8413247717773269,1.1757733216891897,0.2972356932010209,-0.28249667162063813,-1.3381021329751352,0.8454290322931972,-0.43718099727400006,0.08608827559328311,0.42555094905863433,0.06474854527759977,-1.7365979250057706,-0.6954111510725659,0.5943477159463276,-0.0624064236918547,-0.09311347408323536,-0.20864777953826144,-1.5057657340094361,0.985649019277635,-0.618834216881153,-0.24696789588479345,0.1741621994183457,-1.2990736535773484,-1.9746857091172834,0.04549424231182181,-0.4787536211341913,-1.8165952496968758],\"yaxis\":\"y8\",\"type\":\"scatter\"},{\"line\":{\"color\":\"rgba(128, 128, 128, 1.0)\",\"dash\":\"solid\",\"shape\":\"linear\",\"width\":1.3},\"marker\":{\"size\":2,\"symbol\":\"circle\"},\"mode\":\"markers\",\"name\":\"C\",\"text\":\"\",\"x\":[0.48979428455356877,1.2000787712482575,0.023788380464120393,-0.7762937541590931,-0.012364867282905903,-1.2161957246449362,-0.02690116005734921,-0.6136576494704216,-1.0932741606526177,1.3367224280535983,-0.21086536735247163,0.7004920634418149,0.022903232284200294,1.8118903731503866,0.03874003270713806,0.14207857973235602,-1.2664546662031808,1.0882638165812608,-0.7120729647956264,0.6937532377713457,-0.38587006015377073,0.7944049114081017,0.8902470208690971,-0.017596363807709636,-0.21123469197121414,-0.44522679075601096,0.06594417027871106,-0.4005156041049335,1.531611994137102,1.469053508293093,-0.6960757696420884,0.42188597213691115,-0.24857896565921767,0.35243368033595995,0.32289319825012025,1.756959477480924,-0.8646444846801743,0.7327493359184236,-0.05616681327469264,0.24137468687379302,0.13490316200095048,-0.30294439883702995,0.20149030418780658,-0.8439630384647533,0.9173475168512586,-0.7267483351185445,0.4551191588285759,-1.3050200504200984,-0.940424126632205,-0.2861436512950377,0.3272416090612496,-1.4862435821612276,-0.7419822477245054,-0.5289520199886615,-0.19209542834834886,-1.6137840913423802,2.5253792135126267,-0.36401403896536855,1.0560010342257284,1.4282679514136718,-1.7240519483814831,0.5671338747613731,-0.9080841728798318,0.31546878483673546,-0.11377460855602518,0.053496764203978336,0.6818028998550107,-1.9774449121637068,0.7084250781799291,1.5278746674917012,-0.9571164971445482,-1.3294630618845433,0.942272172901489,-0.019981281703439734,1.4525537255249976,0.027433302927381463,-1.8001925853232867,1.4426728488088858,-0.6965262723544774,1.2879984069477703,-1.4514103759363945,0.10321693798368037,-1.0337673090830766,1.2123441508341763,0.2816563048236678,-1.0116419291291963,1.2137608091381367,-0.6097424621297425,1.199038876047825,-0.14784081503360644,-1.0529508579837437,0.203716845237984,-1.3703913734693944,-1.4621189194907764,1.2079693890251404,1.0607169379613697,1.6860621157919298,-0.3043036742676254,1.252089094534873,0.8019105881421928],\"xaxis\":\"x9\",\"y\":[-1.0625887658002213,0.09202816193018518,0.564848376353891,0.419472612971872,0.12660612020962858,-0.5127914675811296,-1.1250834598039288,-0.6051822916912,-0.16221998280097874,0.7356228690390648,-0.07574687216850803,0.17596247282604027,-1.721717086791258,2.323429731895257,-0.8482030722200461,-0.13369431269758897,1.43368695838209,0.12440433777333088,0.6827434615859537,-1.2316479081514446,-1.6643319307140543,-0.7326761450757091,0.14581998247595768,-0.8486405675639428,-1.3879983259008852,-1.869598616511187,-2.360893594863502,1.1800886270616593,0.5182722178949594,0.7554306808110395,-1.2801531109221176,-1.816141993229202,-0.5232033577209291,0.7622410426171143,-0.05449472773996224,0.1922114685510936,-0.4141235355446176,0.7052675744404783,-2.59538260905528,-0.16142979812964459,0.2326207735748364,-0.7723616091348504,0.41227233208544345,0.16675903993999175,-0.5494052757613266,-1.2332580401100453,-1.5362604958487704,-0.6850801955952219,-0.10309357320981548,1.211292382720803,0.8824592740410863,-0.8569072831904082,-1.250014049122893,-0.08799308927471544,-0.6552934530711982,0.9863289277092309,-0.0031616249570040264,0.8656884015381522,-1.3457460857249597,-0.8700802229476118,0.7379618696557516,-1.310500185377312,-1.2439360756820212,-1.852983958425285,-0.5483973457086878,-0.2620927767535737,0.8223682944291094,0.41648038679327865,-0.14478273313287518,0.04459544764541705,0.0552076255058285,-0.35827809100913904,1.1307788184569203,0.23619861907372788,-0.3841381654666092,0.018158187353936536,-0.9297831247259087,-0.9483441497850129,0.15370068303643483,-0.7567916707710458,-0.22349775200537117,-0.16436541076498792,-0.04045064822824736,1.2055700104402123,-0.49887850886789453,-0.5435253428124678,0.07203272803770303,1.77607423833372,0.4643240466033002,0.7132203723900344,0.06056029680904643,0.5970097948018788,-0.9322428843780637,0.07146509261690312,1.7081053966754396,-0.29765733722000015,0.8941126463209245,-0.5008661024802709,2.3862236353444457,-2.640515182547073],\"yaxis\":\"y9\",\"type\":\"scatter\"},{\"line\":{\"color\":\"rgba(128, 128, 128, 1.0)\",\"dash\":\"solid\",\"shape\":\"linear\",\"width\":1.3},\"marker\":{\"size\":2,\"symbol\":\"circle\"},\"mode\":\"markers\",\"name\":\"C\",\"text\":\"\",\"x\":[-1.0998518931967172,-0.951310489501729,0.4961980985412946,-1.9465577812700667,0.4782546807810063,0.3915928924499597,-0.16195461581883155,-0.5684389432325745,0.7864442079773991,0.11786194397659192,0.7806483973082989,-0.7216593398328882,0.14627440175389989,-0.07554072415619882,0.014168578367290862,-0.6333465050786681,1.0127771174834996,1.3878021905639235,0.4904150562542391,0.2536434005385077,1.1786366553776157,-3.334302912542056,0.7647022080307493,-0.031935851656112776,-0.7839089589040155,-0.09122200998567682,-0.4898507459459323,-0.5684394463175186,0.11940011898377212,-0.19497172220308293,2.728343356239694,-0.40789330735339907,-0.24459607575641326,-0.4858707994184838,-0.015234217101942981,-0.08771777295493485,0.4772963643238052,1.4507007392664688,0.4061437530079583,0.15419502764767845,-0.726525983701748,-0.2669636603429239,0.9852178153304991,-1.29587901702008,-0.6664537394097019,-1.093155363979523,1.4968662243590183,-0.8959185628124724,-1.5208535704872201,-0.4052181341125891,-0.017951376963129023,0.9116272137945861,-1.6649360797874992,0.3040516316528378,-0.12186378938520936,1.1724212208098135,-1.274141257813947,0.11182468335506614,1.47499536050285,0.2583425826196655,-0.32092947933983107,1.0007576889539056,0.20795616239699127,-0.08665414940310559,0.6523377927617374,0.16726551027784153,-0.42557944492126054,1.3705804781599653,0.9989305038474585,-1.6823152185810062,-1.4777209857615803,-0.9939514975377667,-1.0574492878409467,-0.18781359857066682,0.8413247717773269,1.1757733216891897,0.2972356932010209,-0.28249667162063813,-1.3381021329751352,0.8454290322931972,-0.43718099727400006,0.08608827559328311,0.42555094905863433,0.06474854527759977,-1.7365979250057706,-0.6954111510725659,0.5943477159463276,-0.0624064236918547,-0.09311347408323536,-0.20864777953826144,-1.5057657340094361,0.985649019277635,-0.618834216881153,-0.24696789588479345,0.1741621994183457,-1.2990736535773484,-1.9746857091172834,0.04549424231182181,-0.4787536211341913,-1.8165952496968758],\"xaxis\":\"x10\",\"y\":[-1.0625887658002213,0.09202816193018518,0.564848376353891,0.419472612971872,0.12660612020962858,-0.5127914675811296,-1.1250834598039288,-0.6051822916912,-0.16221998280097874,0.7356228690390648,-0.07574687216850803,0.17596247282604027,-1.721717086791258,2.323429731895257,-0.8482030722200461,-0.13369431269758897,1.43368695838209,0.12440433777333088,0.6827434615859537,-1.2316479081514446,-1.6643319307140543,-0.7326761450757091,0.14581998247595768,-0.8486405675639428,-1.3879983259008852,-1.869598616511187,-2.360893594863502,1.1800886270616593,0.5182722178949594,0.7554306808110395,-1.2801531109221176,-1.816141993229202,-0.5232033577209291,0.7622410426171143,-0.05449472773996224,0.1922114685510936,-0.4141235355446176,0.7052675744404783,-2.59538260905528,-0.16142979812964459,0.2326207735748364,-0.7723616091348504,0.41227233208544345,0.16675903993999175,-0.5494052757613266,-1.2332580401100453,-1.5362604958487704,-0.6850801955952219,-0.10309357320981548,1.211292382720803,0.8824592740410863,-0.8569072831904082,-1.250014049122893,-0.08799308927471544,-0.6552934530711982,0.9863289277092309,-0.0031616249570040264,0.8656884015381522,-1.3457460857249597,-0.8700802229476118,0.7379618696557516,-1.310500185377312,-1.2439360756820212,-1.852983958425285,-0.5483973457086878,-0.2620927767535737,0.8223682944291094,0.41648038679327865,-0.14478273313287518,0.04459544764541705,0.0552076255058285,-0.35827809100913904,1.1307788184569203,0.23619861907372788,-0.3841381654666092,0.018158187353936536,-0.9297831247259087,-0.9483441497850129,0.15370068303643483,-0.7567916707710458,-0.22349775200537117,-0.16436541076498792,-0.04045064822824736,1.2055700104402123,-0.49887850886789453,-0.5435253428124678,0.07203272803770303,1.77607423833372,0.4643240466033002,0.7132203723900344,0.06056029680904643,0.5970097948018788,-0.9322428843780637,0.07146509261690312,1.7081053966754396,-0.29765733722000015,0.8941126463209245,-0.5008661024802709,2.3862236353444457,-2.640515182547073],\"yaxis\":\"y10\",\"type\":\"scatter\"},{\"histfunc\":\"count\",\"histnorm\":\"\",\"marker\":{\"color\":\"rgba(50, 171, 96, 1.0)\",\"line\":{\"color\":\"#4D5663\",\"width\":1.3}},\"name\":\"C\",\"nbinsx\":10,\"opacity\":0.8,\"orientation\":\"v\",\"x\":[-1.0625887658002213,0.09202816193018518,0.564848376353891,0.419472612971872,0.12660612020962858,-0.5127914675811296,-1.1250834598039288,-0.6051822916912,-0.16221998280097874,0.7356228690390648,-0.07574687216850803,0.17596247282604027,-1.721717086791258,2.323429731895257,-0.8482030722200461,-0.13369431269758897,1.43368695838209,0.12440433777333088,0.6827434615859537,-1.2316479081514446,-1.6643319307140543,-0.7326761450757091,0.14581998247595768,-0.8486405675639428,-1.3879983259008852,-1.869598616511187,-2.360893594863502,1.1800886270616593,0.5182722178949594,0.7554306808110395,-1.2801531109221176,-1.816141993229202,-0.5232033577209291,0.7622410426171143,-0.05449472773996224,0.1922114685510936,-0.4141235355446176,0.7052675744404783,-2.59538260905528,-0.16142979812964459,0.2326207735748364,-0.7723616091348504,0.41227233208544345,0.16675903993999175,-0.5494052757613266,-1.2332580401100453,-1.5362604958487704,-0.6850801955952219,-0.10309357320981548,1.211292382720803,0.8824592740410863,-0.8569072831904082,-1.250014049122893,-0.08799308927471544,-0.6552934530711982,0.9863289277092309,-0.0031616249570040264,0.8656884015381522,-1.3457460857249597,-0.8700802229476118,0.7379618696557516,-1.310500185377312,-1.2439360756820212,-1.852983958425285,-0.5483973457086878,-0.2620927767535737,0.8223682944291094,0.41648038679327865,-0.14478273313287518,0.04459544764541705,0.0552076255058285,-0.35827809100913904,1.1307788184569203,0.23619861907372788,-0.3841381654666092,0.018158187353936536,-0.9297831247259087,-0.9483441497850129,0.15370068303643483,-0.7567916707710458,-0.22349775200537117,-0.16436541076498792,-0.04045064822824736,1.2055700104402123,-0.49887850886789453,-0.5435253428124678,0.07203272803770303,1.77607423833372,0.4643240466033002,0.7132203723900344,0.06056029680904643,0.5970097948018788,-0.9322428843780637,0.07146509261690312,1.7081053966754396,-0.29765733722000015,0.8941126463209245,-0.5008661024802709,2.3862236353444457,-2.640515182547073],\"xaxis\":\"x11\",\"yaxis\":\"y11\",\"type\":\"histogram\"},{\"line\":{\"color\":\"rgba(128, 128, 128, 1.0)\",\"dash\":\"solid\",\"shape\":\"linear\",\"width\":1.3},\"marker\":{\"size\":2,\"symbol\":\"circle\"},\"mode\":\"markers\",\"name\":\"C\",\"text\":\"\",\"x\":[0.6419540448307282,-1.517608688344434,-0.3843863209352874,0.582205043637178,0.8423001398246008,-0.876654312681006,-1.4220090438249173,-0.09887636580710743,-0.3836306988926069,-0.9617171701958386,0.9130567531304483,0.1921750627294664,-0.40845165490719065,0.16948526516975354,1.1995423858357495,-0.0806001194463327,-0.15746670743873062,-1.1240019824944776,0.4363515372870392,1.9307908970315317,1.1031951510859273,-1.7251316715516243,0.8967867868252514,0.47529474535809924,-1.1739198506495272,0.5490829176478206,-0.10548357954143857,0.9350274188232347,-0.11857806913827566,0.8291018552229273,0.4404340905146739,1.0949591324812462,-0.5046317220659516,0.7277366176328306,-0.9220093815234568,-1.4401200584762028,-0.2735458841642263,0.5057772631008871,-0.5756586099298809,0.4469996935382162,1.2311387579172113,-0.7490594863628462,0.8877674978807628,0.0007280151525171892,-0.19498978287272922,-2.1616046744327897,1.3959629391980335,1.3542761626128896,0.3403680620018605,-1.2469655847187164,1.631557902538405,0.9386407535427541,-0.7152486651396022,-0.2896322392328507,0.4794983422428559,1.4993155479995524,-0.3357047654058956,2.1198825272852106,0.9335159436912603,0.07494701462476844,-1.0858501890051053,-0.5136565323101144,1.4674995050384145,-0.33782459796503067,0.4227277598515778,0.5345466892685413,-0.40806524589228743,-0.3632137413898601,-0.5128961430005934,0.32958613059022096,0.056449082223379625,-0.5741367405128155,-1.4522547358486244,1.5156989720072513,-1.5956070894351733,0.5468079407706042,0.5201902490525464,0.4405097935390144,0.16697909238681657,0.650148591850684,1.602800718166188,-2.323303975173998,-0.3919455823359626,-0.7901808014383477,0.3018838962950447,0.7363176053821264,0.3982958216374505,-1.8604341682340761,0.028930473350775563,0.3289011160680272,2.4482571174976813,0.17805452428597393,0.9037599076955404,-0.5356039813501637,0.5981293401750825,1.4011963024633105,0.02947680573042643,0.4138985401230784,-0.9208991891630186,1.153642037354523],\"xaxis\":\"x12\",\"y\":[-1.0625887658002213,0.09202816193018518,0.564848376353891,0.419472612971872,0.12660612020962858,-0.5127914675811296,-1.1250834598039288,-0.6051822916912,-0.16221998280097874,0.7356228690390648,-0.07574687216850803,0.17596247282604027,-1.721717086791258,2.323429731895257,-0.8482030722200461,-0.13369431269758897,1.43368695838209,0.12440433777333088,0.6827434615859537,-1.2316479081514446,-1.6643319307140543,-0.7326761450757091,0.14581998247595768,-0.8486405675639428,-1.3879983259008852,-1.869598616511187,-2.360893594863502,1.1800886270616593,0.5182722178949594,0.7554306808110395,-1.2801531109221176,-1.816141993229202,-0.5232033577209291,0.7622410426171143,-0.05449472773996224,0.1922114685510936,-0.4141235355446176,0.7052675744404783,-2.59538260905528,-0.16142979812964459,0.2326207735748364,-0.7723616091348504,0.41227233208544345,0.16675903993999175,-0.5494052757613266,-1.2332580401100453,-1.5362604958487704,-0.6850801955952219,-0.10309357320981548,1.211292382720803,0.8824592740410863,-0.8569072831904082,-1.250014049122893,-0.08799308927471544,-0.6552934530711982,0.9863289277092309,-0.0031616249570040264,0.8656884015381522,-1.3457460857249597,-0.8700802229476118,0.7379618696557516,-1.310500185377312,-1.2439360756820212,-1.852983958425285,-0.5483973457086878,-0.2620927767535737,0.8223682944291094,0.41648038679327865,-0.14478273313287518,0.04459544764541705,0.0552076255058285,-0.35827809100913904,1.1307788184569203,0.23619861907372788,-0.3841381654666092,0.018158187353936536,-0.9297831247259087,-0.9483441497850129,0.15370068303643483,-0.7567916707710458,-0.22349775200537117,-0.16436541076498792,-0.04045064822824736,1.2055700104402123,-0.49887850886789453,-0.5435253428124678,0.07203272803770303,1.77607423833372,0.4643240466033002,0.7132203723900344,0.06056029680904643,0.5970097948018788,-0.9322428843780637,0.07146509261690312,1.7081053966754396,-0.29765733722000015,0.8941126463209245,-0.5008661024802709,2.3862236353444457,-2.640515182547073],\"yaxis\":\"y12\",\"type\":\"scatter\"},{\"line\":{\"color\":\"rgba(128, 128, 128, 1.0)\",\"dash\":\"solid\",\"shape\":\"linear\",\"width\":1.3},\"marker\":{\"size\":2,\"symbol\":\"circle\"},\"mode\":\"markers\",\"name\":\"D\",\"text\":\"\",\"x\":[0.48979428455356877,1.2000787712482575,0.023788380464120393,-0.7762937541590931,-0.012364867282905903,-1.2161957246449362,-0.02690116005734921,-0.6136576494704216,-1.0932741606526177,1.3367224280535983,-0.21086536735247163,0.7004920634418149,0.022903232284200294,1.8118903731503866,0.03874003270713806,0.14207857973235602,-1.2664546662031808,1.0882638165812608,-0.7120729647956264,0.6937532377713457,-0.38587006015377073,0.7944049114081017,0.8902470208690971,-0.017596363807709636,-0.21123469197121414,-0.44522679075601096,0.06594417027871106,-0.4005156041049335,1.531611994137102,1.469053508293093,-0.6960757696420884,0.42188597213691115,-0.24857896565921767,0.35243368033595995,0.32289319825012025,1.756959477480924,-0.8646444846801743,0.7327493359184236,-0.05616681327469264,0.24137468687379302,0.13490316200095048,-0.30294439883702995,0.20149030418780658,-0.8439630384647533,0.9173475168512586,-0.7267483351185445,0.4551191588285759,-1.3050200504200984,-0.940424126632205,-0.2861436512950377,0.3272416090612496,-1.4862435821612276,-0.7419822477245054,-0.5289520199886615,-0.19209542834834886,-1.6137840913423802,2.5253792135126267,-0.36401403896536855,1.0560010342257284,1.4282679514136718,-1.7240519483814831,0.5671338747613731,-0.9080841728798318,0.31546878483673546,-0.11377460855602518,0.053496764203978336,0.6818028998550107,-1.9774449121637068,0.7084250781799291,1.5278746674917012,-0.9571164971445482,-1.3294630618845433,0.942272172901489,-0.019981281703439734,1.4525537255249976,0.027433302927381463,-1.8001925853232867,1.4426728488088858,-0.6965262723544774,1.2879984069477703,-1.4514103759363945,0.10321693798368037,-1.0337673090830766,1.2123441508341763,0.2816563048236678,-1.0116419291291963,1.2137608091381367,-0.6097424621297425,1.199038876047825,-0.14784081503360644,-1.0529508579837437,0.203716845237984,-1.3703913734693944,-1.4621189194907764,1.2079693890251404,1.0607169379613697,1.6860621157919298,-0.3043036742676254,1.252089094534873,0.8019105881421928],\"xaxis\":\"x13\",\"y\":[0.6419540448307282,-1.517608688344434,-0.3843863209352874,0.582205043637178,0.8423001398246008,-0.876654312681006,-1.4220090438249173,-0.09887636580710743,-0.3836306988926069,-0.9617171701958386,0.9130567531304483,0.1921750627294664,-0.40845165490719065,0.16948526516975354,1.1995423858357495,-0.0806001194463327,-0.15746670743873062,-1.1240019824944776,0.4363515372870392,1.9307908970315317,1.1031951510859273,-1.7251316715516243,0.8967867868252514,0.47529474535809924,-1.1739198506495272,0.5490829176478206,-0.10548357954143857,0.9350274188232347,-0.11857806913827566,0.8291018552229273,0.4404340905146739,1.0949591324812462,-0.5046317220659516,0.7277366176328306,-0.9220093815234568,-1.4401200584762028,-0.2735458841642263,0.5057772631008871,-0.5756586099298809,0.4469996935382162,1.2311387579172113,-0.7490594863628462,0.8877674978807628,0.0007280151525171892,-0.19498978287272922,-2.1616046744327897,1.3959629391980335,1.3542761626128896,0.3403680620018605,-1.2469655847187164,1.631557902538405,0.9386407535427541,-0.7152486651396022,-0.2896322392328507,0.4794983422428559,1.4993155479995524,-0.3357047654058956,2.1198825272852106,0.9335159436912603,0.07494701462476844,-1.0858501890051053,-0.5136565323101144,1.4674995050384145,-0.33782459796503067,0.4227277598515778,0.5345466892685413,-0.40806524589228743,-0.3632137413898601,-0.5128961430005934,0.32958613059022096,0.056449082223379625,-0.5741367405128155,-1.4522547358486244,1.5156989720072513,-1.5956070894351733,0.5468079407706042,0.5201902490525464,0.4405097935390144,0.16697909238681657,0.650148591850684,1.602800718166188,-2.323303975173998,-0.3919455823359626,-0.7901808014383477,0.3018838962950447,0.7363176053821264,0.3982958216374505,-1.8604341682340761,0.028930473350775563,0.3289011160680272,2.4482571174976813,0.17805452428597393,0.9037599076955404,-0.5356039813501637,0.5981293401750825,1.4011963024633105,0.02947680573042643,0.4138985401230784,-0.9208991891630186,1.153642037354523],\"yaxis\":\"y13\",\"type\":\"scatter\"},{\"line\":{\"color\":\"rgba(128, 128, 128, 1.0)\",\"dash\":\"solid\",\"shape\":\"linear\",\"width\":1.3},\"marker\":{\"size\":2,\"symbol\":\"circle\"},\"mode\":\"markers\",\"name\":\"D\",\"text\":\"\",\"x\":[-1.0998518931967172,-0.951310489501729,0.4961980985412946,-1.9465577812700667,0.4782546807810063,0.3915928924499597,-0.16195461581883155,-0.5684389432325745,0.7864442079773991,0.11786194397659192,0.7806483973082989,-0.7216593398328882,0.14627440175389989,-0.07554072415619882,0.014168578367290862,-0.6333465050786681,1.0127771174834996,1.3878021905639235,0.4904150562542391,0.2536434005385077,1.1786366553776157,-3.334302912542056,0.7647022080307493,-0.031935851656112776,-0.7839089589040155,-0.09122200998567682,-0.4898507459459323,-0.5684394463175186,0.11940011898377212,-0.19497172220308293,2.728343356239694,-0.40789330735339907,-0.24459607575641326,-0.4858707994184838,-0.015234217101942981,-0.08771777295493485,0.4772963643238052,1.4507007392664688,0.4061437530079583,0.15419502764767845,-0.726525983701748,-0.2669636603429239,0.9852178153304991,-1.29587901702008,-0.6664537394097019,-1.093155363979523,1.4968662243590183,-0.8959185628124724,-1.5208535704872201,-0.4052181341125891,-0.017951376963129023,0.9116272137945861,-1.6649360797874992,0.3040516316528378,-0.12186378938520936,1.1724212208098135,-1.274141257813947,0.11182468335506614,1.47499536050285,0.2583425826196655,-0.32092947933983107,1.0007576889539056,0.20795616239699127,-0.08665414940310559,0.6523377927617374,0.16726551027784153,-0.42557944492126054,1.3705804781599653,0.9989305038474585,-1.6823152185810062,-1.4777209857615803,-0.9939514975377667,-1.0574492878409467,-0.18781359857066682,0.8413247717773269,1.1757733216891897,0.2972356932010209,-0.28249667162063813,-1.3381021329751352,0.8454290322931972,-0.43718099727400006,0.08608827559328311,0.42555094905863433,0.06474854527759977,-1.7365979250057706,-0.6954111510725659,0.5943477159463276,-0.0624064236918547,-0.09311347408323536,-0.20864777953826144,-1.5057657340094361,0.985649019277635,-0.618834216881153,-0.24696789588479345,0.1741621994183457,-1.2990736535773484,-1.9746857091172834,0.04549424231182181,-0.4787536211341913,-1.8165952496968758],\"xaxis\":\"x14\",\"y\":[0.6419540448307282,-1.517608688344434,-0.3843863209352874,0.582205043637178,0.8423001398246008,-0.876654312681006,-1.4220090438249173,-0.09887636580710743,-0.3836306988926069,-0.9617171701958386,0.9130567531304483,0.1921750627294664,-0.40845165490719065,0.16948526516975354,1.1995423858357495,-0.0806001194463327,-0.15746670743873062,-1.1240019824944776,0.4363515372870392,1.9307908970315317,1.1031951510859273,-1.7251316715516243,0.8967867868252514,0.47529474535809924,-1.1739198506495272,0.5490829176478206,-0.10548357954143857,0.9350274188232347,-0.11857806913827566,0.8291018552229273,0.4404340905146739,1.0949591324812462,-0.5046317220659516,0.7277366176328306,-0.9220093815234568,-1.4401200584762028,-0.2735458841642263,0.5057772631008871,-0.5756586099298809,0.4469996935382162,1.2311387579172113,-0.7490594863628462,0.8877674978807628,0.0007280151525171892,-0.19498978287272922,-2.1616046744327897,1.3959629391980335,1.3542761626128896,0.3403680620018605,-1.2469655847187164,1.631557902538405,0.9386407535427541,-0.7152486651396022,-0.2896322392328507,0.4794983422428559,1.4993155479995524,-0.3357047654058956,2.1198825272852106,0.9335159436912603,0.07494701462476844,-1.0858501890051053,-0.5136565323101144,1.4674995050384145,-0.33782459796503067,0.4227277598515778,0.5345466892685413,-0.40806524589228743,-0.3632137413898601,-0.5128961430005934,0.32958613059022096,0.056449082223379625,-0.5741367405128155,-1.4522547358486244,1.5156989720072513,-1.5956070894351733,0.5468079407706042,0.5201902490525464,0.4405097935390144,0.16697909238681657,0.650148591850684,1.602800718166188,-2.323303975173998,-0.3919455823359626,-0.7901808014383477,0.3018838962950447,0.7363176053821264,0.3982958216374505,-1.8604341682340761,0.028930473350775563,0.3289011160680272,2.4482571174976813,0.17805452428597393,0.9037599076955404,-0.5356039813501637,0.5981293401750825,1.4011963024633105,0.02947680573042643,0.4138985401230784,-0.9208991891630186,1.153642037354523],\"yaxis\":\"y14\",\"type\":\"scatter\"},{\"line\":{\"color\":\"rgba(128, 128, 128, 1.0)\",\"dash\":\"solid\",\"shape\":\"linear\",\"width\":1.3},\"marker\":{\"size\":2,\"symbol\":\"circle\"},\"mode\":\"markers\",\"name\":\"D\",\"text\":\"\",\"x\":[-1.0625887658002213,0.09202816193018518,0.564848376353891,0.419472612971872,0.12660612020962858,-0.5127914675811296,-1.1250834598039288,-0.6051822916912,-0.16221998280097874,0.7356228690390648,-0.07574687216850803,0.17596247282604027,-1.721717086791258,2.323429731895257,-0.8482030722200461,-0.13369431269758897,1.43368695838209,0.12440433777333088,0.6827434615859537,-1.2316479081514446,-1.6643319307140543,-0.7326761450757091,0.14581998247595768,-0.8486405675639428,-1.3879983259008852,-1.869598616511187,-2.360893594863502,1.1800886270616593,0.5182722178949594,0.7554306808110395,-1.2801531109221176,-1.816141993229202,-0.5232033577209291,0.7622410426171143,-0.05449472773996224,0.1922114685510936,-0.4141235355446176,0.7052675744404783,-2.59538260905528,-0.16142979812964459,0.2326207735748364,-0.7723616091348504,0.41227233208544345,0.16675903993999175,-0.5494052757613266,-1.2332580401100453,-1.5362604958487704,-0.6850801955952219,-0.10309357320981548,1.211292382720803,0.8824592740410863,-0.8569072831904082,-1.250014049122893,-0.08799308927471544,-0.6552934530711982,0.9863289277092309,-0.0031616249570040264,0.8656884015381522,-1.3457460857249597,-0.8700802229476118,0.7379618696557516,-1.310500185377312,-1.2439360756820212,-1.852983958425285,-0.5483973457086878,-0.2620927767535737,0.8223682944291094,0.41648038679327865,-0.14478273313287518,0.04459544764541705,0.0552076255058285,-0.35827809100913904,1.1307788184569203,0.23619861907372788,-0.3841381654666092,0.018158187353936536,-0.9297831247259087,-0.9483441497850129,0.15370068303643483,-0.7567916707710458,-0.22349775200537117,-0.16436541076498792,-0.04045064822824736,1.2055700104402123,-0.49887850886789453,-0.5435253428124678,0.07203272803770303,1.77607423833372,0.4643240466033002,0.7132203723900344,0.06056029680904643,0.5970097948018788,-0.9322428843780637,0.07146509261690312,1.7081053966754396,-0.29765733722000015,0.8941126463209245,-0.5008661024802709,2.3862236353444457,-2.640515182547073],\"xaxis\":\"x15\",\"y\":[0.6419540448307282,-1.517608688344434,-0.3843863209352874,0.582205043637178,0.8423001398246008,-0.876654312681006,-1.4220090438249173,-0.09887636580710743,-0.3836306988926069,-0.9617171701958386,0.9130567531304483,0.1921750627294664,-0.40845165490719065,0.16948526516975354,1.1995423858357495,-0.0806001194463327,-0.15746670743873062,-1.1240019824944776,0.4363515372870392,1.9307908970315317,1.1031951510859273,-1.7251316715516243,0.8967867868252514,0.47529474535809924,-1.1739198506495272,0.5490829176478206,-0.10548357954143857,0.9350274188232347,-0.11857806913827566,0.8291018552229273,0.4404340905146739,1.0949591324812462,-0.5046317220659516,0.7277366176328306,-0.9220093815234568,-1.4401200584762028,-0.2735458841642263,0.5057772631008871,-0.5756586099298809,0.4469996935382162,1.2311387579172113,-0.7490594863628462,0.8877674978807628,0.0007280151525171892,-0.19498978287272922,-2.1616046744327897,1.3959629391980335,1.3542761626128896,0.3403680620018605,-1.2469655847187164,1.631557902538405,0.9386407535427541,-0.7152486651396022,-0.2896322392328507,0.4794983422428559,1.4993155479995524,-0.3357047654058956,2.1198825272852106,0.9335159436912603,0.07494701462476844,-1.0858501890051053,-0.5136565323101144,1.4674995050384145,-0.33782459796503067,0.4227277598515778,0.5345466892685413,-0.40806524589228743,-0.3632137413898601,-0.5128961430005934,0.32958613059022096,0.056449082223379625,-0.5741367405128155,-1.4522547358486244,1.5156989720072513,-1.5956070894351733,0.5468079407706042,0.5201902490525464,0.4405097935390144,0.16697909238681657,0.650148591850684,1.602800718166188,-2.323303975173998,-0.3919455823359626,-0.7901808014383477,0.3018838962950447,0.7363176053821264,0.3982958216374505,-1.8604341682340761,0.028930473350775563,0.3289011160680272,2.4482571174976813,0.17805452428597393,0.9037599076955404,-0.5356039813501637,0.5981293401750825,1.4011963024633105,0.02947680573042643,0.4138985401230784,-0.9208991891630186,1.153642037354523],\"yaxis\":\"y15\",\"type\":\"scatter\"},{\"histfunc\":\"count\",\"histnorm\":\"\",\"marker\":{\"color\":\"rgba(128, 0, 128, 1.0)\",\"line\":{\"color\":\"#4D5663\",\"width\":1.3}},\"name\":\"D\",\"nbinsx\":10,\"opacity\":0.8,\"orientation\":\"v\",\"x\":[0.6419540448307282,-1.517608688344434,-0.3843863209352874,0.582205043637178,0.8423001398246008,-0.876654312681006,-1.4220090438249173,-0.09887636580710743,-0.3836306988926069,-0.9617171701958386,0.9130567531304483,0.1921750627294664,-0.40845165490719065,0.16948526516975354,1.1995423858357495,-0.0806001194463327,-0.15746670743873062,-1.1240019824944776,0.4363515372870392,1.9307908970315317,1.1031951510859273,-1.7251316715516243,0.8967867868252514,0.47529474535809924,-1.1739198506495272,0.5490829176478206,-0.10548357954143857,0.9350274188232347,-0.11857806913827566,0.8291018552229273,0.4404340905146739,1.0949591324812462,-0.5046317220659516,0.7277366176328306,-0.9220093815234568,-1.4401200584762028,-0.2735458841642263,0.5057772631008871,-0.5756586099298809,0.4469996935382162,1.2311387579172113,-0.7490594863628462,0.8877674978807628,0.0007280151525171892,-0.19498978287272922,-2.1616046744327897,1.3959629391980335,1.3542761626128896,0.3403680620018605,-1.2469655847187164,1.631557902538405,0.9386407535427541,-0.7152486651396022,-0.2896322392328507,0.4794983422428559,1.4993155479995524,-0.3357047654058956,2.1198825272852106,0.9335159436912603,0.07494701462476844,-1.0858501890051053,-0.5136565323101144,1.4674995050384145,-0.33782459796503067,0.4227277598515778,0.5345466892685413,-0.40806524589228743,-0.3632137413898601,-0.5128961430005934,0.32958613059022096,0.056449082223379625,-0.5741367405128155,-1.4522547358486244,1.5156989720072513,-1.5956070894351733,0.5468079407706042,0.5201902490525464,0.4405097935390144,0.16697909238681657,0.650148591850684,1.602800718166188,-2.323303975173998,-0.3919455823359626,-0.7901808014383477,0.3018838962950447,0.7363176053821264,0.3982958216374505,-1.8604341682340761,0.028930473350775563,0.3289011160680272,2.4482571174976813,0.17805452428597393,0.9037599076955404,-0.5356039813501637,0.5981293401750825,1.4011963024633105,0.02947680573042643,0.4138985401230784,-0.9208991891630186,1.153642037354523],\"xaxis\":\"x16\",\"yaxis\":\"y16\",\"type\":\"histogram\"}],                        {\"bargap\":0.02,\"legend\":{\"bgcolor\":\"#F5F6F9\",\"font\":{\"color\":\"#4D5663\"}},\"paper_bgcolor\":\"#F5F6F9\",\"plot_bgcolor\":\"#F5F6F9\",\"showlegend\":false,\"template\":{\"data\":{\"barpolar\":[{\"marker\":{\"line\":{\"color\":\"#E5ECF6\",\"width\":0.5},\"pattern\":{\"fillmode\":\"overlay\",\"size\":10,\"solidity\":0.2}},\"type\":\"barpolar\"}],\"bar\":[{\"error_x\":{\"color\":\"#2a3f5f\"},\"error_y\":{\"color\":\"#2a3f5f\"},\"marker\":{\"line\":{\"color\":\"#E5ECF6\",\"width\":0.5},\"pattern\":{\"fillmode\":\"overlay\",\"size\":10,\"solidity\":0.2}},\"type\":\"bar\"}],\"carpet\":[{\"aaxis\":{\"endlinecolor\":\"#2a3f5f\",\"gridcolor\":\"white\",\"linecolor\":\"white\",\"minorgridcolor\":\"white\",\"startlinecolor\":\"#2a3f5f\"},\"baxis\":{\"endlinecolor\":\"#2a3f5f\",\"gridcolor\":\"white\",\"linecolor\":\"white\",\"minorgridcolor\":\"white\",\"startlinecolor\":\"#2a3f5f\"},\"type\":\"carpet\"}],\"choropleth\":[{\"colorbar\":{\"outlinewidth\":0,\"ticks\":\"\"},\"type\":\"choropleth\"}],\"contourcarpet\":[{\"colorbar\":{\"outlinewidth\":0,\"ticks\":\"\"},\"type\":\"contourcarpet\"}],\"contour\":[{\"colorbar\":{\"outlinewidth\":0,\"ticks\":\"\"},\"colorscale\":[[0.0,\"#0d0887\"],[0.1111111111111111,\"#46039f\"],[0.2222222222222222,\"#7201a8\"],[0.3333333333333333,\"#9c179e\"],[0.4444444444444444,\"#bd3786\"],[0.5555555555555556,\"#d8576b\"],[0.6666666666666666,\"#ed7953\"],[0.7777777777777778,\"#fb9f3a\"],[0.8888888888888888,\"#fdca26\"],[1.0,\"#f0f921\"]],\"type\":\"contour\"}],\"heatmapgl\":[{\"colorbar\":{\"outlinewidth\":0,\"ticks\":\"\"},\"colorscale\":[[0.0,\"#0d0887\"],[0.1111111111111111,\"#46039f\"],[0.2222222222222222,\"#7201a8\"],[0.3333333333333333,\"#9c179e\"],[0.4444444444444444,\"#bd3786\"],[0.5555555555555556,\"#d8576b\"],[0.6666666666666666,\"#ed7953\"],[0.7777777777777778,\"#fb9f3a\"],[0.8888888888888888,\"#fdca26\"],[1.0,\"#f0f921\"]],\"type\":\"heatmapgl\"}],\"heatmap\":[{\"colorbar\":{\"outlinewidth\":0,\"ticks\":\"\"},\"colorscale\":[[0.0,\"#0d0887\"],[0.1111111111111111,\"#46039f\"],[0.2222222222222222,\"#7201a8\"],[0.3333333333333333,\"#9c179e\"],[0.4444444444444444,\"#bd3786\"],[0.5555555555555556,\"#d8576b\"],[0.6666666666666666,\"#ed7953\"],[0.7777777777777778,\"#fb9f3a\"],[0.8888888888888888,\"#fdca26\"],[1.0,\"#f0f921\"]],\"type\":\"heatmap\"}],\"histogram2dcontour\":[{\"colorbar\":{\"outlinewidth\":0,\"ticks\":\"\"},\"colorscale\":[[0.0,\"#0d0887\"],[0.1111111111111111,\"#46039f\"],[0.2222222222222222,\"#7201a8\"],[0.3333333333333333,\"#9c179e\"],[0.4444444444444444,\"#bd3786\"],[0.5555555555555556,\"#d8576b\"],[0.6666666666666666,\"#ed7953\"],[0.7777777777777778,\"#fb9f3a\"],[0.8888888888888888,\"#fdca26\"],[1.0,\"#f0f921\"]],\"type\":\"histogram2dcontour\"}],\"histogram2d\":[{\"colorbar\":{\"outlinewidth\":0,\"ticks\":\"\"},\"colorscale\":[[0.0,\"#0d0887\"],[0.1111111111111111,\"#46039f\"],[0.2222222222222222,\"#7201a8\"],[0.3333333333333333,\"#9c179e\"],[0.4444444444444444,\"#bd3786\"],[0.5555555555555556,\"#d8576b\"],[0.6666666666666666,\"#ed7953\"],[0.7777777777777778,\"#fb9f3a\"],[0.8888888888888888,\"#fdca26\"],[1.0,\"#f0f921\"]],\"type\":\"histogram2d\"}],\"histogram\":[{\"marker\":{\"pattern\":{\"fillmode\":\"overlay\",\"size\":10,\"solidity\":0.2}},\"type\":\"histogram\"}],\"mesh3d\":[{\"colorbar\":{\"outlinewidth\":0,\"ticks\":\"\"},\"type\":\"mesh3d\"}],\"parcoords\":[{\"line\":{\"colorbar\":{\"outlinewidth\":0,\"ticks\":\"\"}},\"type\":\"parcoords\"}],\"pie\":[{\"automargin\":true,\"type\":\"pie\"}],\"scatter3d\":[{\"line\":{\"colorbar\":{\"outlinewidth\":0,\"ticks\":\"\"}},\"marker\":{\"colorbar\":{\"outlinewidth\":0,\"ticks\":\"\"}},\"type\":\"scatter3d\"}],\"scattercarpet\":[{\"marker\":{\"colorbar\":{\"outlinewidth\":0,\"ticks\":\"\"}},\"type\":\"scattercarpet\"}],\"scattergeo\":[{\"marker\":{\"colorbar\":{\"outlinewidth\":0,\"ticks\":\"\"}},\"type\":\"scattergeo\"}],\"scattergl\":[{\"marker\":{\"colorbar\":{\"outlinewidth\":0,\"ticks\":\"\"}},\"type\":\"scattergl\"}],\"scattermapbox\":[{\"marker\":{\"colorbar\":{\"outlinewidth\":0,\"ticks\":\"\"}},\"type\":\"scattermapbox\"}],\"scatterpolargl\":[{\"marker\":{\"colorbar\":{\"outlinewidth\":0,\"ticks\":\"\"}},\"type\":\"scatterpolargl\"}],\"scatterpolar\":[{\"marker\":{\"colorbar\":{\"outlinewidth\":0,\"ticks\":\"\"}},\"type\":\"scatterpolar\"}],\"scatter\":[{\"marker\":{\"colorbar\":{\"outlinewidth\":0,\"ticks\":\"\"}},\"type\":\"scatter\"}],\"scatterternary\":[{\"marker\":{\"colorbar\":{\"outlinewidth\":0,\"ticks\":\"\"}},\"type\":\"scatterternary\"}],\"surface\":[{\"colorbar\":{\"outlinewidth\":0,\"ticks\":\"\"},\"colorscale\":[[0.0,\"#0d0887\"],[0.1111111111111111,\"#46039f\"],[0.2222222222222222,\"#7201a8\"],[0.3333333333333333,\"#9c179e\"],[0.4444444444444444,\"#bd3786\"],[0.5555555555555556,\"#d8576b\"],[0.6666666666666666,\"#ed7953\"],[0.7777777777777778,\"#fb9f3a\"],[0.8888888888888888,\"#fdca26\"],[1.0,\"#f0f921\"]],\"type\":\"surface\"}],\"table\":[{\"cells\":{\"fill\":{\"color\":\"#EBF0F8\"},\"line\":{\"color\":\"white\"}},\"header\":{\"fill\":{\"color\":\"#C8D4E3\"},\"line\":{\"color\":\"white\"}},\"type\":\"table\"}]},\"layout\":{\"annotationdefaults\":{\"arrowcolor\":\"#2a3f5f\",\"arrowhead\":0,\"arrowwidth\":1},\"autotypenumbers\":\"strict\",\"coloraxis\":{\"colorbar\":{\"outlinewidth\":0,\"ticks\":\"\"}},\"colorscale\":{\"diverging\":[[0,\"#8e0152\"],[0.1,\"#c51b7d\"],[0.2,\"#de77ae\"],[0.3,\"#f1b6da\"],[0.4,\"#fde0ef\"],[0.5,\"#f7f7f7\"],[0.6,\"#e6f5d0\"],[0.7,\"#b8e186\"],[0.8,\"#7fbc41\"],[0.9,\"#4d9221\"],[1,\"#276419\"]],\"sequential\":[[0.0,\"#0d0887\"],[0.1111111111111111,\"#46039f\"],[0.2222222222222222,\"#7201a8\"],[0.3333333333333333,\"#9c179e\"],[0.4444444444444444,\"#bd3786\"],[0.5555555555555556,\"#d8576b\"],[0.6666666666666666,\"#ed7953\"],[0.7777777777777778,\"#fb9f3a\"],[0.8888888888888888,\"#fdca26\"],[1.0,\"#f0f921\"]],\"sequentialminus\":[[0.0,\"#0d0887\"],[0.1111111111111111,\"#46039f\"],[0.2222222222222222,\"#7201a8\"],[0.3333333333333333,\"#9c179e\"],[0.4444444444444444,\"#bd3786\"],[0.5555555555555556,\"#d8576b\"],[0.6666666666666666,\"#ed7953\"],[0.7777777777777778,\"#fb9f3a\"],[0.8888888888888888,\"#fdca26\"],[1.0,\"#f0f921\"]]},\"colorway\":[\"#636efa\",\"#EF553B\",\"#00cc96\",\"#ab63fa\",\"#FFA15A\",\"#19d3f3\",\"#FF6692\",\"#B6E880\",\"#FF97FF\",\"#FECB52\"],\"font\":{\"color\":\"#2a3f5f\"},\"geo\":{\"bgcolor\":\"white\",\"lakecolor\":\"white\",\"landcolor\":\"#E5ECF6\",\"showlakes\":true,\"showland\":true,\"subunitcolor\":\"white\"},\"hoverlabel\":{\"align\":\"left\"},\"hovermode\":\"closest\",\"mapbox\":{\"style\":\"light\"},\"paper_bgcolor\":\"white\",\"plot_bgcolor\":\"#E5ECF6\",\"polar\":{\"angularaxis\":{\"gridcolor\":\"white\",\"linecolor\":\"white\",\"ticks\":\"\"},\"bgcolor\":\"#E5ECF6\",\"radialaxis\":{\"gridcolor\":\"white\",\"linecolor\":\"white\",\"ticks\":\"\"}},\"scene\":{\"xaxis\":{\"backgroundcolor\":\"#E5ECF6\",\"gridcolor\":\"white\",\"gridwidth\":2,\"linecolor\":\"white\",\"showbackground\":true,\"ticks\":\"\",\"zerolinecolor\":\"white\"},\"yaxis\":{\"backgroundcolor\":\"#E5ECF6\",\"gridcolor\":\"white\",\"gridwidth\":2,\"linecolor\":\"white\",\"showbackground\":true,\"ticks\":\"\",\"zerolinecolor\":\"white\"},\"zaxis\":{\"backgroundcolor\":\"#E5ECF6\",\"gridcolor\":\"white\",\"gridwidth\":2,\"linecolor\":\"white\",\"showbackground\":true,\"ticks\":\"\",\"zerolinecolor\":\"white\"}},\"shapedefaults\":{\"line\":{\"color\":\"#2a3f5f\"}},\"ternary\":{\"aaxis\":{\"gridcolor\":\"white\",\"linecolor\":\"white\",\"ticks\":\"\"},\"baxis\":{\"gridcolor\":\"white\",\"linecolor\":\"white\",\"ticks\":\"\"},\"bgcolor\":\"#E5ECF6\",\"caxis\":{\"gridcolor\":\"white\",\"linecolor\":\"white\",\"ticks\":\"\"}},\"title\":{\"x\":0.05},\"xaxis\":{\"automargin\":true,\"gridcolor\":\"white\",\"linecolor\":\"white\",\"ticks\":\"\",\"title\":{\"standoff\":15},\"zerolinecolor\":\"white\",\"zerolinewidth\":2},\"yaxis\":{\"automargin\":true,\"gridcolor\":\"white\",\"linecolor\":\"white\",\"ticks\":\"\",\"title\":{\"standoff\":15},\"zerolinecolor\":\"white\",\"zerolinewidth\":2}}},\"title\":{\"font\":{\"color\":\"#4D5663\"}},\"xaxis\":{\"anchor\":\"y\",\"domain\":[0.0,0.2125],\"gridcolor\":\"#E1E5ED\",\"showgrid\":false,\"tickfont\":{\"color\":\"#4D5663\"},\"title\":{\"font\":{\"color\":\"#4D5663\"},\"text\":\"\"},\"zerolinecolor\":\"#E1E5ED\"},\"yaxis\":{\"anchor\":\"x\",\"domain\":[0.8025,1.0],\"gridcolor\":\"#E1E5ED\",\"showgrid\":false,\"tickfont\":{\"color\":\"#4D5663\"},\"title\":{\"font\":{\"color\":\"#4D5663\"},\"text\":\"\"},\"zerolinecolor\":\"#E1E5ED\"},\"xaxis2\":{\"anchor\":\"y2\",\"domain\":[0.2625,0.475],\"gridcolor\":\"#E1E5ED\",\"showgrid\":false,\"tickfont\":{\"color\":\"#4D5663\"},\"title\":{\"font\":{\"color\":\"#4D5663\"},\"text\":\"\"},\"zerolinecolor\":\"#E1E5ED\"},\"yaxis2\":{\"anchor\":\"x2\",\"domain\":[0.8025,1.0],\"gridcolor\":\"#E1E5ED\",\"showgrid\":false,\"tickfont\":{\"color\":\"#4D5663\"},\"title\":{\"font\":{\"color\":\"#4D5663\"},\"text\":\"\"},\"zerolinecolor\":\"#E1E5ED\"},\"xaxis3\":{\"anchor\":\"y3\",\"domain\":[0.525,0.7375],\"gridcolor\":\"#E1E5ED\",\"showgrid\":false,\"tickfont\":{\"color\":\"#4D5663\"},\"title\":{\"font\":{\"color\":\"#4D5663\"},\"text\":\"\"},\"zerolinecolor\":\"#E1E5ED\"},\"yaxis3\":{\"anchor\":\"x3\",\"domain\":[0.8025,1.0],\"gridcolor\":\"#E1E5ED\",\"showgrid\":false,\"tickfont\":{\"color\":\"#4D5663\"},\"title\":{\"font\":{\"color\":\"#4D5663\"},\"text\":\"\"},\"zerolinecolor\":\"#E1E5ED\"},\"xaxis4\":{\"anchor\":\"y4\",\"domain\":[0.7875,1.0],\"gridcolor\":\"#E1E5ED\",\"showgrid\":false,\"tickfont\":{\"color\":\"#4D5663\"},\"title\":{\"font\":{\"color\":\"#4D5663\"},\"text\":\"\"},\"zerolinecolor\":\"#E1E5ED\"},\"yaxis4\":{\"anchor\":\"x4\",\"domain\":[0.8025,1.0],\"gridcolor\":\"#E1E5ED\",\"showgrid\":false,\"tickfont\":{\"color\":\"#4D5663\"},\"title\":{\"font\":{\"color\":\"#4D5663\"},\"text\":\"\"},\"zerolinecolor\":\"#E1E5ED\"},\"xaxis5\":{\"anchor\":\"y5\",\"domain\":[0.0,0.2125],\"gridcolor\":\"#E1E5ED\",\"showgrid\":false,\"tickfont\":{\"color\":\"#4D5663\"},\"title\":{\"font\":{\"color\":\"#4D5663\"},\"text\":\"\"},\"zerolinecolor\":\"#E1E5ED\"},\"yaxis5\":{\"anchor\":\"x5\",\"domain\":[0.535,0.7325],\"gridcolor\":\"#E1E5ED\",\"showgrid\":false,\"tickfont\":{\"color\":\"#4D5663\"},\"title\":{\"font\":{\"color\":\"#4D5663\"},\"text\":\"\"},\"zerolinecolor\":\"#E1E5ED\"},\"xaxis6\":{\"anchor\":\"y6\",\"domain\":[0.2625,0.475],\"gridcolor\":\"#E1E5ED\",\"showgrid\":false,\"tickfont\":{\"color\":\"#4D5663\"},\"title\":{\"font\":{\"color\":\"#4D5663\"},\"text\":\"\"},\"zerolinecolor\":\"#E1E5ED\"},\"yaxis6\":{\"anchor\":\"x6\",\"domain\":[0.535,0.7325],\"gridcolor\":\"#E1E5ED\",\"showgrid\":false,\"tickfont\":{\"color\":\"#4D5663\"},\"title\":{\"font\":{\"color\":\"#4D5663\"},\"text\":\"\"},\"zerolinecolor\":\"#E1E5ED\"},\"xaxis7\":{\"anchor\":\"y7\",\"domain\":[0.525,0.7375],\"gridcolor\":\"#E1E5ED\",\"showgrid\":false,\"tickfont\":{\"color\":\"#4D5663\"},\"title\":{\"font\":{\"color\":\"#4D5663\"},\"text\":\"\"},\"zerolinecolor\":\"#E1E5ED\"},\"yaxis7\":{\"anchor\":\"x7\",\"domain\":[0.535,0.7325],\"gridcolor\":\"#E1E5ED\",\"showgrid\":false,\"tickfont\":{\"color\":\"#4D5663\"},\"title\":{\"font\":{\"color\":\"#4D5663\"},\"text\":\"\"},\"zerolinecolor\":\"#E1E5ED\"},\"xaxis8\":{\"anchor\":\"y8\",\"domain\":[0.7875,1.0],\"gridcolor\":\"#E1E5ED\",\"showgrid\":false,\"tickfont\":{\"color\":\"#4D5663\"},\"title\":{\"font\":{\"color\":\"#4D5663\"},\"text\":\"\"},\"zerolinecolor\":\"#E1E5ED\"},\"yaxis8\":{\"anchor\":\"x8\",\"domain\":[0.535,0.7325],\"gridcolor\":\"#E1E5ED\",\"showgrid\":false,\"tickfont\":{\"color\":\"#4D5663\"},\"title\":{\"font\":{\"color\":\"#4D5663\"},\"text\":\"\"},\"zerolinecolor\":\"#E1E5ED\"},\"xaxis9\":{\"anchor\":\"y9\",\"domain\":[0.0,0.2125],\"gridcolor\":\"#E1E5ED\",\"showgrid\":false,\"tickfont\":{\"color\":\"#4D5663\"},\"title\":{\"font\":{\"color\":\"#4D5663\"},\"text\":\"\"},\"zerolinecolor\":\"#E1E5ED\"},\"yaxis9\":{\"anchor\":\"x9\",\"domain\":[0.2675,0.465],\"gridcolor\":\"#E1E5ED\",\"showgrid\":false,\"tickfont\":{\"color\":\"#4D5663\"},\"title\":{\"font\":{\"color\":\"#4D5663\"},\"text\":\"\"},\"zerolinecolor\":\"#E1E5ED\"},\"xaxis10\":{\"anchor\":\"y10\",\"domain\":[0.2625,0.475],\"gridcolor\":\"#E1E5ED\",\"showgrid\":false,\"tickfont\":{\"color\":\"#4D5663\"},\"title\":{\"font\":{\"color\":\"#4D5663\"},\"text\":\"\"},\"zerolinecolor\":\"#E1E5ED\"},\"yaxis10\":{\"anchor\":\"x10\",\"domain\":[0.2675,0.465],\"gridcolor\":\"#E1E5ED\",\"showgrid\":false,\"tickfont\":{\"color\":\"#4D5663\"},\"title\":{\"font\":{\"color\":\"#4D5663\"},\"text\":\"\"},\"zerolinecolor\":\"#E1E5ED\"},\"xaxis11\":{\"anchor\":\"y11\",\"domain\":[0.525,0.7375],\"gridcolor\":\"#E1E5ED\",\"showgrid\":false,\"tickfont\":{\"color\":\"#4D5663\"},\"title\":{\"font\":{\"color\":\"#4D5663\"},\"text\":\"\"},\"zerolinecolor\":\"#E1E5ED\"},\"yaxis11\":{\"anchor\":\"x11\",\"domain\":[0.2675,0.465],\"gridcolor\":\"#E1E5ED\",\"showgrid\":false,\"tickfont\":{\"color\":\"#4D5663\"},\"title\":{\"font\":{\"color\":\"#4D5663\"},\"text\":\"\"},\"zerolinecolor\":\"#E1E5ED\"},\"xaxis12\":{\"anchor\":\"y12\",\"domain\":[0.7875,1.0],\"gridcolor\":\"#E1E5ED\",\"showgrid\":false,\"tickfont\":{\"color\":\"#4D5663\"},\"title\":{\"font\":{\"color\":\"#4D5663\"},\"text\":\"\"},\"zerolinecolor\":\"#E1E5ED\"},\"yaxis12\":{\"anchor\":\"x12\",\"domain\":[0.2675,0.465],\"gridcolor\":\"#E1E5ED\",\"showgrid\":false,\"tickfont\":{\"color\":\"#4D5663\"},\"title\":{\"font\":{\"color\":\"#4D5663\"},\"text\":\"\"},\"zerolinecolor\":\"#E1E5ED\"},\"xaxis13\":{\"anchor\":\"y13\",\"domain\":[0.0,0.2125],\"gridcolor\":\"#E1E5ED\",\"showgrid\":false,\"tickfont\":{\"color\":\"#4D5663\"},\"title\":{\"font\":{\"color\":\"#4D5663\"},\"text\":\"\"},\"zerolinecolor\":\"#E1E5ED\"},\"yaxis13\":{\"anchor\":\"x13\",\"domain\":[0.0,0.1975],\"gridcolor\":\"#E1E5ED\",\"showgrid\":false,\"tickfont\":{\"color\":\"#4D5663\"},\"title\":{\"font\":{\"color\":\"#4D5663\"},\"text\":\"\"},\"zerolinecolor\":\"#E1E5ED\"},\"xaxis14\":{\"anchor\":\"y14\",\"domain\":[0.2625,0.475],\"gridcolor\":\"#E1E5ED\",\"showgrid\":false,\"tickfont\":{\"color\":\"#4D5663\"},\"title\":{\"font\":{\"color\":\"#4D5663\"},\"text\":\"\"},\"zerolinecolor\":\"#E1E5ED\"},\"yaxis14\":{\"anchor\":\"x14\",\"domain\":[0.0,0.1975],\"gridcolor\":\"#E1E5ED\",\"showgrid\":false,\"tickfont\":{\"color\":\"#4D5663\"},\"title\":{\"font\":{\"color\":\"#4D5663\"},\"text\":\"\"},\"zerolinecolor\":\"#E1E5ED\"},\"xaxis15\":{\"anchor\":\"y15\",\"domain\":[0.525,0.7375],\"gridcolor\":\"#E1E5ED\",\"showgrid\":false,\"tickfont\":{\"color\":\"#4D5663\"},\"title\":{\"font\":{\"color\":\"#4D5663\"},\"text\":\"\"},\"zerolinecolor\":\"#E1E5ED\"},\"yaxis15\":{\"anchor\":\"x15\",\"domain\":[0.0,0.1975],\"gridcolor\":\"#E1E5ED\",\"showgrid\":false,\"tickfont\":{\"color\":\"#4D5663\"},\"title\":{\"font\":{\"color\":\"#4D5663\"},\"text\":\"\"},\"zerolinecolor\":\"#E1E5ED\"},\"xaxis16\":{\"anchor\":\"y16\",\"domain\":[0.7875,1.0],\"gridcolor\":\"#E1E5ED\",\"showgrid\":false,\"tickfont\":{\"color\":\"#4D5663\"},\"title\":{\"font\":{\"color\":\"#4D5663\"},\"text\":\"\"},\"zerolinecolor\":\"#E1E5ED\"},\"yaxis16\":{\"anchor\":\"x16\",\"domain\":[0.0,0.1975],\"gridcolor\":\"#E1E5ED\",\"showgrid\":false,\"tickfont\":{\"color\":\"#4D5663\"},\"title\":{\"font\":{\"color\":\"#4D5663\"},\"text\":\"\"},\"zerolinecolor\":\"#E1E5ED\"}},                        {\"showLink\": true, \"linkText\": \"Export to plot.ly\", \"plotlyServerURL\": \"https://plot.ly\", \"responsive\": true}                    ).then(function(){\n",
       "                            \n",
       "var gd = document.getElementById('75199340-0ca4-49f2-b0b3-41455c5f90c8');\n",
       "var x = new MutationObserver(function (mutations, observer) {{\n",
       "        var display = window.getComputedStyle(gd).display;\n",
       "        if (!display || display === 'none') {{\n",
       "            console.log([gd, 'removed!']);\n",
       "            Plotly.purge(gd);\n",
       "            observer.disconnect();\n",
       "        }}\n",
       "}});\n",
       "\n",
       "// Listen for the removal of the full notebook cells\n",
       "var notebookContainer = gd.closest('#notebook-container');\n",
       "if (notebookContainer) {{\n",
       "    x.observe(notebookContainer, {childList: true});\n",
       "}}\n",
       "\n",
       "// Listen for the clearing of the current output cell\n",
       "var outputEl = gd.closest('.output');\n",
       "if (outputEl) {{\n",
       "    x.observe(outputEl, {childList: true});\n",
       "}}\n",
       "\n",
       "                        })                };                });            </script>        </div>"
      ]
     },
     "metadata": {},
     "output_type": "display_data"
    }
   ],
   "source": [
    "df.scatter_matrix()"
   ]
  },
  {
   "cell_type": "code",
   "execution_count": null,
   "id": "899c2c30",
   "metadata": {},
   "outputs": [],
   "source": []
  },
  {
   "cell_type": "code",
   "execution_count": null,
   "id": "271cfbec",
   "metadata": {},
   "outputs": [],
   "source": []
  },
  {
   "cell_type": "code",
   "execution_count": null,
   "id": "2118ac25",
   "metadata": {},
   "outputs": [],
   "source": []
  },
  {
   "cell_type": "code",
   "execution_count": null,
   "id": "81abcf69",
   "metadata": {},
   "outputs": [],
   "source": []
  },
  {
   "cell_type": "code",
   "execution_count": null,
   "id": "fe5402b1",
   "metadata": {},
   "outputs": [],
   "source": []
  }
 ],
 "metadata": {
  "kernelspec": {
   "display_name": "Python 3 (ipykernel)",
   "language": "python",
   "name": "python3"
  },
  "language_info": {
   "codemirror_mode": {
    "name": "ipython",
    "version": 3
   },
   "file_extension": ".py",
   "mimetype": "text/x-python",
   "name": "python",
   "nbconvert_exporter": "python",
   "pygments_lexer": "ipython3",
   "version": "3.9.7"
  }
 },
 "nbformat": 4,
 "nbformat_minor": 5
}
